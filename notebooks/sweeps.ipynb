{
 "cells": [
  {
   "cell_type": "code",
   "execution_count": 1,
   "metadata": {},
   "outputs": [],
   "source": [
    "import sys\n",
    "sys.path.append(\"..\")"
   ]
  },
  {
   "cell_type": "markdown",
   "metadata": {},
   "source": [
    "## Load Dataset"
   ]
  },
  {
   "cell_type": "code",
   "execution_count": 2,
   "metadata": {},
   "outputs": [
    {
     "name": "stderr",
     "output_type": "stream",
     "text": [
      "c:\\Users\\jonta\\code\\school\\t8\\DeepLearning\\50.039-DL\\venv\\lib\\site-packages\\tqdm\\auto.py:21: TqdmWarning: IProgress not found. Please update jupyter and ipywidgets. See https://ipywidgets.readthedocs.io/en/stable/user_install.html\n",
      "  from .autonotebook import tqdm as notebook_tqdm\n",
      "c:\\Users\\jonta\\code\\school\\t8\\DeepLearning\\50.039-DL\\venv\\lib\\site-packages\\datasets\\load.py:1461: FutureWarning: The repository for jtz18/skin-lesion contains custom code which must be executed to correctly load the dataset. You can inspect the repository content at https://hf.co/datasets/jtz18/skin-lesion\n",
      "You can avoid this message in future by passing the argument `trust_remote_code=True`.\n",
      "Passing `trust_remote_code=True` will be mandatory to load this dataset from the next major release of `datasets`.\n",
      "  warnings.warn(\n"
     ]
    }
   ],
   "source": [
    "from datasets import load_dataset\n",
    "\n",
    "# Load the dataset\n",
    "dataset = load_dataset(\"jtz18/skin-lesion\")"
   ]
  },
  {
   "cell_type": "markdown",
   "metadata": {},
   "source": [
    "## Seeding"
   ]
  },
  {
   "cell_type": "code",
   "execution_count": 3,
   "metadata": {},
   "outputs": [],
   "source": [
    "import torch\n",
    "import numpy as np\n",
    "import random\n",
    "import os\n",
    "\n",
    "def set_seed(seed):\n",
    "  random.seed(seed)\n",
    "  np.random.seed(seed)\n",
    "  torch.manual_seed(seed)\n",
    "  torch.cuda.manual_seed_all(seed)\n",
    "  os.environ['PYTHONHASHSEED'] = str(seed)\n",
    "\n",
    "  torch.backends.cudnn.deterministic = True\n",
    "  torch.backends.cudnn.benchmark = False\n",
    "\n",
    "set_seed(42)"
   ]
  },
  {
   "cell_type": "markdown",
   "metadata": {},
   "source": [
    "## Init Wandb"
   ]
  },
  {
   "cell_type": "code",
   "execution_count": 4,
   "metadata": {},
   "outputs": [
    {
     "name": "stderr",
     "output_type": "stream",
     "text": [
      "Failed to detect the name of this notebook, you can set it manually with the WANDB_NOTEBOOK_NAME environment variable to enable code saving.\n"
     ]
    },
    {
     "name": "stdout",
     "output_type": "stream",
     "text": [
      "Create sweep with ID: l9fcs25g\n",
      "Sweep URL: https://wandb.ai/jooz-cave/unet-skin-lesion/sweeps/l9fcs25g\n"
     ]
    }
   ],
   "source": [
    "import wandb\n",
    "\n",
    "# Define sweep config\n",
    "sweep_configuration = {\n",
    "    \"name\": \"segFormer-sweep\",\n",
    "    \"method\": \"bayes\",\n",
    "    \"metric\": {\"goal\": \"maximize\", \"name\": \"Test Dice Score\"},\n",
    "    \"parameters\": {\n",
    "        \"learning_rate\": {\"values\": [0.0001, 0.001, 0.01, 0.1]},\n",
    "        \"batch_size\": {\"values\": [1, 2, 4, 8, 16, 32, 64]},\n",
    "        \"epochs\": {\"values\": [10]},\n",
    "        \"dropout_rate\": {\"values\": [0, 0.1, 0.2, 0.3, 0.4, 0.5]},\n",
    "        # \"kernel_size\": {\"values\": [3, 5, 7]},\n",
    "    },\n",
    "}\n",
    "\n",
    "# Initialize sweep by passing in config.\n",
    "sweep_id = wandb.sweep(sweep=sweep_configuration, project=\"unet-skin-lesion\")"
   ]
  },
  {
   "cell_type": "code",
   "execution_count": 5,
   "metadata": {},
   "outputs": [],
   "source": [
    "# Hyperparameters etc.\n",
    "if torch.cuda.is_available():\n",
    "    device = torch.device(\"cuda\")\n",
    "elif torch.backends.mps.is_available():\n",
    "    device = torch.device(\"mps\")\n",
    "else:\n",
    "    device = torch.device(\"cpu\")\n",
    "\n",
    "DEVICE = device\n",
    "\n",
    "NUM_WORKERS = 0\n",
    "\n",
    "IMAGE_HEIGHT = 256\n",
    "IMAGE_WIDTH = 256\n",
    "\n",
    "PIN_MEMORY = True\n",
    "LOAD_MODEL = False\n",
    "CHECKPOINT_FILENAME = \"\"   # Model checkpoint filename if LOAD is True eg: checkpoints/checkpoint_9.pth.tar or None\n",
    "CLASS = \"task1\""
   ]
  },
  {
   "cell_type": "markdown",
   "metadata": {},
   "source": [
    "# Define Training Function"
   ]
  },
  {
   "cell_type": "code",
   "execution_count": 6,
   "metadata": {},
   "outputs": [],
   "source": [
    "from tqdm import tqdm\n",
    "def train_fn(loader, model, optimizer, loss_fn, scaler):\n",
    "    loop = tqdm(loader)\n",
    "\n",
    "    for batch_idx, (data, targets) in enumerate(loop):\n",
    "        data = data.to(device=DEVICE)\n",
    "        targets = targets.float().unsqueeze(1).to(device=DEVICE)\n",
    "\n",
    "        # forward\n",
    "        with torch.cuda.amp.autocast():\n",
    "            predictions = model(data)\n",
    "            loss = loss_fn(predictions, targets)\n",
    "            wandb.log({\"Training Loss\": loss})\n",
    "\n",
    "        # backward\n",
    "        optimizer.zero_grad()\n",
    "        scaler.scale(loss).backward()\n",
    "        scaler.step(optimizer)\n",
    "        scaler.update()\n",
    "\n",
    "        # update tqdm loop\n",
    "        loop.set_postfix(loss=loss.item())"
   ]
  },
  {
   "cell_type": "markdown",
   "metadata": {},
   "source": [
    "## Augmentations"
   ]
  },
  {
   "cell_type": "code",
   "execution_count": 7,
   "metadata": {},
   "outputs": [],
   "source": [
    "import albumentations as A\n",
    "from albumentations.pytorch import ToTensorV2\n",
    "from torch import nn\n",
    "from src.utils import *\n",
    "\n",
    "\n",
    "train_transform = A.Compose(\n",
    "    [\n",
    "        A.Resize(height=IMAGE_HEIGHT, width=IMAGE_WIDTH),\n",
    "        A.Rotate(limit=35, p=1.0),\n",
    "        A.HorizontalFlip(p=0.5),\n",
    "        A.VerticalFlip(p=0.1),\n",
    "        A.Normalize(\n",
    "            mean=[0.0, 0.0, 0.0],\n",
    "            std=[1.0, 1.0, 1.0],\n",
    "            max_pixel_value=255.0,\n",
    "        ),\n",
    "        ToTensorV2(),\n",
    "    ],\n",
    ")\n",
    "\n",
    "val_transforms = A.Compose(\n",
    "    [\n",
    "        A.Resize(height=IMAGE_HEIGHT, width=IMAGE_WIDTH),\n",
    "        A.Normalize(\n",
    "            mean=[0.0, 0.0, 0.0],\n",
    "            std=[1.0, 1.0, 1.0],\n",
    "            max_pixel_value=255.0,\n",
    "        ),\n",
    "        ToTensorV2(),\n",
    "    ],\n",
    ")"
   ]
  },
  {
   "cell_type": "markdown",
   "metadata": {},
   "source": [
    "## Training Loop"
   ]
  },
  {
   "cell_type": "code",
   "execution_count": 8,
   "metadata": {},
   "outputs": [],
   "source": [
    "from src.segFormer import Segformer\n",
    "from src.maluNet import MALUNet\n",
    "from src.unet import UNET\n",
    "\n",
    "def main():\n",
    "    run = wandb.init()\n",
    "\n",
    "    # note that we define values from `wandb.config`\n",
    "    # instead of defining hard values\n",
    "    LEARNING_RATE = wandb.config.learning_rate\n",
    "    BATCH_SIZE = wandb.config.batch_size\n",
    "    NUM_EPOCHS = wandb.config.epochs\n",
    "    DROPOUT_RATE = wandb.config.dropout_rate\n",
    "\n",
    "    model = Segformer(dropout=DROPOUT_RATE).to(device)\n",
    "    loss_fn = nn.BCEWithLogitsLoss()\n",
    "    optimizer = torch.optim.Adam(model.parameters(), lr=LEARNING_RATE)\n",
    "\n",
    "    wandb.log({\"MODEL\": model.__class__.__name__})\n",
    "\n",
    "\n",
    "    train_loader, val_loader, test_loader = get_loaders(\n",
    "        dataset,\n",
    "        BATCH_SIZE,\n",
    "        train_transform,\n",
    "        val_transforms,\n",
    "        NUM_WORKERS,\n",
    "        PIN_MEMORY,\n",
    "    )\n",
    "\n",
    "    start_epoch = 0\n",
    "    if LOAD_MODEL:\n",
    "        checkpoint = torch.load(CHECKPOINT_FILENAME)\n",
    "        model, optimizer, start_epoch = load_checkpoint(checkpoint, model, optimizer)\n",
    "\n",
    "\n",
    "\n",
    "    check_accuracy(val_loader, model, device=DEVICE, loss_fn=loss_fn)\n",
    "    scaler = torch.cuda.amp.GradScaler()\n",
    "\n",
    "    for epoch in range(start_epoch, NUM_EPOCHS):\n",
    "        print(f\"epoch: {epoch}\")\n",
    "        train_fn(train_loader, model, optimizer, loss_fn, scaler)\n",
    "\n",
    "        # save model\n",
    "        checkpoint = {\n",
    "            \"state_dict\": model.state_dict(),\n",
    "            \"optimizer\":optimizer.state_dict(),\n",
    "            \"epoch\": epoch,\n",
    "        }\n",
    "        save_checkpoint(checkpoint, filename=f\"checkpoint_{epoch}.pth.tar\")\n",
    "\n",
    "        # check accuracy\n",
    "        check_accuracy(val_loader, model, device=DEVICE, loss_fn=loss_fn)\n",
    "\n",
    "        # print some examples to a folder\n",
    "        save_predictions_as_imgs(\n",
    "            val_loader, model, folder=f\"saved_images/{epoch}\", device=DEVICE\n",
    "        )\n",
    "\n",
    "    # Final Evaluation Test\n",
    "    check_accuracy(test_loader, model, device=DEVICE, loss_fn=loss_fn, mode=\"test\")\n",
    "    run.finish()"
   ]
  },
  {
   "cell_type": "code",
   "execution_count": 9,
   "metadata": {},
   "outputs": [
    {
     "name": "stderr",
     "output_type": "stream",
     "text": [
      "\u001b[34m\u001b[1mwandb\u001b[0m: Agent Starting Run: ftmchblt with config:\n",
      "\u001b[34m\u001b[1mwandb\u001b[0m: \tbatch_size: 1\n",
      "\u001b[34m\u001b[1mwandb\u001b[0m: \tdropout_rate: 0.3\n",
      "\u001b[34m\u001b[1mwandb\u001b[0m: \tepochs: 10\n",
      "\u001b[34m\u001b[1mwandb\u001b[0m: \tlearning_rate: 0.1\n",
      "Failed to detect the name of this notebook, you can set it manually with the WANDB_NOTEBOOK_NAME environment variable to enable code saving.\n",
      "\u001b[34m\u001b[1mwandb\u001b[0m: Currently logged in as: \u001b[33mjtz18\u001b[0m (\u001b[33mjooz-cave\u001b[0m). Use \u001b[1m`wandb login --relogin`\u001b[0m to force relogin\n"
     ]
    },
    {
     "data": {
      "text/html": [
       "Tracking run with wandb version 0.16.5"
      ],
      "text/plain": [
       "<IPython.core.display.HTML object>"
      ]
     },
     "metadata": {},
     "output_type": "display_data"
    },
    {
     "data": {
      "text/html": [
       "Run data is saved locally in <code>c:\\Users\\jonta\\code\\school\\t8\\DeepLearning\\50.039-DL\\notebooks\\wandb\\run-20240402_040325-ftmchblt</code>"
      ],
      "text/plain": [
       "<IPython.core.display.HTML object>"
      ]
     },
     "metadata": {},
     "output_type": "display_data"
    },
    {
     "data": {
      "text/html": [
       "Syncing run <strong><a href='https://wandb.ai/jooz-cave/unet-skin-lesion/runs/ftmchblt/workspace' target=\"_blank\">eager-sweep-1</a></strong> to <a href='https://wandb.ai/jooz-cave/unet-skin-lesion' target=\"_blank\">Weights & Biases</a> (<a href='https://wandb.me/run' target=\"_blank\">docs</a>)<br/>Sweep page: <a href='https://wandb.ai/jooz-cave/unet-skin-lesion/sweeps/l9fcs25g' target=\"_blank\">https://wandb.ai/jooz-cave/unet-skin-lesion/sweeps/l9fcs25g</a>"
      ],
      "text/plain": [
       "<IPython.core.display.HTML object>"
      ]
     },
     "metadata": {},
     "output_type": "display_data"
    },
    {
     "data": {
      "text/html": [
       " View project at <a href='https://wandb.ai/jooz-cave/unet-skin-lesion' target=\"_blank\">https://wandb.ai/jooz-cave/unet-skin-lesion</a>"
      ],
      "text/plain": [
       "<IPython.core.display.HTML object>"
      ]
     },
     "metadata": {},
     "output_type": "display_data"
    },
    {
     "data": {
      "text/html": [
       " View sweep at <a href='https://wandb.ai/jooz-cave/unet-skin-lesion/sweeps/l9fcs25g' target=\"_blank\">https://wandb.ai/jooz-cave/unet-skin-lesion/sweeps/l9fcs25g</a>"
      ],
      "text/plain": [
       "<IPython.core.display.HTML object>"
      ]
     },
     "metadata": {},
     "output_type": "display_data"
    },
    {
     "data": {
      "text/html": [
       " View run at <a href='https://wandb.ai/jooz-cave/unet-skin-lesion/runs/ftmchblt/workspace' target=\"_blank\">https://wandb.ai/jooz-cave/unet-skin-lesion/runs/ftmchblt/workspace</a>"
      ],
      "text/plain": [
       "<IPython.core.display.HTML object>"
      ]
     },
     "metadata": {},
     "output_type": "display_data"
    },
    {
     "name": "stdout",
     "output_type": "stream",
     "text": [
      "Validation Loss: 0.8194209432601929\n",
      "Got 4795034/6553600 with acc 73.17\n",
      "Dice score: 0.0\n",
      "epoch: 0\n"
     ]
    },
    {
     "name": "stderr",
     "output_type": "stream",
     "text": [
      "100%|██████████| 2594/2594 [08:56<00:00,  4.83it/s, loss=nan]\n"
     ]
    },
    {
     "name": "stdout",
     "output_type": "stream",
     "text": [
      "=> Saving checkpoint\n",
      "Validation Loss: 1.0449258840084077\n",
      "Got 1758566/6553600 with acc 26.83\n",
      "Dice score: 0.38626909255981445\n",
      "epoch: 1\n"
     ]
    },
    {
     "name": "stderr",
     "output_type": "stream",
     "text": [
      "100%|██████████| 2594/2594 [08:45<00:00,  4.94it/s, loss=nan]\n"
     ]
    },
    {
     "name": "stdout",
     "output_type": "stream",
     "text": [
      "=> Saving checkpoint\n",
      "Validation Loss: 1.0449258840084077\n",
      "Got 1758566/6553600 with acc 26.83\n",
      "Dice score: 0.38626909255981445\n",
      "epoch: 2\n"
     ]
    },
    {
     "name": "stderr",
     "output_type": "stream",
     "text": [
      "100%|██████████| 2594/2594 [08:44<00:00,  4.95it/s, loss=nan]\n"
     ]
    },
    {
     "name": "stdout",
     "output_type": "stream",
     "text": [
      "=> Saving checkpoint\n",
      "Validation Loss: 1.0449258840084077\n",
      "Got 1758566/6553600 with acc 26.83\n",
      "Dice score: 0.38626909255981445\n",
      "epoch: 3\n"
     ]
    },
    {
     "name": "stderr",
     "output_type": "stream",
     "text": [
      "100%|██████████| 2594/2594 [08:45<00:00,  4.94it/s, loss=nan]\n"
     ]
    },
    {
     "name": "stdout",
     "output_type": "stream",
     "text": [
      "=> Saving checkpoint\n",
      "Validation Loss: 1.0449258840084077\n",
      "Got 1758566/6553600 with acc 26.83\n",
      "Dice score: 0.38626909255981445\n",
      "epoch: 4\n"
     ]
    },
    {
     "name": "stderr",
     "output_type": "stream",
     "text": [
      "100%|██████████| 2594/2594 [08:44<00:00,  4.94it/s, loss=nan]\n"
     ]
    },
    {
     "name": "stdout",
     "output_type": "stream",
     "text": [
      "=> Saving checkpoint\n",
      "Validation Loss: 1.0449258840084077\n",
      "Got 1758566/6553600 with acc 26.83\n",
      "Dice score: 0.38626909255981445\n",
      "epoch: 5\n"
     ]
    },
    {
     "name": "stderr",
     "output_type": "stream",
     "text": [
      "100%|██████████| 2594/2594 [08:44<00:00,  4.94it/s, loss=nan]\n"
     ]
    },
    {
     "name": "stdout",
     "output_type": "stream",
     "text": [
      "=> Saving checkpoint\n",
      "Validation Loss: 1.0449258840084077\n",
      "Got 1758566/6553600 with acc 26.83\n",
      "Dice score: 0.38626909255981445\n",
      "epoch: 6\n"
     ]
    },
    {
     "name": "stderr",
     "output_type": "stream",
     "text": [
      "100%|██████████| 2594/2594 [08:45<00:00,  4.93it/s, loss=nan]\n"
     ]
    },
    {
     "name": "stdout",
     "output_type": "stream",
     "text": [
      "=> Saving checkpoint\n",
      "Validation Loss: 1.0449258840084077\n",
      "Got 1758566/6553600 with acc 26.83\n",
      "Dice score: 0.38626909255981445\n",
      "epoch: 7\n"
     ]
    },
    {
     "name": "stderr",
     "output_type": "stream",
     "text": [
      "100%|██████████| 2594/2594 [08:45<00:00,  4.94it/s, loss=nan]\n"
     ]
    },
    {
     "name": "stdout",
     "output_type": "stream",
     "text": [
      "=> Saving checkpoint\n",
      "Validation Loss: 1.0449258840084077\n",
      "Got 1758566/6553600 with acc 26.83\n",
      "Dice score: 0.38626909255981445\n",
      "epoch: 8\n"
     ]
    },
    {
     "name": "stderr",
     "output_type": "stream",
     "text": [
      "100%|██████████| 2594/2594 [08:45<00:00,  4.94it/s, loss=nan]\n"
     ]
    },
    {
     "name": "stdout",
     "output_type": "stream",
     "text": [
      "=> Saving checkpoint\n",
      "Validation Loss: 1.0449258840084077\n",
      "Got 1758566/6553600 with acc 26.83\n",
      "Dice score: 0.38626909255981445\n",
      "epoch: 9\n"
     ]
    },
    {
     "name": "stderr",
     "output_type": "stream",
     "text": [
      "100%|██████████| 2594/2594 [08:44<00:00,  4.94it/s, loss=nan]\n"
     ]
    },
    {
     "name": "stdout",
     "output_type": "stream",
     "text": [
      "=> Saving checkpoint\n",
      "Validation Loss: 1.0449258840084077\n",
      "Got 1758566/6553600 with acc 26.83\n",
      "Dice score: 0.38626909255981445\n",
      "Test Loss: 1.0335686157047748\n",
      "Got 18329970/65536000 with acc 27.97\n",
      "Dice score: 0.3965534567832947\n"
     ]
    },
    {
     "data": {
      "text/html": [
       "<style>\n",
       "    table.wandb td:nth-child(1) { padding: 0 10px; text-align: left ; width: auto;} td:nth-child(2) {text-align: left ; width: 100%}\n",
       "    .wandb-row { display: flex; flex-direction: row; flex-wrap: wrap; justify-content: flex-start; width: 100% }\n",
       "    .wandb-col { display: flex; flex-direction: column; flex-basis: 100%; flex: 1; padding: 10px; }\n",
       "    </style>\n",
       "<div class=\"wandb-row\"><div class=\"wandb-col\"><h3>Run history:</h3><br/><table class=\"wandb\"><tr><td>Dice Score</td><td>▁██████████</td></tr><tr><td>Pixel Accuracy</td><td>█▁▁▁▁▁▁▁▁▁▁</td></tr><tr><td>Test Dice Score</td><td>▁</td></tr><tr><td>Test Loss</td><td>▁</td></tr><tr><td>Test Pixel Accuracy</td><td>▁</td></tr><tr><td>Validation Loss</td><td>▁██████████</td></tr></table><br/></div><div class=\"wandb-col\"><h3>Run summary:</h3><br/><table class=\"wandb\"><tr><td>Dice Score</td><td>0.38627</td></tr><tr><td>MODEL</td><td>Segformer</td></tr><tr><td>Pixel Accuracy</td><td>26.83359</td></tr><tr><td>Test Dice Score</td><td>0.39655</td></tr><tr><td>Test Loss</td><td>1.03357</td></tr><tr><td>Test Pixel Accuracy</td><td>27.96932</td></tr><tr><td>Training Loss</td><td>nan</td></tr><tr><td>Validation Loss</td><td>1.04493</td></tr></table><br/></div></div>"
      ],
      "text/plain": [
       "<IPython.core.display.HTML object>"
      ]
     },
     "metadata": {},
     "output_type": "display_data"
    },
    {
     "data": {
      "text/html": [
       " View run <strong style=\"color:#cdcd00\">eager-sweep-1</strong> at: <a href='https://wandb.ai/jooz-cave/unet-skin-lesion/runs/ftmchblt/workspace' target=\"_blank\">https://wandb.ai/jooz-cave/unet-skin-lesion/runs/ftmchblt/workspace</a><br/>Synced 5 W&B file(s), 0 media file(s), 0 artifact file(s) and 0 other file(s)"
      ],
      "text/plain": [
       "<IPython.core.display.HTML object>"
      ]
     },
     "metadata": {},
     "output_type": "display_data"
    },
    {
     "data": {
      "text/html": [
       "Find logs at: <code>.\\wandb\\run-20240402_040325-ftmchblt\\logs</code>"
      ],
      "text/plain": [
       "<IPython.core.display.HTML object>"
      ]
     },
     "metadata": {},
     "output_type": "display_data"
    },
    {
     "name": "stderr",
     "output_type": "stream",
     "text": [
      "\u001b[34m\u001b[1mwandb\u001b[0m: Agent Starting Run: zworx0uh with config:\n",
      "\u001b[34m\u001b[1mwandb\u001b[0m: \tbatch_size: 2\n",
      "\u001b[34m\u001b[1mwandb\u001b[0m: \tdropout_rate: 0.4\n",
      "\u001b[34m\u001b[1mwandb\u001b[0m: \tepochs: 10\n",
      "\u001b[34m\u001b[1mwandb\u001b[0m: \tlearning_rate: 0.1\n",
      "Failed to detect the name of this notebook, you can set it manually with the WANDB_NOTEBOOK_NAME environment variable to enable code saving.\n"
     ]
    },
    {
     "data": {
      "text/html": [
       "Tracking run with wandb version 0.16.5"
      ],
      "text/plain": [
       "<IPython.core.display.HTML object>"
      ]
     },
     "metadata": {},
     "output_type": "display_data"
    },
    {
     "data": {
      "text/html": [
       "Run data is saved locally in <code>c:\\Users\\jonta\\code\\school\\t8\\DeepLearning\\50.039-DL\\notebooks\\wandb\\run-20240402_053730-zworx0uh</code>"
      ],
      "text/plain": [
       "<IPython.core.display.HTML object>"
      ]
     },
     "metadata": {},
     "output_type": "display_data"
    },
    {
     "data": {
      "text/html": [
       "Syncing run <strong><a href='https://wandb.ai/jooz-cave/unet-skin-lesion/runs/zworx0uh/workspace' target=\"_blank\">kind-sweep-2</a></strong> to <a href='https://wandb.ai/jooz-cave/unet-skin-lesion' target=\"_blank\">Weights & Biases</a> (<a href='https://wandb.me/run' target=\"_blank\">docs</a>)<br/>Sweep page: <a href='https://wandb.ai/jooz-cave/unet-skin-lesion/sweeps/l9fcs25g' target=\"_blank\">https://wandb.ai/jooz-cave/unet-skin-lesion/sweeps/l9fcs25g</a>"
      ],
      "text/plain": [
       "<IPython.core.display.HTML object>"
      ]
     },
     "metadata": {},
     "output_type": "display_data"
    },
    {
     "data": {
      "text/html": [
       " View project at <a href='https://wandb.ai/jooz-cave/unet-skin-lesion' target=\"_blank\">https://wandb.ai/jooz-cave/unet-skin-lesion</a>"
      ],
      "text/plain": [
       "<IPython.core.display.HTML object>"
      ]
     },
     "metadata": {},
     "output_type": "display_data"
    },
    {
     "data": {
      "text/html": [
       " View sweep at <a href='https://wandb.ai/jooz-cave/unet-skin-lesion/sweeps/l9fcs25g' target=\"_blank\">https://wandb.ai/jooz-cave/unet-skin-lesion/sweeps/l9fcs25g</a>"
      ],
      "text/plain": [
       "<IPython.core.display.HTML object>"
      ]
     },
     "metadata": {},
     "output_type": "display_data"
    },
    {
     "data": {
      "text/html": [
       " View run at <a href='https://wandb.ai/jooz-cave/unet-skin-lesion/runs/zworx0uh/workspace' target=\"_blank\">https://wandb.ai/jooz-cave/unet-skin-lesion/runs/zworx0uh/workspace</a>"
      ],
      "text/plain": [
       "<IPython.core.display.HTML object>"
      ]
     },
     "metadata": {},
     "output_type": "display_data"
    },
    {
     "name": "stdout",
     "output_type": "stream",
     "text": [
      "Validation Loss: 0.8285866355895997\n",
      "Got 4795034/6553600 with acc 73.17\n",
      "Dice score: 0.0\n",
      "epoch: 0\n"
     ]
    },
    {
     "name": "stderr",
     "output_type": "stream",
     "text": [
      "100%|██████████| 1297/1297 [07:55<00:00,  2.73it/s, loss=nan]\n"
     ]
    },
    {
     "name": "stdout",
     "output_type": "stream",
     "text": [
      "=> Saving checkpoint\n",
      "Validation Loss: 1.0449258708953857\n",
      "Got 1758566/6553600 with acc 26.83\n",
      "Dice score: 0.3990338146686554\n",
      "epoch: 1\n"
     ]
    },
    {
     "name": "stderr",
     "output_type": "stream",
     "text": [
      "100%|██████████| 1297/1297 [07:50<00:00,  2.76it/s, loss=nan]\n"
     ]
    },
    {
     "name": "stdout",
     "output_type": "stream",
     "text": [
      "=> Saving checkpoint\n",
      "Validation Loss: 1.0449258708953857\n",
      "Got 1758566/6553600 with acc 26.83\n",
      "Dice score: 0.3990338146686554\n",
      "epoch: 2\n"
     ]
    },
    {
     "name": "stderr",
     "output_type": "stream",
     "text": [
      "100%|██████████| 1297/1297 [07:52<00:00,  2.74it/s, loss=nan]\n"
     ]
    },
    {
     "name": "stdout",
     "output_type": "stream",
     "text": [
      "=> Saving checkpoint\n",
      "Validation Loss: 1.0449258708953857\n",
      "Got 1758566/6553600 with acc 26.83\n",
      "Dice score: 0.3990338146686554\n",
      "epoch: 3\n"
     ]
    },
    {
     "name": "stderr",
     "output_type": "stream",
     "text": [
      "100%|██████████| 1297/1297 [07:52<00:00,  2.75it/s, loss=nan]\n"
     ]
    },
    {
     "name": "stdout",
     "output_type": "stream",
     "text": [
      "=> Saving checkpoint\n",
      "Validation Loss: 1.0449258708953857\n",
      "Got 1758566/6553600 with acc 26.83\n",
      "Dice score: 0.3990338146686554\n",
      "epoch: 4\n"
     ]
    },
    {
     "name": "stderr",
     "output_type": "stream",
     "text": [
      "100%|██████████| 1297/1297 [07:51<00:00,  2.75it/s, loss=nan]\n"
     ]
    },
    {
     "name": "stdout",
     "output_type": "stream",
     "text": [
      "=> Saving checkpoint\n",
      "Validation Loss: 1.0449258708953857\n",
      "Got 1758566/6553600 with acc 26.83\n",
      "Dice score: 0.3990338146686554\n",
      "epoch: 5\n"
     ]
    },
    {
     "name": "stderr",
     "output_type": "stream",
     "text": [
      "100%|██████████| 1297/1297 [07:51<00:00,  2.75it/s, loss=nan]\n"
     ]
    },
    {
     "name": "stdout",
     "output_type": "stream",
     "text": [
      "=> Saving checkpoint\n",
      "Validation Loss: 1.0449258708953857\n",
      "Got 1758566/6553600 with acc 26.83\n",
      "Dice score: 0.3990338146686554\n",
      "epoch: 6\n"
     ]
    },
    {
     "name": "stderr",
     "output_type": "stream",
     "text": [
      "100%|██████████| 1297/1297 [07:50<00:00,  2.76it/s, loss=nan]\n"
     ]
    },
    {
     "name": "stdout",
     "output_type": "stream",
     "text": [
      "=> Saving checkpoint\n",
      "Validation Loss: 1.0449258708953857\n",
      "Got 1758566/6553600 with acc 26.83\n",
      "Dice score: 0.3990338146686554\n",
      "epoch: 7\n"
     ]
    },
    {
     "name": "stderr",
     "output_type": "stream",
     "text": [
      "100%|██████████| 1297/1297 [07:51<00:00,  2.75it/s, loss=nan]\n"
     ]
    },
    {
     "name": "stdout",
     "output_type": "stream",
     "text": [
      "=> Saving checkpoint\n",
      "Validation Loss: 1.0449258708953857\n",
      "Got 1758566/6553600 with acc 26.83\n",
      "Dice score: 0.3990338146686554\n",
      "epoch: 8\n"
     ]
    },
    {
     "name": "stderr",
     "output_type": "stream",
     "text": [
      "100%|██████████| 1297/1297 [07:51<00:00,  2.75it/s, loss=nan]\n"
     ]
    },
    {
     "name": "stdout",
     "output_type": "stream",
     "text": [
      "=> Saving checkpoint\n",
      "Validation Loss: 1.0449258708953857\n",
      "Got 1758566/6553600 with acc 26.83\n",
      "Dice score: 0.3990338146686554\n",
      "epoch: 9\n"
     ]
    },
    {
     "name": "stderr",
     "output_type": "stream",
     "text": [
      "100%|██████████| 1297/1297 [07:51<00:00,  2.75it/s, loss=nan]\n"
     ]
    },
    {
     "name": "stdout",
     "output_type": "stream",
     "text": [
      "=> Saving checkpoint\n",
      "Validation Loss: 1.0449258708953857\n",
      "Got 1758566/6553600 with acc 26.83\n",
      "Dice score: 0.3990338146686554\n",
      "Test Loss: 1.0335686016082763\n",
      "Got 18329970/65536000 with acc 27.97\n",
      "Dice score: 0.4119521379470825\n"
     ]
    },
    {
     "data": {
      "text/html": [
       "<style>\n",
       "    table.wandb td:nth-child(1) { padding: 0 10px; text-align: left ; width: auto;} td:nth-child(2) {text-align: left ; width: 100%}\n",
       "    .wandb-row { display: flex; flex-direction: row; flex-wrap: wrap; justify-content: flex-start; width: 100% }\n",
       "    .wandb-col { display: flex; flex-direction: column; flex-basis: 100%; flex: 1; padding: 10px; }\n",
       "    </style>\n",
       "<div class=\"wandb-row\"><div class=\"wandb-col\"><h3>Run history:</h3><br/><table class=\"wandb\"><tr><td>Dice Score</td><td>▁██████████</td></tr><tr><td>Pixel Accuracy</td><td>█▁▁▁▁▁▁▁▁▁▁</td></tr><tr><td>Test Dice Score</td><td>▁</td></tr><tr><td>Test Loss</td><td>▁</td></tr><tr><td>Test Pixel Accuracy</td><td>▁</td></tr><tr><td>Validation Loss</td><td>▁██████████</td></tr></table><br/></div><div class=\"wandb-col\"><h3>Run summary:</h3><br/><table class=\"wandb\"><tr><td>Dice Score</td><td>0.39903</td></tr><tr><td>MODEL</td><td>Segformer</td></tr><tr><td>Pixel Accuracy</td><td>26.83359</td></tr><tr><td>Test Dice Score</td><td>0.41195</td></tr><tr><td>Test Loss</td><td>1.03357</td></tr><tr><td>Test Pixel Accuracy</td><td>27.96932</td></tr><tr><td>Training Loss</td><td>nan</td></tr><tr><td>Validation Loss</td><td>1.04493</td></tr></table><br/></div></div>"
      ],
      "text/plain": [
       "<IPython.core.display.HTML object>"
      ]
     },
     "metadata": {},
     "output_type": "display_data"
    },
    {
     "data": {
      "text/html": [
       " View run <strong style=\"color:#cdcd00\">kind-sweep-2</strong> at: <a href='https://wandb.ai/jooz-cave/unet-skin-lesion/runs/zworx0uh/workspace' target=\"_blank\">https://wandb.ai/jooz-cave/unet-skin-lesion/runs/zworx0uh/workspace</a><br/>Synced 5 W&B file(s), 0 media file(s), 0 artifact file(s) and 0 other file(s)"
      ],
      "text/plain": [
       "<IPython.core.display.HTML object>"
      ]
     },
     "metadata": {},
     "output_type": "display_data"
    },
    {
     "data": {
      "text/html": [
       "Find logs at: <code>.\\wandb\\run-20240402_053730-zworx0uh\\logs</code>"
      ],
      "text/plain": [
       "<IPython.core.display.HTML object>"
      ]
     },
     "metadata": {},
     "output_type": "display_data"
    },
    {
     "name": "stderr",
     "output_type": "stream",
     "text": [
      "\u001b[34m\u001b[1mwandb\u001b[0m: Sweep Agent: Waiting for job.\n",
      "\u001b[34m\u001b[1mwandb\u001b[0m: Job received.\n",
      "\u001b[34m\u001b[1mwandb\u001b[0m: Agent Starting Run: to0juia8 with config:\n",
      "\u001b[34m\u001b[1mwandb\u001b[0m: \tbatch_size: 64\n",
      "\u001b[34m\u001b[1mwandb\u001b[0m: \tdropout_rate: 0.3\n",
      "\u001b[34m\u001b[1mwandb\u001b[0m: \tepochs: 10\n",
      "\u001b[34m\u001b[1mwandb\u001b[0m: \tlearning_rate: 0.001\n",
      "Failed to detect the name of this notebook, you can set it manually with the WANDB_NOTEBOOK_NAME environment variable to enable code saving.\n"
     ]
    },
    {
     "data": {
      "text/html": [
       "Tracking run with wandb version 0.16.5"
      ],
      "text/plain": [
       "<IPython.core.display.HTML object>"
      ]
     },
     "metadata": {},
     "output_type": "display_data"
    },
    {
     "data": {
      "text/html": [
       "Run data is saved locally in <code>c:\\Users\\jonta\\code\\school\\t8\\DeepLearning\\50.039-DL\\notebooks\\wandb\\run-20240402_070219-to0juia8</code>"
      ],
      "text/plain": [
       "<IPython.core.display.HTML object>"
      ]
     },
     "metadata": {},
     "output_type": "display_data"
    },
    {
     "data": {
      "text/html": [
       "Syncing run <strong><a href='https://wandb.ai/jooz-cave/unet-skin-lesion/runs/to0juia8/workspace' target=\"_blank\">playful-sweep-3</a></strong> to <a href='https://wandb.ai/jooz-cave/unet-skin-lesion' target=\"_blank\">Weights & Biases</a> (<a href='https://wandb.me/run' target=\"_blank\">docs</a>)<br/>Sweep page: <a href='https://wandb.ai/jooz-cave/unet-skin-lesion/sweeps/l9fcs25g' target=\"_blank\">https://wandb.ai/jooz-cave/unet-skin-lesion/sweeps/l9fcs25g</a>"
      ],
      "text/plain": [
       "<IPython.core.display.HTML object>"
      ]
     },
     "metadata": {},
     "output_type": "display_data"
    },
    {
     "data": {
      "text/html": [
       " View project at <a href='https://wandb.ai/jooz-cave/unet-skin-lesion' target=\"_blank\">https://wandb.ai/jooz-cave/unet-skin-lesion</a>"
      ],
      "text/plain": [
       "<IPython.core.display.HTML object>"
      ]
     },
     "metadata": {},
     "output_type": "display_data"
    },
    {
     "data": {
      "text/html": [
       " View sweep at <a href='https://wandb.ai/jooz-cave/unet-skin-lesion/sweeps/l9fcs25g' target=\"_blank\">https://wandb.ai/jooz-cave/unet-skin-lesion/sweeps/l9fcs25g</a>"
      ],
      "text/plain": [
       "<IPython.core.display.HTML object>"
      ]
     },
     "metadata": {},
     "output_type": "display_data"
    },
    {
     "data": {
      "text/html": [
       " View run at <a href='https://wandb.ai/jooz-cave/unet-skin-lesion/runs/to0juia8/workspace' target=\"_blank\">https://wandb.ai/jooz-cave/unet-skin-lesion/runs/to0juia8/workspace</a>"
      ],
      "text/plain": [
       "<IPython.core.display.HTML object>"
      ]
     },
     "metadata": {},
     "output_type": "display_data"
    },
    {
     "name": "stdout",
     "output_type": "stream",
     "text": [
      "Validation Loss: 0.862650454044342\n",
      "Got 1758566/6553600 with acc 26.83\n",
      "Dice score: 0.4133538603782654\n",
      "epoch: 0\n"
     ]
    },
    {
     "name": "stderr",
     "output_type": "stream",
     "text": [
      "100%|██████████| 41/41 [06:22<00:00,  9.32s/it, loss=0.526]\n"
     ]
    },
    {
     "name": "stdout",
     "output_type": "stream",
     "text": [
      "=> Saving checkpoint\n",
      "Validation Loss: 0.7124711871147156\n",
      "Got 4799868/6553600 with acc 73.24\n",
      "Dice score: 0.008841322734951973\n",
      "epoch: 1\n"
     ]
    },
    {
     "name": "stderr",
     "output_type": "stream",
     "text": [
      "100%|██████████| 41/41 [06:20<00:00,  9.27s/it, loss=0.324]\n"
     ]
    },
    {
     "name": "stdout",
     "output_type": "stream",
     "text": [
      "=> Saving checkpoint\n",
      "Validation Loss: 0.7042053043842316\n",
      "Got 5370248/6553600 with acc 81.94\n",
      "Dice score: 0.5021330118179321\n",
      "epoch: 2\n"
     ]
    },
    {
     "name": "stderr",
     "output_type": "stream",
     "text": [
      "100%|██████████| 41/41 [06:18<00:00,  9.24s/it, loss=0.361]\n"
     ]
    },
    {
     "name": "stdout",
     "output_type": "stream",
     "text": [
      "=> Saving checkpoint\n",
      "Validation Loss: 0.6895643174648285\n",
      "Got 5542685/6553600 with acc 84.57\n",
      "Dice score: 0.632225513458252\n",
      "epoch: 3\n"
     ]
    },
    {
     "name": "stderr",
     "output_type": "stream",
     "text": [
      "100%|██████████| 41/41 [06:17<00:00,  9.20s/it, loss=0.416]\n"
     ]
    },
    {
     "name": "stdout",
     "output_type": "stream",
     "text": [
      "=> Saving checkpoint\n",
      "Validation Loss: 0.7113795578479767\n",
      "Got 5783491/6553600 with acc 88.25\n",
      "Dice score: 0.7601237297058105\n",
      "epoch: 4\n"
     ]
    },
    {
     "name": "stderr",
     "output_type": "stream",
     "text": [
      "100%|██████████| 41/41 [06:17<00:00,  9.20s/it, loss=0.29] \n"
     ]
    },
    {
     "name": "stdout",
     "output_type": "stream",
     "text": [
      "=> Saving checkpoint\n",
      "Validation Loss: 0.6889552474021912\n",
      "Got 5710367/6553600 with acc 87.13\n",
      "Dice score: 0.7439920902252197\n",
      "epoch: 5\n"
     ]
    },
    {
     "name": "stderr",
     "output_type": "stream",
     "text": [
      "100%|██████████| 41/41 [06:18<00:00,  9.22s/it, loss=0.223]\n"
     ]
    },
    {
     "name": "stdout",
     "output_type": "stream",
     "text": [
      "=> Saving checkpoint\n",
      "Validation Loss: 0.6761451065540314\n",
      "Got 5820203/6553600 with acc 88.81\n",
      "Dice score: 0.756218671798706\n",
      "epoch: 6\n"
     ]
    },
    {
     "name": "stderr",
     "output_type": "stream",
     "text": [
      "100%|██████████| 41/41 [06:19<00:00,  9.26s/it, loss=0.258]\n"
     ]
    },
    {
     "name": "stdout",
     "output_type": "stream",
     "text": [
      "=> Saving checkpoint\n",
      "Validation Loss: 0.657807856798172\n",
      "Got 5883676/6553600 with acc 89.78\n",
      "Dice score: 0.76047682762146\n",
      "epoch: 7\n"
     ]
    },
    {
     "name": "stderr",
     "output_type": "stream",
     "text": [
      "100%|██████████| 41/41 [06:18<00:00,  9.24s/it, loss=0.254]\n"
     ]
    },
    {
     "name": "stdout",
     "output_type": "stream",
     "text": [
      "=> Saving checkpoint\n",
      "Validation Loss: 0.6531965136528015\n",
      "Got 5876479/6553600 with acc 89.67\n",
      "Dice score: 0.7331866025924683\n",
      "epoch: 8\n"
     ]
    },
    {
     "name": "stderr",
     "output_type": "stream",
     "text": [
      "100%|██████████| 41/41 [06:19<00:00,  9.26s/it, loss=0.285]\n"
     ]
    },
    {
     "name": "stdout",
     "output_type": "stream",
     "text": [
      "=> Saving checkpoint\n",
      "Validation Loss: 0.6547203361988068\n",
      "Got 5933807/6553600 with acc 90.54\n",
      "Dice score: 0.7846275568008423\n",
      "epoch: 9\n"
     ]
    },
    {
     "name": "stderr",
     "output_type": "stream",
     "text": [
      "100%|██████████| 41/41 [06:18<00:00,  9.23s/it, loss=0.169]\n"
     ]
    },
    {
     "name": "stdout",
     "output_type": "stream",
     "text": [
      "=> Saving checkpoint\n",
      "Validation Loss: 0.6556415557861328\n",
      "Got 5931064/6553600 with acc 90.50\n",
      "Dice score: 0.797810435295105\n",
      "Test Loss: 0.6542457565665245\n",
      "Got 58503763/65536000 with acc 89.27\n",
      "Dice score: 0.7890083193778992\n"
     ]
    },
    {
     "data": {
      "text/html": [
       "<style>\n",
       "    table.wandb td:nth-child(1) { padding: 0 10px; text-align: left ; width: auto;} td:nth-child(2) {text-align: left ; width: 100%}\n",
       "    .wandb-row { display: flex; flex-direction: row; flex-wrap: wrap; justify-content: flex-start; width: 100% }\n",
       "    .wandb-col { display: flex; flex-direction: column; flex-basis: 100%; flex: 1; padding: 10px; }\n",
       "    </style>\n",
       "<div class=\"wandb-row\"><div class=\"wandb-col\"><h3>Run history:</h3><br/><table class=\"wandb\"><tr><td>Dice Score</td><td>▅▁▅▇████▇██</td></tr><tr><td>Pixel Accuracy</td><td>▁▆▇▇███████</td></tr><tr><td>Test Dice Score</td><td>▁</td></tr><tr><td>Test Loss</td><td>▁</td></tr><tr><td>Test Pixel Accuracy</td><td>▁</td></tr><tr><td>Training Loss</td><td>▄█▂▁▁▁▁▁▁▁▁▁▁▁▁▁▁▁▁▁▁▁▁▁▁▁▁▁▁▁▁▁▁▁▁▁▁▁▁▁</td></tr><tr><td>Validation Loss</td><td>█▃▃▂▃▂▂▁▁▁▁</td></tr></table><br/></div><div class=\"wandb-col\"><h3>Run summary:</h3><br/><table class=\"wandb\"><tr><td>Dice Score</td><td>0.79781</td></tr><tr><td>MODEL</td><td>Segformer</td></tr><tr><td>Pixel Accuracy</td><td>90.50085</td></tr><tr><td>Test Dice Score</td><td>0.78901</td></tr><tr><td>Test Loss</td><td>0.65425</td></tr><tr><td>Test Pixel Accuracy</td><td>89.26966</td></tr><tr><td>Training Loss</td><td>0.16928</td></tr><tr><td>Validation Loss</td><td>0.65564</td></tr></table><br/></div></div>"
      ],
      "text/plain": [
       "<IPython.core.display.HTML object>"
      ]
     },
     "metadata": {},
     "output_type": "display_data"
    },
    {
     "data": {
      "text/html": [
       " View run <strong style=\"color:#cdcd00\">playful-sweep-3</strong> at: <a href='https://wandb.ai/jooz-cave/unet-skin-lesion/runs/to0juia8/workspace' target=\"_blank\">https://wandb.ai/jooz-cave/unet-skin-lesion/runs/to0juia8/workspace</a><br/>Synced 5 W&B file(s), 0 media file(s), 0 artifact file(s) and 0 other file(s)"
      ],
      "text/plain": [
       "<IPython.core.display.HTML object>"
      ]
     },
     "metadata": {},
     "output_type": "display_data"
    },
    {
     "data": {
      "text/html": [
       "Find logs at: <code>.\\wandb\\run-20240402_070219-to0juia8\\logs</code>"
      ],
      "text/plain": [
       "<IPython.core.display.HTML object>"
      ]
     },
     "metadata": {},
     "output_type": "display_data"
    },
    {
     "name": "stderr",
     "output_type": "stream",
     "text": [
      "\u001b[34m\u001b[1mwandb\u001b[0m: Agent Starting Run: pbhaxycs with config:\n",
      "\u001b[34m\u001b[1mwandb\u001b[0m: \tbatch_size: 64\n",
      "\u001b[34m\u001b[1mwandb\u001b[0m: \tdropout_rate: 0.3\n",
      "\u001b[34m\u001b[1mwandb\u001b[0m: \tepochs: 10\n",
      "\u001b[34m\u001b[1mwandb\u001b[0m: \tlearning_rate: 0.0001\n",
      "Failed to detect the name of this notebook, you can set it manually with the WANDB_NOTEBOOK_NAME environment variable to enable code saving.\n"
     ]
    },
    {
     "data": {
      "text/html": [
       "Tracking run with wandb version 0.16.5"
      ],
      "text/plain": [
       "<IPython.core.display.HTML object>"
      ]
     },
     "metadata": {},
     "output_type": "display_data"
    },
    {
     "data": {
      "text/html": [
       "Run data is saved locally in <code>c:\\Users\\jonta\\code\\school\\t8\\DeepLearning\\50.039-DL\\notebooks\\wandb\\run-20240402_081053-pbhaxycs</code>"
      ],
      "text/plain": [
       "<IPython.core.display.HTML object>"
      ]
     },
     "metadata": {},
     "output_type": "display_data"
    },
    {
     "data": {
      "text/html": [
       "Syncing run <strong><a href='https://wandb.ai/jooz-cave/unet-skin-lesion/runs/pbhaxycs/workspace' target=\"_blank\">silvery-sweep-4</a></strong> to <a href='https://wandb.ai/jooz-cave/unet-skin-lesion' target=\"_blank\">Weights & Biases</a> (<a href='https://wandb.me/run' target=\"_blank\">docs</a>)<br/>Sweep page: <a href='https://wandb.ai/jooz-cave/unet-skin-lesion/sweeps/l9fcs25g' target=\"_blank\">https://wandb.ai/jooz-cave/unet-skin-lesion/sweeps/l9fcs25g</a>"
      ],
      "text/plain": [
       "<IPython.core.display.HTML object>"
      ]
     },
     "metadata": {},
     "output_type": "display_data"
    },
    {
     "data": {
      "text/html": [
       " View project at <a href='https://wandb.ai/jooz-cave/unet-skin-lesion' target=\"_blank\">https://wandb.ai/jooz-cave/unet-skin-lesion</a>"
      ],
      "text/plain": [
       "<IPython.core.display.HTML object>"
      ]
     },
     "metadata": {},
     "output_type": "display_data"
    },
    {
     "data": {
      "text/html": [
       " View sweep at <a href='https://wandb.ai/jooz-cave/unet-skin-lesion/sweeps/l9fcs25g' target=\"_blank\">https://wandb.ai/jooz-cave/unet-skin-lesion/sweeps/l9fcs25g</a>"
      ],
      "text/plain": [
       "<IPython.core.display.HTML object>"
      ]
     },
     "metadata": {},
     "output_type": "display_data"
    },
    {
     "data": {
      "text/html": [
       " View run at <a href='https://wandb.ai/jooz-cave/unet-skin-lesion/runs/pbhaxycs/workspace' target=\"_blank\">https://wandb.ai/jooz-cave/unet-skin-lesion/runs/pbhaxycs/workspace</a>"
      ],
      "text/plain": [
       "<IPython.core.display.HTML object>"
      ]
     },
     "metadata": {},
     "output_type": "display_data"
    },
    {
     "name": "stdout",
     "output_type": "stream",
     "text": [
      "Validation Loss: 0.8357398509979248\n",
      "Got 4794983/6553600 with acc 73.17\n",
      "Dice score: 0.0\n",
      "epoch: 0\n"
     ]
    },
    {
     "name": "stderr",
     "output_type": "stream",
     "text": [
      "100%|██████████| 41/41 [06:17<00:00,  9.22s/it, loss=0.388]\n"
     ]
    },
    {
     "name": "stdout",
     "output_type": "stream",
     "text": [
      "=> Saving checkpoint\n",
      "Validation Loss: 0.7036863267421722\n",
      "Got 5391917/6553600 with acc 82.27\n",
      "Dice score: 0.4692402780056\n",
      "epoch: 1\n"
     ]
    },
    {
     "name": "stderr",
     "output_type": "stream",
     "text": [
      "100%|██████████| 41/41 [06:19<00:00,  9.24s/it, loss=0.222]\n"
     ]
    },
    {
     "name": "stdout",
     "output_type": "stream",
     "text": [
      "=> Saving checkpoint\n",
      "Validation Loss: 0.6695798635482788\n",
      "Got 5733730/6553600 with acc 87.49\n",
      "Dice score: 0.6854172348976135\n",
      "epoch: 2\n"
     ]
    },
    {
     "name": "stderr",
     "output_type": "stream",
     "text": [
      "100%|██████████| 41/41 [06:18<00:00,  9.24s/it, loss=0.204]\n"
     ]
    },
    {
     "name": "stdout",
     "output_type": "stream",
     "text": [
      "=> Saving checkpoint\n",
      "Validation Loss: 0.653472512960434\n",
      "Got 5796740/6553600 with acc 88.45\n",
      "Dice score: 0.6761635541915894\n",
      "epoch: 3\n"
     ]
    },
    {
     "name": "stderr",
     "output_type": "stream",
     "text": [
      "100%|██████████| 41/41 [06:17<00:00,  9.21s/it, loss=0.286]\n"
     ]
    },
    {
     "name": "stdout",
     "output_type": "stream",
     "text": [
      "=> Saving checkpoint\n",
      "Validation Loss: 0.6553537845611572\n",
      "Got 5893975/6553600 with acc 89.93\n",
      "Dice score: 0.7422839403152466\n",
      "epoch: 4\n"
     ]
    },
    {
     "name": "stderr",
     "output_type": "stream",
     "text": [
      "100%|██████████| 41/41 [06:18<00:00,  9.23s/it, loss=0.251]\n"
     ]
    },
    {
     "name": "stdout",
     "output_type": "stream",
     "text": [
      "=> Saving checkpoint\n",
      "Validation Loss: 0.6574841737747192\n",
      "Got 5949039/6553600 with acc 90.78\n",
      "Dice score: 0.7980613708496094\n",
      "epoch: 5\n"
     ]
    },
    {
     "name": "stderr",
     "output_type": "stream",
     "text": [
      "100%|██████████| 41/41 [06:18<00:00,  9.24s/it, loss=0.247]\n"
     ]
    },
    {
     "name": "stdout",
     "output_type": "stream",
     "text": [
      "=> Saving checkpoint\n",
      "Validation Loss: 0.6466633379459381\n",
      "Got 6014898/6553600 with acc 91.78\n",
      "Dice score: 0.8014848232269287\n",
      "epoch: 6\n"
     ]
    },
    {
     "name": "stderr",
     "output_type": "stream",
     "text": [
      "100%|██████████| 41/41 [06:19<00:00,  9.25s/it, loss=0.196]\n"
     ]
    },
    {
     "name": "stdout",
     "output_type": "stream",
     "text": [
      "=> Saving checkpoint\n",
      "Validation Loss: 0.6524563431739807\n",
      "Got 5991183/6553600 with acc 91.42\n",
      "Dice score: 0.826086699962616\n",
      "epoch: 7\n"
     ]
    },
    {
     "name": "stderr",
     "output_type": "stream",
     "text": [
      "100%|██████████| 41/41 [06:18<00:00,  9.23s/it, loss=0.167]\n"
     ]
    },
    {
     "name": "stdout",
     "output_type": "stream",
     "text": [
      "=> Saving checkpoint\n",
      "Validation Loss: 0.644137978553772\n",
      "Got 6022762/6553600 with acc 91.90\n",
      "Dice score: 0.8341279029846191\n",
      "epoch: 8\n"
     ]
    },
    {
     "name": "stderr",
     "output_type": "stream",
     "text": [
      "100%|██████████| 41/41 [06:18<00:00,  9.23s/it, loss=0.11] \n"
     ]
    },
    {
     "name": "stdout",
     "output_type": "stream",
     "text": [
      "=> Saving checkpoint\n",
      "Validation Loss: 0.6574331223964691\n",
      "Got 5980502/6553600 with acc 91.26\n",
      "Dice score: 0.8411695957183838\n",
      "epoch: 9\n"
     ]
    },
    {
     "name": "stderr",
     "output_type": "stream",
     "text": [
      "100%|██████████| 41/41 [06:18<00:00,  9.23s/it, loss=0.172]\n"
     ]
    },
    {
     "name": "stdout",
     "output_type": "stream",
     "text": [
      "=> Saving checkpoint\n",
      "Validation Loss: 0.6480864882469177\n",
      "Got 5987131/6553600 with acc 91.36\n",
      "Dice score: 0.8090052604675293\n",
      "Test Loss: 0.6479119099676609\n",
      "Got 59082257/65536000 with acc 90.15\n",
      "Dice score: 0.7986631989479065\n"
     ]
    },
    {
     "data": {
      "text/html": [
       "<style>\n",
       "    table.wandb td:nth-child(1) { padding: 0 10px; text-align: left ; width: auto;} td:nth-child(2) {text-align: left ; width: 100%}\n",
       "    .wandb-row { display: flex; flex-direction: row; flex-wrap: wrap; justify-content: flex-start; width: 100% }\n",
       "    .wandb-col { display: flex; flex-direction: column; flex-basis: 100%; flex: 1; padding: 10px; }\n",
       "    </style>\n",
       "<div class=\"wandb-row\"><div class=\"wandb-col\"><h3>Run history:</h3><br/><table class=\"wandb\"><tr><td>Dice Score</td><td>▁▅▇▇▇██████</td></tr><tr><td>Pixel Accuracy</td><td>▁▄▆▇▇██████</td></tr><tr><td>Test Dice Score</td><td>▁</td></tr><tr><td>Test Loss</td><td>▁</td></tr><tr><td>Test Pixel Accuracy</td><td>▁</td></tr><tr><td>Training Loss</td><td>██▇▆▅▅▃▃▃▃▃▂▂▃▄▃▃▂▃▃▂▂▂▂▂▂▂▂▁▂▁▁▂▂▂▁▂▂▂▂</td></tr><tr><td>Validation Loss</td><td>█▃▂▁▁▁▁▁▁▁▁</td></tr></table><br/></div><div class=\"wandb-col\"><h3>Run summary:</h3><br/><table class=\"wandb\"><tr><td>Dice Score</td><td>0.80901</td></tr><tr><td>MODEL</td><td>Segformer</td></tr><tr><td>Pixel Accuracy</td><td>91.35637</td></tr><tr><td>Test Dice Score</td><td>0.79866</td></tr><tr><td>Test Loss</td><td>0.64791</td></tr><tr><td>Test Pixel Accuracy</td><td>90.15237</td></tr><tr><td>Training Loss</td><td>0.17188</td></tr><tr><td>Validation Loss</td><td>0.64809</td></tr></table><br/></div></div>"
      ],
      "text/plain": [
       "<IPython.core.display.HTML object>"
      ]
     },
     "metadata": {},
     "output_type": "display_data"
    },
    {
     "data": {
      "text/html": [
       " View run <strong style=\"color:#cdcd00\">silvery-sweep-4</strong> at: <a href='https://wandb.ai/jooz-cave/unet-skin-lesion/runs/pbhaxycs/workspace' target=\"_blank\">https://wandb.ai/jooz-cave/unet-skin-lesion/runs/pbhaxycs/workspace</a><br/>Synced 5 W&B file(s), 0 media file(s), 0 artifact file(s) and 0 other file(s)"
      ],
      "text/plain": [
       "<IPython.core.display.HTML object>"
      ]
     },
     "metadata": {},
     "output_type": "display_data"
    },
    {
     "data": {
      "text/html": [
       "Find logs at: <code>.\\wandb\\run-20240402_081053-pbhaxycs\\logs</code>"
      ],
      "text/plain": [
       "<IPython.core.display.HTML object>"
      ]
     },
     "metadata": {},
     "output_type": "display_data"
    },
    {
     "name": "stderr",
     "output_type": "stream",
     "text": [
      "\u001b[34m\u001b[1mwandb\u001b[0m: Agent Starting Run: 3ipy8yib with config:\n",
      "\u001b[34m\u001b[1mwandb\u001b[0m: \tbatch_size: 64\n",
      "\u001b[34m\u001b[1mwandb\u001b[0m: \tdropout_rate: 0\n",
      "\u001b[34m\u001b[1mwandb\u001b[0m: \tepochs: 10\n",
      "\u001b[34m\u001b[1mwandb\u001b[0m: \tlearning_rate: 0.0001\n",
      "Failed to detect the name of this notebook, you can set it manually with the WANDB_NOTEBOOK_NAME environment variable to enable code saving.\n"
     ]
    },
    {
     "data": {
      "text/html": [
       "Tracking run with wandb version 0.16.5"
      ],
      "text/plain": [
       "<IPython.core.display.HTML object>"
      ]
     },
     "metadata": {},
     "output_type": "display_data"
    },
    {
     "data": {
      "text/html": [
       "Run data is saved locally in <code>c:\\Users\\jonta\\code\\school\\t8\\DeepLearning\\50.039-DL\\notebooks\\wandb\\run-20240402_091923-3ipy8yib</code>"
      ],
      "text/plain": [
       "<IPython.core.display.HTML object>"
      ]
     },
     "metadata": {},
     "output_type": "display_data"
    },
    {
     "data": {
      "text/html": [
       "Syncing run <strong><a href='https://wandb.ai/jooz-cave/unet-skin-lesion/runs/3ipy8yib/workspace' target=\"_blank\">generous-sweep-5</a></strong> to <a href='https://wandb.ai/jooz-cave/unet-skin-lesion' target=\"_blank\">Weights & Biases</a> (<a href='https://wandb.me/run' target=\"_blank\">docs</a>)<br/>Sweep page: <a href='https://wandb.ai/jooz-cave/unet-skin-lesion/sweeps/l9fcs25g' target=\"_blank\">https://wandb.ai/jooz-cave/unet-skin-lesion/sweeps/l9fcs25g</a>"
      ],
      "text/plain": [
       "<IPython.core.display.HTML object>"
      ]
     },
     "metadata": {},
     "output_type": "display_data"
    },
    {
     "data": {
      "text/html": [
       " View project at <a href='https://wandb.ai/jooz-cave/unet-skin-lesion' target=\"_blank\">https://wandb.ai/jooz-cave/unet-skin-lesion</a>"
      ],
      "text/plain": [
       "<IPython.core.display.HTML object>"
      ]
     },
     "metadata": {},
     "output_type": "display_data"
    },
    {
     "data": {
      "text/html": [
       " View sweep at <a href='https://wandb.ai/jooz-cave/unet-skin-lesion/sweeps/l9fcs25g' target=\"_blank\">https://wandb.ai/jooz-cave/unet-skin-lesion/sweeps/l9fcs25g</a>"
      ],
      "text/plain": [
       "<IPython.core.display.HTML object>"
      ]
     },
     "metadata": {},
     "output_type": "display_data"
    },
    {
     "data": {
      "text/html": [
       " View run at <a href='https://wandb.ai/jooz-cave/unet-skin-lesion/runs/3ipy8yib/workspace' target=\"_blank\">https://wandb.ai/jooz-cave/unet-skin-lesion/runs/3ipy8yib/workspace</a>"
      ],
      "text/plain": [
       "<IPython.core.display.HTML object>"
      ]
     },
     "metadata": {},
     "output_type": "display_data"
    },
    {
     "name": "stdout",
     "output_type": "stream",
     "text": [
      "Validation Loss: 0.8413571417331696\n",
      "Got 4677892/6553600 with acc 71.38\n",
      "Dice score: 0.0064071230590343475\n",
      "epoch: 0\n"
     ]
    },
    {
     "name": "stderr",
     "output_type": "stream",
     "text": [
      "100%|██████████| 41/41 [06:17<00:00,  9.21s/it, loss=0.335]\n"
     ]
    },
    {
     "name": "stdout",
     "output_type": "stream",
     "text": [
      "=> Saving checkpoint\n",
      "Validation Loss: 0.6920319497585297\n",
      "Got 5292145/6553600 with acc 80.75\n",
      "Dice score: 0.35937562584877014\n",
      "epoch: 1\n"
     ]
    },
    {
     "name": "stderr",
     "output_type": "stream",
     "text": [
      "100%|██████████| 41/41 [06:19<00:00,  9.27s/it, loss=0.249]\n"
     ]
    },
    {
     "name": "stdout",
     "output_type": "stream",
     "text": [
      "=> Saving checkpoint\n",
      "Validation Loss: 0.7040143013000488\n",
      "Got 5534262/6553600 with acc 84.45\n",
      "Dice score: 0.7301870584487915\n",
      "epoch: 2\n"
     ]
    },
    {
     "name": "stderr",
     "output_type": "stream",
     "text": [
      "100%|██████████| 41/41 [06:18<00:00,  9.23s/it, loss=0.193]\n"
     ]
    },
    {
     "name": "stdout",
     "output_type": "stream",
     "text": [
      "=> Saving checkpoint\n",
      "Validation Loss: 0.6563082635402679\n",
      "Got 5902762/6553600 with acc 90.07\n",
      "Dice score: 0.7486523985862732\n",
      "epoch: 3\n"
     ]
    },
    {
     "name": "stderr",
     "output_type": "stream",
     "text": [
      "100%|██████████| 41/41 [06:18<00:00,  9.22s/it, loss=0.161]\n"
     ]
    },
    {
     "name": "stdout",
     "output_type": "stream",
     "text": [
      "=> Saving checkpoint\n",
      "Validation Loss: 0.6469273865222931\n",
      "Got 5871803/6553600 with acc 89.60\n",
      "Dice score: 0.7270641922950745\n",
      "epoch: 4\n"
     ]
    },
    {
     "name": "stderr",
     "output_type": "stream",
     "text": [
      "100%|██████████| 41/41 [06:17<00:00,  9.21s/it, loss=0.18] \n"
     ]
    },
    {
     "name": "stdout",
     "output_type": "stream",
     "text": [
      "=> Saving checkpoint\n",
      "Validation Loss: 0.6578457951545715\n",
      "Got 5928101/6553600 with acc 90.46\n",
      "Dice score: 0.7873892784118652\n",
      "epoch: 5\n"
     ]
    },
    {
     "name": "stderr",
     "output_type": "stream",
     "text": [
      "100%|██████████| 41/41 [06:18<00:00,  9.24s/it, loss=0.136]\n"
     ]
    },
    {
     "name": "stdout",
     "output_type": "stream",
     "text": [
      "=> Saving checkpoint\n",
      "Validation Loss: 0.655024379491806\n",
      "Got 5948805/6553600 with acc 90.77\n",
      "Dice score: 0.8144931793212891\n",
      "epoch: 6\n"
     ]
    },
    {
     "name": "stderr",
     "output_type": "stream",
     "text": [
      "100%|██████████| 41/41 [06:18<00:00,  9.23s/it, loss=0.145]\n"
     ]
    },
    {
     "name": "stdout",
     "output_type": "stream",
     "text": [
      "=> Saving checkpoint\n",
      "Validation Loss: 0.6457432806491852\n",
      "Got 5925279/6553600 with acc 90.41\n",
      "Dice score: 0.7692012786865234\n",
      "epoch: 7\n"
     ]
    },
    {
     "name": "stderr",
     "output_type": "stream",
     "text": [
      "100%|██████████| 41/41 [06:17<00:00,  9.21s/it, loss=0.186]\n"
     ]
    },
    {
     "name": "stdout",
     "output_type": "stream",
     "text": [
      "=> Saving checkpoint\n",
      "Validation Loss: 0.6468261182308197\n",
      "Got 6021680/6553600 with acc 91.88\n",
      "Dice score: 0.8212592601776123\n",
      "epoch: 8\n"
     ]
    },
    {
     "name": "stderr",
     "output_type": "stream",
     "text": [
      "100%|██████████| 41/41 [06:18<00:00,  9.24s/it, loss=0.182]\n"
     ]
    },
    {
     "name": "stdout",
     "output_type": "stream",
     "text": [
      "=> Saving checkpoint\n",
      "Validation Loss: 0.6522958874702454\n",
      "Got 5965355/6553600 with acc 91.02\n",
      "Dice score: 0.821965217590332\n",
      "epoch: 9\n"
     ]
    },
    {
     "name": "stderr",
     "output_type": "stream",
     "text": [
      "100%|██████████| 41/41 [06:17<00:00,  9.21s/it, loss=0.194]\n"
     ]
    },
    {
     "name": "stdout",
     "output_type": "stream",
     "text": [
      "=> Saving checkpoint\n",
      "Validation Loss: 0.6434036791324615\n",
      "Got 6051750/6553600 with acc 92.34\n",
      "Dice score: 0.8365945219993591\n",
      "Test Loss: 0.6437329836189747\n",
      "Got 59421168/65536000 with acc 90.67\n",
      "Dice score: 0.8161274790763855\n"
     ]
    },
    {
     "data": {
      "text/html": [
       "<style>\n",
       "    table.wandb td:nth-child(1) { padding: 0 10px; text-align: left ; width: auto;} td:nth-child(2) {text-align: left ; width: 100%}\n",
       "    .wandb-row { display: flex; flex-direction: row; flex-wrap: wrap; justify-content: flex-start; width: 100% }\n",
       "    .wandb-col { display: flex; flex-direction: column; flex-basis: 100%; flex: 1; padding: 10px; }\n",
       "    </style>\n",
       "<div class=\"wandb-row\"><div class=\"wandb-col\"><h3>Run history:</h3><br/><table class=\"wandb\"><tr><td>Dice Score</td><td>▁▄▇▇▇██▇███</td></tr><tr><td>Pixel Accuracy</td><td>▁▄▅▇▇▇▇▇███</td></tr><tr><td>Test Dice Score</td><td>▁</td></tr><tr><td>Test Loss</td><td>▁</td></tr><tr><td>Test Pixel Accuracy</td><td>▁</td></tr><tr><td>Training Loss</td><td>█▇▆▆▇▄▄▄▂▃▃▄▃▁▂▂▂▂▃▁▃▂▂▁▃▂▂▁▁▂▂▃▂▁▁▂▂▁▁▁</td></tr><tr><td>Validation Loss</td><td>█▃▃▁▁▂▁▁▁▁▁</td></tr></table><br/></div><div class=\"wandb-col\"><h3>Run summary:</h3><br/><table class=\"wandb\"><tr><td>Dice Score</td><td>0.83659</td></tr><tr><td>MODEL</td><td>Segformer</td></tr><tr><td>Pixel Accuracy</td><td>92.34238</td></tr><tr><td>Test Dice Score</td><td>0.81613</td></tr><tr><td>Test Loss</td><td>0.64373</td></tr><tr><td>Test Pixel Accuracy</td><td>90.66951</td></tr><tr><td>Training Loss</td><td>0.19416</td></tr><tr><td>Validation Loss</td><td>0.6434</td></tr></table><br/></div></div>"
      ],
      "text/plain": [
       "<IPython.core.display.HTML object>"
      ]
     },
     "metadata": {},
     "output_type": "display_data"
    },
    {
     "data": {
      "text/html": [
       " View run <strong style=\"color:#cdcd00\">generous-sweep-5</strong> at: <a href='https://wandb.ai/jooz-cave/unet-skin-lesion/runs/3ipy8yib/workspace' target=\"_blank\">https://wandb.ai/jooz-cave/unet-skin-lesion/runs/3ipy8yib/workspace</a><br/>Synced 5 W&B file(s), 0 media file(s), 0 artifact file(s) and 0 other file(s)"
      ],
      "text/plain": [
       "<IPython.core.display.HTML object>"
      ]
     },
     "metadata": {},
     "output_type": "display_data"
    },
    {
     "data": {
      "text/html": [
       "Find logs at: <code>.\\wandb\\run-20240402_091923-3ipy8yib\\logs</code>"
      ],
      "text/plain": [
       "<IPython.core.display.HTML object>"
      ]
     },
     "metadata": {},
     "output_type": "display_data"
    },
    {
     "name": "stderr",
     "output_type": "stream",
     "text": [
      "\u001b[34m\u001b[1mwandb\u001b[0m: Agent Starting Run: t6b68sfb with config:\n",
      "\u001b[34m\u001b[1mwandb\u001b[0m: \tbatch_size: 64\n",
      "\u001b[34m\u001b[1mwandb\u001b[0m: \tdropout_rate: 0\n",
      "\u001b[34m\u001b[1mwandb\u001b[0m: \tepochs: 10\n",
      "\u001b[34m\u001b[1mwandb\u001b[0m: \tlearning_rate: 0.0001\n",
      "Failed to detect the name of this notebook, you can set it manually with the WANDB_NOTEBOOK_NAME environment variable to enable code saving.\n"
     ]
    },
    {
     "data": {
      "text/html": [
       "Tracking run with wandb version 0.16.5"
      ],
      "text/plain": [
       "<IPython.core.display.HTML object>"
      ]
     },
     "metadata": {},
     "output_type": "display_data"
    },
    {
     "data": {
      "text/html": [
       "Run data is saved locally in <code>c:\\Users\\jonta\\code\\school\\t8\\DeepLearning\\50.039-DL\\notebooks\\wandb\\run-20240402_102750-t6b68sfb</code>"
      ],
      "text/plain": [
       "<IPython.core.display.HTML object>"
      ]
     },
     "metadata": {},
     "output_type": "display_data"
    },
    {
     "data": {
      "text/html": [
       "Syncing run <strong><a href='https://wandb.ai/jooz-cave/unet-skin-lesion/runs/t6b68sfb/workspace' target=\"_blank\">grateful-sweep-6</a></strong> to <a href='https://wandb.ai/jooz-cave/unet-skin-lesion' target=\"_blank\">Weights & Biases</a> (<a href='https://wandb.me/run' target=\"_blank\">docs</a>)<br/>Sweep page: <a href='https://wandb.ai/jooz-cave/unet-skin-lesion/sweeps/l9fcs25g' target=\"_blank\">https://wandb.ai/jooz-cave/unet-skin-lesion/sweeps/l9fcs25g</a>"
      ],
      "text/plain": [
       "<IPython.core.display.HTML object>"
      ]
     },
     "metadata": {},
     "output_type": "display_data"
    },
    {
     "data": {
      "text/html": [
       " View project at <a href='https://wandb.ai/jooz-cave/unet-skin-lesion' target=\"_blank\">https://wandb.ai/jooz-cave/unet-skin-lesion</a>"
      ],
      "text/plain": [
       "<IPython.core.display.HTML object>"
      ]
     },
     "metadata": {},
     "output_type": "display_data"
    },
    {
     "data": {
      "text/html": [
       " View sweep at <a href='https://wandb.ai/jooz-cave/unet-skin-lesion/sweeps/l9fcs25g' target=\"_blank\">https://wandb.ai/jooz-cave/unet-skin-lesion/sweeps/l9fcs25g</a>"
      ],
      "text/plain": [
       "<IPython.core.display.HTML object>"
      ]
     },
     "metadata": {},
     "output_type": "display_data"
    },
    {
     "data": {
      "text/html": [
       " View run at <a href='https://wandb.ai/jooz-cave/unet-skin-lesion/runs/t6b68sfb/workspace' target=\"_blank\">https://wandb.ai/jooz-cave/unet-skin-lesion/runs/t6b68sfb/workspace</a>"
      ],
      "text/plain": [
       "<IPython.core.display.HTML object>"
      ]
     },
     "metadata": {},
     "output_type": "display_data"
    },
    {
     "name": "stdout",
     "output_type": "stream",
     "text": [
      "Validation Loss: 0.8513905107975006\n",
      "Got 1758566/6553600 with acc 26.83\n",
      "Dice score: 0.4133538603782654\n",
      "epoch: 0\n"
     ]
    },
    {
     "name": "stderr",
     "output_type": "stream",
     "text": [
      "100%|██████████| 41/41 [06:18<00:00,  9.22s/it, loss=0.358]\n"
     ]
    },
    {
     "name": "stdout",
     "output_type": "stream",
     "text": [
      "=> Saving checkpoint\n",
      "Validation Loss: 0.7101278603076935\n",
      "Got 5299933/6553600 with acc 80.87\n",
      "Dice score: 0.37159109115600586\n",
      "epoch: 1\n"
     ]
    },
    {
     "name": "stderr",
     "output_type": "stream",
     "text": [
      "100%|██████████| 41/41 [06:16<00:00,  9.18s/it, loss=0.373]\n"
     ]
    },
    {
     "name": "stdout",
     "output_type": "stream",
     "text": [
      "=> Saving checkpoint\n",
      "Validation Loss: 0.6863665282726288\n",
      "Got 5753812/6553600 with acc 87.80\n",
      "Dice score: 0.7521535158157349\n",
      "epoch: 2\n"
     ]
    },
    {
     "name": "stderr",
     "output_type": "stream",
     "text": [
      "100%|██████████| 41/41 [06:16<00:00,  9.17s/it, loss=0.266]\n"
     ]
    },
    {
     "name": "stdout",
     "output_type": "stream",
     "text": [
      "=> Saving checkpoint\n",
      "Validation Loss: 0.6589404046535492\n",
      "Got 5882167/6553600 with acc 89.75\n",
      "Dice score: 0.7401882410049438\n",
      "epoch: 3\n"
     ]
    },
    {
     "name": "stderr",
     "output_type": "stream",
     "text": [
      "100%|██████████| 41/41 [06:15<00:00,  9.16s/it, loss=0.273]\n"
     ]
    },
    {
     "name": "stdout",
     "output_type": "stream",
     "text": [
      "=> Saving checkpoint\n",
      "Validation Loss: 0.6756483018398285\n",
      "Got 5929392/6553600 with acc 90.48\n",
      "Dice score: 0.8019507527351379\n",
      "epoch: 4\n"
     ]
    },
    {
     "name": "stderr",
     "output_type": "stream",
     "text": [
      "100%|██████████| 41/41 [06:16<00:00,  9.18s/it, loss=0.181]\n"
     ]
    },
    {
     "name": "stdout",
     "output_type": "stream",
     "text": [
      "=> Saving checkpoint\n",
      "Validation Loss: 0.6696178615093231\n",
      "Got 5926267/6553600 with acc 90.43\n",
      "Dice score: 0.7873936891555786\n",
      "epoch: 5\n"
     ]
    },
    {
     "name": "stderr",
     "output_type": "stream",
     "text": [
      "100%|██████████| 41/41 [06:16<00:00,  9.18s/it, loss=0.179]\n"
     ]
    },
    {
     "name": "stdout",
     "output_type": "stream",
     "text": [
      "=> Saving checkpoint\n",
      "Validation Loss: 0.6491079032421112\n",
      "Got 5915967/6553600 with acc 90.27\n",
      "Dice score: 0.7611939311027527\n",
      "epoch: 6\n"
     ]
    },
    {
     "name": "stderr",
     "output_type": "stream",
     "text": [
      "100%|██████████| 41/41 [06:16<00:00,  9.19s/it, loss=0.209]\n"
     ]
    },
    {
     "name": "stdout",
     "output_type": "stream",
     "text": [
      "=> Saving checkpoint\n",
      "Validation Loss: 0.6694431602954865\n",
      "Got 5903761/6553600 with acc 90.08\n",
      "Dice score: 0.803839385509491\n",
      "epoch: 7\n"
     ]
    },
    {
     "name": "stderr",
     "output_type": "stream",
     "text": [
      "100%|██████████| 41/41 [06:16<00:00,  9.18s/it, loss=0.143]\n"
     ]
    },
    {
     "name": "stdout",
     "output_type": "stream",
     "text": [
      "=> Saving checkpoint\n",
      "Validation Loss: 0.6577337980270386\n",
      "Got 5947535/6553600 with acc 90.75\n",
      "Dice score: 0.810244083404541\n",
      "epoch: 8\n"
     ]
    },
    {
     "name": "stderr",
     "output_type": "stream",
     "text": [
      "100%|██████████| 41/41 [06:17<00:00,  9.22s/it, loss=0.224]\n"
     ]
    },
    {
     "name": "stdout",
     "output_type": "stream",
     "text": [
      "=> Saving checkpoint\n",
      "Validation Loss: 0.6487120985984802\n",
      "Got 6002620/6553600 with acc 91.59\n",
      "Dice score: 0.8210549354553223\n",
      "epoch: 9\n"
     ]
    },
    {
     "name": "stderr",
     "output_type": "stream",
     "text": [
      "100%|██████████| 41/41 [06:16<00:00,  9.19s/it, loss=0.15] \n"
     ]
    },
    {
     "name": "stdout",
     "output_type": "stream",
     "text": [
      "=> Saving checkpoint\n",
      "Validation Loss: 0.6462464034557343\n",
      "Got 5976122/6553600 with acc 91.19\n",
      "Dice score: 0.8003129363059998\n",
      "Test Loss: 0.6459634713828564\n",
      "Got 59004145/65536000 with acc 90.03\n",
      "Dice score: 0.7902271151542664\n"
     ]
    },
    {
     "data": {
      "text/html": [
       "<style>\n",
       "    table.wandb td:nth-child(1) { padding: 0 10px; text-align: left ; width: auto;} td:nth-child(2) {text-align: left ; width: 100%}\n",
       "    .wandb-row { display: flex; flex-direction: row; flex-wrap: wrap; justify-content: flex-start; width: 100% }\n",
       "    .wandb-col { display: flex; flex-direction: column; flex-basis: 100%; flex: 1; padding: 10px; }\n",
       "    </style>\n",
       "<div class=\"wandb-row\"><div class=\"wandb-col\"><h3>Run history:</h3><br/><table class=\"wandb\"><tr><td>Dice Score</td><td>▂▁▇▇█▇▇████</td></tr><tr><td>Pixel Accuracy</td><td>▁▇█████████</td></tr><tr><td>Test Dice Score</td><td>▁</td></tr><tr><td>Test Loss</td><td>▁</td></tr><tr><td>Test Pixel Accuracy</td><td>▁</td></tr><tr><td>Training Loss</td><td>▇█▇▇▅▄▄▂▃▂▂▃▃▃▃▂▂▃▄▂▃▂▃▂▂▂▃▃▂▂▂▂▃▁▂▂▂▁▁▂</td></tr><tr><td>Validation Loss</td><td>█▃▂▁▂▂▁▂▁▁▁</td></tr></table><br/></div><div class=\"wandb-col\"><h3>Run summary:</h3><br/><table class=\"wandb\"><tr><td>Dice Score</td><td>0.80031</td></tr><tr><td>MODEL</td><td>Segformer</td></tr><tr><td>Pixel Accuracy</td><td>91.18839</td></tr><tr><td>Test Dice Score</td><td>0.79023</td></tr><tr><td>Test Loss</td><td>0.64596</td></tr><tr><td>Test Pixel Accuracy</td><td>90.03319</td></tr><tr><td>Training Loss</td><td>0.14956</td></tr><tr><td>Validation Loss</td><td>0.64625</td></tr></table><br/></div></div>"
      ],
      "text/plain": [
       "<IPython.core.display.HTML object>"
      ]
     },
     "metadata": {},
     "output_type": "display_data"
    },
    {
     "data": {
      "text/html": [
       " View run <strong style=\"color:#cdcd00\">grateful-sweep-6</strong> at: <a href='https://wandb.ai/jooz-cave/unet-skin-lesion/runs/t6b68sfb/workspace' target=\"_blank\">https://wandb.ai/jooz-cave/unet-skin-lesion/runs/t6b68sfb/workspace</a><br/>Synced 5 W&B file(s), 0 media file(s), 0 artifact file(s) and 0 other file(s)"
      ],
      "text/plain": [
       "<IPython.core.display.HTML object>"
      ]
     },
     "metadata": {},
     "output_type": "display_data"
    },
    {
     "data": {
      "text/html": [
       "Find logs at: <code>.\\wandb\\run-20240402_102750-t6b68sfb\\logs</code>"
      ],
      "text/plain": [
       "<IPython.core.display.HTML object>"
      ]
     },
     "metadata": {},
     "output_type": "display_data"
    },
    {
     "name": "stderr",
     "output_type": "stream",
     "text": [
      "\u001b[34m\u001b[1mwandb\u001b[0m: Agent Starting Run: gcjet37p with config:\n",
      "\u001b[34m\u001b[1mwandb\u001b[0m: \tbatch_size: 64\n",
      "\u001b[34m\u001b[1mwandb\u001b[0m: \tdropout_rate: 0.2\n",
      "\u001b[34m\u001b[1mwandb\u001b[0m: \tepochs: 10\n",
      "\u001b[34m\u001b[1mwandb\u001b[0m: \tlearning_rate: 0.0001\n",
      "Failed to detect the name of this notebook, you can set it manually with the WANDB_NOTEBOOK_NAME environment variable to enable code saving.\n"
     ]
    },
    {
     "data": {
      "text/html": [
       "Tracking run with wandb version 0.16.5"
      ],
      "text/plain": [
       "<IPython.core.display.HTML object>"
      ]
     },
     "metadata": {},
     "output_type": "display_data"
    },
    {
     "data": {
      "text/html": [
       "Run data is saved locally in <code>c:\\Users\\jonta\\code\\school\\t8\\DeepLearning\\50.039-DL\\notebooks\\wandb\\run-20240402_113602-gcjet37p</code>"
      ],
      "text/plain": [
       "<IPython.core.display.HTML object>"
      ]
     },
     "metadata": {},
     "output_type": "display_data"
    },
    {
     "data": {
      "text/html": [
       "Syncing run <strong><a href='https://wandb.ai/jooz-cave/unet-skin-lesion/runs/gcjet37p/workspace' target=\"_blank\">upbeat-sweep-7</a></strong> to <a href='https://wandb.ai/jooz-cave/unet-skin-lesion' target=\"_blank\">Weights & Biases</a> (<a href='https://wandb.me/run' target=\"_blank\">docs</a>)<br/>Sweep page: <a href='https://wandb.ai/jooz-cave/unet-skin-lesion/sweeps/l9fcs25g' target=\"_blank\">https://wandb.ai/jooz-cave/unet-skin-lesion/sweeps/l9fcs25g</a>"
      ],
      "text/plain": [
       "<IPython.core.display.HTML object>"
      ]
     },
     "metadata": {},
     "output_type": "display_data"
    },
    {
     "data": {
      "text/html": [
       " View project at <a href='https://wandb.ai/jooz-cave/unet-skin-lesion' target=\"_blank\">https://wandb.ai/jooz-cave/unet-skin-lesion</a>"
      ],
      "text/plain": [
       "<IPython.core.display.HTML object>"
      ]
     },
     "metadata": {},
     "output_type": "display_data"
    },
    {
     "data": {
      "text/html": [
       " View sweep at <a href='https://wandb.ai/jooz-cave/unet-skin-lesion/sweeps/l9fcs25g' target=\"_blank\">https://wandb.ai/jooz-cave/unet-skin-lesion/sweeps/l9fcs25g</a>"
      ],
      "text/plain": [
       "<IPython.core.display.HTML object>"
      ]
     },
     "metadata": {},
     "output_type": "display_data"
    },
    {
     "data": {
      "text/html": [
       " View run at <a href='https://wandb.ai/jooz-cave/unet-skin-lesion/runs/gcjet37p/workspace' target=\"_blank\">https://wandb.ai/jooz-cave/unet-skin-lesion/runs/gcjet37p/workspace</a>"
      ],
      "text/plain": [
       "<IPython.core.display.HTML object>"
      ]
     },
     "metadata": {},
     "output_type": "display_data"
    },
    {
     "name": "stdout",
     "output_type": "stream",
     "text": [
      "Validation Loss: 0.8439280092716217\n",
      "Got 2878063/6553600 with acc 43.92\n",
      "Dice score: 0.08466240018606186\n",
      "epoch: 0\n"
     ]
    },
    {
     "name": "stderr",
     "output_type": "stream",
     "text": [
      "100%|██████████| 41/41 [06:17<00:00,  9.20s/it, loss=0.427]\n"
     ]
    },
    {
     "name": "stdout",
     "output_type": "stream",
     "text": [
      "=> Saving checkpoint\n",
      "Validation Loss: 0.6969355642795563\n",
      "Got 5488145/6553600 with acc 83.74\n",
      "Dice score: 0.5118834376335144\n",
      "epoch: 1\n"
     ]
    },
    {
     "name": "stderr",
     "output_type": "stream",
     "text": [
      "100%|██████████| 41/41 [06:16<00:00,  9.17s/it, loss=0.297]\n"
     ]
    },
    {
     "name": "stdout",
     "output_type": "stream",
     "text": [
      "=> Saving checkpoint\n",
      "Validation Loss: 0.6641743183135986\n",
      "Got 5853555/6553600 with acc 89.32\n",
      "Dice score: 0.7262358665466309\n",
      "epoch: 2\n"
     ]
    },
    {
     "name": "stderr",
     "output_type": "stream",
     "text": [
      "100%|██████████| 41/41 [06:16<00:00,  9.18s/it, loss=0.168]\n"
     ]
    },
    {
     "name": "stdout",
     "output_type": "stream",
     "text": [
      "=> Saving checkpoint\n",
      "Validation Loss: 0.6714895367622375\n",
      "Got 5848997/6553600 with acc 89.25\n",
      "Dice score: 0.7681164741516113\n",
      "epoch: 3\n"
     ]
    },
    {
     "name": "stderr",
     "output_type": "stream",
     "text": [
      "100%|██████████| 41/41 [06:18<00:00,  9.24s/it, loss=0.306]\n"
     ]
    },
    {
     "name": "stdout",
     "output_type": "stream",
     "text": [
      "=> Saving checkpoint\n",
      "Validation Loss: 0.6581641435623169\n",
      "Got 5904906/6553600 with acc 90.10\n",
      "Dice score: 0.7601460218429565\n",
      "epoch: 4\n"
     ]
    },
    {
     "name": "stderr",
     "output_type": "stream",
     "text": [
      " 27%|██▋       | 11/41 [01:46<05:17, 10.58s/it, loss=0.244]"
     ]
    }
   ],
   "source": [
    "wandb.agent(sweep_id, function=main)"
   ]
  }
 ],
 "metadata": {
  "kernelspec": {
   "display_name": "venv",
   "language": "python",
   "name": "python3"
  },
  "language_info": {
   "codemirror_mode": {
    "name": "ipython",
    "version": 3
   },
   "file_extension": ".py",
   "mimetype": "text/x-python",
   "name": "python",
   "nbconvert_exporter": "python",
   "pygments_lexer": "ipython3",
   "version": "3.10.13"
  }
 },
 "nbformat": 4,
 "nbformat_minor": 2
}
