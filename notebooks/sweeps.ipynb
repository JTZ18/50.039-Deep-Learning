{
 "cells": [
  {
   "cell_type": "code",
   "execution_count": 10,
   "metadata": {},
   "outputs": [],
   "source": [
    "import sys\n",
    "sys.path.append(\"..\")"
   ]
  },
  {
   "cell_type": "markdown",
   "metadata": {},
   "source": [
    "## Load Dataset"
   ]
  },
  {
   "cell_type": "code",
   "execution_count": 11,
   "metadata": {},
   "outputs": [
    {
     "name": "stderr",
     "output_type": "stream",
     "text": [
      "c:\\Users\\jonta\\code\\school\\t8\\DeepLearning\\50.039-DL\\venv\\lib\\site-packages\\datasets\\load.py:1461: FutureWarning: The repository for jtz18/skin-lesion contains custom code which must be executed to correctly load the dataset. You can inspect the repository content at https://hf.co/datasets/jtz18/skin-lesion\n",
      "You can avoid this message in future by passing the argument `trust_remote_code=True`.\n",
      "Passing `trust_remote_code=True` will be mandatory to load this dataset from the next major release of `datasets`.\n",
      "  warnings.warn(\n"
     ]
    }
   ],
   "source": [
    "from datasets import load_dataset\n",
    "\n",
    "# Load the dataset\n",
    "dataset = load_dataset(\"jtz18/skin-lesion\")"
   ]
  },
  {
   "cell_type": "markdown",
   "metadata": {},
   "source": [
    "## Seeding"
   ]
  },
  {
   "cell_type": "code",
   "execution_count": 12,
   "metadata": {},
   "outputs": [],
   "source": [
    "import torch\n",
    "import numpy as np\n",
    "import random\n",
    "import os\n",
    "\n",
    "def set_seed(seed):\n",
    "  random.seed(seed)\n",
    "  np.random.seed(seed)\n",
    "  torch.manual_seed(seed)\n",
    "  torch.cuda.manual_seed_all(seed)\n",
    "  os.environ['PYTHONHASHSEED'] = str(seed)\n",
    "\n",
    "  torch.backends.cudnn.deterministic = True\n",
    "  torch.backends.cudnn.benchmark = False\n",
    "\n",
    "set_seed(42)"
   ]
  },
  {
   "cell_type": "markdown",
   "metadata": {},
   "source": [
    "## Init Wandb"
   ]
  },
  {
   "cell_type": "code",
   "execution_count": 13,
   "metadata": {},
   "outputs": [
    {
     "name": "stdout",
     "output_type": "stream",
     "text": [
      "Create sweep with ID: yrz8av38\n",
      "Sweep URL: https://wandb.ai/jooz-cave/unet-skin-lesion/sweeps/yrz8av38\n"
     ]
    }
   ],
   "source": [
    "import wandb\n",
    "\n",
    "# Define sweep config\n",
    "sweep_configuration = {\n",
    "    \"name\": \"unet-sweep\",\n",
    "    \"method\": \"bayes\",\n",
    "    \"metric\": {\"goal\": \"maximize\", \"name\": \"Test Dice Score\"},\n",
    "    \"parameters\": {\n",
    "        \"learning_rate\": {\"values\": [0.0001, 0.001, 0.01, 0.1]},\n",
    "        \"batch_size\": {\"values\": [1, 2, 4, 8, 16, 32, 64]},\n",
    "        \"epochs\": {\"values\": [3]},\n",
    "        \"dropout_rate\": {\"values\": [0, 0.1, 0.2, 0.3, 0.4, 0.5]},\n",
    "        \"kernel_size\": {\"values\": [3, 5, 7]},\n",
    "    },\n",
    "}\n",
    "\n",
    "# Initialize sweep by passing in config.\n",
    "sweep_id = wandb.sweep(sweep=sweep_configuration, project=\"unet-skin-lesion\")"
   ]
  },
  {
   "cell_type": "code",
   "execution_count": 14,
   "metadata": {},
   "outputs": [],
   "source": [
    "# Hyperparameters etc.\n",
    "if torch.cuda.is_available():\n",
    "    device = torch.device(\"cuda\")\n",
    "elif torch.backends.mps.is_available():\n",
    "    device = torch.device(\"mps\")\n",
    "else:\n",
    "    device = torch.device(\"cpu\")\n",
    "\n",
    "DEVICE = device\n",
    "\n",
    "NUM_WORKERS = 0\n",
    "\n",
    "IMAGE_HEIGHT = 256\n",
    "IMAGE_WIDTH = 256\n",
    "\n",
    "PIN_MEMORY = True\n",
    "LOAD_MODEL = False\n",
    "CHECKPOINT_FILENAME = \"\"   # Model checkpoint filename if LOAD is True eg: checkpoints/checkpoint_9.pth.tar or None\n",
    "CLASS = \"task1\""
   ]
  },
  {
   "cell_type": "markdown",
   "metadata": {},
   "source": [
    "# Define Training Function"
   ]
  },
  {
   "cell_type": "code",
   "execution_count": 15,
   "metadata": {},
   "outputs": [],
   "source": [
    "from tqdm import tqdm\n",
    "def train_fn(loader, model, optimizer, loss_fn, scaler):\n",
    "    loop = tqdm(loader)\n",
    "\n",
    "    for batch_idx, (data, targets) in enumerate(loop):\n",
    "        data = data.to(device=DEVICE)\n",
    "        targets = targets.float().unsqueeze(1).to(device=DEVICE)\n",
    "\n",
    "        # forward\n",
    "        with torch.cuda.amp.autocast():\n",
    "            predictions = model(data)\n",
    "            loss = loss_fn(predictions, targets)\n",
    "            wandb.log({\"Training Loss\": loss})\n",
    "\n",
    "        # backward\n",
    "        optimizer.zero_grad()\n",
    "        scaler.scale(loss).backward()\n",
    "        scaler.step(optimizer)\n",
    "        scaler.update()\n",
    "\n",
    "        # update tqdm loop\n",
    "        loop.set_postfix(loss=loss.item())"
   ]
  },
  {
   "cell_type": "markdown",
   "metadata": {},
   "source": [
    "## Augmentations"
   ]
  },
  {
   "cell_type": "code",
   "execution_count": 16,
   "metadata": {},
   "outputs": [],
   "source": [
    "import albumentations as A\n",
    "from albumentations.pytorch import ToTensorV2\n",
    "from torch import nn\n",
    "from src.utils import *\n",
    "\n",
    "\n",
    "train_transform = A.Compose(\n",
    "    [\n",
    "        A.Resize(height=IMAGE_HEIGHT, width=IMAGE_WIDTH),\n",
    "        A.Rotate(limit=35, p=1.0),\n",
    "        A.HorizontalFlip(p=0.5),\n",
    "        A.VerticalFlip(p=0.1),\n",
    "        A.Normalize(\n",
    "            mean=[0.0, 0.0, 0.0],\n",
    "            std=[1.0, 1.0, 1.0],\n",
    "            max_pixel_value=255.0,\n",
    "        ),\n",
    "        ToTensorV2(),\n",
    "    ],\n",
    ")\n",
    "\n",
    "val_transforms = A.Compose(\n",
    "    [\n",
    "        A.Resize(height=IMAGE_HEIGHT, width=IMAGE_WIDTH),\n",
    "        A.Normalize(\n",
    "            mean=[0.0, 0.0, 0.0],\n",
    "            std=[1.0, 1.0, 1.0],\n",
    "            max_pixel_value=255.0,\n",
    "        ),\n",
    "        ToTensorV2(),\n",
    "    ],\n",
    ")"
   ]
  },
  {
   "cell_type": "markdown",
   "metadata": {},
   "source": [
    "## Training Loop"
   ]
  },
  {
   "cell_type": "code",
   "execution_count": 17,
   "metadata": {},
   "outputs": [],
   "source": [
    "from src.segFormer import Segformer\n",
    "from src.maluNet import MALUNet\n",
    "from src.unet import UNET\n",
    "\n",
    "def main():\n",
    "    run = wandb.init()\n",
    "\n",
    "    # note that we define values from `wandb.config`\n",
    "    # instead of defining hard values\n",
    "    LEARNING_RATE = wandb.config.learning_rate\n",
    "    BATCH_SIZE = wandb.config.batch_size\n",
    "    NUM_EPOCHS = wandb.config.epochs\n",
    "    DROPOUT_RATE = wandb.config.dropout_rate\n",
    "\n",
    "    # model = Segformer(dropout=DROPOUT_RATE).to(device)\n",
    "    model = UNET(dropout_rate=DROPOUT_RATE, kernel_size=wandb.config.kernel_size).to(device)\n",
    "    loss_fn = nn.BCEWithLogitsLoss()\n",
    "    optimizer = torch.optim.Adam(model.parameters(), lr=LEARNING_RATE)\n",
    "\n",
    "    wandb.log({\"MODEL\": model.__class__.__name__})\n",
    "\n",
    "\n",
    "    train_loader, val_loader, test_loader = get_loaders(\n",
    "        dataset,\n",
    "        BATCH_SIZE,\n",
    "        train_transform,\n",
    "        val_transforms,\n",
    "        NUM_WORKERS,\n",
    "        PIN_MEMORY,\n",
    "    )\n",
    "\n",
    "    start_epoch = 0\n",
    "    if LOAD_MODEL:\n",
    "        checkpoint = torch.load(CHECKPOINT_FILENAME)\n",
    "        model, optimizer, start_epoch = load_checkpoint(checkpoint, model, optimizer)\n",
    "\n",
    "\n",
    "\n",
    "    check_accuracy(val_loader, model, device=DEVICE, loss_fn=loss_fn)\n",
    "    scaler = torch.cuda.amp.GradScaler()\n",
    "\n",
    "    for epoch in range(start_epoch, NUM_EPOCHS):\n",
    "        print(f\"epoch: {epoch}\")\n",
    "        wandb.log({\"epoch\": epoch})\n",
    "        train_fn(train_loader, model, optimizer, loss_fn, scaler)\n",
    "\n",
    "        # save model\n",
    "        checkpoint = {\n",
    "            \"state_dict\": model.state_dict(),\n",
    "            \"optimizer\":optimizer.state_dict(),\n",
    "            \"epoch\": epoch,\n",
    "        }\n",
    "        save_checkpoint(checkpoint, filename=f\"checkpoint_{epoch}.pth.tar\")\n",
    "\n",
    "        # check accuracy\n",
    "        check_accuracy(val_loader, model, device=DEVICE, loss_fn=loss_fn)\n",
    "\n",
    "        # print some examples to a folder\n",
    "        save_predictions_as_imgs(\n",
    "            val_loader, model, folder=f\"saved_images/{epoch}\", device=DEVICE\n",
    "        )\n",
    "\n",
    "    # Final Evaluation Test\n",
    "    check_accuracy(test_loader, model, device=DEVICE, loss_fn=loss_fn, mode=\"test\")\n",
    "    run.finish()"
   ]
  },
  {
   "cell_type": "code",
   "execution_count": 18,
   "metadata": {},
   "outputs": [
    {
     "name": "stderr",
     "output_type": "stream",
     "text": [
      "\u001b[34m\u001b[1mwandb\u001b[0m: Agent Starting Run: pswqe8wg with config:\n",
      "\u001b[34m\u001b[1mwandb\u001b[0m: \tbatch_size: 4\n",
      "\u001b[34m\u001b[1mwandb\u001b[0m: \tdropout_rate: 0.3\n",
      "\u001b[34m\u001b[1mwandb\u001b[0m: \tepochs: 3\n",
      "\u001b[34m\u001b[1mwandb\u001b[0m: \tkernel_size: 7\n",
      "\u001b[34m\u001b[1mwandb\u001b[0m: \tlearning_rate: 0.1\n",
      "Failed to detect the name of this notebook, you can set it manually with the WANDB_NOTEBOOK_NAME environment variable to enable code saving.\n"
     ]
    },
    {
     "data": {
      "text/html": [
       "Tracking run with wandb version 0.16.5"
      ],
      "text/plain": [
       "<IPython.core.display.HTML object>"
      ]
     },
     "metadata": {},
     "output_type": "display_data"
    },
    {
     "data": {
      "text/html": [
       "Run data is saved locally in <code>c:\\Users\\jonta\\code\\school\\t8\\DeepLearning\\50.039-DL\\notebooks\\wandb\\run-20240403_015804-pswqe8wg</code>"
      ],
      "text/plain": [
       "<IPython.core.display.HTML object>"
      ]
     },
     "metadata": {},
     "output_type": "display_data"
    },
    {
     "data": {
      "text/html": [
       "Syncing run <strong><a href='https://wandb.ai/jooz-cave/unet-skin-lesion/runs/pswqe8wg/workspace' target=\"_blank\">lilac-sweep-1</a></strong> to <a href='https://wandb.ai/jooz-cave/unet-skin-lesion' target=\"_blank\">Weights & Biases</a> (<a href='https://wandb.me/run' target=\"_blank\">docs</a>)<br/>Sweep page: <a href='https://wandb.ai/jooz-cave/unet-skin-lesion/sweeps/yrz8av38' target=\"_blank\">https://wandb.ai/jooz-cave/unet-skin-lesion/sweeps/yrz8av38</a>"
      ],
      "text/plain": [
       "<IPython.core.display.HTML object>"
      ]
     },
     "metadata": {},
     "output_type": "display_data"
    },
    {
     "data": {
      "text/html": [
       " View project at <a href='https://wandb.ai/jooz-cave/unet-skin-lesion' target=\"_blank\">https://wandb.ai/jooz-cave/unet-skin-lesion</a>"
      ],
      "text/plain": [
       "<IPython.core.display.HTML object>"
      ]
     },
     "metadata": {},
     "output_type": "display_data"
    },
    {
     "data": {
      "text/html": [
       " View sweep at <a href='https://wandb.ai/jooz-cave/unet-skin-lesion/sweeps/yrz8av38' target=\"_blank\">https://wandb.ai/jooz-cave/unet-skin-lesion/sweeps/yrz8av38</a>"
      ],
      "text/plain": [
       "<IPython.core.display.HTML object>"
      ]
     },
     "metadata": {},
     "output_type": "display_data"
    },
    {
     "data": {
      "text/html": [
       " View run at <a href='https://wandb.ai/jooz-cave/unet-skin-lesion/runs/pswqe8wg/workspace' target=\"_blank\">https://wandb.ai/jooz-cave/unet-skin-lesion/runs/pswqe8wg/workspace</a>"
      ],
      "text/plain": [
       "<IPython.core.display.HTML object>"
      ]
     },
     "metadata": {},
     "output_type": "display_data"
    },
    {
     "data": {
      "text/html": [
       "<style>\n",
       "    table.wandb td:nth-child(1) { padding: 0 10px; text-align: left ; width: auto;} td:nth-child(2) {text-align: left ; width: 100%}\n",
       "    .wandb-row { display: flex; flex-direction: row; flex-wrap: wrap; justify-content: flex-start; width: 100% }\n",
       "    .wandb-col { display: flex; flex-direction: column; flex-basis: 100%; flex: 1; padding: 10px; }\n",
       "    </style>\n",
       "<div class=\"wandb-row\"><div class=\"wandb-col\"><h3>Run summary:</h3><br/><table class=\"wandb\"><tr><td>MODEL</td><td>UNET</td></tr></table><br/></div></div>"
      ],
      "text/plain": [
       "<IPython.core.display.HTML object>"
      ]
     },
     "metadata": {},
     "output_type": "display_data"
    },
    {
     "data": {
      "text/html": [
       " View run <strong style=\"color:#cdcd00\">lilac-sweep-1</strong> at: <a href='https://wandb.ai/jooz-cave/unet-skin-lesion/runs/pswqe8wg/workspace' target=\"_blank\">https://wandb.ai/jooz-cave/unet-skin-lesion/runs/pswqe8wg/workspace</a><br/>Synced 4 W&B file(s), 0 media file(s), 0 artifact file(s) and 0 other file(s)"
      ],
      "text/plain": [
       "<IPython.core.display.HTML object>"
      ]
     },
     "metadata": {},
     "output_type": "display_data"
    },
    {
     "data": {
      "text/html": [
       "Find logs at: <code>.\\wandb\\run-20240403_015804-pswqe8wg\\logs</code>"
      ],
      "text/plain": [
       "<IPython.core.display.HTML object>"
      ]
     },
     "metadata": {},
     "output_type": "display_data"
    },
    {
     "name": "stderr",
     "output_type": "stream",
     "text": [
      "Run pswqe8wg errored:\n",
      "Traceback (most recent call last):\n",
      "  File \"c:\\Users\\jonta\\code\\school\\t8\\DeepLearning\\50.039-DL\\venv\\lib\\site-packages\\wandb\\agents\\pyagent.py\", line 308, in _run_job\n",
      "    self._function()\n",
      "  File \"C:\\Users\\jonta\\AppData\\Local\\Temp\\ipykernel_39072\\3284872603.py\", line 39, in main\n",
      "    check_accuracy(val_loader, model, device=DEVICE, loss_fn=loss_fn)\n",
      "  File \"c:\\Users\\jonta\\code\\school\\t8\\DeepLearning\\50.039-DL\\notebooks\\..\\src\\utils.py\", line 123, in check_accuracy\n",
      "    preds = torch.sigmoid(model(x))\n",
      "  File \"c:\\Users\\jonta\\code\\school\\t8\\DeepLearning\\50.039-DL\\venv\\lib\\site-packages\\torch\\nn\\modules\\module.py\", line 1511, in _wrapped_call_impl\n",
      "    return self._call_impl(*args, **kwargs)\n",
      "  File \"c:\\Users\\jonta\\code\\school\\t8\\DeepLearning\\50.039-DL\\venv\\lib\\site-packages\\torch\\nn\\modules\\module.py\", line 1520, in _call_impl\n",
      "    return forward_call(*args, **kwargs)\n",
      "  File \"c:\\Users\\jonta\\code\\school\\t8\\DeepLearning\\50.039-DL\\notebooks\\..\\src\\unet.py\", line 56, in forward\n",
      "    x = self.bottleneck(x)\n",
      "  File \"c:\\Users\\jonta\\code\\school\\t8\\DeepLearning\\50.039-DL\\venv\\lib\\site-packages\\torch\\nn\\modules\\module.py\", line 1511, in _wrapped_call_impl\n",
      "    return self._call_impl(*args, **kwargs)\n",
      "  File \"c:\\Users\\jonta\\code\\school\\t8\\DeepLearning\\50.039-DL\\venv\\lib\\site-packages\\torch\\nn\\modules\\module.py\", line 1520, in _call_impl\n",
      "    return forward_call(*args, **kwargs)\n",
      "  File \"c:\\Users\\jonta\\code\\school\\t8\\DeepLearning\\50.039-DL\\notebooks\\..\\src\\unet.py\", line 20, in forward\n",
      "    return self.conv(x)\n",
      "  File \"c:\\Users\\jonta\\code\\school\\t8\\DeepLearning\\50.039-DL\\venv\\lib\\site-packages\\torch\\nn\\modules\\module.py\", line 1511, in _wrapped_call_impl\n",
      "    return self._call_impl(*args, **kwargs)\n",
      "  File \"c:\\Users\\jonta\\code\\school\\t8\\DeepLearning\\50.039-DL\\venv\\lib\\site-packages\\torch\\nn\\modules\\module.py\", line 1520, in _call_impl\n",
      "    return forward_call(*args, **kwargs)\n",
      "  File \"c:\\Users\\jonta\\code\\school\\t8\\DeepLearning\\50.039-DL\\venv\\lib\\site-packages\\torch\\nn\\modules\\container.py\", line 217, in forward\n",
      "    input = module(input)\n",
      "  File \"c:\\Users\\jonta\\code\\school\\t8\\DeepLearning\\50.039-DL\\venv\\lib\\site-packages\\torch\\nn\\modules\\module.py\", line 1511, in _wrapped_call_impl\n",
      "    return self._call_impl(*args, **kwargs)\n",
      "  File \"c:\\Users\\jonta\\code\\school\\t8\\DeepLearning\\50.039-DL\\venv\\lib\\site-packages\\torch\\nn\\modules\\module.py\", line 1520, in _call_impl\n",
      "    return forward_call(*args, **kwargs)\n",
      "  File \"c:\\Users\\jonta\\code\\school\\t8\\DeepLearning\\50.039-DL\\venv\\lib\\site-packages\\torch\\nn\\modules\\conv.py\", line 460, in forward\n",
      "    return self._conv_forward(input, self.weight, self.bias)\n",
      "  File \"c:\\Users\\jonta\\code\\school\\t8\\DeepLearning\\50.039-DL\\venv\\lib\\site-packages\\torch\\nn\\modules\\conv.py\", line 456, in _conv_forward\n",
      "    return F.conv2d(input, weight, bias, self.stride,\n",
      "RuntimeError: Calculated padded input size per channel: (6 x 6). Kernel size: (7 x 7). Kernel size can't be greater than actual input size\n",
      "\n",
      "\u001b[34m\u001b[1mwandb\u001b[0m: \u001b[32m\u001b[41mERROR\u001b[0m Run pswqe8wg errored:\n",
      "\u001b[34m\u001b[1mwandb\u001b[0m: \u001b[32m\u001b[41mERROR\u001b[0m Traceback (most recent call last):\n",
      "\u001b[34m\u001b[1mwandb\u001b[0m: \u001b[32m\u001b[41mERROR\u001b[0m   File \"c:\\Users\\jonta\\code\\school\\t8\\DeepLearning\\50.039-DL\\venv\\lib\\site-packages\\wandb\\agents\\pyagent.py\", line 308, in _run_job\n",
      "\u001b[34m\u001b[1mwandb\u001b[0m: \u001b[32m\u001b[41mERROR\u001b[0m     self._function()\n",
      "\u001b[34m\u001b[1mwandb\u001b[0m: \u001b[32m\u001b[41mERROR\u001b[0m   File \"C:\\Users\\jonta\\AppData\\Local\\Temp\\ipykernel_39072\\3284872603.py\", line 39, in main\n",
      "\u001b[34m\u001b[1mwandb\u001b[0m: \u001b[32m\u001b[41mERROR\u001b[0m     check_accuracy(val_loader, model, device=DEVICE, loss_fn=loss_fn)\n",
      "\u001b[34m\u001b[1mwandb\u001b[0m: \u001b[32m\u001b[41mERROR\u001b[0m   File \"c:\\Users\\jonta\\code\\school\\t8\\DeepLearning\\50.039-DL\\notebooks\\..\\src\\utils.py\", line 123, in check_accuracy\n",
      "\u001b[34m\u001b[1mwandb\u001b[0m: \u001b[32m\u001b[41mERROR\u001b[0m     preds = torch.sigmoid(model(x))\n",
      "\u001b[34m\u001b[1mwandb\u001b[0m: \u001b[32m\u001b[41mERROR\u001b[0m   File \"c:\\Users\\jonta\\code\\school\\t8\\DeepLearning\\50.039-DL\\venv\\lib\\site-packages\\torch\\nn\\modules\\module.py\", line 1511, in _wrapped_call_impl\n",
      "\u001b[34m\u001b[1mwandb\u001b[0m: \u001b[32m\u001b[41mERROR\u001b[0m     return self._call_impl(*args, **kwargs)\n",
      "\u001b[34m\u001b[1mwandb\u001b[0m: \u001b[32m\u001b[41mERROR\u001b[0m   File \"c:\\Users\\jonta\\code\\school\\t8\\DeepLearning\\50.039-DL\\venv\\lib\\site-packages\\torch\\nn\\modules\\module.py\", line 1520, in _call_impl\n",
      "\u001b[34m\u001b[1mwandb\u001b[0m: \u001b[32m\u001b[41mERROR\u001b[0m     return forward_call(*args, **kwargs)\n",
      "\u001b[34m\u001b[1mwandb\u001b[0m: \u001b[32m\u001b[41mERROR\u001b[0m   File \"c:\\Users\\jonta\\code\\school\\t8\\DeepLearning\\50.039-DL\\notebooks\\..\\src\\unet.py\", line 56, in forward\n",
      "\u001b[34m\u001b[1mwandb\u001b[0m: \u001b[32m\u001b[41mERROR\u001b[0m     x = self.bottleneck(x)\n",
      "\u001b[34m\u001b[1mwandb\u001b[0m: \u001b[32m\u001b[41mERROR\u001b[0m   File \"c:\\Users\\jonta\\code\\school\\t8\\DeepLearning\\50.039-DL\\venv\\lib\\site-packages\\torch\\nn\\modules\\module.py\", line 1511, in _wrapped_call_impl\n",
      "\u001b[34m\u001b[1mwandb\u001b[0m: \u001b[32m\u001b[41mERROR\u001b[0m     return self._call_impl(*args, **kwargs)\n",
      "\u001b[34m\u001b[1mwandb\u001b[0m: \u001b[32m\u001b[41mERROR\u001b[0m   File \"c:\\Users\\jonta\\code\\school\\t8\\DeepLearning\\50.039-DL\\venv\\lib\\site-packages\\torch\\nn\\modules\\module.py\", line 1520, in _call_impl\n",
      "\u001b[34m\u001b[1mwandb\u001b[0m: \u001b[32m\u001b[41mERROR\u001b[0m     return forward_call(*args, **kwargs)\n",
      "\u001b[34m\u001b[1mwandb\u001b[0m: \u001b[32m\u001b[41mERROR\u001b[0m   File \"c:\\Users\\jonta\\code\\school\\t8\\DeepLearning\\50.039-DL\\notebooks\\..\\src\\unet.py\", line 20, in forward\n",
      "\u001b[34m\u001b[1mwandb\u001b[0m: \u001b[32m\u001b[41mERROR\u001b[0m     return self.conv(x)\n",
      "\u001b[34m\u001b[1mwandb\u001b[0m: \u001b[32m\u001b[41mERROR\u001b[0m   File \"c:\\Users\\jonta\\code\\school\\t8\\DeepLearning\\50.039-DL\\venv\\lib\\site-packages\\torch\\nn\\modules\\module.py\", line 1511, in _wrapped_call_impl\n",
      "\u001b[34m\u001b[1mwandb\u001b[0m: \u001b[32m\u001b[41mERROR\u001b[0m     return self._call_impl(*args, **kwargs)\n",
      "\u001b[34m\u001b[1mwandb\u001b[0m: \u001b[32m\u001b[41mERROR\u001b[0m   File \"c:\\Users\\jonta\\code\\school\\t8\\DeepLearning\\50.039-DL\\venv\\lib\\site-packages\\torch\\nn\\modules\\module.py\", line 1520, in _call_impl\n",
      "\u001b[34m\u001b[1mwandb\u001b[0m: \u001b[32m\u001b[41mERROR\u001b[0m     return forward_call(*args, **kwargs)\n",
      "\u001b[34m\u001b[1mwandb\u001b[0m: \u001b[32m\u001b[41mERROR\u001b[0m   File \"c:\\Users\\jonta\\code\\school\\t8\\DeepLearning\\50.039-DL\\venv\\lib\\site-packages\\torch\\nn\\modules\\container.py\", line 217, in forward\n",
      "\u001b[34m\u001b[1mwandb\u001b[0m: \u001b[32m\u001b[41mERROR\u001b[0m     input = module(input)\n",
      "\u001b[34m\u001b[1mwandb\u001b[0m: \u001b[32m\u001b[41mERROR\u001b[0m   File \"c:\\Users\\jonta\\code\\school\\t8\\DeepLearning\\50.039-DL\\venv\\lib\\site-packages\\torch\\nn\\modules\\module.py\", line 1511, in _wrapped_call_impl\n",
      "\u001b[34m\u001b[1mwandb\u001b[0m: \u001b[32m\u001b[41mERROR\u001b[0m     return self._call_impl(*args, **kwargs)\n",
      "\u001b[34m\u001b[1mwandb\u001b[0m: \u001b[32m\u001b[41mERROR\u001b[0m   File \"c:\\Users\\jonta\\code\\school\\t8\\DeepLearning\\50.039-DL\\venv\\lib\\site-packages\\torch\\nn\\modules\\module.py\", line 1520, in _call_impl\n",
      "\u001b[34m\u001b[1mwandb\u001b[0m: \u001b[32m\u001b[41mERROR\u001b[0m     return forward_call(*args, **kwargs)\n",
      "\u001b[34m\u001b[1mwandb\u001b[0m: \u001b[32m\u001b[41mERROR\u001b[0m   File \"c:\\Users\\jonta\\code\\school\\t8\\DeepLearning\\50.039-DL\\venv\\lib\\site-packages\\torch\\nn\\modules\\conv.py\", line 460, in forward\n",
      "\u001b[34m\u001b[1mwandb\u001b[0m: \u001b[32m\u001b[41mERROR\u001b[0m     return self._conv_forward(input, self.weight, self.bias)\n",
      "\u001b[34m\u001b[1mwandb\u001b[0m: \u001b[32m\u001b[41mERROR\u001b[0m   File \"c:\\Users\\jonta\\code\\school\\t8\\DeepLearning\\50.039-DL\\venv\\lib\\site-packages\\torch\\nn\\modules\\conv.py\", line 456, in _conv_forward\n",
      "\u001b[34m\u001b[1mwandb\u001b[0m: \u001b[32m\u001b[41mERROR\u001b[0m     return F.conv2d(input, weight, bias, self.stride,\n",
      "\u001b[34m\u001b[1mwandb\u001b[0m: \u001b[32m\u001b[41mERROR\u001b[0m RuntimeError: Calculated padded input size per channel: (6 x 6). Kernel size: (7 x 7). Kernel size can't be greater than actual input size\n",
      "\u001b[34m\u001b[1mwandb\u001b[0m: \u001b[32m\u001b[41mERROR\u001b[0m \n",
      "\u001b[34m\u001b[1mwandb\u001b[0m: Agent Starting Run: 4bh6v9f8 with config:\n",
      "\u001b[34m\u001b[1mwandb\u001b[0m: \tbatch_size: 32\n",
      "\u001b[34m\u001b[1mwandb\u001b[0m: \tdropout_rate: 0.2\n",
      "\u001b[34m\u001b[1mwandb\u001b[0m: \tepochs: 3\n",
      "\u001b[34m\u001b[1mwandb\u001b[0m: \tkernel_size: 3\n",
      "\u001b[34m\u001b[1mwandb\u001b[0m: \tlearning_rate: 0.01\n",
      "Failed to detect the name of this notebook, you can set it manually with the WANDB_NOTEBOOK_NAME environment variable to enable code saving.\n"
     ]
    },
    {
     "data": {
      "text/html": [
       "Tracking run with wandb version 0.16.5"
      ],
      "text/plain": [
       "<IPython.core.display.HTML object>"
      ]
     },
     "metadata": {},
     "output_type": "display_data"
    },
    {
     "data": {
      "text/html": [
       "Run data is saved locally in <code>c:\\Users\\jonta\\code\\school\\t8\\DeepLearning\\50.039-DL\\notebooks\\wandb\\run-20240403_015821-4bh6v9f8</code>"
      ],
      "text/plain": [
       "<IPython.core.display.HTML object>"
      ]
     },
     "metadata": {},
     "output_type": "display_data"
    },
    {
     "data": {
      "text/html": [
       "Syncing run <strong><a href='https://wandb.ai/jooz-cave/unet-skin-lesion/runs/4bh6v9f8/workspace' target=\"_blank\">chocolate-sweep-2</a></strong> to <a href='https://wandb.ai/jooz-cave/unet-skin-lesion' target=\"_blank\">Weights & Biases</a> (<a href='https://wandb.me/run' target=\"_blank\">docs</a>)<br/>Sweep page: <a href='https://wandb.ai/jooz-cave/unet-skin-lesion/sweeps/yrz8av38' target=\"_blank\">https://wandb.ai/jooz-cave/unet-skin-lesion/sweeps/yrz8av38</a>"
      ],
      "text/plain": [
       "<IPython.core.display.HTML object>"
      ]
     },
     "metadata": {},
     "output_type": "display_data"
    },
    {
     "data": {
      "text/html": [
       " View project at <a href='https://wandb.ai/jooz-cave/unet-skin-lesion' target=\"_blank\">https://wandb.ai/jooz-cave/unet-skin-lesion</a>"
      ],
      "text/plain": [
       "<IPython.core.display.HTML object>"
      ]
     },
     "metadata": {},
     "output_type": "display_data"
    },
    {
     "data": {
      "text/html": [
       " View sweep at <a href='https://wandb.ai/jooz-cave/unet-skin-lesion/sweeps/yrz8av38' target=\"_blank\">https://wandb.ai/jooz-cave/unet-skin-lesion/sweeps/yrz8av38</a>"
      ],
      "text/plain": [
       "<IPython.core.display.HTML object>"
      ]
     },
     "metadata": {},
     "output_type": "display_data"
    },
    {
     "data": {
      "text/html": [
       " View run at <a href='https://wandb.ai/jooz-cave/unet-skin-lesion/runs/4bh6v9f8/workspace' target=\"_blank\">https://wandb.ai/jooz-cave/unet-skin-lesion/runs/4bh6v9f8/workspace</a>"
      ],
      "text/plain": [
       "<IPython.core.display.HTML object>"
      ]
     },
     "metadata": {},
     "output_type": "display_data"
    },
    {
     "name": "stdout",
     "output_type": "stream",
     "text": [
      "Validation Loss: 0.8480826616287231\n",
      "Got 4627214/6553600 with acc 70.61\n",
      "Dice score: 0.5926533937454224\n",
      "epoch: 0\n"
     ]
    },
    {
     "name": "stderr",
     "output_type": "stream",
     "text": [
      "100%|██████████| 82/82 [07:23<00:00,  5.41s/it, loss=0.875]\n"
     ]
    },
    {
     "name": "stdout",
     "output_type": "stream",
     "text": [
      "=> Saving checkpoint\n",
      "Validation Loss: 0.679804190993309\n",
      "Got 5443701/6553600 with acc 83.06\n",
      "Dice score: 0.6067339181900024\n",
      "epoch: 1\n"
     ]
    },
    {
     "name": "stderr",
     "output_type": "stream",
     "text": [
      " 15%|█▍        | 12/82 [01:00<06:25,  5.51s/it, loss=0.294]"
     ]
    }
   ],
   "source": [
    "wandb.agent(sweep_id, function=main)"
   ]
  }
 ],
 "metadata": {
  "kernelspec": {
   "display_name": "venv",
   "language": "python",
   "name": "python3"
  },
  "language_info": {
   "codemirror_mode": {
    "name": "ipython",
    "version": 3
   },
   "file_extension": ".py",
   "mimetype": "text/x-python",
   "name": "python",
   "nbconvert_exporter": "python",
   "pygments_lexer": "ipython3",
   "version": "3.10.13"
  }
 },
 "nbformat": 4,
 "nbformat_minor": 2
}
