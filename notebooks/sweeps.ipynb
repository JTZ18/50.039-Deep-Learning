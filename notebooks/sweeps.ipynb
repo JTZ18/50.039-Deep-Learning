{
 "cells": [
  {
   "cell_type": "code",
   "execution_count": 1,
   "metadata": {},
   "outputs": [],
   "source": [
    "import sys\n",
    "sys.path.append(\"..\")"
   ]
  },
  {
   "cell_type": "markdown",
   "metadata": {},
   "source": [
    "## Load Dataset"
   ]
  },
  {
   "cell_type": "code",
   "execution_count": 2,
   "metadata": {},
   "outputs": [
    {
     "name": "stderr",
     "output_type": "stream",
     "text": [
      "c:\\Users\\jonta\\code\\school\\t8\\DeepLearning\\50.039-DL\\venv\\lib\\site-packages\\tqdm\\auto.py:21: TqdmWarning: IProgress not found. Please update jupyter and ipywidgets. See https://ipywidgets.readthedocs.io/en/stable/user_install.html\n",
      "  from .autonotebook import tqdm as notebook_tqdm\n",
      "c:\\Users\\jonta\\code\\school\\t8\\DeepLearning\\50.039-DL\\venv\\lib\\site-packages\\datasets\\load.py:1461: FutureWarning: The repository for jtz18/skin-lesion contains custom code which must be executed to correctly load the dataset. You can inspect the repository content at https://hf.co/datasets/jtz18/skin-lesion\n",
      "You can avoid this message in future by passing the argument `trust_remote_code=True`.\n",
      "Passing `trust_remote_code=True` will be mandatory to load this dataset from the next major release of `datasets`.\n",
      "  warnings.warn(\n"
     ]
    }
   ],
   "source": [
    "from datasets import load_dataset\n",
    "\n",
    "# Load the dataset\n",
    "dataset = load_dataset(\"jtz18/skin-lesion\")"
   ]
  },
  {
   "cell_type": "markdown",
   "metadata": {},
   "source": [
    "## Seeding"
   ]
  },
  {
   "cell_type": "code",
   "execution_count": 3,
   "metadata": {},
   "outputs": [],
   "source": [
    "import torch\n",
    "import numpy as np\n",
    "import random\n",
    "import os\n",
    "\n",
    "def set_seed(seed):\n",
    "  random.seed(seed)\n",
    "  np.random.seed(seed)\n",
    "  torch.manual_seed(seed)\n",
    "  torch.cuda.manual_seed_all(seed)\n",
    "  os.environ['PYTHONHASHSEED'] = str(seed)\n",
    "\n",
    "  torch.backends.cudnn.deterministic = True\n",
    "  torch.backends.cudnn.benchmark = False\n",
    "\n",
    "set_seed(42)"
   ]
  },
  {
   "cell_type": "markdown",
   "metadata": {},
   "source": [
    "## Init Wandb"
   ]
  },
  {
   "cell_type": "code",
   "execution_count": 4,
   "metadata": {},
   "outputs": [
    {
     "name": "stderr",
     "output_type": "stream",
     "text": [
      "Failed to detect the name of this notebook, you can set it manually with the WANDB_NOTEBOOK_NAME environment variable to enable code saving.\n"
     ]
    },
    {
     "name": "stdout",
     "output_type": "stream",
     "text": [
      "Create sweep with ID: qjjguvd6\n",
      "Sweep URL: https://wandb.ai/jooz-cave/unet-skin-lesion/sweeps/qjjguvd6\n"
     ]
    }
   ],
   "source": [
    "import wandb\n",
    "\n",
    "# Define sweep config\n",
    "sweep_configuration = {\n",
    "    \"name\": \"unet-sweep\",\n",
    "    \"method\": \"bayes\",\n",
    "    \"metric\": {\"goal\": \"maximize\", \"name\": \"Test Dice Score\"},\n",
    "    \"parameters\": {\n",
    "        \"learning_rate\": {\"values\": [0.0001, 0.001, 0.01]},\n",
    "        \"batch_size\": {\"values\": [4, 8, 16, 32, 64]},\n",
    "        \"epochs\": {\"values\": [3]},\n",
    "        \"dropout_rate\": {\"values\": [0, 0.1, 0.2, 0.3]},\n",
    "        # \"embedding_and_heads\": {\"values\": [(256, 8), (512, 8), (512, 16), (768, 12), (1024, 16), (1024, 32), (2048, 32)]},\n",
    "        \"kernel_size\": {\"values\": [3, 5, 7]},\n",
    "    },\n",
    "}\n",
    "\n",
    "# Initialize sweep by passing in config.\n",
    "sweep_id = wandb.sweep(sweep=sweep_configuration, project=\"unet-skin-lesion\")"
   ]
  },
  {
   "cell_type": "code",
   "execution_count": 5,
   "metadata": {},
   "outputs": [],
   "source": [
    "# Hyperparameters etc.\n",
    "if torch.cuda.is_available():\n",
    "    device = torch.device(\"cuda\")\n",
    "elif torch.backends.mps.is_available():\n",
    "    device = torch.device(\"mps\")\n",
    "else:\n",
    "    device = torch.device(\"cpu\")\n",
    "\n",
    "DEVICE = device\n",
    "\n",
    "NUM_WORKERS = 0\n",
    "\n",
    "IMAGE_HEIGHT = 256\n",
    "IMAGE_WIDTH = 256\n",
    "\n",
    "PIN_MEMORY = True\n",
    "LOAD_MODEL = False\n",
    "CHECKPOINT_FILENAME = \"\"   # Model checkpoint filename if LOAD is True eg: checkpoints/checkpoint_9.pth.tar or None\n",
    "CLASS = \"task1\""
   ]
  },
  {
   "cell_type": "markdown",
   "metadata": {},
   "source": [
    "# Define Training Function"
   ]
  },
  {
   "cell_type": "code",
   "execution_count": 6,
   "metadata": {},
   "outputs": [],
   "source": [
    "from tqdm import tqdm\n",
    "def train_fn(loader, model, optimizer, loss_fn, scaler):\n",
    "    loop = tqdm(loader)\n",
    "\n",
    "    for batch_idx, (data, targets) in enumerate(loop):\n",
    "        data = data.to(device=DEVICE)\n",
    "        targets = targets.float().unsqueeze(1).to(device=DEVICE)\n",
    "\n",
    "        # forward\n",
    "        with torch.cuda.amp.autocast():\n",
    "            predictions = model(data)\n",
    "            loss = loss_fn(predictions, targets)\n",
    "            wandb.log({\"Training Loss\": loss})\n",
    "\n",
    "        # backward\n",
    "        optimizer.zero_grad()\n",
    "        scaler.scale(loss).backward()\n",
    "        scaler.step(optimizer)\n",
    "        scaler.update()\n",
    "\n",
    "        # update tqdm loop\n",
    "        loop.set_postfix(loss=loss.item())"
   ]
  },
  {
   "cell_type": "markdown",
   "metadata": {},
   "source": [
    "## Augmentations"
   ]
  },
  {
   "cell_type": "code",
   "execution_count": 7,
   "metadata": {},
   "outputs": [],
   "source": [
    "import albumentations as A\n",
    "from albumentations.pytorch import ToTensorV2\n",
    "from torch import nn\n",
    "from src.utils import *\n",
    "\n",
    "\n",
    "train_transform = A.Compose(\n",
    "    [\n",
    "        A.Resize(height=IMAGE_HEIGHT, width=IMAGE_WIDTH),\n",
    "        A.Rotate(limit=35, p=1.0),\n",
    "        A.HorizontalFlip(p=0.5),\n",
    "        A.VerticalFlip(p=0.1),\n",
    "        A.Normalize(\n",
    "            mean=[0.0, 0.0, 0.0],\n",
    "            std=[1.0, 1.0, 1.0],\n",
    "            max_pixel_value=255.0,\n",
    "        ),\n",
    "        ToTensorV2(),\n",
    "    ],\n",
    ")\n",
    "\n",
    "val_transforms = A.Compose(\n",
    "    [\n",
    "        A.Resize(height=IMAGE_HEIGHT, width=IMAGE_WIDTH),\n",
    "        A.Normalize(\n",
    "            mean=[0.0, 0.0, 0.0],\n",
    "            std=[1.0, 1.0, 1.0],\n",
    "            max_pixel_value=255.0,\n",
    "        ),\n",
    "        ToTensorV2(),\n",
    "    ],\n",
    ")"
   ]
  },
  {
   "cell_type": "markdown",
   "metadata": {},
   "source": [
    "## Training Loop"
   ]
  },
  {
   "cell_type": "code",
   "execution_count": 8,
   "metadata": {},
   "outputs": [
    {
     "name": "stdout",
     "output_type": "stream",
     "text": [
      "torch.Size([1, 1, 224, 224])\n"
     ]
    }
   ],
   "source": [
    "# from src.segFormer import Segformer\n",
    "from src.segFormer2 import SegFormer\n",
    "from src.maluNet import MALUNet\n",
    "from src.unet import UNET\n",
    "from src.unetr import UNETR\n",
    "from src.utils.utils import *\n",
    "\n",
    "def main():\n",
    "    run = wandb.init()\n",
    "\n",
    "    # note that we define values from `wandb.config`\n",
    "    # instead of defining hard values\n",
    "    LEARNING_RATE = wandb.config.learning_rate\n",
    "    BATCH_SIZE = wandb.config.batch_size\n",
    "    NUM_EPOCHS = wandb.config.epochs\n",
    "    DROPOUT_RATE = wandb.config.dropout_rate\n",
    "\n",
    "    # model = Segformer(dropout=DROPOUT_RATE).to(device)\n",
    "    model = UNET(dropout_rate=DROPOUT_RATE, kernel_size=wandb.config.kernel_size).to(device)\n",
    "    # model = MALUNet(dropout_rate=DROPOUT_RATE).to(device)\n",
    "    # model = UNETR(dropout=DROPOUT_RATE, embed_dim=wandb.config.embedding_and_heads[0], num_heads=wandb.config.embedding_and_heads[1]).to(device)\n",
    "    # model = SegFormer(\n",
    "    # in_channels=3,\n",
    "    # widths=[64, 128, 256, 512],\n",
    "    # depths=[3, 4, 6, 3],\n",
    "    # all_num_heads=[1, 2, 4, 8],\n",
    "    # patch_sizes=[7, 3, 3, 3],\n",
    "    # overlap_sizes=[4, 2, 2, 2],\n",
    "    # reduction_ratios=[8, 4, 2, 1],\n",
    "    # mlp_expansions=[4, 4, 4, 4],\n",
    "    # decoder_channels=256,\n",
    "    # scale_factors=[8, 4, 2, 1],\n",
    "    # num_classes=1,\n",
    "    # drop_prob=DROPOUT_RATE,\n",
    "    # ).to(device)\n",
    "    loss_fn = nn.BCEWithLogitsLoss()\n",
    "    optimizer = torch.optim.Adam(model.parameters(), lr=LEARNING_RATE)\n",
    "\n",
    "    wandb.log({\"MODEL\": model.__class__.__name__})\n",
    "\n",
    "\n",
    "    train_loader, val_loader, test_loader = get_loaders(\n",
    "        dataset,\n",
    "        BATCH_SIZE,\n",
    "        train_transform,\n",
    "        val_transforms,\n",
    "        NUM_WORKERS,\n",
    "        PIN_MEMORY,\n",
    "    )\n",
    "\n",
    "    start_epoch = 0\n",
    "    if LOAD_MODEL:\n",
    "        checkpoint = torch.load(CHECKPOINT_FILENAME)\n",
    "        model, optimizer, start_epoch = load_checkpoint(checkpoint, model, optimizer)\n",
    "\n",
    "\n",
    "\n",
    "    check_accuracy(val_loader, model, device=DEVICE, loss_fn=loss_fn)\n",
    "    scaler = torch.cuda.amp.GradScaler()\n",
    "\n",
    "    for epoch in range(start_epoch, NUM_EPOCHS):\n",
    "        print(f\"epoch: {epoch}\")\n",
    "        wandb.log({\"epoch\": epoch})\n",
    "        train_fn(train_loader, model, optimizer, loss_fn, scaler)\n",
    "\n",
    "        # save model\n",
    "        checkpoint = {\n",
    "            \"state_dict\": model.state_dict(),\n",
    "            \"optimizer\":optimizer.state_dict(),\n",
    "            \"epoch\": epoch,\n",
    "        }\n",
    "        save_checkpoint(checkpoint, filename=f\"checkpoint_{epoch}.pth.tar\")\n",
    "\n",
    "        # check accuracy\n",
    "        check_accuracy(val_loader, model, device=DEVICE, loss_fn=loss_fn)\n",
    "\n",
    "        # print some examples to a folder\n",
    "        save_predictions_as_imgs(\n",
    "            val_loader, model, folder=f\"saved_images/{epoch}\", device=DEVICE\n",
    "        )\n",
    "\n",
    "    # Final Evaluation Test\n",
    "    check_accuracy(test_loader, model, device=DEVICE, loss_fn=loss_fn, mode=\"test\")\n",
    "    run.finish()"
   ]
  },
  {
   "cell_type": "code",
   "execution_count": 9,
   "metadata": {},
   "outputs": [
    {
     "name": "stderr",
     "output_type": "stream",
     "text": [
      "\u001b[34m\u001b[1mwandb\u001b[0m: Agent Starting Run: cidmfzau with config:\n",
      "\u001b[34m\u001b[1mwandb\u001b[0m: \tbatch_size: 8\n",
      "\u001b[34m\u001b[1mwandb\u001b[0m: \tdropout_rate: 0.3\n",
      "\u001b[34m\u001b[1mwandb\u001b[0m: \tepochs: 3\n",
      "\u001b[34m\u001b[1mwandb\u001b[0m: \tkernel_size: 5\n",
      "\u001b[34m\u001b[1mwandb\u001b[0m: \tlearning_rate: 0.01\n",
      "Failed to detect the name of this notebook, you can set it manually with the WANDB_NOTEBOOK_NAME environment variable to enable code saving.\n",
      "\u001b[34m\u001b[1mwandb\u001b[0m: Currently logged in as: \u001b[33mjtz18\u001b[0m (\u001b[33mjooz-cave\u001b[0m). Use \u001b[1m`wandb login --relogin`\u001b[0m to force relogin\n"
     ]
    },
    {
     "data": {
      "text/html": [
       "wandb version 0.16.6 is available!  To upgrade, please run:\n",
       " $ pip install wandb --upgrade"
      ],
      "text/plain": [
       "<IPython.core.display.HTML object>"
      ]
     },
     "metadata": {},
     "output_type": "display_data"
    },
    {
     "data": {
      "text/html": [
       "Tracking run with wandb version 0.16.5"
      ],
      "text/plain": [
       "<IPython.core.display.HTML object>"
      ]
     },
     "metadata": {},
     "output_type": "display_data"
    },
    {
     "data": {
      "text/html": [
       "Run data is saved locally in <code>c:\\Users\\jonta\\code\\school\\t8\\DeepLearning\\50.039-DL\\notebooks\\wandb\\run-20240412_001103-cidmfzau</code>"
      ],
      "text/plain": [
       "<IPython.core.display.HTML object>"
      ]
     },
     "metadata": {},
     "output_type": "display_data"
    },
    {
     "data": {
      "text/html": [
       "Syncing run <strong><a href='https://wandb.ai/jooz-cave/unet-skin-lesion/runs/cidmfzau/workspace' target=\"_blank\">mild-sweep-1</a></strong> to <a href='https://wandb.ai/jooz-cave/unet-skin-lesion' target=\"_blank\">Weights & Biases</a> (<a href='https://wandb.me/run' target=\"_blank\">docs</a>)<br/>Sweep page: <a href='https://wandb.ai/jooz-cave/unet-skin-lesion/sweeps/qjjguvd6' target=\"_blank\">https://wandb.ai/jooz-cave/unet-skin-lesion/sweeps/qjjguvd6</a>"
      ],
      "text/plain": [
       "<IPython.core.display.HTML object>"
      ]
     },
     "metadata": {},
     "output_type": "display_data"
    },
    {
     "data": {
      "text/html": [
       " View project at <a href='https://wandb.ai/jooz-cave/unet-skin-lesion' target=\"_blank\">https://wandb.ai/jooz-cave/unet-skin-lesion</a>"
      ],
      "text/plain": [
       "<IPython.core.display.HTML object>"
      ]
     },
     "metadata": {},
     "output_type": "display_data"
    },
    {
     "data": {
      "text/html": [
       " View sweep at <a href='https://wandb.ai/jooz-cave/unet-skin-lesion/sweeps/qjjguvd6' target=\"_blank\">https://wandb.ai/jooz-cave/unet-skin-lesion/sweeps/qjjguvd6</a>"
      ],
      "text/plain": [
       "<IPython.core.display.HTML object>"
      ]
     },
     "metadata": {},
     "output_type": "display_data"
    },
    {
     "data": {
      "text/html": [
       " View run at <a href='https://wandb.ai/jooz-cave/unet-skin-lesion/runs/cidmfzau/workspace' target=\"_blank\">https://wandb.ai/jooz-cave/unet-skin-lesion/runs/cidmfzau/workspace</a>"
      ],
      "text/plain": [
       "<IPython.core.display.HTML object>"
      ]
     },
     "metadata": {},
     "output_type": "display_data"
    },
    {
     "name": "stdout",
     "output_type": "stream",
     "text": [
      "Validation Loss: 0.8416433563599219\n",
      "Got 1840129/6553600 with acc 28.08\n",
      "Dice score: 0.4170222580432892\n",
      "epoch: 0\n"
     ]
    },
    {
     "name": "stderr",
     "output_type": "stream",
     "text": [
      "100%|██████████| 325/325 [07:16<00:00,  1.34s/it, loss=nan]  \n"
     ]
    },
    {
     "name": "stdout",
     "output_type": "stream",
     "text": [
      "=> Saving checkpoint\n",
      "Validation Loss: nan\n",
      "Got 4795034/6553600 with acc 73.17\n",
      "Dice score: 0.0\n",
      "epoch: 1\n"
     ]
    },
    {
     "name": "stderr",
     "output_type": "stream",
     "text": [
      "100%|██████████| 325/325 [07:15<00:00,  1.34s/it, loss=nan]\n"
     ]
    },
    {
     "name": "stdout",
     "output_type": "stream",
     "text": [
      "=> Saving checkpoint\n",
      "Validation Loss: nan\n",
      "Got 4795034/6553600 with acc 73.17\n",
      "Dice score: 0.0\n",
      "epoch: 2\n"
     ]
    },
    {
     "name": "stderr",
     "output_type": "stream",
     "text": [
      "100%|██████████| 325/325 [07:13<00:00,  1.33s/it, loss=nan]\n"
     ]
    },
    {
     "name": "stdout",
     "output_type": "stream",
     "text": [
      "=> Saving checkpoint\n",
      "Validation Loss: nan\n",
      "Got 4795034/6553600 with acc 73.17\n",
      "Dice score: 0.0\n",
      "Test Loss: nan\n",
      "Got 47206030/65536000 with acc 72.03\n",
      "Dice score: 0.0\n"
     ]
    },
    {
     "data": {
      "text/html": [
       "<style>\n",
       "    table.wandb td:nth-child(1) { padding: 0 10px; text-align: left ; width: auto;} td:nth-child(2) {text-align: left ; width: 100%}\n",
       "    .wandb-row { display: flex; flex-direction: row; flex-wrap: wrap; justify-content: flex-start; width: 100% }\n",
       "    .wandb-col { display: flex; flex-direction: column; flex-basis: 100%; flex: 1; padding: 10px; }\n",
       "    </style>\n",
       "<div class=\"wandb-row\"><div class=\"wandb-col\"><h3>Run history:</h3><br/><table class=\"wandb\"><tr><td>Dice Score</td><td>█▁▁▁</td></tr><tr><td>Pixel Accuracy</td><td>▁███</td></tr><tr><td>Test Dice Score</td><td>▁</td></tr><tr><td>Test Pixel Accuracy</td><td>▁</td></tr><tr><td>Training Loss</td><td>▁█                                      </td></tr><tr><td>Validation Loss</td><td>▁   </td></tr><tr><td>epoch</td><td>▁▅█</td></tr></table><br/></div><div class=\"wandb-col\"><h3>Run summary:</h3><br/><table class=\"wandb\"><tr><td>Dice Score</td><td>0.0</td></tr><tr><td>MODEL</td><td>UNET</td></tr><tr><td>Pixel Accuracy</td><td>73.16641</td></tr><tr><td>Test Dice Score</td><td>0.0</td></tr><tr><td>Test Loss</td><td>nan</td></tr><tr><td>Test Pixel Accuracy</td><td>72.03069</td></tr><tr><td>Training Loss</td><td>nan</td></tr><tr><td>Validation Loss</td><td>nan</td></tr><tr><td>epoch</td><td>2</td></tr></table><br/></div></div>"
      ],
      "text/plain": [
       "<IPython.core.display.HTML object>"
      ]
     },
     "metadata": {},
     "output_type": "display_data"
    },
    {
     "data": {
      "text/html": [
       " View run <strong style=\"color:#cdcd00\">mild-sweep-1</strong> at: <a href='https://wandb.ai/jooz-cave/unet-skin-lesion/runs/cidmfzau/workspace' target=\"_blank\">https://wandb.ai/jooz-cave/unet-skin-lesion/runs/cidmfzau/workspace</a><br/>Synced 5 W&B file(s), 0 media file(s), 0 artifact file(s) and 0 other file(s)"
      ],
      "text/plain": [
       "<IPython.core.display.HTML object>"
      ]
     },
     "metadata": {},
     "output_type": "display_data"
    },
    {
     "data": {
      "text/html": [
       "Find logs at: <code>.\\wandb\\run-20240412_001103-cidmfzau\\logs</code>"
      ],
      "text/plain": [
       "<IPython.core.display.HTML object>"
      ]
     },
     "metadata": {},
     "output_type": "display_data"
    },
    {
     "name": "stderr",
     "output_type": "stream",
     "text": [
      "\u001b[34m\u001b[1mwandb\u001b[0m: Sweep Agent: Waiting for job.\n",
      "\u001b[34m\u001b[1mwandb\u001b[0m: Job received.\n",
      "\u001b[34m\u001b[1mwandb\u001b[0m: Agent Starting Run: 0kir1vrk with config:\n",
      "\u001b[34m\u001b[1mwandb\u001b[0m: \tbatch_size: 16\n",
      "\u001b[34m\u001b[1mwandb\u001b[0m: \tdropout_rate: 0.3\n",
      "\u001b[34m\u001b[1mwandb\u001b[0m: \tepochs: 3\n",
      "\u001b[34m\u001b[1mwandb\u001b[0m: \tkernel_size: 5\n",
      "\u001b[34m\u001b[1mwandb\u001b[0m: \tlearning_rate: 0.0001\n",
      "Failed to detect the name of this notebook, you can set it manually with the WANDB_NOTEBOOK_NAME environment variable to enable code saving.\n"
     ]
    },
    {
     "data": {
      "text/html": [
       "wandb version 0.16.6 is available!  To upgrade, please run:\n",
       " $ pip install wandb --upgrade"
      ],
      "text/plain": [
       "<IPython.core.display.HTML object>"
      ]
     },
     "metadata": {},
     "output_type": "display_data"
    },
    {
     "data": {
      "text/html": [
       "Tracking run with wandb version 0.16.5"
      ],
      "text/plain": [
       "<IPython.core.display.HTML object>"
      ]
     },
     "metadata": {},
     "output_type": "display_data"
    },
    {
     "data": {
      "text/html": [
       "Run data is saved locally in <code>c:\\Users\\jonta\\code\\school\\t8\\DeepLearning\\50.039-DL\\notebooks\\wandb\\run-20240412_003640-0kir1vrk</code>"
      ],
      "text/plain": [
       "<IPython.core.display.HTML object>"
      ]
     },
     "metadata": {},
     "output_type": "display_data"
    },
    {
     "data": {
      "text/html": [
       "Syncing run <strong><a href='https://wandb.ai/jooz-cave/unet-skin-lesion/runs/0kir1vrk/workspace' target=\"_blank\">daily-sweep-2</a></strong> to <a href='https://wandb.ai/jooz-cave/unet-skin-lesion' target=\"_blank\">Weights & Biases</a> (<a href='https://wandb.me/run' target=\"_blank\">docs</a>)<br/>Sweep page: <a href='https://wandb.ai/jooz-cave/unet-skin-lesion/sweeps/qjjguvd6' target=\"_blank\">https://wandb.ai/jooz-cave/unet-skin-lesion/sweeps/qjjguvd6</a>"
      ],
      "text/plain": [
       "<IPython.core.display.HTML object>"
      ]
     },
     "metadata": {},
     "output_type": "display_data"
    },
    {
     "data": {
      "text/html": [
       " View project at <a href='https://wandb.ai/jooz-cave/unet-skin-lesion' target=\"_blank\">https://wandb.ai/jooz-cave/unet-skin-lesion</a>"
      ],
      "text/plain": [
       "<IPython.core.display.HTML object>"
      ]
     },
     "metadata": {},
     "output_type": "display_data"
    },
    {
     "data": {
      "text/html": [
       " View sweep at <a href='https://wandb.ai/jooz-cave/unet-skin-lesion/sweeps/qjjguvd6' target=\"_blank\">https://wandb.ai/jooz-cave/unet-skin-lesion/sweeps/qjjguvd6</a>"
      ],
      "text/plain": [
       "<IPython.core.display.HTML object>"
      ]
     },
     "metadata": {},
     "output_type": "display_data"
    },
    {
     "data": {
      "text/html": [
       " View run at <a href='https://wandb.ai/jooz-cave/unet-skin-lesion/runs/0kir1vrk/workspace' target=\"_blank\">https://wandb.ai/jooz-cave/unet-skin-lesion/runs/0kir1vrk/workspace</a>"
      ],
      "text/plain": [
       "<IPython.core.display.HTML object>"
      ]
     },
     "metadata": {},
     "output_type": "display_data"
    },
    {
     "name": "stdout",
     "output_type": "stream",
     "text": [
      "Validation Loss: 0.8479261994361877\n",
      "Got 1758566/6553600 with acc 26.83\n",
      "Dice score: 0.41082340478897095\n",
      "epoch: 0\n"
     ]
    },
    {
     "name": "stderr",
     "output_type": "stream",
     "text": [
      "100%|██████████| 163/163 [07:11<00:00,  2.64s/it, loss=0.323]\n"
     ]
    },
    {
     "name": "stdout",
     "output_type": "stream",
     "text": [
      "=> Saving checkpoint\n",
      "Validation Loss: 0.6763874036925179\n",
      "Got 5540265/6553600 with acc 84.54\n",
      "Dice score: 0.583946943283081\n",
      "epoch: 1\n"
     ]
    },
    {
     "name": "stderr",
     "output_type": "stream",
     "text": [
      "100%|██████████| 163/163 [07:05<00:00,  2.61s/it, loss=0.156]\n"
     ]
    },
    {
     "name": "stdout",
     "output_type": "stream",
     "text": [
      "=> Saving checkpoint\n",
      "Validation Loss: 0.6694554516247341\n",
      "Got 5479143/6553600 with acc 83.61\n",
      "Dice score: 0.5407357811927795\n",
      "epoch: 2\n"
     ]
    },
    {
     "name": "stderr",
     "output_type": "stream",
     "text": [
      "100%|██████████| 163/163 [07:06<00:00,  2.62s/it, loss=0.22] \n"
     ]
    },
    {
     "name": "stdout",
     "output_type": "stream",
     "text": [
      "=> Saving checkpoint\n",
      "Validation Loss: 0.6633135506084987\n",
      "Got 5663436/6553600 with acc 86.42\n",
      "Dice score: 0.6525986194610596\n",
      "Test Loss: 0.6645822042510623\n",
      "Got 55337232/65536000 with acc 84.44\n",
      "Dice score: 0.6176882982254028\n"
     ]
    },
    {
     "data": {
      "text/html": [
       "<style>\n",
       "    table.wandb td:nth-child(1) { padding: 0 10px; text-align: left ; width: auto;} td:nth-child(2) {text-align: left ; width: 100%}\n",
       "    .wandb-row { display: flex; flex-direction: row; flex-wrap: wrap; justify-content: flex-start; width: 100% }\n",
       "    .wandb-col { display: flex; flex-direction: column; flex-basis: 100%; flex: 1; padding: 10px; }\n",
       "    </style>\n",
       "<div class=\"wandb-row\"><div class=\"wandb-col\"><h3>Run history:</h3><br/><table class=\"wandb\"><tr><td>Dice Score</td><td>▁▆▅█</td></tr><tr><td>Pixel Accuracy</td><td>▁███</td></tr><tr><td>Test Dice Score</td><td>▁</td></tr><tr><td>Test Loss</td><td>▁</td></tr><tr><td>Test Pixel Accuracy</td><td>▁</td></tr><tr><td>Training Loss</td><td>█▅▅▄▄▄▄▂▃▂▂▃▂▄▃▂▂▂▂▂▂▂▁▄▄▃▃▁▁▂▂▂▁▁▂▁▁▃▁▁</td></tr><tr><td>Validation Loss</td><td>█▁▁▁</td></tr><tr><td>epoch</td><td>▁▅█</td></tr></table><br/></div><div class=\"wandb-col\"><h3>Run summary:</h3><br/><table class=\"wandb\"><tr><td>Dice Score</td><td>0.6526</td></tr><tr><td>MODEL</td><td>UNET</td></tr><tr><td>Pixel Accuracy</td><td>86.41718</td></tr><tr><td>Test Dice Score</td><td>0.61769</td></tr><tr><td>Test Loss</td><td>0.66458</td></tr><tr><td>Test Pixel Accuracy</td><td>84.43792</td></tr><tr><td>Training Loss</td><td>0.22039</td></tr><tr><td>Validation Loss</td><td>0.66331</td></tr><tr><td>epoch</td><td>2</td></tr></table><br/></div></div>"
      ],
      "text/plain": [
       "<IPython.core.display.HTML object>"
      ]
     },
     "metadata": {},
     "output_type": "display_data"
    },
    {
     "data": {
      "text/html": [
       " View run <strong style=\"color:#cdcd00\">daily-sweep-2</strong> at: <a href='https://wandb.ai/jooz-cave/unet-skin-lesion/runs/0kir1vrk/workspace' target=\"_blank\">https://wandb.ai/jooz-cave/unet-skin-lesion/runs/0kir1vrk/workspace</a><br/>Synced 5 W&B file(s), 0 media file(s), 0 artifact file(s) and 0 other file(s)"
      ],
      "text/plain": [
       "<IPython.core.display.HTML object>"
      ]
     },
     "metadata": {},
     "output_type": "display_data"
    },
    {
     "data": {
      "text/html": [
       "Find logs at: <code>.\\wandb\\run-20240412_003640-0kir1vrk\\logs</code>"
      ],
      "text/plain": [
       "<IPython.core.display.HTML object>"
      ]
     },
     "metadata": {},
     "output_type": "display_data"
    },
    {
     "name": "stderr",
     "output_type": "stream",
     "text": [
      "\u001b[34m\u001b[1mwandb\u001b[0m: Agent Starting Run: e13rtr93 with config:\n",
      "\u001b[34m\u001b[1mwandb\u001b[0m: \tbatch_size: 8\n",
      "\u001b[34m\u001b[1mwandb\u001b[0m: \tdropout_rate: 0.3\n",
      "\u001b[34m\u001b[1mwandb\u001b[0m: \tepochs: 3\n",
      "\u001b[34m\u001b[1mwandb\u001b[0m: \tkernel_size: 3\n",
      "\u001b[34m\u001b[1mwandb\u001b[0m: \tlearning_rate: 0.01\n",
      "Failed to detect the name of this notebook, you can set it manually with the WANDB_NOTEBOOK_NAME environment variable to enable code saving.\n"
     ]
    },
    {
     "data": {
      "text/html": [
       "wandb version 0.16.6 is available!  To upgrade, please run:\n",
       " $ pip install wandb --upgrade"
      ],
      "text/plain": [
       "<IPython.core.display.HTML object>"
      ]
     },
     "metadata": {},
     "output_type": "display_data"
    },
    {
     "data": {
      "text/html": [
       "Tracking run with wandb version 0.16.5"
      ],
      "text/plain": [
       "<IPython.core.display.HTML object>"
      ]
     },
     "metadata": {},
     "output_type": "display_data"
    },
    {
     "data": {
      "text/html": [
       "Run data is saved locally in <code>c:\\Users\\jonta\\code\\school\\t8\\DeepLearning\\50.039-DL\\notebooks\\wandb\\run-20240412_010121-e13rtr93</code>"
      ],
      "text/plain": [
       "<IPython.core.display.HTML object>"
      ]
     },
     "metadata": {},
     "output_type": "display_data"
    },
    {
     "data": {
      "text/html": [
       "Syncing run <strong><a href='https://wandb.ai/jooz-cave/unet-skin-lesion/runs/e13rtr93/workspace' target=\"_blank\">noble-sweep-3</a></strong> to <a href='https://wandb.ai/jooz-cave/unet-skin-lesion' target=\"_blank\">Weights & Biases</a> (<a href='https://wandb.me/run' target=\"_blank\">docs</a>)<br/>Sweep page: <a href='https://wandb.ai/jooz-cave/unet-skin-lesion/sweeps/qjjguvd6' target=\"_blank\">https://wandb.ai/jooz-cave/unet-skin-lesion/sweeps/qjjguvd6</a>"
      ],
      "text/plain": [
       "<IPython.core.display.HTML object>"
      ]
     },
     "metadata": {},
     "output_type": "display_data"
    },
    {
     "data": {
      "text/html": [
       " View project at <a href='https://wandb.ai/jooz-cave/unet-skin-lesion' target=\"_blank\">https://wandb.ai/jooz-cave/unet-skin-lesion</a>"
      ],
      "text/plain": [
       "<IPython.core.display.HTML object>"
      ]
     },
     "metadata": {},
     "output_type": "display_data"
    },
    {
     "data": {
      "text/html": [
       " View sweep at <a href='https://wandb.ai/jooz-cave/unet-skin-lesion/sweeps/qjjguvd6' target=\"_blank\">https://wandb.ai/jooz-cave/unet-skin-lesion/sweeps/qjjguvd6</a>"
      ],
      "text/plain": [
       "<IPython.core.display.HTML object>"
      ]
     },
     "metadata": {},
     "output_type": "display_data"
    },
    {
     "data": {
      "text/html": [
       " View run at <a href='https://wandb.ai/jooz-cave/unet-skin-lesion/runs/e13rtr93/workspace' target=\"_blank\">https://wandb.ai/jooz-cave/unet-skin-lesion/runs/e13rtr93/workspace</a>"
      ],
      "text/plain": [
       "<IPython.core.display.HTML object>"
      ]
     },
     "metadata": {},
     "output_type": "display_data"
    },
    {
     "name": "stdout",
     "output_type": "stream",
     "text": [
      "Validation Loss: 0.8391733994850745\n",
      "Got 4795034/6553600 with acc 73.17\n",
      "Dice score: 0.0\n",
      "epoch: 0\n"
     ]
    },
    {
     "name": "stderr",
     "output_type": "stream",
     "text": [
      "100%|██████████| 325/325 [06:41<00:00,  1.23s/it, loss=nan]  \n"
     ]
    },
    {
     "name": "stdout",
     "output_type": "stream",
     "text": [
      "=> Saving checkpoint\n",
      "Validation Loss: nan\n",
      "Got 4795034/6553600 with acc 73.17\n",
      "Dice score: 0.0\n",
      "epoch: 1\n"
     ]
    },
    {
     "name": "stderr",
     "output_type": "stream",
     "text": [
      "100%|██████████| 325/325 [06:38<00:00,  1.23s/it, loss=nan]\n"
     ]
    },
    {
     "name": "stdout",
     "output_type": "stream",
     "text": [
      "=> Saving checkpoint\n",
      "Validation Loss: nan\n",
      "Got 4795034/6553600 with acc 73.17\n",
      "Dice score: 0.0\n",
      "epoch: 2\n"
     ]
    },
    {
     "name": "stderr",
     "output_type": "stream",
     "text": [
      "100%|██████████| 325/325 [06:37<00:00,  1.22s/it, loss=nan]\n"
     ]
    },
    {
     "name": "stdout",
     "output_type": "stream",
     "text": [
      "=> Saving checkpoint\n",
      "Validation Loss: nan\n",
      "Got 4795034/6553600 with acc 73.17\n",
      "Dice score: 0.0\n",
      "Test Loss: nan\n",
      "Got 47206030/65536000 with acc 72.03\n",
      "Dice score: 0.0\n"
     ]
    },
    {
     "data": {
      "text/html": [
       "<style>\n",
       "    table.wandb td:nth-child(1) { padding: 0 10px; text-align: left ; width: auto;} td:nth-child(2) {text-align: left ; width: 100%}\n",
       "    .wandb-row { display: flex; flex-direction: row; flex-wrap: wrap; justify-content: flex-start; width: 100% }\n",
       "    .wandb-col { display: flex; flex-direction: column; flex-basis: 100%; flex: 1; padding: 10px; }\n",
       "    </style>\n",
       "<div class=\"wandb-row\"><div class=\"wandb-col\"><h3>Run history:</h3><br/><table class=\"wandb\"><tr><td>Dice Score</td><td>▁▁▁▁</td></tr><tr><td>Pixel Accuracy</td><td>▁▁▁▁</td></tr><tr><td>Test Dice Score</td><td>▁</td></tr><tr><td>Test Pixel Accuracy</td><td>▁</td></tr><tr><td>Training Loss</td><td>▆▃▂▄█▆▁                                 </td></tr><tr><td>Validation Loss</td><td>▁   </td></tr><tr><td>epoch</td><td>▁▅█</td></tr></table><br/></div><div class=\"wandb-col\"><h3>Run summary:</h3><br/><table class=\"wandb\"><tr><td>Dice Score</td><td>0.0</td></tr><tr><td>MODEL</td><td>UNET</td></tr><tr><td>Pixel Accuracy</td><td>73.16641</td></tr><tr><td>Test Dice Score</td><td>0.0</td></tr><tr><td>Test Loss</td><td>nan</td></tr><tr><td>Test Pixel Accuracy</td><td>72.03069</td></tr><tr><td>Training Loss</td><td>nan</td></tr><tr><td>Validation Loss</td><td>nan</td></tr><tr><td>epoch</td><td>2</td></tr></table><br/></div></div>"
      ],
      "text/plain": [
       "<IPython.core.display.HTML object>"
      ]
     },
     "metadata": {},
     "output_type": "display_data"
    },
    {
     "data": {
      "text/html": [
       " View run <strong style=\"color:#cdcd00\">noble-sweep-3</strong> at: <a href='https://wandb.ai/jooz-cave/unet-skin-lesion/runs/e13rtr93/workspace' target=\"_blank\">https://wandb.ai/jooz-cave/unet-skin-lesion/runs/e13rtr93/workspace</a><br/>Synced 5 W&B file(s), 0 media file(s), 0 artifact file(s) and 0 other file(s)"
      ],
      "text/plain": [
       "<IPython.core.display.HTML object>"
      ]
     },
     "metadata": {},
     "output_type": "display_data"
    },
    {
     "data": {
      "text/html": [
       "Find logs at: <code>.\\wandb\\run-20240412_010121-e13rtr93\\logs</code>"
      ],
      "text/plain": [
       "<IPython.core.display.HTML object>"
      ]
     },
     "metadata": {},
     "output_type": "display_data"
    },
    {
     "name": "stderr",
     "output_type": "stream",
     "text": [
      "\u001b[34m\u001b[1mwandb\u001b[0m: Agent Starting Run: b6wymy2f with config:\n",
      "\u001b[34m\u001b[1mwandb\u001b[0m: \tbatch_size: 16\n",
      "\u001b[34m\u001b[1mwandb\u001b[0m: \tdropout_rate: 0.3\n",
      "\u001b[34m\u001b[1mwandb\u001b[0m: \tepochs: 3\n",
      "\u001b[34m\u001b[1mwandb\u001b[0m: \tkernel_size: 5\n",
      "\u001b[34m\u001b[1mwandb\u001b[0m: \tlearning_rate: 0.0001\n",
      "Failed to detect the name of this notebook, you can set it manually with the WANDB_NOTEBOOK_NAME environment variable to enable code saving.\n"
     ]
    },
    {
     "data": {
      "text/html": [
       "wandb version 0.16.6 is available!  To upgrade, please run:\n",
       " $ pip install wandb --upgrade"
      ],
      "text/plain": [
       "<IPython.core.display.HTML object>"
      ]
     },
     "metadata": {},
     "output_type": "display_data"
    },
    {
     "data": {
      "text/html": [
       "Tracking run with wandb version 0.16.5"
      ],
      "text/plain": [
       "<IPython.core.display.HTML object>"
      ]
     },
     "metadata": {},
     "output_type": "display_data"
    },
    {
     "data": {
      "text/html": [
       "Run data is saved locally in <code>c:\\Users\\jonta\\code\\school\\t8\\DeepLearning\\50.039-DL\\notebooks\\wandb\\run-20240412_012432-b6wymy2f</code>"
      ],
      "text/plain": [
       "<IPython.core.display.HTML object>"
      ]
     },
     "metadata": {},
     "output_type": "display_data"
    },
    {
     "data": {
      "text/html": [
       "Syncing run <strong><a href='https://wandb.ai/jooz-cave/unet-skin-lesion/runs/b6wymy2f/workspace' target=\"_blank\">upbeat-sweep-4</a></strong> to <a href='https://wandb.ai/jooz-cave/unet-skin-lesion' target=\"_blank\">Weights & Biases</a> (<a href='https://wandb.me/run' target=\"_blank\">docs</a>)<br/>Sweep page: <a href='https://wandb.ai/jooz-cave/unet-skin-lesion/sweeps/qjjguvd6' target=\"_blank\">https://wandb.ai/jooz-cave/unet-skin-lesion/sweeps/qjjguvd6</a>"
      ],
      "text/plain": [
       "<IPython.core.display.HTML object>"
      ]
     },
     "metadata": {},
     "output_type": "display_data"
    },
    {
     "data": {
      "text/html": [
       " View project at <a href='https://wandb.ai/jooz-cave/unet-skin-lesion' target=\"_blank\">https://wandb.ai/jooz-cave/unet-skin-lesion</a>"
      ],
      "text/plain": [
       "<IPython.core.display.HTML object>"
      ]
     },
     "metadata": {},
     "output_type": "display_data"
    },
    {
     "data": {
      "text/html": [
       " View sweep at <a href='https://wandb.ai/jooz-cave/unet-skin-lesion/sweeps/qjjguvd6' target=\"_blank\">https://wandb.ai/jooz-cave/unet-skin-lesion/sweeps/qjjguvd6</a>"
      ],
      "text/plain": [
       "<IPython.core.display.HTML object>"
      ]
     },
     "metadata": {},
     "output_type": "display_data"
    },
    {
     "data": {
      "text/html": [
       " View run at <a href='https://wandb.ai/jooz-cave/unet-skin-lesion/runs/b6wymy2f/workspace' target=\"_blank\">https://wandb.ai/jooz-cave/unet-skin-lesion/runs/b6wymy2f/workspace</a>"
      ],
      "text/plain": [
       "<IPython.core.display.HTML object>"
      ]
     },
     "metadata": {},
     "output_type": "display_data"
    },
    {
     "name": "stdout",
     "output_type": "stream",
     "text": [
      "Validation Loss: 0.8338943464415414\n",
      "Got 4795034/6553600 with acc 73.17\n",
      "Dice score: 0.0\n",
      "epoch: 0\n"
     ]
    },
    {
     "name": "stderr",
     "output_type": "stream",
     "text": [
      "100%|██████████| 163/163 [07:00<00:00,  2.58s/it, loss=0.257]\n"
     ]
    },
    {
     "name": "stdout",
     "output_type": "stream",
     "text": [
      "=> Saving checkpoint\n",
      "Validation Loss: 0.6936189617429461\n",
      "Got 5232005/6553600 with acc 79.83\n",
      "Dice score: 0.430374413728714\n",
      "epoch: 1\n"
     ]
    },
    {
     "name": "stderr",
     "output_type": "stream",
     "text": [
      "100%|██████████| 163/163 [07:01<00:00,  2.59s/it, loss=0.432]\n"
     ]
    },
    {
     "name": "stdout",
     "output_type": "stream",
     "text": [
      "=> Saving checkpoint\n",
      "Validation Loss: 0.6747495702334813\n",
      "Got 5604384/6553600 with acc 85.52\n",
      "Dice score: 0.6137871742248535\n",
      "epoch: 2\n"
     ]
    },
    {
     "name": "stderr",
     "output_type": "stream",
     "text": [
      "100%|██████████| 163/163 [07:00<00:00,  2.58s/it, loss=0.31] \n"
     ]
    },
    {
     "name": "stdout",
     "output_type": "stream",
     "text": [
      "=> Saving checkpoint\n",
      "Validation Loss: 0.6770850760596139\n",
      "Got 5484729/6553600 with acc 83.69\n",
      "Dice score: 0.5825352668762207\n",
      "Test Loss: 0.6778674948783148\n",
      "Got 53638865/65536000 with acc 81.85\n",
      "Dice score: 0.5273274779319763\n"
     ]
    },
    {
     "data": {
      "text/html": [
       "<style>\n",
       "    table.wandb td:nth-child(1) { padding: 0 10px; text-align: left ; width: auto;} td:nth-child(2) {text-align: left ; width: 100%}\n",
       "    .wandb-row { display: flex; flex-direction: row; flex-wrap: wrap; justify-content: flex-start; width: 100% }\n",
       "    .wandb-col { display: flex; flex-direction: column; flex-basis: 100%; flex: 1; padding: 10px; }\n",
       "    </style>\n",
       "<div class=\"wandb-row\"><div class=\"wandb-col\"><h3>Run history:</h3><br/><table class=\"wandb\"><tr><td>Dice Score</td><td>▁▆██</td></tr><tr><td>Pixel Accuracy</td><td>▁▅█▇</td></tr><tr><td>Test Dice Score</td><td>▁</td></tr><tr><td>Test Loss</td><td>▁</td></tr><tr><td>Test Pixel Accuracy</td><td>▁</td></tr><tr><td>Training Loss</td><td>█▇▅▄▅▅▃▃▄▃▅▃▂▃▂▃▄▃▂▂▅▅▂▂▄▂▂▄▁▂▂▂▂▁▂▂▁▄▁▁</td></tr><tr><td>Validation Loss</td><td>█▂▁▁</td></tr><tr><td>epoch</td><td>▁▅█</td></tr></table><br/></div><div class=\"wandb-col\"><h3>Run summary:</h3><br/><table class=\"wandb\"><tr><td>Dice Score</td><td>0.58254</td></tr><tr><td>MODEL</td><td>UNET</td></tr><tr><td>Pixel Accuracy</td><td>83.69032</td></tr><tr><td>Test Dice Score</td><td>0.52733</td></tr><tr><td>Test Loss</td><td>0.67787</td></tr><tr><td>Test Pixel Accuracy</td><td>81.84641</td></tr><tr><td>Training Loss</td><td>0.31018</td></tr><tr><td>Validation Loss</td><td>0.67709</td></tr><tr><td>epoch</td><td>2</td></tr></table><br/></div></div>"
      ],
      "text/plain": [
       "<IPython.core.display.HTML object>"
      ]
     },
     "metadata": {},
     "output_type": "display_data"
    },
    {
     "data": {
      "text/html": [
       " View run <strong style=\"color:#cdcd00\">upbeat-sweep-4</strong> at: <a href='https://wandb.ai/jooz-cave/unet-skin-lesion/runs/b6wymy2f/workspace' target=\"_blank\">https://wandb.ai/jooz-cave/unet-skin-lesion/runs/b6wymy2f/workspace</a><br/>Synced 5 W&B file(s), 0 media file(s), 0 artifact file(s) and 0 other file(s)"
      ],
      "text/plain": [
       "<IPython.core.display.HTML object>"
      ]
     },
     "metadata": {},
     "output_type": "display_data"
    },
    {
     "data": {
      "text/html": [
       "Find logs at: <code>.\\wandb\\run-20240412_012432-b6wymy2f\\logs</code>"
      ],
      "text/plain": [
       "<IPython.core.display.HTML object>"
      ]
     },
     "metadata": {},
     "output_type": "display_data"
    },
    {
     "name": "stderr",
     "output_type": "stream",
     "text": [
      "\u001b[34m\u001b[1mwandb\u001b[0m: Agent Starting Run: 7mtxrxmz with config:\n",
      "\u001b[34m\u001b[1mwandb\u001b[0m: \tbatch_size: 32\n",
      "\u001b[34m\u001b[1mwandb\u001b[0m: \tdropout_rate: 0.3\n",
      "\u001b[34m\u001b[1mwandb\u001b[0m: \tepochs: 3\n",
      "\u001b[34m\u001b[1mwandb\u001b[0m: \tkernel_size: 7\n",
      "\u001b[34m\u001b[1mwandb\u001b[0m: \tlearning_rate: 0.0001\n",
      "Failed to detect the name of this notebook, you can set it manually with the WANDB_NOTEBOOK_NAME environment variable to enable code saving.\n"
     ]
    },
    {
     "data": {
      "text/html": [
       "wandb version 0.16.6 is available!  To upgrade, please run:\n",
       " $ pip install wandb --upgrade"
      ],
      "text/plain": [
       "<IPython.core.display.HTML object>"
      ]
     },
     "metadata": {},
     "output_type": "display_data"
    },
    {
     "data": {
      "text/html": [
       "Tracking run with wandb version 0.16.5"
      ],
      "text/plain": [
       "<IPython.core.display.HTML object>"
      ]
     },
     "metadata": {},
     "output_type": "display_data"
    },
    {
     "data": {
      "text/html": [
       "Run data is saved locally in <code>c:\\Users\\jonta\\code\\school\\t8\\DeepLearning\\50.039-DL\\notebooks\\wandb\\run-20240412_014849-7mtxrxmz</code>"
      ],
      "text/plain": [
       "<IPython.core.display.HTML object>"
      ]
     },
     "metadata": {},
     "output_type": "display_data"
    },
    {
     "data": {
      "text/html": [
       "Syncing run <strong><a href='https://wandb.ai/jooz-cave/unet-skin-lesion/runs/7mtxrxmz/workspace' target=\"_blank\">daily-sweep-5</a></strong> to <a href='https://wandb.ai/jooz-cave/unet-skin-lesion' target=\"_blank\">Weights & Biases</a> (<a href='https://wandb.me/run' target=\"_blank\">docs</a>)<br/>Sweep page: <a href='https://wandb.ai/jooz-cave/unet-skin-lesion/sweeps/qjjguvd6' target=\"_blank\">https://wandb.ai/jooz-cave/unet-skin-lesion/sweeps/qjjguvd6</a>"
      ],
      "text/plain": [
       "<IPython.core.display.HTML object>"
      ]
     },
     "metadata": {},
     "output_type": "display_data"
    },
    {
     "data": {
      "text/html": [
       " View project at <a href='https://wandb.ai/jooz-cave/unet-skin-lesion' target=\"_blank\">https://wandb.ai/jooz-cave/unet-skin-lesion</a>"
      ],
      "text/plain": [
       "<IPython.core.display.HTML object>"
      ]
     },
     "metadata": {},
     "output_type": "display_data"
    },
    {
     "data": {
      "text/html": [
       " View sweep at <a href='https://wandb.ai/jooz-cave/unet-skin-lesion/sweeps/qjjguvd6' target=\"_blank\">https://wandb.ai/jooz-cave/unet-skin-lesion/sweeps/qjjguvd6</a>"
      ],
      "text/plain": [
       "<IPython.core.display.HTML object>"
      ]
     },
     "metadata": {},
     "output_type": "display_data"
    },
    {
     "data": {
      "text/html": [
       " View run at <a href='https://wandb.ai/jooz-cave/unet-skin-lesion/runs/7mtxrxmz/workspace' target=\"_blank\">https://wandb.ai/jooz-cave/unet-skin-lesion/runs/7mtxrxmz/workspace</a>"
      ],
      "text/plain": [
       "<IPython.core.display.HTML object>"
      ]
     },
     "metadata": {},
     "output_type": "display_data"
    },
    {
     "name": "stdout",
     "output_type": "stream",
     "text": [
      "Validation Loss: 0.8463626950979233\n",
      "Got 4795034/6553600 with acc 73.17\n",
      "Dice score: 0.0\n",
      "epoch: 0\n"
     ]
    },
    {
     "name": "stderr",
     "output_type": "stream",
     "text": [
      "100%|██████████| 82/82 [07:21<00:00,  5.39s/it, loss=0.307]\n"
     ]
    },
    {
     "name": "stdout",
     "output_type": "stream",
     "text": [
      "=> Saving checkpoint\n",
      "Validation Loss: 0.7190557420253754\n",
      "Got 5571666/6553600 with acc 85.02\n",
      "Dice score: 0.6197232007980347\n",
      "epoch: 1\n"
     ]
    },
    {
     "name": "stderr",
     "output_type": "stream",
     "text": [
      "100%|██████████| 82/82 [07:21<00:00,  5.39s/it, loss=0.279]\n"
     ]
    },
    {
     "name": "stdout",
     "output_type": "stream",
     "text": [
      "=> Saving checkpoint\n",
      "Validation Loss: 0.7133727967739105\n",
      "Got 5803998/6553600 with acc 88.56\n",
      "Dice score: 0.752073347568512\n",
      "epoch: 2\n"
     ]
    },
    {
     "name": "stderr",
     "output_type": "stream",
     "text": [
      "100%|██████████| 82/82 [07:20<00:00,  5.37s/it, loss=0.467]\n"
     ]
    },
    {
     "name": "stdout",
     "output_type": "stream",
     "text": [
      "=> Saving checkpoint\n",
      "Validation Loss: 0.7083177268505096\n",
      "Got 5601889/6553600 with acc 85.48\n",
      "Dice score: 0.7053214907646179\n",
      "Test Loss: 0.7060591150075197\n",
      "Got 54892664/65536000 with acc 83.76\n",
      "Dice score: 0.6162468791007996\n"
     ]
    },
    {
     "data": {
      "text/html": [
       "<style>\n",
       "    table.wandb td:nth-child(1) { padding: 0 10px; text-align: left ; width: auto;} td:nth-child(2) {text-align: left ; width: 100%}\n",
       "    .wandb-row { display: flex; flex-direction: row; flex-wrap: wrap; justify-content: flex-start; width: 100% }\n",
       "    .wandb-col { display: flex; flex-direction: column; flex-basis: 100%; flex: 1; padding: 10px; }\n",
       "    </style>\n",
       "<div class=\"wandb-row\"><div class=\"wandb-col\"><h3>Run history:</h3><br/><table class=\"wandb\"><tr><td>Dice Score</td><td>▁▇██</td></tr><tr><td>Pixel Accuracy</td><td>▁▆█▇</td></tr><tr><td>Test Dice Score</td><td>▁</td></tr><tr><td>Test Loss</td><td>▁</td></tr><tr><td>Test Pixel Accuracy</td><td>▁</td></tr><tr><td>Training Loss</td><td>█▅▅▄▅▃▄▃▃▃▃▃▂▂▂▂▃▂▃▃▃▂▃▂▂▁▁▂▂▁▂▂▁▁▁▁▁▁▁▅</td></tr><tr><td>Validation Loss</td><td>█▂▁▁</td></tr><tr><td>epoch</td><td>▁▅█</td></tr></table><br/></div><div class=\"wandb-col\"><h3>Run summary:</h3><br/><table class=\"wandb\"><tr><td>Dice Score</td><td>0.70532</td></tr><tr><td>MODEL</td><td>UNET</td></tr><tr><td>Pixel Accuracy</td><td>85.47804</td></tr><tr><td>Test Dice Score</td><td>0.61625</td></tr><tr><td>Test Loss</td><td>0.70606</td></tr><tr><td>Test Pixel Accuracy</td><td>83.75957</td></tr><tr><td>Training Loss</td><td>0.46701</td></tr><tr><td>Validation Loss</td><td>0.70832</td></tr><tr><td>epoch</td><td>2</td></tr></table><br/></div></div>"
      ],
      "text/plain": [
       "<IPython.core.display.HTML object>"
      ]
     },
     "metadata": {},
     "output_type": "display_data"
    },
    {
     "data": {
      "text/html": [
       " View run <strong style=\"color:#cdcd00\">daily-sweep-5</strong> at: <a href='https://wandb.ai/jooz-cave/unet-skin-lesion/runs/7mtxrxmz/workspace' target=\"_blank\">https://wandb.ai/jooz-cave/unet-skin-lesion/runs/7mtxrxmz/workspace</a><br/>Synced 5 W&B file(s), 0 media file(s), 0 artifact file(s) and 0 other file(s)"
      ],
      "text/plain": [
       "<IPython.core.display.HTML object>"
      ]
     },
     "metadata": {},
     "output_type": "display_data"
    },
    {
     "data": {
      "text/html": [
       "Find logs at: <code>.\\wandb\\run-20240412_014849-7mtxrxmz\\logs</code>"
      ],
      "text/plain": [
       "<IPython.core.display.HTML object>"
      ]
     },
     "metadata": {},
     "output_type": "display_data"
    },
    {
     "name": "stderr",
     "output_type": "stream",
     "text": [
      "\u001b[34m\u001b[1mwandb\u001b[0m: Agent Starting Run: 0xbb07wx with config:\n",
      "\u001b[34m\u001b[1mwandb\u001b[0m: \tbatch_size: 32\n",
      "\u001b[34m\u001b[1mwandb\u001b[0m: \tdropout_rate: 0.3\n",
      "\u001b[34m\u001b[1mwandb\u001b[0m: \tepochs: 3\n",
      "\u001b[34m\u001b[1mwandb\u001b[0m: \tkernel_size: 7\n",
      "\u001b[34m\u001b[1mwandb\u001b[0m: \tlearning_rate: 0.0001\n",
      "Failed to detect the name of this notebook, you can set it manually with the WANDB_NOTEBOOK_NAME environment variable to enable code saving.\n"
     ]
    },
    {
     "data": {
      "text/html": [
       "wandb version 0.16.6 is available!  To upgrade, please run:\n",
       " $ pip install wandb --upgrade"
      ],
      "text/plain": [
       "<IPython.core.display.HTML object>"
      ]
     },
     "metadata": {},
     "output_type": "display_data"
    },
    {
     "data": {
      "text/html": [
       "Tracking run with wandb version 0.16.5"
      ],
      "text/plain": [
       "<IPython.core.display.HTML object>"
      ]
     },
     "metadata": {},
     "output_type": "display_data"
    },
    {
     "data": {
      "text/html": [
       "Run data is saved locally in <code>c:\\Users\\jonta\\code\\school\\t8\\DeepLearning\\50.039-DL\\notebooks\\wandb\\run-20240412_021424-0xbb07wx</code>"
      ],
      "text/plain": [
       "<IPython.core.display.HTML object>"
      ]
     },
     "metadata": {},
     "output_type": "display_data"
    },
    {
     "data": {
      "text/html": [
       "Syncing run <strong><a href='https://wandb.ai/jooz-cave/unet-skin-lesion/runs/0xbb07wx/workspace' target=\"_blank\">ethereal-sweep-6</a></strong> to <a href='https://wandb.ai/jooz-cave/unet-skin-lesion' target=\"_blank\">Weights & Biases</a> (<a href='https://wandb.me/run' target=\"_blank\">docs</a>)<br/>Sweep page: <a href='https://wandb.ai/jooz-cave/unet-skin-lesion/sweeps/qjjguvd6' target=\"_blank\">https://wandb.ai/jooz-cave/unet-skin-lesion/sweeps/qjjguvd6</a>"
      ],
      "text/plain": [
       "<IPython.core.display.HTML object>"
      ]
     },
     "metadata": {},
     "output_type": "display_data"
    },
    {
     "data": {
      "text/html": [
       " View project at <a href='https://wandb.ai/jooz-cave/unet-skin-lesion' target=\"_blank\">https://wandb.ai/jooz-cave/unet-skin-lesion</a>"
      ],
      "text/plain": [
       "<IPython.core.display.HTML object>"
      ]
     },
     "metadata": {},
     "output_type": "display_data"
    },
    {
     "data": {
      "text/html": [
       " View sweep at <a href='https://wandb.ai/jooz-cave/unet-skin-lesion/sweeps/qjjguvd6' target=\"_blank\">https://wandb.ai/jooz-cave/unet-skin-lesion/sweeps/qjjguvd6</a>"
      ],
      "text/plain": [
       "<IPython.core.display.HTML object>"
      ]
     },
     "metadata": {},
     "output_type": "display_data"
    },
    {
     "data": {
      "text/html": [
       " View run at <a href='https://wandb.ai/jooz-cave/unet-skin-lesion/runs/0xbb07wx/workspace' target=\"_blank\">https://wandb.ai/jooz-cave/unet-skin-lesion/runs/0xbb07wx/workspace</a>"
      ],
      "text/plain": [
       "<IPython.core.display.HTML object>"
      ]
     },
     "metadata": {},
     "output_type": "display_data"
    },
    {
     "name": "stdout",
     "output_type": "stream",
     "text": [
      "Validation Loss: 0.8402461856603622\n",
      "Got 4795034/6553600 with acc 73.17\n",
      "Dice score: 0.0\n",
      "epoch: 0\n"
     ]
    },
    {
     "name": "stderr",
     "output_type": "stream",
     "text": [
      "100%|██████████| 82/82 [07:20<00:00,  5.37s/it, loss=0.363]\n"
     ]
    },
    {
     "name": "stdout",
     "output_type": "stream",
     "text": [
      "=> Saving checkpoint\n",
      "Validation Loss: 0.6916422247886658\n",
      "Got 5605807/6553600 with acc 85.54\n",
      "Dice score: 0.6444847583770752\n",
      "epoch: 1\n"
     ]
    },
    {
     "name": "stderr",
     "output_type": "stream",
     "text": [
      "100%|██████████| 82/82 [07:19<00:00,  5.35s/it, loss=0.284]\n"
     ]
    },
    {
     "name": "stdout",
     "output_type": "stream",
     "text": [
      "=> Saving checkpoint\n",
      "Validation Loss: 0.6937028169631958\n",
      "Got 5871672/6553600 with acc 89.59\n",
      "Dice score: 0.7967862486839294\n",
      "epoch: 2\n"
     ]
    },
    {
     "name": "stderr",
     "output_type": "stream",
     "text": [
      "100%|██████████| 82/82 [07:18<00:00,  5.35s/it, loss=0.422]\n"
     ]
    },
    {
     "name": "stdout",
     "output_type": "stream",
     "text": [
      "=> Saving checkpoint\n",
      "Validation Loss: 0.6860107034444809\n",
      "Got 5833857/6553600 with acc 89.02\n",
      "Dice score: 0.7783963084220886\n",
      "Test Loss: 0.6834313347935677\n",
      "Got 57025654/65536000 with acc 87.01\n",
      "Dice score: 0.710665762424469\n"
     ]
    },
    {
     "data": {
      "text/html": [
       "<style>\n",
       "    table.wandb td:nth-child(1) { padding: 0 10px; text-align: left ; width: auto;} td:nth-child(2) {text-align: left ; width: 100%}\n",
       "    .wandb-row { display: flex; flex-direction: row; flex-wrap: wrap; justify-content: flex-start; width: 100% }\n",
       "    .wandb-col { display: flex; flex-direction: column; flex-basis: 100%; flex: 1; padding: 10px; }\n",
       "    </style>\n",
       "<div class=\"wandb-row\"><div class=\"wandb-col\"><h3>Run history:</h3><br/><table class=\"wandb\"><tr><td>Dice Score</td><td>▁▇██</td></tr><tr><td>Pixel Accuracy</td><td>▁▆██</td></tr><tr><td>Test Dice Score</td><td>▁</td></tr><tr><td>Test Loss</td><td>▁</td></tr><tr><td>Test Pixel Accuracy</td><td>▁</td></tr><tr><td>Training Loss</td><td>█▆▅▆▄▄▄▂▃▂▃▂▃▄▃▃▂▂▂▃▂▂▂▁▂▃▂▂▂▃▂▂▂▂▁▂▂▁▂▅</td></tr><tr><td>Validation Loss</td><td>█▁▁▁</td></tr><tr><td>epoch</td><td>▁▅█</td></tr></table><br/></div><div class=\"wandb-col\"><h3>Run summary:</h3><br/><table class=\"wandb\"><tr><td>Dice Score</td><td>0.7784</td></tr><tr><td>MODEL</td><td>UNET</td></tr><tr><td>Pixel Accuracy</td><td>89.01759</td></tr><tr><td>Test Dice Score</td><td>0.71067</td></tr><tr><td>Test Loss</td><td>0.68343</td></tr><tr><td>Test Pixel Accuracy</td><td>87.01425</td></tr><tr><td>Training Loss</td><td>0.4224</td></tr><tr><td>Validation Loss</td><td>0.68601</td></tr><tr><td>epoch</td><td>2</td></tr></table><br/></div></div>"
      ],
      "text/plain": [
       "<IPython.core.display.HTML object>"
      ]
     },
     "metadata": {},
     "output_type": "display_data"
    },
    {
     "data": {
      "text/html": [
       " View run <strong style=\"color:#cdcd00\">ethereal-sweep-6</strong> at: <a href='https://wandb.ai/jooz-cave/unet-skin-lesion/runs/0xbb07wx/workspace' target=\"_blank\">https://wandb.ai/jooz-cave/unet-skin-lesion/runs/0xbb07wx/workspace</a><br/>Synced 5 W&B file(s), 0 media file(s), 0 artifact file(s) and 0 other file(s)"
      ],
      "text/plain": [
       "<IPython.core.display.HTML object>"
      ]
     },
     "metadata": {},
     "output_type": "display_data"
    },
    {
     "data": {
      "text/html": [
       "Find logs at: <code>.\\wandb\\run-20240412_021424-0xbb07wx\\logs</code>"
      ],
      "text/plain": [
       "<IPython.core.display.HTML object>"
      ]
     },
     "metadata": {},
     "output_type": "display_data"
    },
    {
     "name": "stderr",
     "output_type": "stream",
     "text": [
      "\u001b[34m\u001b[1mwandb\u001b[0m: Agent Starting Run: wzsgsshx with config:\n",
      "\u001b[34m\u001b[1mwandb\u001b[0m: \tbatch_size: 64\n",
      "\u001b[34m\u001b[1mwandb\u001b[0m: \tdropout_rate: 0.2\n",
      "\u001b[34m\u001b[1mwandb\u001b[0m: \tepochs: 3\n",
      "\u001b[34m\u001b[1mwandb\u001b[0m: \tkernel_size: 7\n",
      "\u001b[34m\u001b[1mwandb\u001b[0m: \tlearning_rate: 0.0001\n",
      "Failed to detect the name of this notebook, you can set it manually with the WANDB_NOTEBOOK_NAME environment variable to enable code saving.\n"
     ]
    },
    {
     "data": {
      "text/html": [
       "wandb version 0.16.6 is available!  To upgrade, please run:\n",
       " $ pip install wandb --upgrade"
      ],
      "text/plain": [
       "<IPython.core.display.HTML object>"
      ]
     },
     "metadata": {},
     "output_type": "display_data"
    },
    {
     "data": {
      "text/html": [
       "Tracking run with wandb version 0.16.5"
      ],
      "text/plain": [
       "<IPython.core.display.HTML object>"
      ]
     },
     "metadata": {},
     "output_type": "display_data"
    },
    {
     "data": {
      "text/html": [
       "Run data is saved locally in <code>c:\\Users\\jonta\\code\\school\\t8\\DeepLearning\\50.039-DL\\notebooks\\wandb\\run-20240412_023955-wzsgsshx</code>"
      ],
      "text/plain": [
       "<IPython.core.display.HTML object>"
      ]
     },
     "metadata": {},
     "output_type": "display_data"
    },
    {
     "data": {
      "text/html": [
       "Syncing run <strong><a href='https://wandb.ai/jooz-cave/unet-skin-lesion/runs/wzsgsshx/workspace' target=\"_blank\">lyric-sweep-7</a></strong> to <a href='https://wandb.ai/jooz-cave/unet-skin-lesion' target=\"_blank\">Weights & Biases</a> (<a href='https://wandb.me/run' target=\"_blank\">docs</a>)<br/>Sweep page: <a href='https://wandb.ai/jooz-cave/unet-skin-lesion/sweeps/qjjguvd6' target=\"_blank\">https://wandb.ai/jooz-cave/unet-skin-lesion/sweeps/qjjguvd6</a>"
      ],
      "text/plain": [
       "<IPython.core.display.HTML object>"
      ]
     },
     "metadata": {},
     "output_type": "display_data"
    },
    {
     "data": {
      "text/html": [
       " View project at <a href='https://wandb.ai/jooz-cave/unet-skin-lesion' target=\"_blank\">https://wandb.ai/jooz-cave/unet-skin-lesion</a>"
      ],
      "text/plain": [
       "<IPython.core.display.HTML object>"
      ]
     },
     "metadata": {},
     "output_type": "display_data"
    },
    {
     "data": {
      "text/html": [
       " View sweep at <a href='https://wandb.ai/jooz-cave/unet-skin-lesion/sweeps/qjjguvd6' target=\"_blank\">https://wandb.ai/jooz-cave/unet-skin-lesion/sweeps/qjjguvd6</a>"
      ],
      "text/plain": [
       "<IPython.core.display.HTML object>"
      ]
     },
     "metadata": {},
     "output_type": "display_data"
    },
    {
     "data": {
      "text/html": [
       " View run at <a href='https://wandb.ai/jooz-cave/unet-skin-lesion/runs/wzsgsshx/workspace' target=\"_blank\">https://wandb.ai/jooz-cave/unet-skin-lesion/runs/wzsgsshx/workspace</a>"
      ],
      "text/plain": [
       "<IPython.core.display.HTML object>"
      ]
     },
     "metadata": {},
     "output_type": "display_data"
    },
    {
     "name": "stdout",
     "output_type": "stream",
     "text": [
      "Validation Loss: 0.8353988528251648\n",
      "Got 4795034/6553600 with acc 73.17\n",
      "Dice score: 0.0\n",
      "epoch: 0\n"
     ]
    },
    {
     "name": "stderr",
     "output_type": "stream",
     "text": [
      "100%|██████████| 41/41 [07:20<00:00, 10.73s/it, loss=0.33] \n"
     ]
    },
    {
     "name": "stdout",
     "output_type": "stream",
     "text": [
      "=> Saving checkpoint\n",
      "Validation Loss: 0.6970514059066772\n",
      "Got 5314089/6553600 with acc 81.09\n",
      "Dice score: 0.4858662486076355\n",
      "epoch: 1\n"
     ]
    },
    {
     "name": "stderr",
     "output_type": "stream",
     "text": [
      "100%|██████████| 41/41 [07:20<00:00, 10.76s/it, loss=0.285]\n"
     ]
    },
    {
     "name": "stdout",
     "output_type": "stream",
     "text": [
      "=> Saving checkpoint\n",
      "Validation Loss: 0.6890992820262909\n",
      "Got 5784112/6553600 with acc 88.26\n",
      "Dice score: 0.7362862229347229\n",
      "epoch: 2\n"
     ]
    },
    {
     "name": "stderr",
     "output_type": "stream",
     "text": [
      "100%|██████████| 41/41 [07:17<00:00, 10.68s/it, loss=0.256]\n"
     ]
    },
    {
     "name": "stdout",
     "output_type": "stream",
     "text": [
      "=> Saving checkpoint\n",
      "Validation Loss: 0.6817010045051575\n",
      "Got 5925399/6553600 with acc 90.41\n",
      "Dice score: 0.7950698137283325\n",
      "Test Loss: 0.6820922940969467\n",
      "Got 57440630/65536000 with acc 87.65\n",
      "Dice score: 0.7410404086112976\n"
     ]
    },
    {
     "data": {
      "text/html": [
       "<style>\n",
       "    table.wandb td:nth-child(1) { padding: 0 10px; text-align: left ; width: auto;} td:nth-child(2) {text-align: left ; width: 100%}\n",
       "    .wandb-row { display: flex; flex-direction: row; flex-wrap: wrap; justify-content: flex-start; width: 100% }\n",
       "    .wandb-col { display: flex; flex-direction: column; flex-basis: 100%; flex: 1; padding: 10px; }\n",
       "    </style>\n",
       "<div class=\"wandb-row\"><div class=\"wandb-col\"><h3>Run history:</h3><br/><table class=\"wandb\"><tr><td>Dice Score</td><td>▁▅▇█</td></tr><tr><td>Pixel Accuracy</td><td>▁▄▇█</td></tr><tr><td>Test Dice Score</td><td>▁</td></tr><tr><td>Test Loss</td><td>▁</td></tr><tr><td>Test Pixel Accuracy</td><td>▁</td></tr><tr><td>Training Loss</td><td>█▆▆▄▄▄▄▃▃▂▃▂▂▃▂▃▂▂▂▂▂▂▃▂▂▂▂▁▁▁▂▂▁▂▂▁▁▁▂▂</td></tr><tr><td>Validation Loss</td><td>█▂▁▁</td></tr><tr><td>epoch</td><td>▁▅█</td></tr></table><br/></div><div class=\"wandb-col\"><h3>Run summary:</h3><br/><table class=\"wandb\"><tr><td>Dice Score</td><td>0.79507</td></tr><tr><td>MODEL</td><td>UNET</td></tr><tr><td>Pixel Accuracy</td><td>90.41441</td></tr><tr><td>Test Dice Score</td><td>0.74104</td></tr><tr><td>Test Loss</td><td>0.68209</td></tr><tr><td>Test Pixel Accuracy</td><td>87.64745</td></tr><tr><td>Training Loss</td><td>0.25613</td></tr><tr><td>Validation Loss</td><td>0.6817</td></tr><tr><td>epoch</td><td>2</td></tr></table><br/></div></div>"
      ],
      "text/plain": [
       "<IPython.core.display.HTML object>"
      ]
     },
     "metadata": {},
     "output_type": "display_data"
    },
    {
     "data": {
      "text/html": [
       " View run <strong style=\"color:#cdcd00\">lyric-sweep-7</strong> at: <a href='https://wandb.ai/jooz-cave/unet-skin-lesion/runs/wzsgsshx/workspace' target=\"_blank\">https://wandb.ai/jooz-cave/unet-skin-lesion/runs/wzsgsshx/workspace</a><br/>Synced 5 W&B file(s), 0 media file(s), 0 artifact file(s) and 0 other file(s)"
      ],
      "text/plain": [
       "<IPython.core.display.HTML object>"
      ]
     },
     "metadata": {},
     "output_type": "display_data"
    },
    {
     "data": {
      "text/html": [
       "Find logs at: <code>.\\wandb\\run-20240412_023955-wzsgsshx\\logs</code>"
      ],
      "text/plain": [
       "<IPython.core.display.HTML object>"
      ]
     },
     "metadata": {},
     "output_type": "display_data"
    },
    {
     "name": "stderr",
     "output_type": "stream",
     "text": [
      "\u001b[34m\u001b[1mwandb\u001b[0m: Agent Starting Run: sjlx9q01 with config:\n",
      "\u001b[34m\u001b[1mwandb\u001b[0m: \tbatch_size: 64\n",
      "\u001b[34m\u001b[1mwandb\u001b[0m: \tdropout_rate: 0.3\n",
      "\u001b[34m\u001b[1mwandb\u001b[0m: \tepochs: 3\n",
      "\u001b[34m\u001b[1mwandb\u001b[0m: \tkernel_size: 7\n",
      "\u001b[34m\u001b[1mwandb\u001b[0m: \tlearning_rate: 0.0001\n",
      "Failed to detect the name of this notebook, you can set it manually with the WANDB_NOTEBOOK_NAME environment variable to enable code saving.\n"
     ]
    },
    {
     "data": {
      "text/html": [
       "wandb version 0.16.6 is available!  To upgrade, please run:\n",
       " $ pip install wandb --upgrade"
      ],
      "text/plain": [
       "<IPython.core.display.HTML object>"
      ]
     },
     "metadata": {},
     "output_type": "display_data"
    },
    {
     "data": {
      "text/html": [
       "Tracking run with wandb version 0.16.5"
      ],
      "text/plain": [
       "<IPython.core.display.HTML object>"
      ]
     },
     "metadata": {},
     "output_type": "display_data"
    },
    {
     "data": {
      "text/html": [
       "Run data is saved locally in <code>c:\\Users\\jonta\\code\\school\\t8\\DeepLearning\\50.039-DL\\notebooks\\wandb\\run-20240412_030521-sjlx9q01</code>"
      ],
      "text/plain": [
       "<IPython.core.display.HTML object>"
      ]
     },
     "metadata": {},
     "output_type": "display_data"
    },
    {
     "data": {
      "text/html": [
       "Syncing run <strong><a href='https://wandb.ai/jooz-cave/unet-skin-lesion/runs/sjlx9q01/workspace' target=\"_blank\">silver-sweep-8</a></strong> to <a href='https://wandb.ai/jooz-cave/unet-skin-lesion' target=\"_blank\">Weights & Biases</a> (<a href='https://wandb.me/run' target=\"_blank\">docs</a>)<br/>Sweep page: <a href='https://wandb.ai/jooz-cave/unet-skin-lesion/sweeps/qjjguvd6' target=\"_blank\">https://wandb.ai/jooz-cave/unet-skin-lesion/sweeps/qjjguvd6</a>"
      ],
      "text/plain": [
       "<IPython.core.display.HTML object>"
      ]
     },
     "metadata": {},
     "output_type": "display_data"
    },
    {
     "data": {
      "text/html": [
       " View project at <a href='https://wandb.ai/jooz-cave/unet-skin-lesion' target=\"_blank\">https://wandb.ai/jooz-cave/unet-skin-lesion</a>"
      ],
      "text/plain": [
       "<IPython.core.display.HTML object>"
      ]
     },
     "metadata": {},
     "output_type": "display_data"
    },
    {
     "data": {
      "text/html": [
       " View sweep at <a href='https://wandb.ai/jooz-cave/unet-skin-lesion/sweeps/qjjguvd6' target=\"_blank\">https://wandb.ai/jooz-cave/unet-skin-lesion/sweeps/qjjguvd6</a>"
      ],
      "text/plain": [
       "<IPython.core.display.HTML object>"
      ]
     },
     "metadata": {},
     "output_type": "display_data"
    },
    {
     "data": {
      "text/html": [
       " View run at <a href='https://wandb.ai/jooz-cave/unet-skin-lesion/runs/sjlx9q01/workspace' target=\"_blank\">https://wandb.ai/jooz-cave/unet-skin-lesion/runs/sjlx9q01/workspace</a>"
      ],
      "text/plain": [
       "<IPython.core.display.HTML object>"
      ]
     },
     "metadata": {},
     "output_type": "display_data"
    },
    {
     "name": "stdout",
     "output_type": "stream",
     "text": [
      "Validation Loss: 0.8433244824409485\n",
      "Got 4323033/6553600 with acc 65.96\n",
      "Dice score: 0.025412965565919876\n",
      "epoch: 0\n"
     ]
    },
    {
     "name": "stderr",
     "output_type": "stream",
     "text": [
      "100%|██████████| 41/41 [07:14<00:00, 10.60s/it, loss=0.372]\n"
     ]
    },
    {
     "name": "stdout",
     "output_type": "stream",
     "text": [
      "=> Saving checkpoint\n",
      "Validation Loss: 0.7211865782737732\n",
      "Got 5730069/6553600 with acc 87.43\n",
      "Dice score: 0.6673147678375244\n",
      "epoch: 1\n"
     ]
    },
    {
     "name": "stderr",
     "output_type": "stream",
     "text": [
      "100%|██████████| 41/41 [07:15<00:00, 10.62s/it, loss=0.336]\n"
     ]
    },
    {
     "name": "stdout",
     "output_type": "stream",
     "text": [
      "=> Saving checkpoint\n",
      "Validation Loss: 0.709406316280365\n",
      "Got 5788749/6553600 with acc 88.33\n",
      "Dice score: 0.7205951809883118\n",
      "epoch: 2\n"
     ]
    },
    {
     "name": "stderr",
     "output_type": "stream",
     "text": [
      "100%|██████████| 41/41 [07:14<00:00, 10.60s/it, loss=0.26] \n"
     ]
    },
    {
     "name": "stdout",
     "output_type": "stream",
     "text": [
      "=> Saving checkpoint\n",
      "Validation Loss: 0.7080486118793488\n",
      "Got 5587687/6553600 with acc 85.26\n",
      "Dice score: 0.634728729724884\n",
      "Test Loss: 0.7063132263720036\n",
      "Got 54412325/65536000 with acc 83.03\n",
      "Dice score: 0.5788559913635254\n"
     ]
    },
    {
     "data": {
      "text/html": [
       "<style>\n",
       "    table.wandb td:nth-child(1) { padding: 0 10px; text-align: left ; width: auto;} td:nth-child(2) {text-align: left ; width: 100%}\n",
       "    .wandb-row { display: flex; flex-direction: row; flex-wrap: wrap; justify-content: flex-start; width: 100% }\n",
       "    .wandb-col { display: flex; flex-direction: column; flex-basis: 100%; flex: 1; padding: 10px; }\n",
       "    </style>\n",
       "<div class=\"wandb-row\"><div class=\"wandb-col\"><h3>Run history:</h3><br/><table class=\"wandb\"><tr><td>Dice Score</td><td>▁▇█▇</td></tr><tr><td>Pixel Accuracy</td><td>▁██▇</td></tr><tr><td>Test Dice Score</td><td>▁</td></tr><tr><td>Test Loss</td><td>▁</td></tr><tr><td>Test Pixel Accuracy</td><td>▁</td></tr><tr><td>Training Loss</td><td>█▅▅▄▄▃▃▃▃▃▂▂▃▃▃▃▂▂▂▂▂▂▂▂▂▂▂▂▂▂▂▂▂▁▂▂▁▂▁▁</td></tr><tr><td>Validation Loss</td><td>█▂▁▁</td></tr><tr><td>epoch</td><td>▁▅█</td></tr></table><br/></div><div class=\"wandb-col\"><h3>Run summary:</h3><br/><table class=\"wandb\"><tr><td>Dice Score</td><td>0.63473</td></tr><tr><td>MODEL</td><td>UNET</td></tr><tr><td>Pixel Accuracy</td><td>85.26133</td></tr><tr><td>Test Dice Score</td><td>0.57886</td></tr><tr><td>Test Loss</td><td>0.70631</td></tr><tr><td>Test Pixel Accuracy</td><td>83.02663</td></tr><tr><td>Training Loss</td><td>0.26039</td></tr><tr><td>Validation Loss</td><td>0.70805</td></tr><tr><td>epoch</td><td>2</td></tr></table><br/></div></div>"
      ],
      "text/plain": [
       "<IPython.core.display.HTML object>"
      ]
     },
     "metadata": {},
     "output_type": "display_data"
    },
    {
     "data": {
      "text/html": [
       " View run <strong style=\"color:#cdcd00\">silver-sweep-8</strong> at: <a href='https://wandb.ai/jooz-cave/unet-skin-lesion/runs/sjlx9q01/workspace' target=\"_blank\">https://wandb.ai/jooz-cave/unet-skin-lesion/runs/sjlx9q01/workspace</a><br/>Synced 5 W&B file(s), 0 media file(s), 0 artifact file(s) and 0 other file(s)"
      ],
      "text/plain": [
       "<IPython.core.display.HTML object>"
      ]
     },
     "metadata": {},
     "output_type": "display_data"
    },
    {
     "data": {
      "text/html": [
       "Find logs at: <code>.\\wandb\\run-20240412_030521-sjlx9q01\\logs</code>"
      ],
      "text/plain": [
       "<IPython.core.display.HTML object>"
      ]
     },
     "metadata": {},
     "output_type": "display_data"
    },
    {
     "name": "stderr",
     "output_type": "stream",
     "text": [
      "\u001b[34m\u001b[1mwandb\u001b[0m: Agent Starting Run: 9fx2ethg with config:\n",
      "\u001b[34m\u001b[1mwandb\u001b[0m: \tbatch_size: 16\n",
      "\u001b[34m\u001b[1mwandb\u001b[0m: \tdropout_rate: 0.1\n",
      "\u001b[34m\u001b[1mwandb\u001b[0m: \tepochs: 3\n",
      "\u001b[34m\u001b[1mwandb\u001b[0m: \tkernel_size: 7\n",
      "\u001b[34m\u001b[1mwandb\u001b[0m: \tlearning_rate: 0.0001\n",
      "Failed to detect the name of this notebook, you can set it manually with the WANDB_NOTEBOOK_NAME environment variable to enable code saving.\n"
     ]
    },
    {
     "data": {
      "text/html": [
       "wandb version 0.16.6 is available!  To upgrade, please run:\n",
       " $ pip install wandb --upgrade"
      ],
      "text/plain": [
       "<IPython.core.display.HTML object>"
      ]
     },
     "metadata": {},
     "output_type": "display_data"
    },
    {
     "data": {
      "text/html": [
       "Tracking run with wandb version 0.16.5"
      ],
      "text/plain": [
       "<IPython.core.display.HTML object>"
      ]
     },
     "metadata": {},
     "output_type": "display_data"
    },
    {
     "data": {
      "text/html": [
       "Run data is saved locally in <code>c:\\Users\\jonta\\code\\school\\t8\\DeepLearning\\50.039-DL\\notebooks\\wandb\\run-20240412_033031-9fx2ethg</code>"
      ],
      "text/plain": [
       "<IPython.core.display.HTML object>"
      ]
     },
     "metadata": {},
     "output_type": "display_data"
    },
    {
     "data": {
      "text/html": [
       "Syncing run <strong><a href='https://wandb.ai/jooz-cave/unet-skin-lesion/runs/9fx2ethg/workspace' target=\"_blank\">clean-sweep-9</a></strong> to <a href='https://wandb.ai/jooz-cave/unet-skin-lesion' target=\"_blank\">Weights & Biases</a> (<a href='https://wandb.me/run' target=\"_blank\">docs</a>)<br/>Sweep page: <a href='https://wandb.ai/jooz-cave/unet-skin-lesion/sweeps/qjjguvd6' target=\"_blank\">https://wandb.ai/jooz-cave/unet-skin-lesion/sweeps/qjjguvd6</a>"
      ],
      "text/plain": [
       "<IPython.core.display.HTML object>"
      ]
     },
     "metadata": {},
     "output_type": "display_data"
    },
    {
     "data": {
      "text/html": [
       " View project at <a href='https://wandb.ai/jooz-cave/unet-skin-lesion' target=\"_blank\">https://wandb.ai/jooz-cave/unet-skin-lesion</a>"
      ],
      "text/plain": [
       "<IPython.core.display.HTML object>"
      ]
     },
     "metadata": {},
     "output_type": "display_data"
    },
    {
     "data": {
      "text/html": [
       " View sweep at <a href='https://wandb.ai/jooz-cave/unet-skin-lesion/sweeps/qjjguvd6' target=\"_blank\">https://wandb.ai/jooz-cave/unet-skin-lesion/sweeps/qjjguvd6</a>"
      ],
      "text/plain": [
       "<IPython.core.display.HTML object>"
      ]
     },
     "metadata": {},
     "output_type": "display_data"
    },
    {
     "data": {
      "text/html": [
       " View run at <a href='https://wandb.ai/jooz-cave/unet-skin-lesion/runs/9fx2ethg/workspace' target=\"_blank\">https://wandb.ai/jooz-cave/unet-skin-lesion/runs/9fx2ethg/workspace</a>"
      ],
      "text/plain": [
       "<IPython.core.display.HTML object>"
      ]
     },
     "metadata": {},
     "output_type": "display_data"
    },
    {
     "name": "stdout",
     "output_type": "stream",
     "text": [
      "Validation Loss: 0.8427083577428546\n",
      "Got 4795034/6553600 with acc 73.17\n",
      "Dice score: 0.0\n",
      "epoch: 0\n"
     ]
    },
    {
     "name": "stderr",
     "output_type": "stream",
     "text": [
      "100%|██████████| 163/163 [07:30<00:00,  2.76s/it, loss=0.445]\n"
     ]
    },
    {
     "name": "stdout",
     "output_type": "stream",
     "text": [
      "=> Saving checkpoint\n",
      "Validation Loss: 0.7253973313740322\n",
      "Got 5600936/6553600 with acc 85.46\n",
      "Dice score: 0.7066241502761841\n",
      "epoch: 1\n"
     ]
    },
    {
     "name": "stderr",
     "output_type": "stream",
     "text": [
      "100%|██████████| 163/163 [07:26<00:00,  2.74s/it, loss=0.687]\n"
     ]
    },
    {
     "name": "stdout",
     "output_type": "stream",
     "text": [
      "=> Saving checkpoint\n",
      "Validation Loss: 0.7073010035923549\n",
      "Got 5754125/6553600 with acc 87.80\n",
      "Dice score: 0.7751680612564087\n",
      "epoch: 2\n"
     ]
    },
    {
     "name": "stderr",
     "output_type": "stream",
     "text": [
      "100%|██████████| 163/163 [07:30<00:00,  2.76s/it, loss=0.528]\n"
     ]
    },
    {
     "name": "stdout",
     "output_type": "stream",
     "text": [
      "=> Saving checkpoint\n",
      "Validation Loss: 0.6943578720092773\n",
      "Got 5703004/6553600 with acc 87.02\n",
      "Dice score: 0.7588469982147217\n",
      "Test Loss: 0.6874124133397662\n",
      "Got 56565994/65536000 with acc 86.31\n",
      "Dice score: 0.7436890602111816\n"
     ]
    },
    {
     "data": {
      "text/html": [
       "<style>\n",
       "    table.wandb td:nth-child(1) { padding: 0 10px; text-align: left ; width: auto;} td:nth-child(2) {text-align: left ; width: 100%}\n",
       "    .wandb-row { display: flex; flex-direction: row; flex-wrap: wrap; justify-content: flex-start; width: 100% }\n",
       "    .wandb-col { display: flex; flex-direction: column; flex-basis: 100%; flex: 1; padding: 10px; }\n",
       "    </style>\n",
       "<div class=\"wandb-row\"><div class=\"wandb-col\"><h3>Run history:</h3><br/><table class=\"wandb\"><tr><td>Dice Score</td><td>▁▇██</td></tr><tr><td>Pixel Accuracy</td><td>▁▇██</td></tr><tr><td>Test Dice Score</td><td>▁</td></tr><tr><td>Test Loss</td><td>▁</td></tr><tr><td>Test Pixel Accuracy</td><td>▁</td></tr><tr><td>Training Loss</td><td>█▄▇▄▅▆▄▅▅▅▄▃▄▃▃▂▂▂▃▂▁▂▄▁▂▂▁▂▂▆▂▁▃▁▂▄▃▁▁▁</td></tr><tr><td>Validation Loss</td><td>█▂▂▁</td></tr><tr><td>epoch</td><td>▁▅█</td></tr></table><br/></div><div class=\"wandb-col\"><h3>Run summary:</h3><br/><table class=\"wandb\"><tr><td>Dice Score</td><td>0.75885</td></tr><tr><td>MODEL</td><td>UNET</td></tr><tr><td>Pixel Accuracy</td><td>87.02094</td></tr><tr><td>Test Dice Score</td><td>0.74369</td></tr><tr><td>Test Loss</td><td>0.68741</td></tr><tr><td>Test Pixel Accuracy</td><td>86.31286</td></tr><tr><td>Training Loss</td><td>0.52788</td></tr><tr><td>Validation Loss</td><td>0.69436</td></tr><tr><td>epoch</td><td>2</td></tr></table><br/></div></div>"
      ],
      "text/plain": [
       "<IPython.core.display.HTML object>"
      ]
     },
     "metadata": {},
     "output_type": "display_data"
    },
    {
     "data": {
      "text/html": [
       " View run <strong style=\"color:#cdcd00\">clean-sweep-9</strong> at: <a href='https://wandb.ai/jooz-cave/unet-skin-lesion/runs/9fx2ethg/workspace' target=\"_blank\">https://wandb.ai/jooz-cave/unet-skin-lesion/runs/9fx2ethg/workspace</a><br/>Synced 5 W&B file(s), 0 media file(s), 0 artifact file(s) and 0 other file(s)"
      ],
      "text/plain": [
       "<IPython.core.display.HTML object>"
      ]
     },
     "metadata": {},
     "output_type": "display_data"
    },
    {
     "data": {
      "text/html": [
       "Find logs at: <code>.\\wandb\\run-20240412_033031-9fx2ethg\\logs</code>"
      ],
      "text/plain": [
       "<IPython.core.display.HTML object>"
      ]
     },
     "metadata": {},
     "output_type": "display_data"
    },
    {
     "name": "stderr",
     "output_type": "stream",
     "text": [
      "\u001b[34m\u001b[1mwandb\u001b[0m: Agent Starting Run: sjffu04b with config:\n",
      "\u001b[34m\u001b[1mwandb\u001b[0m: \tbatch_size: 32\n",
      "\u001b[34m\u001b[1mwandb\u001b[0m: \tdropout_rate: 0\n",
      "\u001b[34m\u001b[1mwandb\u001b[0m: \tepochs: 3\n",
      "\u001b[34m\u001b[1mwandb\u001b[0m: \tkernel_size: 7\n",
      "\u001b[34m\u001b[1mwandb\u001b[0m: \tlearning_rate: 0.0001\n",
      "Failed to detect the name of this notebook, you can set it manually with the WANDB_NOTEBOOK_NAME environment variable to enable code saving.\n"
     ]
    },
    {
     "data": {
      "text/html": [
       "wandb version 0.16.6 is available!  To upgrade, please run:\n",
       " $ pip install wandb --upgrade"
      ],
      "text/plain": [
       "<IPython.core.display.HTML object>"
      ]
     },
     "metadata": {},
     "output_type": "display_data"
    },
    {
     "data": {
      "text/html": [
       "Tracking run with wandb version 0.16.5"
      ],
      "text/plain": [
       "<IPython.core.display.HTML object>"
      ]
     },
     "metadata": {},
     "output_type": "display_data"
    },
    {
     "data": {
      "text/html": [
       "Run data is saved locally in <code>c:\\Users\\jonta\\code\\school\\t8\\DeepLearning\\50.039-DL\\notebooks\\wandb\\run-20240412_035630-sjffu04b</code>"
      ],
      "text/plain": [
       "<IPython.core.display.HTML object>"
      ]
     },
     "metadata": {},
     "output_type": "display_data"
    },
    {
     "data": {
      "text/html": [
       "Syncing run <strong><a href='https://wandb.ai/jooz-cave/unet-skin-lesion/runs/sjffu04b/workspace' target=\"_blank\">dazzling-sweep-10</a></strong> to <a href='https://wandb.ai/jooz-cave/unet-skin-lesion' target=\"_blank\">Weights & Biases</a> (<a href='https://wandb.me/run' target=\"_blank\">docs</a>)<br/>Sweep page: <a href='https://wandb.ai/jooz-cave/unet-skin-lesion/sweeps/qjjguvd6' target=\"_blank\">https://wandb.ai/jooz-cave/unet-skin-lesion/sweeps/qjjguvd6</a>"
      ],
      "text/plain": [
       "<IPython.core.display.HTML object>"
      ]
     },
     "metadata": {},
     "output_type": "display_data"
    },
    {
     "data": {
      "text/html": [
       " View project at <a href='https://wandb.ai/jooz-cave/unet-skin-lesion' target=\"_blank\">https://wandb.ai/jooz-cave/unet-skin-lesion</a>"
      ],
      "text/plain": [
       "<IPython.core.display.HTML object>"
      ]
     },
     "metadata": {},
     "output_type": "display_data"
    },
    {
     "data": {
      "text/html": [
       " View sweep at <a href='https://wandb.ai/jooz-cave/unet-skin-lesion/sweeps/qjjguvd6' target=\"_blank\">https://wandb.ai/jooz-cave/unet-skin-lesion/sweeps/qjjguvd6</a>"
      ],
      "text/plain": [
       "<IPython.core.display.HTML object>"
      ]
     },
     "metadata": {},
     "output_type": "display_data"
    },
    {
     "data": {
      "text/html": [
       " View run at <a href='https://wandb.ai/jooz-cave/unet-skin-lesion/runs/sjffu04b/workspace' target=\"_blank\">https://wandb.ai/jooz-cave/unet-skin-lesion/runs/sjffu04b/workspace</a>"
      ],
      "text/plain": [
       "<IPython.core.display.HTML object>"
      ]
     },
     "metadata": {},
     "output_type": "display_data"
    },
    {
     "name": "stdout",
     "output_type": "stream",
     "text": [
      "Validation Loss: 0.8562798053026199\n",
      "Got 1758566/6553600 with acc 26.83\n",
      "Dice score: 0.4006953835487366\n",
      "epoch: 0\n"
     ]
    },
    {
     "name": "stderr",
     "output_type": "stream",
     "text": [
      "100%|██████████| 82/82 [07:19<00:00,  5.36s/it, loss=0.382]\n"
     ]
    },
    {
     "name": "stdout",
     "output_type": "stream",
     "text": [
      "=> Saving checkpoint\n",
      "Validation Loss: 0.7458129674196243\n",
      "Got 5392758/6553600 with acc 82.29\n",
      "Dice score: 0.7323070764541626\n",
      "epoch: 1\n"
     ]
    },
    {
     "name": "stderr",
     "output_type": "stream",
     "text": [
      "100%|██████████| 82/82 [07:19<00:00,  5.35s/it, loss=0.385]\n"
     ]
    },
    {
     "name": "stdout",
     "output_type": "stream",
     "text": [
      "=> Saving checkpoint\n",
      "Validation Loss: 0.7827962636947632\n",
      "Got 5153726/6553600 with acc 78.64\n",
      "Dice score: 0.7012159824371338\n",
      "epoch: 2\n"
     ]
    },
    {
     "name": "stderr",
     "output_type": "stream",
     "text": [
      "100%|██████████| 82/82 [07:19<00:00,  5.37s/it, loss=0.362]\n"
     ]
    },
    {
     "name": "stdout",
     "output_type": "stream",
     "text": [
      "=> Saving checkpoint\n",
      "Validation Loss: 0.7220499366521835\n",
      "Got 5851733/6553600 with acc 89.29\n",
      "Dice score: 0.809874415397644\n",
      "Test Loss: 0.7152250241488218\n",
      "Got 57342611/65536000 with acc 87.50\n",
      "Dice score: 0.765572190284729\n"
     ]
    },
    {
     "data": {
      "text/html": [
       "<style>\n",
       "    table.wandb td:nth-child(1) { padding: 0 10px; text-align: left ; width: auto;} td:nth-child(2) {text-align: left ; width: 100%}\n",
       "    .wandb-row { display: flex; flex-direction: row; flex-wrap: wrap; justify-content: flex-start; width: 100% }\n",
       "    .wandb-col { display: flex; flex-direction: column; flex-basis: 100%; flex: 1; padding: 10px; }\n",
       "    </style>\n",
       "<div class=\"wandb-row\"><div class=\"wandb-col\"><h3>Run history:</h3><br/><table class=\"wandb\"><tr><td>Dice Score</td><td>▁▇▆█</td></tr><tr><td>Pixel Accuracy</td><td>▁▇▇█</td></tr><tr><td>Test Dice Score</td><td>▁</td></tr><tr><td>Test Loss</td><td>▁</td></tr><tr><td>Test Pixel Accuracy</td><td>▁</td></tr><tr><td>Training Loss</td><td>█▇▅▃▄▄▄▃▄▃▃▃▆▂▃▃▃▂▂▂▂▂▂▂▂▂▂▁▁▂▂▁▁▁▁▁▂▂▂▂</td></tr><tr><td>Validation Loss</td><td>█▂▄▁</td></tr><tr><td>epoch</td><td>▁▅█</td></tr></table><br/></div><div class=\"wandb-col\"><h3>Run summary:</h3><br/><table class=\"wandb\"><tr><td>Dice Score</td><td>0.80987</td></tr><tr><td>MODEL</td><td>UNET</td></tr><tr><td>Pixel Accuracy</td><td>89.29036</td></tr><tr><td>Test Dice Score</td><td>0.76557</td></tr><tr><td>Test Loss</td><td>0.71523</td></tr><tr><td>Test Pixel Accuracy</td><td>87.49789</td></tr><tr><td>Training Loss</td><td>0.36177</td></tr><tr><td>Validation Loss</td><td>0.72205</td></tr><tr><td>epoch</td><td>2</td></tr></table><br/></div></div>"
      ],
      "text/plain": [
       "<IPython.core.display.HTML object>"
      ]
     },
     "metadata": {},
     "output_type": "display_data"
    },
    {
     "data": {
      "text/html": [
       " View run <strong style=\"color:#cdcd00\">dazzling-sweep-10</strong> at: <a href='https://wandb.ai/jooz-cave/unet-skin-lesion/runs/sjffu04b/workspace' target=\"_blank\">https://wandb.ai/jooz-cave/unet-skin-lesion/runs/sjffu04b/workspace</a><br/>Synced 5 W&B file(s), 0 media file(s), 0 artifact file(s) and 0 other file(s)"
      ],
      "text/plain": [
       "<IPython.core.display.HTML object>"
      ]
     },
     "metadata": {},
     "output_type": "display_data"
    },
    {
     "data": {
      "text/html": [
       "Find logs at: <code>.\\wandb\\run-20240412_035630-sjffu04b\\logs</code>"
      ],
      "text/plain": [
       "<IPython.core.display.HTML object>"
      ]
     },
     "metadata": {},
     "output_type": "display_data"
    },
    {
     "name": "stderr",
     "output_type": "stream",
     "text": [
      "\u001b[34m\u001b[1mwandb\u001b[0m: Agent Starting Run: jvnpbw1t with config:\n",
      "\u001b[34m\u001b[1mwandb\u001b[0m: \tbatch_size: 32\n",
      "\u001b[34m\u001b[1mwandb\u001b[0m: \tdropout_rate: 0.2\n",
      "\u001b[34m\u001b[1mwandb\u001b[0m: \tepochs: 3\n",
      "\u001b[34m\u001b[1mwandb\u001b[0m: \tkernel_size: 7\n",
      "\u001b[34m\u001b[1mwandb\u001b[0m: \tlearning_rate: 0.0001\n",
      "Failed to detect the name of this notebook, you can set it manually with the WANDB_NOTEBOOK_NAME environment variable to enable code saving.\n"
     ]
    },
    {
     "data": {
      "text/html": [
       "wandb version 0.16.6 is available!  To upgrade, please run:\n",
       " $ pip install wandb --upgrade"
      ],
      "text/plain": [
       "<IPython.core.display.HTML object>"
      ]
     },
     "metadata": {},
     "output_type": "display_data"
    },
    {
     "data": {
      "text/html": [
       "Tracking run with wandb version 0.16.5"
      ],
      "text/plain": [
       "<IPython.core.display.HTML object>"
      ]
     },
     "metadata": {},
     "output_type": "display_data"
    },
    {
     "data": {
      "text/html": [
       "Run data is saved locally in <code>c:\\Users\\jonta\\code\\school\\t8\\DeepLearning\\50.039-DL\\notebooks\\wandb\\run-20240412_042157-jvnpbw1t</code>"
      ],
      "text/plain": [
       "<IPython.core.display.HTML object>"
      ]
     },
     "metadata": {},
     "output_type": "display_data"
    },
    {
     "data": {
      "text/html": [
       "Syncing run <strong><a href='https://wandb.ai/jooz-cave/unet-skin-lesion/runs/jvnpbw1t/workspace' target=\"_blank\">rosy-sweep-11</a></strong> to <a href='https://wandb.ai/jooz-cave/unet-skin-lesion' target=\"_blank\">Weights & Biases</a> (<a href='https://wandb.me/run' target=\"_blank\">docs</a>)<br/>Sweep page: <a href='https://wandb.ai/jooz-cave/unet-skin-lesion/sweeps/qjjguvd6' target=\"_blank\">https://wandb.ai/jooz-cave/unet-skin-lesion/sweeps/qjjguvd6</a>"
      ],
      "text/plain": [
       "<IPython.core.display.HTML object>"
      ]
     },
     "metadata": {},
     "output_type": "display_data"
    },
    {
     "data": {
      "text/html": [
       " View project at <a href='https://wandb.ai/jooz-cave/unet-skin-lesion' target=\"_blank\">https://wandb.ai/jooz-cave/unet-skin-lesion</a>"
      ],
      "text/plain": [
       "<IPython.core.display.HTML object>"
      ]
     },
     "metadata": {},
     "output_type": "display_data"
    },
    {
     "data": {
      "text/html": [
       " View sweep at <a href='https://wandb.ai/jooz-cave/unet-skin-lesion/sweeps/qjjguvd6' target=\"_blank\">https://wandb.ai/jooz-cave/unet-skin-lesion/sweeps/qjjguvd6</a>"
      ],
      "text/plain": [
       "<IPython.core.display.HTML object>"
      ]
     },
     "metadata": {},
     "output_type": "display_data"
    },
    {
     "data": {
      "text/html": [
       " View run at <a href='https://wandb.ai/jooz-cave/unet-skin-lesion/runs/jvnpbw1t/workspace' target=\"_blank\">https://wandb.ai/jooz-cave/unet-skin-lesion/runs/jvnpbw1t/workspace</a>"
      ],
      "text/plain": [
       "<IPython.core.display.HTML object>"
      ]
     },
     "metadata": {},
     "output_type": "display_data"
    },
    {
     "name": "stdout",
     "output_type": "stream",
     "text": [
      "Validation Loss: 0.8410767465829849\n",
      "Got 4795034/6553600 with acc 73.17\n",
      "Dice score: 0.0\n",
      "epoch: 0\n"
     ]
    },
    {
     "name": "stderr",
     "output_type": "stream",
     "text": [
      "100%|██████████| 82/82 [07:19<00:00,  5.36s/it, loss=0.392]\n"
     ]
    },
    {
     "name": "stdout",
     "output_type": "stream",
     "text": [
      "=> Saving checkpoint\n",
      "Validation Loss: 0.7024957537651062\n",
      "Got 5839123/6553600 with acc 89.10\n",
      "Dice score: 0.7794447541236877\n",
      "epoch: 1\n"
     ]
    },
    {
     "name": "stderr",
     "output_type": "stream",
     "text": [
      "100%|██████████| 82/82 [07:24<00:00,  5.42s/it, loss=0.224]\n"
     ]
    },
    {
     "name": "stdout",
     "output_type": "stream",
     "text": [
      "=> Saving checkpoint\n",
      "Validation Loss: 0.6989118307828903\n",
      "Got 5733580/6553600 with acc 87.49\n",
      "Dice score: 0.7221697568893433\n",
      "epoch: 2\n"
     ]
    },
    {
     "name": "stderr",
     "output_type": "stream",
     "text": [
      "100%|██████████| 82/82 [07:22<00:00,  5.39s/it, loss=0.397]\n"
     ]
    },
    {
     "name": "stdout",
     "output_type": "stream",
     "text": [
      "=> Saving checkpoint\n",
      "Validation Loss: 0.6888371855020523\n",
      "Got 5825957/6553600 with acc 88.90\n",
      "Dice score: 0.7769778966903687\n",
      "Test Loss: 0.6876488234847784\n",
      "Got 56716670/65536000 with acc 86.54\n",
      "Dice score: 0.6842225790023804\n"
     ]
    },
    {
     "data": {
      "text/html": [
       "<style>\n",
       "    table.wandb td:nth-child(1) { padding: 0 10px; text-align: left ; width: auto;} td:nth-child(2) {text-align: left ; width: 100%}\n",
       "    .wandb-row { display: flex; flex-direction: row; flex-wrap: wrap; justify-content: flex-start; width: 100% }\n",
       "    .wandb-col { display: flex; flex-direction: column; flex-basis: 100%; flex: 1; padding: 10px; }\n",
       "    </style>\n",
       "<div class=\"wandb-row\"><div class=\"wandb-col\"><h3>Run history:</h3><br/><table class=\"wandb\"><tr><td>Dice Score</td><td>▁█▇█</td></tr><tr><td>Pixel Accuracy</td><td>▁█▇█</td></tr><tr><td>Test Dice Score</td><td>▁</td></tr><tr><td>Test Loss</td><td>▁</td></tr><tr><td>Test Pixel Accuracy</td><td>▁</td></tr><tr><td>Training Loss</td><td>█▆▄▄▃▃▃▃▃▃▂▃▂▄▃▂▃▂▂▂▄▃▂▃▂▃▁▂▂▂▂▁▂▂▂▂▂▁▂▄</td></tr><tr><td>Validation Loss</td><td>█▂▁▁</td></tr><tr><td>epoch</td><td>▁▅█</td></tr></table><br/></div><div class=\"wandb-col\"><h3>Run summary:</h3><br/><table class=\"wandb\"><tr><td>Dice Score</td><td>0.77698</td></tr><tr><td>MODEL</td><td>UNET</td></tr><tr><td>Pixel Accuracy</td><td>88.89705</td></tr><tr><td>Test Dice Score</td><td>0.68422</td></tr><tr><td>Test Loss</td><td>0.68765</td></tr><tr><td>Test Pixel Accuracy</td><td>86.54278</td></tr><tr><td>Training Loss</td><td>0.39672</td></tr><tr><td>Validation Loss</td><td>0.68884</td></tr><tr><td>epoch</td><td>2</td></tr></table><br/></div></div>"
      ],
      "text/plain": [
       "<IPython.core.display.HTML object>"
      ]
     },
     "metadata": {},
     "output_type": "display_data"
    },
    {
     "data": {
      "text/html": [
       " View run <strong style=\"color:#cdcd00\">rosy-sweep-11</strong> at: <a href='https://wandb.ai/jooz-cave/unet-skin-lesion/runs/jvnpbw1t/workspace' target=\"_blank\">https://wandb.ai/jooz-cave/unet-skin-lesion/runs/jvnpbw1t/workspace</a><br/>Synced 5 W&B file(s), 0 media file(s), 0 artifact file(s) and 0 other file(s)"
      ],
      "text/plain": [
       "<IPython.core.display.HTML object>"
      ]
     },
     "metadata": {},
     "output_type": "display_data"
    },
    {
     "data": {
      "text/html": [
       "Find logs at: <code>.\\wandb\\run-20240412_042157-jvnpbw1t\\logs</code>"
      ],
      "text/plain": [
       "<IPython.core.display.HTML object>"
      ]
     },
     "metadata": {},
     "output_type": "display_data"
    },
    {
     "name": "stderr",
     "output_type": "stream",
     "text": [
      "\u001b[34m\u001b[1mwandb\u001b[0m: Sweep Agent: Waiting for job.\n",
      "\u001b[34m\u001b[1mwandb\u001b[0m: Job received.\n",
      "\u001b[34m\u001b[1mwandb\u001b[0m: Agent Starting Run: ax6mbu09 with config:\n",
      "\u001b[34m\u001b[1mwandb\u001b[0m: \tbatch_size: 64\n",
      "\u001b[34m\u001b[1mwandb\u001b[0m: \tdropout_rate: 0.1\n",
      "\u001b[34m\u001b[1mwandb\u001b[0m: \tepochs: 3\n",
      "\u001b[34m\u001b[1mwandb\u001b[0m: \tkernel_size: 7\n",
      "\u001b[34m\u001b[1mwandb\u001b[0m: \tlearning_rate: 0.0001\n",
      "Failed to detect the name of this notebook, you can set it manually with the WANDB_NOTEBOOK_NAME environment variable to enable code saving.\n"
     ]
    },
    {
     "data": {
      "text/html": [
       "wandb version 0.16.6 is available!  To upgrade, please run:\n",
       " $ pip install wandb --upgrade"
      ],
      "text/plain": [
       "<IPython.core.display.HTML object>"
      ]
     },
     "metadata": {},
     "output_type": "display_data"
    },
    {
     "data": {
      "text/html": [
       "Tracking run with wandb version 0.16.5"
      ],
      "text/plain": [
       "<IPython.core.display.HTML object>"
      ]
     },
     "metadata": {},
     "output_type": "display_data"
    },
    {
     "data": {
      "text/html": [
       "Run data is saved locally in <code>c:\\Users\\jonta\\code\\school\\t8\\DeepLearning\\50.039-DL\\notebooks\\wandb\\run-20240412_044740-ax6mbu09</code>"
      ],
      "text/plain": [
       "<IPython.core.display.HTML object>"
      ]
     },
     "metadata": {},
     "output_type": "display_data"
    },
    {
     "data": {
      "text/html": [
       "Syncing run <strong><a href='https://wandb.ai/jooz-cave/unet-skin-lesion/runs/ax6mbu09/workspace' target=\"_blank\">fresh-sweep-12</a></strong> to <a href='https://wandb.ai/jooz-cave/unet-skin-lesion' target=\"_blank\">Weights & Biases</a> (<a href='https://wandb.me/run' target=\"_blank\">docs</a>)<br/>Sweep page: <a href='https://wandb.ai/jooz-cave/unet-skin-lesion/sweeps/qjjguvd6' target=\"_blank\">https://wandb.ai/jooz-cave/unet-skin-lesion/sweeps/qjjguvd6</a>"
      ],
      "text/plain": [
       "<IPython.core.display.HTML object>"
      ]
     },
     "metadata": {},
     "output_type": "display_data"
    },
    {
     "data": {
      "text/html": [
       " View project at <a href='https://wandb.ai/jooz-cave/unet-skin-lesion' target=\"_blank\">https://wandb.ai/jooz-cave/unet-skin-lesion</a>"
      ],
      "text/plain": [
       "<IPython.core.display.HTML object>"
      ]
     },
     "metadata": {},
     "output_type": "display_data"
    },
    {
     "data": {
      "text/html": [
       " View sweep at <a href='https://wandb.ai/jooz-cave/unet-skin-lesion/sweeps/qjjguvd6' target=\"_blank\">https://wandb.ai/jooz-cave/unet-skin-lesion/sweeps/qjjguvd6</a>"
      ],
      "text/plain": [
       "<IPython.core.display.HTML object>"
      ]
     },
     "metadata": {},
     "output_type": "display_data"
    },
    {
     "data": {
      "text/html": [
       " View run at <a href='https://wandb.ai/jooz-cave/unet-skin-lesion/runs/ax6mbu09/workspace' target=\"_blank\">https://wandb.ai/jooz-cave/unet-skin-lesion/runs/ax6mbu09/workspace</a>"
      ],
      "text/plain": [
       "<IPython.core.display.HTML object>"
      ]
     },
     "metadata": {},
     "output_type": "display_data"
    },
    {
     "name": "stdout",
     "output_type": "stream",
     "text": [
      "Validation Loss: 0.8417756259441376\n",
      "Got 4795034/6553600 with acc 73.17\n",
      "Dice score: 0.0\n",
      "epoch: 0\n"
     ]
    },
    {
     "name": "stderr",
     "output_type": "stream",
     "text": [
      "100%|██████████| 41/41 [07:18<00:00, 10.68s/it, loss=0.349]\n"
     ]
    },
    {
     "name": "stdout",
     "output_type": "stream",
     "text": [
      "=> Saving checkpoint\n",
      "Validation Loss: 0.7197801470756531\n",
      "Got 5801818/6553600 with acc 88.53\n",
      "Dice score: 0.7819373607635498\n",
      "epoch: 1\n"
     ]
    },
    {
     "name": "stderr",
     "output_type": "stream",
     "text": [
      "100%|██████████| 41/41 [07:16<00:00, 10.65s/it, loss=0.311]\n"
     ]
    },
    {
     "name": "stdout",
     "output_type": "stream",
     "text": [
      "=> Saving checkpoint\n",
      "Validation Loss: 0.7132719457149506\n",
      "Got 5826134/6553600 with acc 88.90\n",
      "Dice score: 0.7762579321861267\n",
      "epoch: 2\n"
     ]
    },
    {
     "name": "stderr",
     "output_type": "stream",
     "text": [
      "100%|██████████| 41/41 [07:16<00:00, 10.65s/it, loss=0.314]\n"
     ]
    },
    {
     "name": "stdout",
     "output_type": "stream",
     "text": [
      "=> Saving checkpoint\n",
      "Validation Loss: 0.701995313167572\n",
      "Got 5939680/6553600 with acc 90.63\n",
      "Dice score: 0.7927814722061157\n",
      "Test Loss: 0.6994236521422863\n",
      "Got 57856938/65536000 with acc 88.28\n",
      "Dice score: 0.7498062252998352\n"
     ]
    },
    {
     "data": {
      "text/html": [
       "<style>\n",
       "    table.wandb td:nth-child(1) { padding: 0 10px; text-align: left ; width: auto;} td:nth-child(2) {text-align: left ; width: 100%}\n",
       "    .wandb-row { display: flex; flex-direction: row; flex-wrap: wrap; justify-content: flex-start; width: 100% }\n",
       "    .wandb-col { display: flex; flex-direction: column; flex-basis: 100%; flex: 1; padding: 10px; }\n",
       "    </style>\n",
       "<div class=\"wandb-row\"><div class=\"wandb-col\"><h3>Run history:</h3><br/><table class=\"wandb\"><tr><td>Dice Score</td><td>▁███</td></tr><tr><td>Pixel Accuracy</td><td>▁▇▇█</td></tr><tr><td>Test Dice Score</td><td>▁</td></tr><tr><td>Test Loss</td><td>▁</td></tr><tr><td>Test Pixel Accuracy</td><td>▁</td></tr><tr><td>Training Loss</td><td>█▅▅▄▄▄▂▃▃▂▃▂▃▂▂▃▂▂▂▂▂▂▂▂▂▂▂▁▂▁▁▁▁▁▁▁▁▁▁▂</td></tr><tr><td>Validation Loss</td><td>█▂▂▁</td></tr><tr><td>epoch</td><td>▁▅█</td></tr></table><br/></div><div class=\"wandb-col\"><h3>Run summary:</h3><br/><table class=\"wandb\"><tr><td>Dice Score</td><td>0.79278</td></tr><tr><td>MODEL</td><td>UNET</td></tr><tr><td>Pixel Accuracy</td><td>90.63232</td></tr><tr><td>Test Dice Score</td><td>0.74981</td></tr><tr><td>Test Loss</td><td>0.69942</td></tr><tr><td>Test Pixel Accuracy</td><td>88.28268</td></tr><tr><td>Training Loss</td><td>0.31418</td></tr><tr><td>Validation Loss</td><td>0.702</td></tr><tr><td>epoch</td><td>2</td></tr></table><br/></div></div>"
      ],
      "text/plain": [
       "<IPython.core.display.HTML object>"
      ]
     },
     "metadata": {},
     "output_type": "display_data"
    },
    {
     "data": {
      "text/html": [
       " View run <strong style=\"color:#cdcd00\">fresh-sweep-12</strong> at: <a href='https://wandb.ai/jooz-cave/unet-skin-lesion/runs/ax6mbu09/workspace' target=\"_blank\">https://wandb.ai/jooz-cave/unet-skin-lesion/runs/ax6mbu09/workspace</a><br/>Synced 5 W&B file(s), 0 media file(s), 0 artifact file(s) and 0 other file(s)"
      ],
      "text/plain": [
       "<IPython.core.display.HTML object>"
      ]
     },
     "metadata": {},
     "output_type": "display_data"
    },
    {
     "data": {
      "text/html": [
       "Find logs at: <code>.\\wandb\\run-20240412_044740-ax6mbu09\\logs</code>"
      ],
      "text/plain": [
       "<IPython.core.display.HTML object>"
      ]
     },
     "metadata": {},
     "output_type": "display_data"
    },
    {
     "name": "stderr",
     "output_type": "stream",
     "text": [
      "\u001b[34m\u001b[1mwandb\u001b[0m: Agent Starting Run: 1suyomb3 with config:\n",
      "\u001b[34m\u001b[1mwandb\u001b[0m: \tbatch_size: 16\n",
      "\u001b[34m\u001b[1mwandb\u001b[0m: \tdropout_rate: 0.1\n",
      "\u001b[34m\u001b[1mwandb\u001b[0m: \tepochs: 3\n",
      "\u001b[34m\u001b[1mwandb\u001b[0m: \tkernel_size: 7\n",
      "\u001b[34m\u001b[1mwandb\u001b[0m: \tlearning_rate: 0.0001\n",
      "Failed to detect the name of this notebook, you can set it manually with the WANDB_NOTEBOOK_NAME environment variable to enable code saving.\n"
     ]
    },
    {
     "data": {
      "text/html": [
       "wandb version 0.16.6 is available!  To upgrade, please run:\n",
       " $ pip install wandb --upgrade"
      ],
      "text/plain": [
       "<IPython.core.display.HTML object>"
      ]
     },
     "metadata": {},
     "output_type": "display_data"
    },
    {
     "data": {
      "text/html": [
       "Tracking run with wandb version 0.16.5"
      ],
      "text/plain": [
       "<IPython.core.display.HTML object>"
      ]
     },
     "metadata": {},
     "output_type": "display_data"
    },
    {
     "data": {
      "text/html": [
       "Run data is saved locally in <code>c:\\Users\\jonta\\code\\school\\t8\\DeepLearning\\50.039-DL\\notebooks\\wandb\\run-20240412_051301-1suyomb3</code>"
      ],
      "text/plain": [
       "<IPython.core.display.HTML object>"
      ]
     },
     "metadata": {},
     "output_type": "display_data"
    },
    {
     "data": {
      "text/html": [
       "Syncing run <strong><a href='https://wandb.ai/jooz-cave/unet-skin-lesion/runs/1suyomb3/workspace' target=\"_blank\">lively-sweep-13</a></strong> to <a href='https://wandb.ai/jooz-cave/unet-skin-lesion' target=\"_blank\">Weights & Biases</a> (<a href='https://wandb.me/run' target=\"_blank\">docs</a>)<br/>Sweep page: <a href='https://wandb.ai/jooz-cave/unet-skin-lesion/sweeps/qjjguvd6' target=\"_blank\">https://wandb.ai/jooz-cave/unet-skin-lesion/sweeps/qjjguvd6</a>"
      ],
      "text/plain": [
       "<IPython.core.display.HTML object>"
      ]
     },
     "metadata": {},
     "output_type": "display_data"
    },
    {
     "data": {
      "text/html": [
       " View project at <a href='https://wandb.ai/jooz-cave/unet-skin-lesion' target=\"_blank\">https://wandb.ai/jooz-cave/unet-skin-lesion</a>"
      ],
      "text/plain": [
       "<IPython.core.display.HTML object>"
      ]
     },
     "metadata": {},
     "output_type": "display_data"
    },
    {
     "data": {
      "text/html": [
       " View sweep at <a href='https://wandb.ai/jooz-cave/unet-skin-lesion/sweeps/qjjguvd6' target=\"_blank\">https://wandb.ai/jooz-cave/unet-skin-lesion/sweeps/qjjguvd6</a>"
      ],
      "text/plain": [
       "<IPython.core.display.HTML object>"
      ]
     },
     "metadata": {},
     "output_type": "display_data"
    },
    {
     "data": {
      "text/html": [
       " View run at <a href='https://wandb.ai/jooz-cave/unet-skin-lesion/runs/1suyomb3/workspace' target=\"_blank\">https://wandb.ai/jooz-cave/unet-skin-lesion/runs/1suyomb3/workspace</a>"
      ],
      "text/plain": [
       "<IPython.core.display.HTML object>"
      ]
     },
     "metadata": {},
     "output_type": "display_data"
    },
    {
     "name": "stdout",
     "output_type": "stream",
     "text": [
      "Validation Loss: 0.8331275241715568\n",
      "Got 4795034/6553600 with acc 73.17\n",
      "Dice score: 0.0\n",
      "epoch: 0\n"
     ]
    },
    {
     "name": "stderr",
     "output_type": "stream",
     "text": [
      "100%|██████████| 163/163 [07:29<00:00,  2.76s/it, loss=0.364]\n"
     ]
    },
    {
     "name": "stdout",
     "output_type": "stream",
     "text": [
      "=> Saving checkpoint\n",
      "Validation Loss: 0.67924450976508\n",
      "Got 5740447/6553600 with acc 87.59\n",
      "Dice score: 0.722395122051239\n",
      "epoch: 1\n"
     ]
    },
    {
     "name": "stderr",
     "output_type": "stream",
     "text": [
      "100%|██████████| 163/163 [07:30<00:00,  2.76s/it, loss=0.155]\n"
     ]
    },
    {
     "name": "stdout",
     "output_type": "stream",
     "text": [
      "=> Saving checkpoint\n",
      "Validation Loss: 0.6780806013516018\n",
      "Got 5861033/6553600 with acc 89.43\n",
      "Dice score: 0.799210786819458\n",
      "epoch: 2\n"
     ]
    },
    {
     "name": "stderr",
     "output_type": "stream",
     "text": [
      "100%|██████████| 163/163 [07:29<00:00,  2.76s/it, loss=0.168]\n"
     ]
    },
    {
     "name": "stdout",
     "output_type": "stream",
     "text": [
      "=> Saving checkpoint\n",
      "Validation Loss: 0.6610935074942452\n",
      "Got 5942762/6553600 with acc 90.68\n",
      "Dice score: 0.8022016286849976\n",
      "Test Loss: 0.6613758121218\n",
      "Got 58083644/65536000 with acc 88.63\n",
      "Dice score: 0.7491095662117004\n"
     ]
    },
    {
     "data": {
      "text/html": [
       "<style>\n",
       "    table.wandb td:nth-child(1) { padding: 0 10px; text-align: left ; width: auto;} td:nth-child(2) {text-align: left ; width: 100%}\n",
       "    .wandb-row { display: flex; flex-direction: row; flex-wrap: wrap; justify-content: flex-start; width: 100% }\n",
       "    .wandb-col { display: flex; flex-direction: column; flex-basis: 100%; flex: 1; padding: 10px; }\n",
       "    </style>\n",
       "<div class=\"wandb-row\"><div class=\"wandb-col\"><h3>Run history:</h3><br/><table class=\"wandb\"><tr><td>Dice Score</td><td>▁▇██</td></tr><tr><td>Pixel Accuracy</td><td>▁▇██</td></tr><tr><td>Test Dice Score</td><td>▁</td></tr><tr><td>Test Loss</td><td>▁</td></tr><tr><td>Test Pixel Accuracy</td><td>▁</td></tr><tr><td>Training Loss</td><td>█▇▇▇▄▂▅▅▅▃▃▄▃▃▂▅▄▆▂▅▂▄▅▅▃▂▄▂▂▂▂▂▃▃▂▃▃▂▂▁</td></tr><tr><td>Validation Loss</td><td>█▂▂▁</td></tr><tr><td>epoch</td><td>▁▅█</td></tr></table><br/></div><div class=\"wandb-col\"><h3>Run summary:</h3><br/><table class=\"wandb\"><tr><td>Dice Score</td><td>0.8022</td></tr><tr><td>MODEL</td><td>UNET</td></tr><tr><td>Pixel Accuracy</td><td>90.67934</td></tr><tr><td>Test Dice Score</td><td>0.74911</td></tr><tr><td>Test Loss</td><td>0.66138</td></tr><tr><td>Test Pixel Accuracy</td><td>88.62862</td></tr><tr><td>Training Loss</td><td>0.16843</td></tr><tr><td>Validation Loss</td><td>0.66109</td></tr><tr><td>epoch</td><td>2</td></tr></table><br/></div></div>"
      ],
      "text/plain": [
       "<IPython.core.display.HTML object>"
      ]
     },
     "metadata": {},
     "output_type": "display_data"
    },
    {
     "data": {
      "text/html": [
       " View run <strong style=\"color:#cdcd00\">lively-sweep-13</strong> at: <a href='https://wandb.ai/jooz-cave/unet-skin-lesion/runs/1suyomb3/workspace' target=\"_blank\">https://wandb.ai/jooz-cave/unet-skin-lesion/runs/1suyomb3/workspace</a><br/>Synced 5 W&B file(s), 0 media file(s), 0 artifact file(s) and 0 other file(s)"
      ],
      "text/plain": [
       "<IPython.core.display.HTML object>"
      ]
     },
     "metadata": {},
     "output_type": "display_data"
    },
    {
     "data": {
      "text/html": [
       "Find logs at: <code>.\\wandb\\run-20240412_051301-1suyomb3\\logs</code>"
      ],
      "text/plain": [
       "<IPython.core.display.HTML object>"
      ]
     },
     "metadata": {},
     "output_type": "display_data"
    },
    {
     "name": "stderr",
     "output_type": "stream",
     "text": [
      "\u001b[34m\u001b[1mwandb\u001b[0m: Agent Starting Run: e7sjwp7k with config:\n",
      "\u001b[34m\u001b[1mwandb\u001b[0m: \tbatch_size: 16\n",
      "\u001b[34m\u001b[1mwandb\u001b[0m: \tdropout_rate: 0.1\n",
      "\u001b[34m\u001b[1mwandb\u001b[0m: \tepochs: 3\n",
      "\u001b[34m\u001b[1mwandb\u001b[0m: \tkernel_size: 7\n",
      "\u001b[34m\u001b[1mwandb\u001b[0m: \tlearning_rate: 0.0001\n",
      "Failed to detect the name of this notebook, you can set it manually with the WANDB_NOTEBOOK_NAME environment variable to enable code saving.\n"
     ]
    },
    {
     "data": {
      "text/html": [
       "wandb version 0.16.6 is available!  To upgrade, please run:\n",
       " $ pip install wandb --upgrade"
      ],
      "text/plain": [
       "<IPython.core.display.HTML object>"
      ]
     },
     "metadata": {},
     "output_type": "display_data"
    },
    {
     "data": {
      "text/html": [
       "Tracking run with wandb version 0.16.5"
      ],
      "text/plain": [
       "<IPython.core.display.HTML object>"
      ]
     },
     "metadata": {},
     "output_type": "display_data"
    },
    {
     "data": {
      "text/html": [
       "Run data is saved locally in <code>c:\\Users\\jonta\\code\\school\\t8\\DeepLearning\\50.039-DL\\notebooks\\wandb\\run-20240412_053903-e7sjwp7k</code>"
      ],
      "text/plain": [
       "<IPython.core.display.HTML object>"
      ]
     },
     "metadata": {},
     "output_type": "display_data"
    },
    {
     "data": {
      "text/html": [
       "Syncing run <strong><a href='https://wandb.ai/jooz-cave/unet-skin-lesion/runs/e7sjwp7k/workspace' target=\"_blank\">swift-sweep-14</a></strong> to <a href='https://wandb.ai/jooz-cave/unet-skin-lesion' target=\"_blank\">Weights & Biases</a> (<a href='https://wandb.me/run' target=\"_blank\">docs</a>)<br/>Sweep page: <a href='https://wandb.ai/jooz-cave/unet-skin-lesion/sweeps/qjjguvd6' target=\"_blank\">https://wandb.ai/jooz-cave/unet-skin-lesion/sweeps/qjjguvd6</a>"
      ],
      "text/plain": [
       "<IPython.core.display.HTML object>"
      ]
     },
     "metadata": {},
     "output_type": "display_data"
    },
    {
     "data": {
      "text/html": [
       " View project at <a href='https://wandb.ai/jooz-cave/unet-skin-lesion' target=\"_blank\">https://wandb.ai/jooz-cave/unet-skin-lesion</a>"
      ],
      "text/plain": [
       "<IPython.core.display.HTML object>"
      ]
     },
     "metadata": {},
     "output_type": "display_data"
    },
    {
     "data": {
      "text/html": [
       " View sweep at <a href='https://wandb.ai/jooz-cave/unet-skin-lesion/sweeps/qjjguvd6' target=\"_blank\">https://wandb.ai/jooz-cave/unet-skin-lesion/sweeps/qjjguvd6</a>"
      ],
      "text/plain": [
       "<IPython.core.display.HTML object>"
      ]
     },
     "metadata": {},
     "output_type": "display_data"
    },
    {
     "data": {
      "text/html": [
       " View run at <a href='https://wandb.ai/jooz-cave/unet-skin-lesion/runs/e7sjwp7k/workspace' target=\"_blank\">https://wandb.ai/jooz-cave/unet-skin-lesion/runs/e7sjwp7k/workspace</a>"
      ],
      "text/plain": [
       "<IPython.core.display.HTML object>"
      ]
     },
     "metadata": {},
     "output_type": "display_data"
    },
    {
     "name": "stdout",
     "output_type": "stream",
     "text": [
      "Validation Loss: 0.8356903961726597\n",
      "Got 4795034/6553600 with acc 73.17\n",
      "Dice score: 0.0\n",
      "epoch: 0\n"
     ]
    },
    {
     "name": "stderr",
     "output_type": "stream",
     "text": [
      "100%|██████████| 163/163 [07:31<00:00,  2.77s/it, loss=0.236]\n"
     ]
    },
    {
     "name": "stdout",
     "output_type": "stream",
     "text": [
      "=> Saving checkpoint\n",
      "Validation Loss: 0.682018152305058\n",
      "Got 5800078/6553600 with acc 88.50\n",
      "Dice score: 0.7686588764190674\n",
      "epoch: 1\n"
     ]
    },
    {
     "name": "stderr",
     "output_type": "stream",
     "text": [
      "100%|██████████| 163/163 [07:29<00:00,  2.76s/it, loss=0.143]\n"
     ]
    },
    {
     "name": "stdout",
     "output_type": "stream",
     "text": [
      "=> Saving checkpoint\n",
      "Validation Loss: 0.6767857841082981\n",
      "Got 5766550/6553600 with acc 87.99\n",
      "Dice score: 0.7421814799308777\n",
      "epoch: 2\n"
     ]
    },
    {
     "name": "stderr",
     "output_type": "stream",
     "text": [
      "100%|██████████| 163/163 [07:28<00:00,  2.75s/it, loss=0.17] \n"
     ]
    },
    {
     "name": "stdout",
     "output_type": "stream",
     "text": [
      "=> Saving checkpoint\n",
      "Validation Loss: 0.6617601258414132\n",
      "Got 5919237/6553600 with acc 90.32\n",
      "Dice score: 0.7972516417503357\n",
      "Test Loss: 0.6606964620332869\n",
      "Got 58203942/65536000 with acc 88.81\n",
      "Dice score: 0.7624085545539856\n"
     ]
    },
    {
     "data": {
      "text/html": [
       "<style>\n",
       "    table.wandb td:nth-child(1) { padding: 0 10px; text-align: left ; width: auto;} td:nth-child(2) {text-align: left ; width: 100%}\n",
       "    .wandb-row { display: flex; flex-direction: row; flex-wrap: wrap; justify-content: flex-start; width: 100% }\n",
       "    .wandb-col { display: flex; flex-direction: column; flex-basis: 100%; flex: 1; padding: 10px; }\n",
       "    </style>\n",
       "<div class=\"wandb-row\"><div class=\"wandb-col\"><h3>Run history:</h3><br/><table class=\"wandb\"><tr><td>Dice Score</td><td>▁███</td></tr><tr><td>Pixel Accuracy</td><td>▁▇▇█</td></tr><tr><td>Test Dice Score</td><td>▁</td></tr><tr><td>Test Loss</td><td>▁</td></tr><tr><td>Test Pixel Accuracy</td><td>▁</td></tr><tr><td>Training Loss</td><td>██▆▆▅▄▄▄▄▃▄▂▂▃▅▄▄▅▄▃▂▄▃▅▂▂▂▂▃▃▃▁▂▂▂▁▂▃▂▁</td></tr><tr><td>Validation Loss</td><td>█▂▂▁</td></tr><tr><td>epoch</td><td>▁▅█</td></tr></table><br/></div><div class=\"wandb-col\"><h3>Run summary:</h3><br/><table class=\"wandb\"><tr><td>Dice Score</td><td>0.79725</td></tr><tr><td>MODEL</td><td>UNET</td></tr><tr><td>Pixel Accuracy</td><td>90.32038</td></tr><tr><td>Test Dice Score</td><td>0.76241</td></tr><tr><td>Test Loss</td><td>0.6607</td></tr><tr><td>Test Pixel Accuracy</td><td>88.81217</td></tr><tr><td>Training Loss</td><td>0.17023</td></tr><tr><td>Validation Loss</td><td>0.66176</td></tr><tr><td>epoch</td><td>2</td></tr></table><br/></div></div>"
      ],
      "text/plain": [
       "<IPython.core.display.HTML object>"
      ]
     },
     "metadata": {},
     "output_type": "display_data"
    },
    {
     "data": {
      "text/html": [
       " View run <strong style=\"color:#cdcd00\">swift-sweep-14</strong> at: <a href='https://wandb.ai/jooz-cave/unet-skin-lesion/runs/e7sjwp7k/workspace' target=\"_blank\">https://wandb.ai/jooz-cave/unet-skin-lesion/runs/e7sjwp7k/workspace</a><br/>Synced 5 W&B file(s), 0 media file(s), 0 artifact file(s) and 0 other file(s)"
      ],
      "text/plain": [
       "<IPython.core.display.HTML object>"
      ]
     },
     "metadata": {},
     "output_type": "display_data"
    },
    {
     "data": {
      "text/html": [
       "Find logs at: <code>.\\wandb\\run-20240412_053903-e7sjwp7k\\logs</code>"
      ],
      "text/plain": [
       "<IPython.core.display.HTML object>"
      ]
     },
     "metadata": {},
     "output_type": "display_data"
    },
    {
     "name": "stderr",
     "output_type": "stream",
     "text": [
      "\u001b[34m\u001b[1mwandb\u001b[0m: Agent Starting Run: mjqqzenx with config:\n",
      "\u001b[34m\u001b[1mwandb\u001b[0m: \tbatch_size: 32\n",
      "\u001b[34m\u001b[1mwandb\u001b[0m: \tdropout_rate: 0.1\n",
      "\u001b[34m\u001b[1mwandb\u001b[0m: \tepochs: 3\n",
      "\u001b[34m\u001b[1mwandb\u001b[0m: \tkernel_size: 7\n",
      "\u001b[34m\u001b[1mwandb\u001b[0m: \tlearning_rate: 0.0001\n",
      "Failed to detect the name of this notebook, you can set it manually with the WANDB_NOTEBOOK_NAME environment variable to enable code saving.\n"
     ]
    },
    {
     "data": {
      "text/html": [
       "wandb version 0.16.6 is available!  To upgrade, please run:\n",
       " $ pip install wandb --upgrade"
      ],
      "text/plain": [
       "<IPython.core.display.HTML object>"
      ]
     },
     "metadata": {},
     "output_type": "display_data"
    },
    {
     "data": {
      "text/html": [
       "Tracking run with wandb version 0.16.5"
      ],
      "text/plain": [
       "<IPython.core.display.HTML object>"
      ]
     },
     "metadata": {},
     "output_type": "display_data"
    },
    {
     "data": {
      "text/html": [
       "Run data is saved locally in <code>c:\\Users\\jonta\\code\\school\\t8\\DeepLearning\\50.039-DL\\notebooks\\wandb\\run-20240412_060503-mjqqzenx</code>"
      ],
      "text/plain": [
       "<IPython.core.display.HTML object>"
      ]
     },
     "metadata": {},
     "output_type": "display_data"
    },
    {
     "data": {
      "text/html": [
       "Syncing run <strong><a href='https://wandb.ai/jooz-cave/unet-skin-lesion/runs/mjqqzenx/workspace' target=\"_blank\">fresh-sweep-15</a></strong> to <a href='https://wandb.ai/jooz-cave/unet-skin-lesion' target=\"_blank\">Weights & Biases</a> (<a href='https://wandb.me/run' target=\"_blank\">docs</a>)<br/>Sweep page: <a href='https://wandb.ai/jooz-cave/unet-skin-lesion/sweeps/qjjguvd6' target=\"_blank\">https://wandb.ai/jooz-cave/unet-skin-lesion/sweeps/qjjguvd6</a>"
      ],
      "text/plain": [
       "<IPython.core.display.HTML object>"
      ]
     },
     "metadata": {},
     "output_type": "display_data"
    },
    {
     "data": {
      "text/html": [
       " View project at <a href='https://wandb.ai/jooz-cave/unet-skin-lesion' target=\"_blank\">https://wandb.ai/jooz-cave/unet-skin-lesion</a>"
      ],
      "text/plain": [
       "<IPython.core.display.HTML object>"
      ]
     },
     "metadata": {},
     "output_type": "display_data"
    },
    {
     "data": {
      "text/html": [
       " View sweep at <a href='https://wandb.ai/jooz-cave/unet-skin-lesion/sweeps/qjjguvd6' target=\"_blank\">https://wandb.ai/jooz-cave/unet-skin-lesion/sweeps/qjjguvd6</a>"
      ],
      "text/plain": [
       "<IPython.core.display.HTML object>"
      ]
     },
     "metadata": {},
     "output_type": "display_data"
    },
    {
     "data": {
      "text/html": [
       " View run at <a href='https://wandb.ai/jooz-cave/unet-skin-lesion/runs/mjqqzenx/workspace' target=\"_blank\">https://wandb.ai/jooz-cave/unet-skin-lesion/runs/mjqqzenx/workspace</a>"
      ],
      "text/plain": [
       "<IPython.core.display.HTML object>"
      ]
     },
     "metadata": {},
     "output_type": "display_data"
    },
    {
     "name": "stdout",
     "output_type": "stream",
     "text": [
      "Validation Loss: 0.8375477492809296\n",
      "Got 4795034/6553600 with acc 73.17\n",
      "Dice score: 0.0\n",
      "epoch: 0\n"
     ]
    },
    {
     "name": "stderr",
     "output_type": "stream",
     "text": [
      "100%|██████████| 82/82 [07:21<00:00,  5.38s/it, loss=0.319]\n"
     ]
    },
    {
     "name": "stdout",
     "output_type": "stream",
     "text": [
      "=> Saving checkpoint\n",
      "Validation Loss: 0.7251574397087097\n",
      "Got 5459297/6553600 with acc 83.30\n",
      "Dice score: 0.717959463596344\n",
      "epoch: 1\n"
     ]
    },
    {
     "name": "stderr",
     "output_type": "stream",
     "text": [
      "100%|██████████| 82/82 [07:20<00:00,  5.37s/it, loss=0.233]\n"
     ]
    },
    {
     "name": "stdout",
     "output_type": "stream",
     "text": [
      "=> Saving checkpoint\n",
      "Validation Loss: 0.6915025562047958\n",
      "Got 5794058/6553600 with acc 88.41\n",
      "Dice score: 0.8084316253662109\n",
      "epoch: 2\n"
     ]
    },
    {
     "name": "stderr",
     "output_type": "stream",
     "text": [
      "100%|██████████| 82/82 [07:19<00:00,  5.36s/it, loss=0.264]\n"
     ]
    },
    {
     "name": "stdout",
     "output_type": "stream",
     "text": [
      "=> Saving checkpoint\n",
      "Validation Loss: 0.6780420392751694\n",
      "Got 5879279/6553600 with acc 89.71\n",
      "Dice score: 0.8192033171653748\n",
      "Test Loss: 0.6767714042216539\n",
      "Got 57218096/65536000 with acc 87.31\n",
      "Dice score: 0.741542637348175\n"
     ]
    },
    {
     "data": {
      "text/html": [
       "<style>\n",
       "    table.wandb td:nth-child(1) { padding: 0 10px; text-align: left ; width: auto;} td:nth-child(2) {text-align: left ; width: 100%}\n",
       "    .wandb-row { display: flex; flex-direction: row; flex-wrap: wrap; justify-content: flex-start; width: 100% }\n",
       "    .wandb-col { display: flex; flex-direction: column; flex-basis: 100%; flex: 1; padding: 10px; }\n",
       "    </style>\n",
       "<div class=\"wandb-row\"><div class=\"wandb-col\"><h3>Run history:</h3><br/><table class=\"wandb\"><tr><td>Dice Score</td><td>▁▇██</td></tr><tr><td>Pixel Accuracy</td><td>▁▅▇█</td></tr><tr><td>Test Dice Score</td><td>▁</td></tr><tr><td>Test Loss</td><td>▁</td></tr><tr><td>Test Pixel Accuracy</td><td>▁</td></tr><tr><td>Training Loss</td><td>█▅▅▅▅▄▅▄▄▄▄▂▃▃▃▃▃▂▂▃▁▂▂▃▃▂▁▃▂▁▁▁▂▂▁▃▂▁▁▂</td></tr><tr><td>Validation Loss</td><td>█▃▂▁</td></tr><tr><td>epoch</td><td>▁▅█</td></tr></table><br/></div><div class=\"wandb-col\"><h3>Run summary:</h3><br/><table class=\"wandb\"><tr><td>Dice Score</td><td>0.8192</td></tr><tr><td>MODEL</td><td>UNET</td></tr><tr><td>Pixel Accuracy</td><td>89.71068</td></tr><tr><td>Test Dice Score</td><td>0.74154</td></tr><tr><td>Test Loss</td><td>0.67677</td></tr><tr><td>Test Pixel Accuracy</td><td>87.30789</td></tr><tr><td>Training Loss</td><td>0.26358</td></tr><tr><td>Validation Loss</td><td>0.67804</td></tr><tr><td>epoch</td><td>2</td></tr></table><br/></div></div>"
      ],
      "text/plain": [
       "<IPython.core.display.HTML object>"
      ]
     },
     "metadata": {},
     "output_type": "display_data"
    },
    {
     "data": {
      "text/html": [
       " View run <strong style=\"color:#cdcd00\">fresh-sweep-15</strong> at: <a href='https://wandb.ai/jooz-cave/unet-skin-lesion/runs/mjqqzenx/workspace' target=\"_blank\">https://wandb.ai/jooz-cave/unet-skin-lesion/runs/mjqqzenx/workspace</a><br/>Synced 5 W&B file(s), 0 media file(s), 0 artifact file(s) and 0 other file(s)"
      ],
      "text/plain": [
       "<IPython.core.display.HTML object>"
      ]
     },
     "metadata": {},
     "output_type": "display_data"
    },
    {
     "data": {
      "text/html": [
       "Find logs at: <code>.\\wandb\\run-20240412_060503-mjqqzenx\\logs</code>"
      ],
      "text/plain": [
       "<IPython.core.display.HTML object>"
      ]
     },
     "metadata": {},
     "output_type": "display_data"
    },
    {
     "name": "stderr",
     "output_type": "stream",
     "text": [
      "\u001b[34m\u001b[1mwandb\u001b[0m: Agent Starting Run: 8n4dc2w0 with config:\n",
      "\u001b[34m\u001b[1mwandb\u001b[0m: \tbatch_size: 16\n",
      "\u001b[34m\u001b[1mwandb\u001b[0m: \tdropout_rate: 0.1\n",
      "\u001b[34m\u001b[1mwandb\u001b[0m: \tepochs: 3\n",
      "\u001b[34m\u001b[1mwandb\u001b[0m: \tkernel_size: 7\n",
      "\u001b[34m\u001b[1mwandb\u001b[0m: \tlearning_rate: 0.0001\n",
      "Failed to detect the name of this notebook, you can set it manually with the WANDB_NOTEBOOK_NAME environment variable to enable code saving.\n"
     ]
    },
    {
     "data": {
      "text/html": [
       "wandb version 0.16.6 is available!  To upgrade, please run:\n",
       " $ pip install wandb --upgrade"
      ],
      "text/plain": [
       "<IPython.core.display.HTML object>"
      ]
     },
     "metadata": {},
     "output_type": "display_data"
    },
    {
     "data": {
      "text/html": [
       "Tracking run with wandb version 0.16.5"
      ],
      "text/plain": [
       "<IPython.core.display.HTML object>"
      ]
     },
     "metadata": {},
     "output_type": "display_data"
    },
    {
     "data": {
      "text/html": [
       "Run data is saved locally in <code>c:\\Users\\jonta\\code\\school\\t8\\DeepLearning\\50.039-DL\\notebooks\\wandb\\run-20240412_063035-8n4dc2w0</code>"
      ],
      "text/plain": [
       "<IPython.core.display.HTML object>"
      ]
     },
     "metadata": {},
     "output_type": "display_data"
    },
    {
     "data": {
      "text/html": [
       "Syncing run <strong><a href='https://wandb.ai/jooz-cave/unet-skin-lesion/runs/8n4dc2w0/workspace' target=\"_blank\">light-sweep-16</a></strong> to <a href='https://wandb.ai/jooz-cave/unet-skin-lesion' target=\"_blank\">Weights & Biases</a> (<a href='https://wandb.me/run' target=\"_blank\">docs</a>)<br/>Sweep page: <a href='https://wandb.ai/jooz-cave/unet-skin-lesion/sweeps/qjjguvd6' target=\"_blank\">https://wandb.ai/jooz-cave/unet-skin-lesion/sweeps/qjjguvd6</a>"
      ],
      "text/plain": [
       "<IPython.core.display.HTML object>"
      ]
     },
     "metadata": {},
     "output_type": "display_data"
    },
    {
     "data": {
      "text/html": [
       " View project at <a href='https://wandb.ai/jooz-cave/unet-skin-lesion' target=\"_blank\">https://wandb.ai/jooz-cave/unet-skin-lesion</a>"
      ],
      "text/plain": [
       "<IPython.core.display.HTML object>"
      ]
     },
     "metadata": {},
     "output_type": "display_data"
    },
    {
     "data": {
      "text/html": [
       " View sweep at <a href='https://wandb.ai/jooz-cave/unet-skin-lesion/sweeps/qjjguvd6' target=\"_blank\">https://wandb.ai/jooz-cave/unet-skin-lesion/sweeps/qjjguvd6</a>"
      ],
      "text/plain": [
       "<IPython.core.display.HTML object>"
      ]
     },
     "metadata": {},
     "output_type": "display_data"
    },
    {
     "data": {
      "text/html": [
       " View run at <a href='https://wandb.ai/jooz-cave/unet-skin-lesion/runs/8n4dc2w0/workspace' target=\"_blank\">https://wandb.ai/jooz-cave/unet-skin-lesion/runs/8n4dc2w0/workspace</a>"
      ],
      "text/plain": [
       "<IPython.core.display.HTML object>"
      ]
     },
     "metadata": {},
     "output_type": "display_data"
    },
    {
     "name": "stdout",
     "output_type": "stream",
     "text": [
      "Validation Loss: 0.8499213968004499\n",
      "Got 1758566/6553600 with acc 26.83\n",
      "Dice score: 0.41082340478897095\n",
      "epoch: 0\n"
     ]
    },
    {
     "name": "stderr",
     "output_type": "stream",
     "text": [
      "100%|██████████| 163/163 [07:29<00:00,  2.76s/it, loss=0.274]\n"
     ]
    },
    {
     "name": "stdout",
     "output_type": "stream",
     "text": [
      "=> Saving checkpoint\n",
      "Validation Loss: 0.726116955280304\n",
      "Got 5745786/6553600 with acc 87.67\n",
      "Dice score: 0.7478693127632141\n",
      "epoch: 1\n"
     ]
    },
    {
     "name": "stderr",
     "output_type": "stream",
     "text": [
      "100%|██████████| 163/163 [07:28<00:00,  2.75s/it, loss=0.389]\n"
     ]
    },
    {
     "name": "stdout",
     "output_type": "stream",
     "text": [
      "=> Saving checkpoint\n",
      "Validation Loss: 0.7023170505251203\n",
      "Got 5715304/6553600 with acc 87.21\n",
      "Dice score: 0.789007306098938\n",
      "epoch: 2\n"
     ]
    },
    {
     "name": "stderr",
     "output_type": "stream",
     "text": [
      "100%|██████████| 163/163 [07:29<00:00,  2.76s/it, loss=0.789]\n"
     ]
    },
    {
     "name": "stdout",
     "output_type": "stream",
     "text": [
      "=> Saving checkpoint\n",
      "Validation Loss: 0.6802830866404942\n",
      "Got 5908873/6553600 with acc 90.16\n",
      "Dice score: 0.8047862648963928\n",
      "Test Loss: 0.6807234135885087\n",
      "Got 57396317/65536000 with acc 87.58\n",
      "Dice score: 0.739998459815979\n"
     ]
    },
    {
     "data": {
      "text/html": [
       "<style>\n",
       "    table.wandb td:nth-child(1) { padding: 0 10px; text-align: left ; width: auto;} td:nth-child(2) {text-align: left ; width: 100%}\n",
       "    .wandb-row { display: flex; flex-direction: row; flex-wrap: wrap; justify-content: flex-start; width: 100% }\n",
       "    .wandb-col { display: flex; flex-direction: column; flex-basis: 100%; flex: 1; padding: 10px; }\n",
       "    </style>\n",
       "<div class=\"wandb-row\"><div class=\"wandb-col\"><h3>Run history:</h3><br/><table class=\"wandb\"><tr><td>Dice Score</td><td>▁▇██</td></tr><tr><td>Pixel Accuracy</td><td>▁███</td></tr><tr><td>Test Dice Score</td><td>▁</td></tr><tr><td>Test Loss</td><td>▁</td></tr><tr><td>Test Pixel Accuracy</td><td>▁</td></tr><tr><td>Training Loss</td><td>█▃▄▄▄▅▃▃▆▃▄▄▂▃▃▂▃▂▂▂▂▂▂▃▂▁▁▁▁▁▂▂▁▁▂▂▁▁▁▁</td></tr><tr><td>Validation Loss</td><td>█▃▂▁</td></tr><tr><td>epoch</td><td>▁▅█</td></tr></table><br/></div><div class=\"wandb-col\"><h3>Run summary:</h3><br/><table class=\"wandb\"><tr><td>Dice Score</td><td>0.80479</td></tr><tr><td>MODEL</td><td>UNET</td></tr><tr><td>Pixel Accuracy</td><td>90.16225</td></tr><tr><td>Test Dice Score</td><td>0.74</td></tr><tr><td>Test Loss</td><td>0.68072</td></tr><tr><td>Test Pixel Accuracy</td><td>87.57983</td></tr><tr><td>Training Loss</td><td>0.78915</td></tr><tr><td>Validation Loss</td><td>0.68028</td></tr><tr><td>epoch</td><td>2</td></tr></table><br/></div></div>"
      ],
      "text/plain": [
       "<IPython.core.display.HTML object>"
      ]
     },
     "metadata": {},
     "output_type": "display_data"
    },
    {
     "data": {
      "text/html": [
       " View run <strong style=\"color:#cdcd00\">light-sweep-16</strong> at: <a href='https://wandb.ai/jooz-cave/unet-skin-lesion/runs/8n4dc2w0/workspace' target=\"_blank\">https://wandb.ai/jooz-cave/unet-skin-lesion/runs/8n4dc2w0/workspace</a><br/>Synced 5 W&B file(s), 0 media file(s), 0 artifact file(s) and 0 other file(s)"
      ],
      "text/plain": [
       "<IPython.core.display.HTML object>"
      ]
     },
     "metadata": {},
     "output_type": "display_data"
    },
    {
     "data": {
      "text/html": [
       "Find logs at: <code>.\\wandb\\run-20240412_063035-8n4dc2w0\\logs</code>"
      ],
      "text/plain": [
       "<IPython.core.display.HTML object>"
      ]
     },
     "metadata": {},
     "output_type": "display_data"
    },
    {
     "name": "stderr",
     "output_type": "stream",
     "text": [
      "\u001b[34m\u001b[1mwandb\u001b[0m: Agent Starting Run: j72cmc3q with config:\n",
      "\u001b[34m\u001b[1mwandb\u001b[0m: \tbatch_size: 32\n",
      "\u001b[34m\u001b[1mwandb\u001b[0m: \tdropout_rate: 0\n",
      "\u001b[34m\u001b[1mwandb\u001b[0m: \tepochs: 3\n",
      "\u001b[34m\u001b[1mwandb\u001b[0m: \tkernel_size: 7\n",
      "\u001b[34m\u001b[1mwandb\u001b[0m: \tlearning_rate: 0.0001\n",
      "Failed to detect the name of this notebook, you can set it manually with the WANDB_NOTEBOOK_NAME environment variable to enable code saving.\n"
     ]
    },
    {
     "data": {
      "text/html": [
       "wandb version 0.16.6 is available!  To upgrade, please run:\n",
       " $ pip install wandb --upgrade"
      ],
      "text/plain": [
       "<IPython.core.display.HTML object>"
      ]
     },
     "metadata": {},
     "output_type": "display_data"
    },
    {
     "data": {
      "text/html": [
       "Tracking run with wandb version 0.16.5"
      ],
      "text/plain": [
       "<IPython.core.display.HTML object>"
      ]
     },
     "metadata": {},
     "output_type": "display_data"
    },
    {
     "data": {
      "text/html": [
       "Run data is saved locally in <code>c:\\Users\\jonta\\code\\school\\t8\\DeepLearning\\50.039-DL\\notebooks\\wandb\\run-20240412_065634-j72cmc3q</code>"
      ],
      "text/plain": [
       "<IPython.core.display.HTML object>"
      ]
     },
     "metadata": {},
     "output_type": "display_data"
    },
    {
     "data": {
      "text/html": [
       "Syncing run <strong><a href='https://wandb.ai/jooz-cave/unet-skin-lesion/runs/j72cmc3q/workspace' target=\"_blank\">youthful-sweep-17</a></strong> to <a href='https://wandb.ai/jooz-cave/unet-skin-lesion' target=\"_blank\">Weights & Biases</a> (<a href='https://wandb.me/run' target=\"_blank\">docs</a>)<br/>Sweep page: <a href='https://wandb.ai/jooz-cave/unet-skin-lesion/sweeps/qjjguvd6' target=\"_blank\">https://wandb.ai/jooz-cave/unet-skin-lesion/sweeps/qjjguvd6</a>"
      ],
      "text/plain": [
       "<IPython.core.display.HTML object>"
      ]
     },
     "metadata": {},
     "output_type": "display_data"
    },
    {
     "data": {
      "text/html": [
       " View project at <a href='https://wandb.ai/jooz-cave/unet-skin-lesion' target=\"_blank\">https://wandb.ai/jooz-cave/unet-skin-lesion</a>"
      ],
      "text/plain": [
       "<IPython.core.display.HTML object>"
      ]
     },
     "metadata": {},
     "output_type": "display_data"
    },
    {
     "data": {
      "text/html": [
       " View sweep at <a href='https://wandb.ai/jooz-cave/unet-skin-lesion/sweeps/qjjguvd6' target=\"_blank\">https://wandb.ai/jooz-cave/unet-skin-lesion/sweeps/qjjguvd6</a>"
      ],
      "text/plain": [
       "<IPython.core.display.HTML object>"
      ]
     },
     "metadata": {},
     "output_type": "display_data"
    },
    {
     "data": {
      "text/html": [
       " View run at <a href='https://wandb.ai/jooz-cave/unet-skin-lesion/runs/j72cmc3q/workspace' target=\"_blank\">https://wandb.ai/jooz-cave/unet-skin-lesion/runs/j72cmc3q/workspace</a>"
      ],
      "text/plain": [
       "<IPython.core.display.HTML object>"
      ]
     },
     "metadata": {},
     "output_type": "display_data"
    },
    {
     "name": "stdout",
     "output_type": "stream",
     "text": [
      "Validation Loss: 0.8414735943078995\n",
      "Got 4795034/6553600 with acc 73.17\n",
      "Dice score: 0.0\n",
      "epoch: 0\n"
     ]
    },
    {
     "name": "stderr",
     "output_type": "stream",
     "text": [
      "100%|██████████| 82/82 [07:20<00:00,  5.37s/it, loss=0.301]\n"
     ]
    },
    {
     "name": "stdout",
     "output_type": "stream",
     "text": [
      "=> Saving checkpoint\n",
      "Validation Loss: 0.7431538701057434\n",
      "Got 5484411/6553600 with acc 83.69\n",
      "Dice score: 0.7050187587738037\n",
      "epoch: 1\n"
     ]
    },
    {
     "name": "stderr",
     "output_type": "stream",
     "text": [
      "100%|██████████| 82/82 [07:19<00:00,  5.36s/it, loss=0.296]\n"
     ]
    },
    {
     "name": "stdout",
     "output_type": "stream",
     "text": [
      "=> Saving checkpoint\n",
      "Validation Loss: 0.701599970459938\n",
      "Got 5855128/6553600 with acc 89.34\n",
      "Dice score: 0.8098904490470886\n",
      "epoch: 2\n"
     ]
    },
    {
     "name": "stderr",
     "output_type": "stream",
     "text": [
      "100%|██████████| 82/82 [07:19<00:00,  5.36s/it, loss=0.495]\n"
     ]
    },
    {
     "name": "stdout",
     "output_type": "stream",
     "text": [
      "=> Saving checkpoint\n",
      "Validation Loss: 0.6952578127384186\n",
      "Got 5878530/6553600 with acc 89.70\n",
      "Dice score: 0.8179932832717896\n",
      "Test Loss: 0.6915347184985876\n",
      "Got 57587097/65536000 with acc 87.87\n",
      "Dice score: 0.7614113688468933\n"
     ]
    },
    {
     "data": {
      "text/html": [
       "<style>\n",
       "    table.wandb td:nth-child(1) { padding: 0 10px; text-align: left ; width: auto;} td:nth-child(2) {text-align: left ; width: 100%}\n",
       "    .wandb-row { display: flex; flex-direction: row; flex-wrap: wrap; justify-content: flex-start; width: 100% }\n",
       "    .wandb-col { display: flex; flex-direction: column; flex-basis: 100%; flex: 1; padding: 10px; }\n",
       "    </style>\n",
       "<div class=\"wandb-row\"><div class=\"wandb-col\"><h3>Run history:</h3><br/><table class=\"wandb\"><tr><td>Dice Score</td><td>▁▇██</td></tr><tr><td>Pixel Accuracy</td><td>▁▅██</td></tr><tr><td>Test Dice Score</td><td>▁</td></tr><tr><td>Test Loss</td><td>▁</td></tr><tr><td>Test Pixel Accuracy</td><td>▁</td></tr><tr><td>Training Loss</td><td>█▅▄▄▄▄▃▃▃▃▃▃▃▃▃▂▃▄▃▃▃▂▃▂▁▁▂▄▃▂▂▂▂▂▂▃▂▁▁▆</td></tr><tr><td>Validation Loss</td><td>█▃▁▁</td></tr><tr><td>epoch</td><td>▁▅█</td></tr></table><br/></div><div class=\"wandb-col\"><h3>Run summary:</h3><br/><table class=\"wandb\"><tr><td>Dice Score</td><td>0.81799</td></tr><tr><td>MODEL</td><td>UNET</td></tr><tr><td>Pixel Accuracy</td><td>89.69924</td></tr><tr><td>Test Dice Score</td><td>0.76141</td></tr><tr><td>Test Loss</td><td>0.69153</td></tr><tr><td>Test Pixel Accuracy</td><td>87.87094</td></tr><tr><td>Training Loss</td><td>0.49522</td></tr><tr><td>Validation Loss</td><td>0.69526</td></tr><tr><td>epoch</td><td>2</td></tr></table><br/></div></div>"
      ],
      "text/plain": [
       "<IPython.core.display.HTML object>"
      ]
     },
     "metadata": {},
     "output_type": "display_data"
    },
    {
     "data": {
      "text/html": [
       " View run <strong style=\"color:#cdcd00\">youthful-sweep-17</strong> at: <a href='https://wandb.ai/jooz-cave/unet-skin-lesion/runs/j72cmc3q/workspace' target=\"_blank\">https://wandb.ai/jooz-cave/unet-skin-lesion/runs/j72cmc3q/workspace</a><br/>Synced 5 W&B file(s), 0 media file(s), 0 artifact file(s) and 0 other file(s)"
      ],
      "text/plain": [
       "<IPython.core.display.HTML object>"
      ]
     },
     "metadata": {},
     "output_type": "display_data"
    },
    {
     "data": {
      "text/html": [
       "Find logs at: <code>.\\wandb\\run-20240412_065634-j72cmc3q\\logs</code>"
      ],
      "text/plain": [
       "<IPython.core.display.HTML object>"
      ]
     },
     "metadata": {},
     "output_type": "display_data"
    },
    {
     "name": "stderr",
     "output_type": "stream",
     "text": [
      "\u001b[34m\u001b[1mwandb\u001b[0m: Agent Starting Run: 196mor50 with config:\n",
      "\u001b[34m\u001b[1mwandb\u001b[0m: \tbatch_size: 64\n",
      "\u001b[34m\u001b[1mwandb\u001b[0m: \tdropout_rate: 0.1\n",
      "\u001b[34m\u001b[1mwandb\u001b[0m: \tepochs: 3\n",
      "\u001b[34m\u001b[1mwandb\u001b[0m: \tkernel_size: 7\n",
      "\u001b[34m\u001b[1mwandb\u001b[0m: \tlearning_rate: 0.0001\n",
      "Failed to detect the name of this notebook, you can set it manually with the WANDB_NOTEBOOK_NAME environment variable to enable code saving.\n"
     ]
    },
    {
     "data": {
      "text/html": [
       "wandb version 0.16.6 is available!  To upgrade, please run:\n",
       " $ pip install wandb --upgrade"
      ],
      "text/plain": [
       "<IPython.core.display.HTML object>"
      ]
     },
     "metadata": {},
     "output_type": "display_data"
    },
    {
     "data": {
      "text/html": [
       "Tracking run with wandb version 0.16.5"
      ],
      "text/plain": [
       "<IPython.core.display.HTML object>"
      ]
     },
     "metadata": {},
     "output_type": "display_data"
    },
    {
     "data": {
      "text/html": [
       "Run data is saved locally in <code>c:\\Users\\jonta\\code\\school\\t8\\DeepLearning\\50.039-DL\\notebooks\\wandb\\run-20240412_072206-196mor50</code>"
      ],
      "text/plain": [
       "<IPython.core.display.HTML object>"
      ]
     },
     "metadata": {},
     "output_type": "display_data"
    },
    {
     "data": {
      "text/html": [
       "Syncing run <strong><a href='https://wandb.ai/jooz-cave/unet-skin-lesion/runs/196mor50/workspace' target=\"_blank\">zesty-sweep-18</a></strong> to <a href='https://wandb.ai/jooz-cave/unet-skin-lesion' target=\"_blank\">Weights & Biases</a> (<a href='https://wandb.me/run' target=\"_blank\">docs</a>)<br/>Sweep page: <a href='https://wandb.ai/jooz-cave/unet-skin-lesion/sweeps/qjjguvd6' target=\"_blank\">https://wandb.ai/jooz-cave/unet-skin-lesion/sweeps/qjjguvd6</a>"
      ],
      "text/plain": [
       "<IPython.core.display.HTML object>"
      ]
     },
     "metadata": {},
     "output_type": "display_data"
    },
    {
     "data": {
      "text/html": [
       " View project at <a href='https://wandb.ai/jooz-cave/unet-skin-lesion' target=\"_blank\">https://wandb.ai/jooz-cave/unet-skin-lesion</a>"
      ],
      "text/plain": [
       "<IPython.core.display.HTML object>"
      ]
     },
     "metadata": {},
     "output_type": "display_data"
    },
    {
     "data": {
      "text/html": [
       " View sweep at <a href='https://wandb.ai/jooz-cave/unet-skin-lesion/sweeps/qjjguvd6' target=\"_blank\">https://wandb.ai/jooz-cave/unet-skin-lesion/sweeps/qjjguvd6</a>"
      ],
      "text/plain": [
       "<IPython.core.display.HTML object>"
      ]
     },
     "metadata": {},
     "output_type": "display_data"
    },
    {
     "data": {
      "text/html": [
       " View run at <a href='https://wandb.ai/jooz-cave/unet-skin-lesion/runs/196mor50/workspace' target=\"_blank\">https://wandb.ai/jooz-cave/unet-skin-lesion/runs/196mor50/workspace</a>"
      ],
      "text/plain": [
       "<IPython.core.display.HTML object>"
      ]
     },
     "metadata": {},
     "output_type": "display_data"
    },
    {
     "name": "stdout",
     "output_type": "stream",
     "text": [
      "Validation Loss: 0.8329463303089142\n",
      "Got 4795034/6553600 with acc 73.17\n",
      "Dice score: 0.0\n",
      "epoch: 0\n"
     ]
    },
    {
     "name": "stderr",
     "output_type": "stream",
     "text": [
      "100%|██████████| 41/41 [07:15<00:00, 10.62s/it, loss=0.374]\n"
     ]
    },
    {
     "name": "stdout",
     "output_type": "stream",
     "text": [
      "=> Saving checkpoint\n",
      "Validation Loss: 0.720630019903183\n",
      "Got 5836676/6553600 with acc 89.06\n",
      "Dice score: 0.7628799676895142\n",
      "epoch: 1\n"
     ]
    },
    {
     "name": "stderr",
     "output_type": "stream",
     "text": [
      "100%|██████████| 41/41 [07:15<00:00, 10.62s/it, loss=0.354]\n"
     ]
    },
    {
     "name": "stdout",
     "output_type": "stream",
     "text": [
      "=> Saving checkpoint\n",
      "Validation Loss: 0.7243668138980865\n",
      "Got 5858944/6553600 with acc 89.40\n",
      "Dice score: 0.7844808101654053\n",
      "epoch: 2\n"
     ]
    },
    {
     "name": "stderr",
     "output_type": "stream",
     "text": [
      "100%|██████████| 41/41 [07:16<00:00, 10.65s/it, loss=0.321]\n"
     ]
    },
    {
     "name": "stdout",
     "output_type": "stream",
     "text": [
      "=> Saving checkpoint\n",
      "Validation Loss: 0.7136990129947662\n",
      "Got 5980355/6553600 with acc 91.25\n",
      "Dice score: 0.8132236003875732\n",
      "Test Loss: 0.7107837907969952\n",
      "Got 58502486/65536000 with acc 89.27\n",
      "Dice score: 0.7830809354782104\n"
     ]
    },
    {
     "data": {
      "text/html": [
       "<style>\n",
       "    table.wandb td:nth-child(1) { padding: 0 10px; text-align: left ; width: auto;} td:nth-child(2) {text-align: left ; width: 100%}\n",
       "    .wandb-row { display: flex; flex-direction: row; flex-wrap: wrap; justify-content: flex-start; width: 100% }\n",
       "    .wandb-col { display: flex; flex-direction: column; flex-basis: 100%; flex: 1; padding: 10px; }\n",
       "    </style>\n",
       "<div class=\"wandb-row\"><div class=\"wandb-col\"><h3>Run history:</h3><br/><table class=\"wandb\"><tr><td>Dice Score</td><td>▁███</td></tr><tr><td>Pixel Accuracy</td><td>▁▇▇█</td></tr><tr><td>Test Dice Score</td><td>▁</td></tr><tr><td>Test Loss</td><td>▁</td></tr><tr><td>Test Pixel Accuracy</td><td>▁</td></tr><tr><td>Training Loss</td><td>█▅▄▄▄▃▄▃▃▂▃▂▂▂▂▂▂▂▂▂▃▁▂▁▂▁▂▁▁▁▁▁▁▁▁▁▁▁▂▁</td></tr><tr><td>Validation Loss</td><td>█▁▂▁</td></tr><tr><td>epoch</td><td>▁▅█</td></tr></table><br/></div><div class=\"wandb-col\"><h3>Run summary:</h3><br/><table class=\"wandb\"><tr><td>Dice Score</td><td>0.81322</td></tr><tr><td>MODEL</td><td>UNET</td></tr><tr><td>Pixel Accuracy</td><td>91.25297</td></tr><tr><td>Test Dice Score</td><td>0.78308</td></tr><tr><td>Test Loss</td><td>0.71078</td></tr><tr><td>Test Pixel Accuracy</td><td>89.26772</td></tr><tr><td>Training Loss</td><td>0.32118</td></tr><tr><td>Validation Loss</td><td>0.7137</td></tr><tr><td>epoch</td><td>2</td></tr></table><br/></div></div>"
      ],
      "text/plain": [
       "<IPython.core.display.HTML object>"
      ]
     },
     "metadata": {},
     "output_type": "display_data"
    },
    {
     "data": {
      "text/html": [
       " View run <strong style=\"color:#cdcd00\">zesty-sweep-18</strong> at: <a href='https://wandb.ai/jooz-cave/unet-skin-lesion/runs/196mor50/workspace' target=\"_blank\">https://wandb.ai/jooz-cave/unet-skin-lesion/runs/196mor50/workspace</a><br/>Synced 5 W&B file(s), 0 media file(s), 0 artifact file(s) and 0 other file(s)"
      ],
      "text/plain": [
       "<IPython.core.display.HTML object>"
      ]
     },
     "metadata": {},
     "output_type": "display_data"
    },
    {
     "data": {
      "text/html": [
       "Find logs at: <code>.\\wandb\\run-20240412_072206-196mor50\\logs</code>"
      ],
      "text/plain": [
       "<IPython.core.display.HTML object>"
      ]
     },
     "metadata": {},
     "output_type": "display_data"
    },
    {
     "name": "stderr",
     "output_type": "stream",
     "text": [
      "\u001b[34m\u001b[1mwandb\u001b[0m: Agent Starting Run: 3gcy2rz5 with config:\n",
      "\u001b[34m\u001b[1mwandb\u001b[0m: \tbatch_size: 64\n",
      "\u001b[34m\u001b[1mwandb\u001b[0m: \tdropout_rate: 0.1\n",
      "\u001b[34m\u001b[1mwandb\u001b[0m: \tepochs: 3\n",
      "\u001b[34m\u001b[1mwandb\u001b[0m: \tkernel_size: 7\n",
      "\u001b[34m\u001b[1mwandb\u001b[0m: \tlearning_rate: 0.0001\n",
      "Failed to detect the name of this notebook, you can set it manually with the WANDB_NOTEBOOK_NAME environment variable to enable code saving.\n"
     ]
    },
    {
     "data": {
      "text/html": [
       "wandb version 0.16.6 is available!  To upgrade, please run:\n",
       " $ pip install wandb --upgrade"
      ],
      "text/plain": [
       "<IPython.core.display.HTML object>"
      ]
     },
     "metadata": {},
     "output_type": "display_data"
    },
    {
     "data": {
      "text/html": [
       "Tracking run with wandb version 0.16.5"
      ],
      "text/plain": [
       "<IPython.core.display.HTML object>"
      ]
     },
     "metadata": {},
     "output_type": "display_data"
    },
    {
     "data": {
      "text/html": [
       "Run data is saved locally in <code>c:\\Users\\jonta\\code\\school\\t8\\DeepLearning\\50.039-DL\\notebooks\\wandb\\run-20240412_074722-3gcy2rz5</code>"
      ],
      "text/plain": [
       "<IPython.core.display.HTML object>"
      ]
     },
     "metadata": {},
     "output_type": "display_data"
    },
    {
     "data": {
      "text/html": [
       "Syncing run <strong><a href='https://wandb.ai/jooz-cave/unet-skin-lesion/runs/3gcy2rz5/workspace' target=\"_blank\">golden-sweep-19</a></strong> to <a href='https://wandb.ai/jooz-cave/unet-skin-lesion' target=\"_blank\">Weights & Biases</a> (<a href='https://wandb.me/run' target=\"_blank\">docs</a>)<br/>Sweep page: <a href='https://wandb.ai/jooz-cave/unet-skin-lesion/sweeps/qjjguvd6' target=\"_blank\">https://wandb.ai/jooz-cave/unet-skin-lesion/sweeps/qjjguvd6</a>"
      ],
      "text/plain": [
       "<IPython.core.display.HTML object>"
      ]
     },
     "metadata": {},
     "output_type": "display_data"
    },
    {
     "data": {
      "text/html": [
       " View project at <a href='https://wandb.ai/jooz-cave/unet-skin-lesion' target=\"_blank\">https://wandb.ai/jooz-cave/unet-skin-lesion</a>"
      ],
      "text/plain": [
       "<IPython.core.display.HTML object>"
      ]
     },
     "metadata": {},
     "output_type": "display_data"
    },
    {
     "data": {
      "text/html": [
       " View sweep at <a href='https://wandb.ai/jooz-cave/unet-skin-lesion/sweeps/qjjguvd6' target=\"_blank\">https://wandb.ai/jooz-cave/unet-skin-lesion/sweeps/qjjguvd6</a>"
      ],
      "text/plain": [
       "<IPython.core.display.HTML object>"
      ]
     },
     "metadata": {},
     "output_type": "display_data"
    },
    {
     "data": {
      "text/html": [
       " View run at <a href='https://wandb.ai/jooz-cave/unet-skin-lesion/runs/3gcy2rz5/workspace' target=\"_blank\">https://wandb.ai/jooz-cave/unet-skin-lesion/runs/3gcy2rz5/workspace</a>"
      ],
      "text/plain": [
       "<IPython.core.display.HTML object>"
      ]
     },
     "metadata": {},
     "output_type": "display_data"
    },
    {
     "name": "stdout",
     "output_type": "stream",
     "text": [
      "Validation Loss: 0.8412126004695892\n",
      "Got 4795034/6553600 with acc 73.17\n",
      "Dice score: 0.0\n",
      "epoch: 0\n"
     ]
    },
    {
     "name": "stderr",
     "output_type": "stream",
     "text": [
      "100%|██████████| 41/41 [07:16<00:00, 10.66s/it, loss=0.346]\n"
     ]
    },
    {
     "name": "stdout",
     "output_type": "stream",
     "text": [
      "=> Saving checkpoint\n",
      "Validation Loss: 0.7141240537166595\n",
      "Got 5753736/6553600 with acc 87.80\n",
      "Dice score: 0.7265827059745789\n",
      "epoch: 1\n"
     ]
    },
    {
     "name": "stderr",
     "output_type": "stream",
     "text": [
      "100%|██████████| 41/41 [07:15<00:00, 10.61s/it, loss=0.258]\n"
     ]
    },
    {
     "name": "stdout",
     "output_type": "stream",
     "text": [
      "=> Saving checkpoint\n",
      "Validation Loss: 0.694470226764679\n",
      "Got 5848656/6553600 with acc 89.24\n",
      "Dice score: 0.7969822287559509\n",
      "epoch: 2\n"
     ]
    },
    {
     "name": "stderr",
     "output_type": "stream",
     "text": [
      "100%|██████████| 41/41 [07:15<00:00, 10.63s/it, loss=0.214]\n"
     ]
    },
    {
     "name": "stdout",
     "output_type": "stream",
     "text": [
      "=> Saving checkpoint\n",
      "Validation Loss: 0.6848399639129639\n",
      "Got 5967698/6553600 with acc 91.06\n",
      "Dice score: 0.8111903667449951\n",
      "Test Loss: 0.6828322820365429\n",
      "Got 58326106/65536000 with acc 89.00\n",
      "Dice score: 0.7769892811775208\n"
     ]
    },
    {
     "data": {
      "text/html": [
       "<style>\n",
       "    table.wandb td:nth-child(1) { padding: 0 10px; text-align: left ; width: auto;} td:nth-child(2) {text-align: left ; width: 100%}\n",
       "    .wandb-row { display: flex; flex-direction: row; flex-wrap: wrap; justify-content: flex-start; width: 100% }\n",
       "    .wandb-col { display: flex; flex-direction: column; flex-basis: 100%; flex: 1; padding: 10px; }\n",
       "    </style>\n",
       "<div class=\"wandb-row\"><div class=\"wandb-col\"><h3>Run history:</h3><br/><table class=\"wandb\"><tr><td>Dice Score</td><td>▁▇██</td></tr><tr><td>Pixel Accuracy</td><td>▁▇▇█</td></tr><tr><td>Test Dice Score</td><td>▁</td></tr><tr><td>Test Loss</td><td>▁</td></tr><tr><td>Test Pixel Accuracy</td><td>▁</td></tr><tr><td>Training Loss</td><td>█▆▄▄▄▄▃▃▃▃▃▃▂▃▂▂▂▂▂▂▃▂▂▂▂▂▂▂▂▂▂▂▂▂▂▁▃▂▂▁</td></tr><tr><td>Validation Loss</td><td>█▂▁▁</td></tr><tr><td>epoch</td><td>▁▅█</td></tr></table><br/></div><div class=\"wandb-col\"><h3>Run summary:</h3><br/><table class=\"wandb\"><tr><td>Dice Score</td><td>0.81119</td></tr><tr><td>MODEL</td><td>UNET</td></tr><tr><td>Pixel Accuracy</td><td>91.05984</td></tr><tr><td>Test Dice Score</td><td>0.77699</td></tr><tr><td>Test Loss</td><td>0.68283</td></tr><tr><td>Test Pixel Accuracy</td><td>88.99857</td></tr><tr><td>Training Loss</td><td>0.21436</td></tr><tr><td>Validation Loss</td><td>0.68484</td></tr><tr><td>epoch</td><td>2</td></tr></table><br/></div></div>"
      ],
      "text/plain": [
       "<IPython.core.display.HTML object>"
      ]
     },
     "metadata": {},
     "output_type": "display_data"
    },
    {
     "data": {
      "text/html": [
       " View run <strong style=\"color:#cdcd00\">golden-sweep-19</strong> at: <a href='https://wandb.ai/jooz-cave/unet-skin-lesion/runs/3gcy2rz5/workspace' target=\"_blank\">https://wandb.ai/jooz-cave/unet-skin-lesion/runs/3gcy2rz5/workspace</a><br/>Synced 5 W&B file(s), 0 media file(s), 0 artifact file(s) and 0 other file(s)"
      ],
      "text/plain": [
       "<IPython.core.display.HTML object>"
      ]
     },
     "metadata": {},
     "output_type": "display_data"
    },
    {
     "data": {
      "text/html": [
       "Find logs at: <code>.\\wandb\\run-20240412_074722-3gcy2rz5\\logs</code>"
      ],
      "text/plain": [
       "<IPython.core.display.HTML object>"
      ]
     },
     "metadata": {},
     "output_type": "display_data"
    },
    {
     "name": "stderr",
     "output_type": "stream",
     "text": [
      "\u001b[34m\u001b[1mwandb\u001b[0m: Sweep Agent: Waiting for job.\n",
      "\u001b[34m\u001b[1mwandb\u001b[0m: Job received.\n",
      "\u001b[34m\u001b[1mwandb\u001b[0m: Agent Starting Run: rry7s576 with config:\n",
      "\u001b[34m\u001b[1mwandb\u001b[0m: \tbatch_size: 32\n",
      "\u001b[34m\u001b[1mwandb\u001b[0m: \tdropout_rate: 0\n",
      "\u001b[34m\u001b[1mwandb\u001b[0m: \tepochs: 3\n",
      "\u001b[34m\u001b[1mwandb\u001b[0m: \tkernel_size: 7\n",
      "\u001b[34m\u001b[1mwandb\u001b[0m: \tlearning_rate: 0.0001\n",
      "Failed to detect the name of this notebook, you can set it manually with the WANDB_NOTEBOOK_NAME environment variable to enable code saving.\n"
     ]
    },
    {
     "data": {
      "text/html": [
       "wandb version 0.16.6 is available!  To upgrade, please run:\n",
       " $ pip install wandb --upgrade"
      ],
      "text/plain": [
       "<IPython.core.display.HTML object>"
      ]
     },
     "metadata": {},
     "output_type": "display_data"
    },
    {
     "data": {
      "text/html": [
       "Tracking run with wandb version 0.16.5"
      ],
      "text/plain": [
       "<IPython.core.display.HTML object>"
      ]
     },
     "metadata": {},
     "output_type": "display_data"
    },
    {
     "data": {
      "text/html": [
       "Run data is saved locally in <code>c:\\Users\\jonta\\code\\school\\t8\\DeepLearning\\50.039-DL\\notebooks\\wandb\\run-20240412_081245-rry7s576</code>"
      ],
      "text/plain": [
       "<IPython.core.display.HTML object>"
      ]
     },
     "metadata": {},
     "output_type": "display_data"
    },
    {
     "data": {
      "text/html": [
       "Syncing run <strong><a href='https://wandb.ai/jooz-cave/unet-skin-lesion/runs/rry7s576/workspace' target=\"_blank\">dazzling-sweep-20</a></strong> to <a href='https://wandb.ai/jooz-cave/unet-skin-lesion' target=\"_blank\">Weights & Biases</a> (<a href='https://wandb.me/run' target=\"_blank\">docs</a>)<br/>Sweep page: <a href='https://wandb.ai/jooz-cave/unet-skin-lesion/sweeps/qjjguvd6' target=\"_blank\">https://wandb.ai/jooz-cave/unet-skin-lesion/sweeps/qjjguvd6</a>"
      ],
      "text/plain": [
       "<IPython.core.display.HTML object>"
      ]
     },
     "metadata": {},
     "output_type": "display_data"
    },
    {
     "data": {
      "text/html": [
       " View project at <a href='https://wandb.ai/jooz-cave/unet-skin-lesion' target=\"_blank\">https://wandb.ai/jooz-cave/unet-skin-lesion</a>"
      ],
      "text/plain": [
       "<IPython.core.display.HTML object>"
      ]
     },
     "metadata": {},
     "output_type": "display_data"
    },
    {
     "data": {
      "text/html": [
       " View sweep at <a href='https://wandb.ai/jooz-cave/unet-skin-lesion/sweeps/qjjguvd6' target=\"_blank\">https://wandb.ai/jooz-cave/unet-skin-lesion/sweeps/qjjguvd6</a>"
      ],
      "text/plain": [
       "<IPython.core.display.HTML object>"
      ]
     },
     "metadata": {},
     "output_type": "display_data"
    },
    {
     "data": {
      "text/html": [
       " View run at <a href='https://wandb.ai/jooz-cave/unet-skin-lesion/runs/rry7s576/workspace' target=\"_blank\">https://wandb.ai/jooz-cave/unet-skin-lesion/runs/rry7s576/workspace</a>"
      ],
      "text/plain": [
       "<IPython.core.display.HTML object>"
      ]
     },
     "metadata": {},
     "output_type": "display_data"
    },
    {
     "name": "stdout",
     "output_type": "stream",
     "text": [
      "Validation Loss: 0.8538008779287338\n",
      "Got 1758566/6553600 with acc 26.83\n",
      "Dice score: 0.4006953835487366\n",
      "epoch: 0\n"
     ]
    },
    {
     "name": "stderr",
     "output_type": "stream",
     "text": [
      "100%|██████████| 82/82 [07:19<00:00,  5.35s/it, loss=0.442]\n"
     ]
    },
    {
     "name": "stdout",
     "output_type": "stream",
     "text": [
      "=> Saving checkpoint\n",
      "Validation Loss: 0.7708579748868942\n",
      "Got 5180122/6553600 with acc 79.04\n",
      "Dice score: 0.7121332287788391\n",
      "epoch: 1\n"
     ]
    },
    {
     "name": "stderr",
     "output_type": "stream",
     "text": [
      "100%|██████████| 82/82 [07:18<00:00,  5.35s/it, loss=0.339]\n"
     ]
    },
    {
     "name": "stdout",
     "output_type": "stream",
     "text": [
      "=> Saving checkpoint\n",
      "Validation Loss: 0.7142338454723358\n",
      "Got 5774346/6553600 with acc 88.11\n",
      "Dice score: 0.8076679110527039\n",
      "epoch: 2\n"
     ]
    },
    {
     "name": "stderr",
     "output_type": "stream",
     "text": [
      "100%|██████████| 82/82 [07:18<00:00,  5.35s/it, loss=0.382]\n"
     ]
    },
    {
     "name": "stdout",
     "output_type": "stream",
     "text": [
      "=> Saving checkpoint\n",
      "Validation Loss: 0.7004603892564774\n",
      "Got 5942170/6553600 with acc 90.67\n",
      "Dice score: 0.8297885060310364\n",
      "Test Loss: 0.6952750403434038\n",
      "Got 58282869/65536000 with acc 88.93\n",
      "Dice score: 0.7888662815093994\n"
     ]
    },
    {
     "data": {
      "text/html": [
       "<style>\n",
       "    table.wandb td:nth-child(1) { padding: 0 10px; text-align: left ; width: auto;} td:nth-child(2) {text-align: left ; width: 100%}\n",
       "    .wandb-row { display: flex; flex-direction: row; flex-wrap: wrap; justify-content: flex-start; width: 100% }\n",
       "    .wandb-col { display: flex; flex-direction: column; flex-basis: 100%; flex: 1; padding: 10px; }\n",
       "    </style>\n",
       "<div class=\"wandb-row\"><div class=\"wandb-col\"><h3>Run history:</h3><br/><table class=\"wandb\"><tr><td>Dice Score</td><td>▁▆██</td></tr><tr><td>Pixel Accuracy</td><td>▁▇██</td></tr><tr><td>Test Dice Score</td><td>▁</td></tr><tr><td>Test Loss</td><td>▁</td></tr><tr><td>Test Pixel Accuracy</td><td>▁</td></tr><tr><td>Training Loss</td><td>█▇▅▄▅▃▂▃▃▃▃▄▃▄▃▂▃▂▃▂▃▂▂▂▃▂▂▂▂▂▂▂▂▂▂▂▁▁▁▃</td></tr><tr><td>Validation Loss</td><td>█▄▂▁</td></tr><tr><td>epoch</td><td>▁▅█</td></tr></table><br/></div><div class=\"wandb-col\"><h3>Run summary:</h3><br/><table class=\"wandb\"><tr><td>Dice Score</td><td>0.82979</td></tr><tr><td>MODEL</td><td>UNET</td></tr><tr><td>Pixel Accuracy</td><td>90.67032</td></tr><tr><td>Test Dice Score</td><td>0.78887</td></tr><tr><td>Test Loss</td><td>0.69528</td></tr><tr><td>Test Pixel Accuracy</td><td>88.9326</td></tr><tr><td>Training Loss</td><td>0.38242</td></tr><tr><td>Validation Loss</td><td>0.70046</td></tr><tr><td>epoch</td><td>2</td></tr></table><br/></div></div>"
      ],
      "text/plain": [
       "<IPython.core.display.HTML object>"
      ]
     },
     "metadata": {},
     "output_type": "display_data"
    },
    {
     "data": {
      "text/html": [
       " View run <strong style=\"color:#cdcd00\">dazzling-sweep-20</strong> at: <a href='https://wandb.ai/jooz-cave/unet-skin-lesion/runs/rry7s576/workspace' target=\"_blank\">https://wandb.ai/jooz-cave/unet-skin-lesion/runs/rry7s576/workspace</a><br/>Synced 5 W&B file(s), 0 media file(s), 0 artifact file(s) and 0 other file(s)"
      ],
      "text/plain": [
       "<IPython.core.display.HTML object>"
      ]
     },
     "metadata": {},
     "output_type": "display_data"
    },
    {
     "data": {
      "text/html": [
       "Find logs at: <code>.\\wandb\\run-20240412_081245-rry7s576\\logs</code>"
      ],
      "text/plain": [
       "<IPython.core.display.HTML object>"
      ]
     },
     "metadata": {},
     "output_type": "display_data"
    },
    {
     "name": "stderr",
     "output_type": "stream",
     "text": [
      "\u001b[34m\u001b[1mwandb\u001b[0m: Sweep Agent: Waiting for job.\n",
      "\u001b[34m\u001b[1mwandb\u001b[0m: Job received.\n",
      "\u001b[34m\u001b[1mwandb\u001b[0m: Agent Starting Run: d66ad0ra with config:\n",
      "\u001b[34m\u001b[1mwandb\u001b[0m: \tbatch_size: 32\n",
      "\u001b[34m\u001b[1mwandb\u001b[0m: \tdropout_rate: 0\n",
      "\u001b[34m\u001b[1mwandb\u001b[0m: \tepochs: 3\n",
      "\u001b[34m\u001b[1mwandb\u001b[0m: \tkernel_size: 7\n",
      "\u001b[34m\u001b[1mwandb\u001b[0m: \tlearning_rate: 0.0001\n",
      "Failed to detect the name of this notebook, you can set it manually with the WANDB_NOTEBOOK_NAME environment variable to enable code saving.\n"
     ]
    },
    {
     "data": {
      "text/html": [
       "wandb version 0.16.6 is available!  To upgrade, please run:\n",
       " $ pip install wandb --upgrade"
      ],
      "text/plain": [
       "<IPython.core.display.HTML object>"
      ]
     },
     "metadata": {},
     "output_type": "display_data"
    },
    {
     "data": {
      "text/html": [
       "Tracking run with wandb version 0.16.5"
      ],
      "text/plain": [
       "<IPython.core.display.HTML object>"
      ]
     },
     "metadata": {},
     "output_type": "display_data"
    },
    {
     "data": {
      "text/html": [
       "Run data is saved locally in <code>c:\\Users\\jonta\\code\\school\\t8\\DeepLearning\\50.039-DL\\notebooks\\wandb\\run-20240412_083819-d66ad0ra</code>"
      ],
      "text/plain": [
       "<IPython.core.display.HTML object>"
      ]
     },
     "metadata": {},
     "output_type": "display_data"
    },
    {
     "data": {
      "text/html": [
       "Syncing run <strong><a href='https://wandb.ai/jooz-cave/unet-skin-lesion/runs/d66ad0ra/workspace' target=\"_blank\">clean-sweep-21</a></strong> to <a href='https://wandb.ai/jooz-cave/unet-skin-lesion' target=\"_blank\">Weights & Biases</a> (<a href='https://wandb.me/run' target=\"_blank\">docs</a>)<br/>Sweep page: <a href='https://wandb.ai/jooz-cave/unet-skin-lesion/sweeps/qjjguvd6' target=\"_blank\">https://wandb.ai/jooz-cave/unet-skin-lesion/sweeps/qjjguvd6</a>"
      ],
      "text/plain": [
       "<IPython.core.display.HTML object>"
      ]
     },
     "metadata": {},
     "output_type": "display_data"
    },
    {
     "data": {
      "text/html": [
       " View project at <a href='https://wandb.ai/jooz-cave/unet-skin-lesion' target=\"_blank\">https://wandb.ai/jooz-cave/unet-skin-lesion</a>"
      ],
      "text/plain": [
       "<IPython.core.display.HTML object>"
      ]
     },
     "metadata": {},
     "output_type": "display_data"
    },
    {
     "data": {
      "text/html": [
       " View sweep at <a href='https://wandb.ai/jooz-cave/unet-skin-lesion/sweeps/qjjguvd6' target=\"_blank\">https://wandb.ai/jooz-cave/unet-skin-lesion/sweeps/qjjguvd6</a>"
      ],
      "text/plain": [
       "<IPython.core.display.HTML object>"
      ]
     },
     "metadata": {},
     "output_type": "display_data"
    },
    {
     "data": {
      "text/html": [
       " View run at <a href='https://wandb.ai/jooz-cave/unet-skin-lesion/runs/d66ad0ra/workspace' target=\"_blank\">https://wandb.ai/jooz-cave/unet-skin-lesion/runs/d66ad0ra/workspace</a>"
      ],
      "text/plain": [
       "<IPython.core.display.HTML object>"
      ]
     },
     "metadata": {},
     "output_type": "display_data"
    },
    {
     "name": "stdout",
     "output_type": "stream",
     "text": [
      "Validation Loss: 0.8420637398958206\n",
      "Got 4795034/6553600 with acc 73.17\n",
      "Dice score: 0.0\n",
      "epoch: 0\n"
     ]
    },
    {
     "name": "stderr",
     "output_type": "stream",
     "text": [
      "100%|██████████| 82/82 [07:20<00:00,  5.37s/it, loss=0.3]  \n"
     ]
    },
    {
     "name": "stdout",
     "output_type": "stream",
     "text": [
      "=> Saving checkpoint\n",
      "Validation Loss: 0.7414831966161728\n",
      "Got 5470951/6553600 with acc 83.48\n",
      "Dice score: 0.7330638766288757\n",
      "epoch: 1\n"
     ]
    },
    {
     "name": "stderr",
     "output_type": "stream",
     "text": [
      "100%|██████████| 82/82 [07:19<00:00,  5.36s/it, loss=0.255]\n"
     ]
    },
    {
     "name": "stdout",
     "output_type": "stream",
     "text": [
      "=> Saving checkpoint\n",
      "Validation Loss: 0.7134818136692047\n",
      "Got 5825927/6553600 with acc 88.90\n",
      "Dice score: 0.813839316368103\n",
      "epoch: 2\n"
     ]
    },
    {
     "name": "stderr",
     "output_type": "stream",
     "text": [
      "100%|██████████| 82/82 [07:20<00:00,  5.37s/it, loss=0.32] \n"
     ]
    },
    {
     "name": "stdout",
     "output_type": "stream",
     "text": [
      "=> Saving checkpoint\n",
      "Validation Loss: 0.7104749828577042\n",
      "Got 5735076/6553600 with acc 87.51\n",
      "Dice score: 0.7514950633049011\n",
      "Test Loss: 0.7054293490946293\n",
      "Got 56299439/65536000 with acc 85.91\n",
      "Dice score: 0.6948131322860718\n"
     ]
    },
    {
     "data": {
      "text/html": [
       "<style>\n",
       "    table.wandb td:nth-child(1) { padding: 0 10px; text-align: left ; width: auto;} td:nth-child(2) {text-align: left ; width: 100%}\n",
       "    .wandb-row { display: flex; flex-direction: row; flex-wrap: wrap; justify-content: flex-start; width: 100% }\n",
       "    .wandb-col { display: flex; flex-direction: column; flex-basis: 100%; flex: 1; padding: 10px; }\n",
       "    </style>\n",
       "<div class=\"wandb-row\"><div class=\"wandb-col\"><h3>Run history:</h3><br/><table class=\"wandb\"><tr><td>Dice Score</td><td>▁▇█▇</td></tr><tr><td>Pixel Accuracy</td><td>▁▆█▇</td></tr><tr><td>Test Dice Score</td><td>▁</td></tr><tr><td>Test Loss</td><td>▁</td></tr><tr><td>Test Pixel Accuracy</td><td>▁</td></tr><tr><td>Training Loss</td><td>█▇▄▄▄▄▅▄▃▃▄▃▃▂▃▃▃▃▂▂▂▂▂▂▂▂▁▃▂▂▄▁▂▂▂▁▂▁▂▂</td></tr><tr><td>Validation Loss</td><td>█▃▁▁</td></tr><tr><td>epoch</td><td>▁▅█</td></tr></table><br/></div><div class=\"wandb-col\"><h3>Run summary:</h3><br/><table class=\"wandb\"><tr><td>Dice Score</td><td>0.7515</td></tr><tr><td>MODEL</td><td>UNET</td></tr><tr><td>Pixel Accuracy</td><td>87.51031</td></tr><tr><td>Test Dice Score</td><td>0.69481</td></tr><tr><td>Test Loss</td><td>0.70543</td></tr><tr><td>Test Pixel Accuracy</td><td>85.90613</td></tr><tr><td>Training Loss</td><td>0.32024</td></tr><tr><td>Validation Loss</td><td>0.71047</td></tr><tr><td>epoch</td><td>2</td></tr></table><br/></div></div>"
      ],
      "text/plain": [
       "<IPython.core.display.HTML object>"
      ]
     },
     "metadata": {},
     "output_type": "display_data"
    },
    {
     "data": {
      "text/html": [
       " View run <strong style=\"color:#cdcd00\">clean-sweep-21</strong> at: <a href='https://wandb.ai/jooz-cave/unet-skin-lesion/runs/d66ad0ra/workspace' target=\"_blank\">https://wandb.ai/jooz-cave/unet-skin-lesion/runs/d66ad0ra/workspace</a><br/>Synced 5 W&B file(s), 0 media file(s), 0 artifact file(s) and 0 other file(s)"
      ],
      "text/plain": [
       "<IPython.core.display.HTML object>"
      ]
     },
     "metadata": {},
     "output_type": "display_data"
    },
    {
     "data": {
      "text/html": [
       "Find logs at: <code>.\\wandb\\run-20240412_083819-d66ad0ra\\logs</code>"
      ],
      "text/plain": [
       "<IPython.core.display.HTML object>"
      ]
     },
     "metadata": {},
     "output_type": "display_data"
    },
    {
     "name": "stderr",
     "output_type": "stream",
     "text": [
      "\u001b[34m\u001b[1mwandb\u001b[0m: Agent Starting Run: 3f2zld7q with config:\n",
      "\u001b[34m\u001b[1mwandb\u001b[0m: \tbatch_size: 64\n",
      "\u001b[34m\u001b[1mwandb\u001b[0m: \tdropout_rate: 0.1\n",
      "\u001b[34m\u001b[1mwandb\u001b[0m: \tepochs: 3\n",
      "\u001b[34m\u001b[1mwandb\u001b[0m: \tkernel_size: 7\n",
      "\u001b[34m\u001b[1mwandb\u001b[0m: \tlearning_rate: 0.0001\n",
      "Failed to detect the name of this notebook, you can set it manually with the WANDB_NOTEBOOK_NAME environment variable to enable code saving.\n"
     ]
    },
    {
     "data": {
      "text/html": [
       "wandb version 0.16.6 is available!  To upgrade, please run:\n",
       " $ pip install wandb --upgrade"
      ],
      "text/plain": [
       "<IPython.core.display.HTML object>"
      ]
     },
     "metadata": {},
     "output_type": "display_data"
    },
    {
     "data": {
      "text/html": [
       "Tracking run with wandb version 0.16.5"
      ],
      "text/plain": [
       "<IPython.core.display.HTML object>"
      ]
     },
     "metadata": {},
     "output_type": "display_data"
    },
    {
     "data": {
      "text/html": [
       "Run data is saved locally in <code>c:\\Users\\jonta\\code\\school\\t8\\DeepLearning\\50.039-DL\\notebooks\\wandb\\run-20240412_090350-3f2zld7q</code>"
      ],
      "text/plain": [
       "<IPython.core.display.HTML object>"
      ]
     },
     "metadata": {},
     "output_type": "display_data"
    },
    {
     "data": {
      "text/html": [
       "Syncing run <strong><a href='https://wandb.ai/jooz-cave/unet-skin-lesion/runs/3f2zld7q/workspace' target=\"_blank\">fanciful-sweep-22</a></strong> to <a href='https://wandb.ai/jooz-cave/unet-skin-lesion' target=\"_blank\">Weights & Biases</a> (<a href='https://wandb.me/run' target=\"_blank\">docs</a>)<br/>Sweep page: <a href='https://wandb.ai/jooz-cave/unet-skin-lesion/sweeps/qjjguvd6' target=\"_blank\">https://wandb.ai/jooz-cave/unet-skin-lesion/sweeps/qjjguvd6</a>"
      ],
      "text/plain": [
       "<IPython.core.display.HTML object>"
      ]
     },
     "metadata": {},
     "output_type": "display_data"
    },
    {
     "data": {
      "text/html": [
       " View project at <a href='https://wandb.ai/jooz-cave/unet-skin-lesion' target=\"_blank\">https://wandb.ai/jooz-cave/unet-skin-lesion</a>"
      ],
      "text/plain": [
       "<IPython.core.display.HTML object>"
      ]
     },
     "metadata": {},
     "output_type": "display_data"
    },
    {
     "data": {
      "text/html": [
       " View sweep at <a href='https://wandb.ai/jooz-cave/unet-skin-lesion/sweeps/qjjguvd6' target=\"_blank\">https://wandb.ai/jooz-cave/unet-skin-lesion/sweeps/qjjguvd6</a>"
      ],
      "text/plain": [
       "<IPython.core.display.HTML object>"
      ]
     },
     "metadata": {},
     "output_type": "display_data"
    },
    {
     "data": {
      "text/html": [
       " View run at <a href='https://wandb.ai/jooz-cave/unet-skin-lesion/runs/3f2zld7q/workspace' target=\"_blank\">https://wandb.ai/jooz-cave/unet-skin-lesion/runs/3f2zld7q/workspace</a>"
      ],
      "text/plain": [
       "<IPython.core.display.HTML object>"
      ]
     },
     "metadata": {},
     "output_type": "display_data"
    },
    {
     "name": "stdout",
     "output_type": "stream",
     "text": [
      "Validation Loss: 0.8449525237083435\n",
      "Got 1758566/6553600 with acc 26.83\n",
      "Dice score: 0.4133538603782654\n",
      "epoch: 0\n"
     ]
    },
    {
     "name": "stderr",
     "output_type": "stream",
     "text": [
      "100%|██████████| 41/41 [07:16<00:00, 10.65s/it, loss=0.306]\n"
     ]
    },
    {
     "name": "stdout",
     "output_type": "stream",
     "text": [
      "=> Saving checkpoint\n",
      "Validation Loss: 0.7230721414089203\n",
      "Got 5494905/6553600 with acc 83.85\n",
      "Dice score: 0.7049098014831543\n",
      "epoch: 1\n"
     ]
    },
    {
     "name": "stderr",
     "output_type": "stream",
     "text": [
      "100%|██████████| 41/41 [07:17<00:00, 10.66s/it, loss=0.283]\n"
     ]
    },
    {
     "name": "stdout",
     "output_type": "stream",
     "text": [
      "=> Saving checkpoint\n",
      "Validation Loss: 0.7128286957740784\n",
      "Got 5844684/6553600 with acc 89.18\n",
      "Dice score: 0.7912359237670898\n",
      "epoch: 2\n"
     ]
    },
    {
     "name": "stderr",
     "output_type": "stream",
     "text": [
      "100%|██████████| 41/41 [07:16<00:00, 10.65s/it, loss=0.258]\n"
     ]
    },
    {
     "name": "stdout",
     "output_type": "stream",
     "text": [
      "=> Saving checkpoint\n",
      "Validation Loss: 0.7017700672149658\n",
      "Got 5884053/6553600 with acc 89.78\n",
      "Dice score: 0.7997270226478577\n",
      "Test Loss: 0.7011703737080097\n",
      "Got 57146506/65536000 with acc 87.20\n",
      "Dice score: 0.762299656867981\n"
     ]
    },
    {
     "data": {
      "text/html": [
       "<style>\n",
       "    table.wandb td:nth-child(1) { padding: 0 10px; text-align: left ; width: auto;} td:nth-child(2) {text-align: left ; width: 100%}\n",
       "    .wandb-row { display: flex; flex-direction: row; flex-wrap: wrap; justify-content: flex-start; width: 100% }\n",
       "    .wandb-col { display: flex; flex-direction: column; flex-basis: 100%; flex: 1; padding: 10px; }\n",
       "    </style>\n",
       "<div class=\"wandb-row\"><div class=\"wandb-col\"><h3>Run history:</h3><br/><table class=\"wandb\"><tr><td>Dice Score</td><td>▁▆██</td></tr><tr><td>Pixel Accuracy</td><td>▁▇██</td></tr><tr><td>Test Dice Score</td><td>▁</td></tr><tr><td>Test Loss</td><td>▁</td></tr><tr><td>Test Pixel Accuracy</td><td>▁</td></tr><tr><td>Training Loss</td><td>█▅▄▃▃▃▃▂▂▂▂▂▂▂▂▂▁▂▂▂▂▁▂▁▁▁▁▁▁▂▁▁▁▁▁▁▁▁▁▁</td></tr><tr><td>Validation Loss</td><td>█▂▂▁</td></tr><tr><td>epoch</td><td>▁▅█</td></tr></table><br/></div><div class=\"wandb-col\"><h3>Run summary:</h3><br/><table class=\"wandb\"><tr><td>Dice Score</td><td>0.79973</td></tr><tr><td>MODEL</td><td>UNET</td></tr><tr><td>Pixel Accuracy</td><td>89.78352</td></tr><tr><td>Test Dice Score</td><td>0.7623</td></tr><tr><td>Test Loss</td><td>0.70117</td></tr><tr><td>Test Pixel Accuracy</td><td>87.19865</td></tr><tr><td>Training Loss</td><td>0.25775</td></tr><tr><td>Validation Loss</td><td>0.70177</td></tr><tr><td>epoch</td><td>2</td></tr></table><br/></div></div>"
      ],
      "text/plain": [
       "<IPython.core.display.HTML object>"
      ]
     },
     "metadata": {},
     "output_type": "display_data"
    },
    {
     "data": {
      "text/html": [
       " View run <strong style=\"color:#cdcd00\">fanciful-sweep-22</strong> at: <a href='https://wandb.ai/jooz-cave/unet-skin-lesion/runs/3f2zld7q/workspace' target=\"_blank\">https://wandb.ai/jooz-cave/unet-skin-lesion/runs/3f2zld7q/workspace</a><br/>Synced 5 W&B file(s), 0 media file(s), 0 artifact file(s) and 0 other file(s)"
      ],
      "text/plain": [
       "<IPython.core.display.HTML object>"
      ]
     },
     "metadata": {},
     "output_type": "display_data"
    },
    {
     "data": {
      "text/html": [
       "Find logs at: <code>.\\wandb\\run-20240412_090350-3f2zld7q\\logs</code>"
      ],
      "text/plain": [
       "<IPython.core.display.HTML object>"
      ]
     },
     "metadata": {},
     "output_type": "display_data"
    },
    {
     "name": "stderr",
     "output_type": "stream",
     "text": [
      "\u001b[34m\u001b[1mwandb\u001b[0m: Agent Starting Run: v72ej54c with config:\n",
      "\u001b[34m\u001b[1mwandb\u001b[0m: \tbatch_size: 32\n",
      "\u001b[34m\u001b[1mwandb\u001b[0m: \tdropout_rate: 0\n",
      "\u001b[34m\u001b[1mwandb\u001b[0m: \tepochs: 3\n",
      "\u001b[34m\u001b[1mwandb\u001b[0m: \tkernel_size: 7\n",
      "\u001b[34m\u001b[1mwandb\u001b[0m: \tlearning_rate: 0.0001\n",
      "Failed to detect the name of this notebook, you can set it manually with the WANDB_NOTEBOOK_NAME environment variable to enable code saving.\n"
     ]
    },
    {
     "data": {
      "text/html": [
       "wandb version 0.16.6 is available!  To upgrade, please run:\n",
       " $ pip install wandb --upgrade"
      ],
      "text/plain": [
       "<IPython.core.display.HTML object>"
      ]
     },
     "metadata": {},
     "output_type": "display_data"
    },
    {
     "data": {
      "text/html": [
       "Tracking run with wandb version 0.16.5"
      ],
      "text/plain": [
       "<IPython.core.display.HTML object>"
      ]
     },
     "metadata": {},
     "output_type": "display_data"
    },
    {
     "data": {
      "text/html": [
       "Run data is saved locally in <code>c:\\Users\\jonta\\code\\school\\t8\\DeepLearning\\50.039-DL\\notebooks\\wandb\\run-20240412_092907-v72ej54c</code>"
      ],
      "text/plain": [
       "<IPython.core.display.HTML object>"
      ]
     },
     "metadata": {},
     "output_type": "display_data"
    },
    {
     "data": {
      "text/html": [
       "Syncing run <strong><a href='https://wandb.ai/jooz-cave/unet-skin-lesion/runs/v72ej54c/workspace' target=\"_blank\">glowing-sweep-23</a></strong> to <a href='https://wandb.ai/jooz-cave/unet-skin-lesion' target=\"_blank\">Weights & Biases</a> (<a href='https://wandb.me/run' target=\"_blank\">docs</a>)<br/>Sweep page: <a href='https://wandb.ai/jooz-cave/unet-skin-lesion/sweeps/qjjguvd6' target=\"_blank\">https://wandb.ai/jooz-cave/unet-skin-lesion/sweeps/qjjguvd6</a>"
      ],
      "text/plain": [
       "<IPython.core.display.HTML object>"
      ]
     },
     "metadata": {},
     "output_type": "display_data"
    },
    {
     "data": {
      "text/html": [
       " View project at <a href='https://wandb.ai/jooz-cave/unet-skin-lesion' target=\"_blank\">https://wandb.ai/jooz-cave/unet-skin-lesion</a>"
      ],
      "text/plain": [
       "<IPython.core.display.HTML object>"
      ]
     },
     "metadata": {},
     "output_type": "display_data"
    },
    {
     "data": {
      "text/html": [
       " View sweep at <a href='https://wandb.ai/jooz-cave/unet-skin-lesion/sweeps/qjjguvd6' target=\"_blank\">https://wandb.ai/jooz-cave/unet-skin-lesion/sweeps/qjjguvd6</a>"
      ],
      "text/plain": [
       "<IPython.core.display.HTML object>"
      ]
     },
     "metadata": {},
     "output_type": "display_data"
    },
    {
     "data": {
      "text/html": [
       " View run at <a href='https://wandb.ai/jooz-cave/unet-skin-lesion/runs/v72ej54c/workspace' target=\"_blank\">https://wandb.ai/jooz-cave/unet-skin-lesion/runs/v72ej54c/workspace</a>"
      ],
      "text/plain": [
       "<IPython.core.display.HTML object>"
      ]
     },
     "metadata": {},
     "output_type": "display_data"
    },
    {
     "name": "stdout",
     "output_type": "stream",
     "text": [
      "Validation Loss: 0.8471127599477768\n",
      "Got 4794416/6553600 with acc 73.16\n",
      "Dice score: 0.0\n",
      "epoch: 0\n"
     ]
    },
    {
     "name": "stderr",
     "output_type": "stream",
     "text": [
      "100%|██████████| 82/82 [07:18<00:00,  5.35s/it, loss=0.298]\n"
     ]
    },
    {
     "name": "stdout",
     "output_type": "stream",
     "text": [
      "=> Saving checkpoint\n",
      "Validation Loss: 0.7353085726499557\n",
      "Got 5632933/6553600 with acc 85.95\n",
      "Dice score: 0.7746925354003906\n",
      "epoch: 1\n"
     ]
    },
    {
     "name": "stderr",
     "output_type": "stream",
     "text": [
      "100%|██████████| 82/82 [07:19<00:00,  5.36s/it, loss=0.254]\n"
     ]
    },
    {
     "name": "stdout",
     "output_type": "stream",
     "text": [
      "=> Saving checkpoint\n",
      "Validation Loss: 0.7130420207977295\n",
      "Got 5905342/6553600 with acc 90.11\n",
      "Dice score: 0.82906174659729\n",
      "epoch: 2\n"
     ]
    },
    {
     "name": "stderr",
     "output_type": "stream",
     "text": [
      "100%|██████████| 82/82 [07:19<00:00,  5.36s/it, loss=0.308]\n"
     ]
    },
    {
     "name": "stdout",
     "output_type": "stream",
     "text": [
      "=> Saving checkpoint\n",
      "Validation Loss: 0.7010082751512527\n",
      "Got 5946127/6553600 with acc 90.73\n",
      "Dice score: 0.8365728855133057\n",
      "Test Loss: 0.6971721239387989\n",
      "Got 58040465/65536000 with acc 88.56\n",
      "Dice score: 0.7904860377311707\n"
     ]
    },
    {
     "data": {
      "text/html": [
       "<style>\n",
       "    table.wandb td:nth-child(1) { padding: 0 10px; text-align: left ; width: auto;} td:nth-child(2) {text-align: left ; width: 100%}\n",
       "    .wandb-row { display: flex; flex-direction: row; flex-wrap: wrap; justify-content: flex-start; width: 100% }\n",
       "    .wandb-col { display: flex; flex-direction: column; flex-basis: 100%; flex: 1; padding: 10px; }\n",
       "    </style>\n",
       "<div class=\"wandb-row\"><div class=\"wandb-col\"><h3>Run history:</h3><br/><table class=\"wandb\"><tr><td>Dice Score</td><td>▁▇██</td></tr><tr><td>Pixel Accuracy</td><td>▁▆██</td></tr><tr><td>Test Dice Score</td><td>▁</td></tr><tr><td>Test Loss</td><td>▁</td></tr><tr><td>Test Pixel Accuracy</td><td>▁</td></tr><tr><td>Training Loss</td><td>█▆▅▄▄▅▄▃▃▃▃▃▃▂▂▃▂▂▃▂▂▂▂▂▂▂▁▃▃▂▂▁▂▂▃▂▂▂▁▂</td></tr><tr><td>Validation Loss</td><td>█▃▂▁</td></tr><tr><td>epoch</td><td>▁▅█</td></tr></table><br/></div><div class=\"wandb-col\"><h3>Run summary:</h3><br/><table class=\"wandb\"><tr><td>Dice Score</td><td>0.83657</td></tr><tr><td>MODEL</td><td>UNET</td></tr><tr><td>Pixel Accuracy</td><td>90.7307</td></tr><tr><td>Test Dice Score</td><td>0.79049</td></tr><tr><td>Test Loss</td><td>0.69717</td></tr><tr><td>Test Pixel Accuracy</td><td>88.56272</td></tr><tr><td>Training Loss</td><td>0.30816</td></tr><tr><td>Validation Loss</td><td>0.70101</td></tr><tr><td>epoch</td><td>2</td></tr></table><br/></div></div>"
      ],
      "text/plain": [
       "<IPython.core.display.HTML object>"
      ]
     },
     "metadata": {},
     "output_type": "display_data"
    },
    {
     "data": {
      "text/html": [
       " View run <strong style=\"color:#cdcd00\">glowing-sweep-23</strong> at: <a href='https://wandb.ai/jooz-cave/unet-skin-lesion/runs/v72ej54c/workspace' target=\"_blank\">https://wandb.ai/jooz-cave/unet-skin-lesion/runs/v72ej54c/workspace</a><br/>Synced 5 W&B file(s), 0 media file(s), 0 artifact file(s) and 0 other file(s)"
      ],
      "text/plain": [
       "<IPython.core.display.HTML object>"
      ]
     },
     "metadata": {},
     "output_type": "display_data"
    },
    {
     "data": {
      "text/html": [
       "Find logs at: <code>.\\wandb\\run-20240412_092907-v72ej54c\\logs</code>"
      ],
      "text/plain": [
       "<IPython.core.display.HTML object>"
      ]
     },
     "metadata": {},
     "output_type": "display_data"
    },
    {
     "name": "stderr",
     "output_type": "stream",
     "text": [
      "\u001b[34m\u001b[1mwandb\u001b[0m: Sweep Agent: Waiting for job.\n",
      "\u001b[34m\u001b[1mwandb\u001b[0m: Job received.\n",
      "\u001b[34m\u001b[1mwandb\u001b[0m: Agent Starting Run: k3wy72nd with config:\n",
      "\u001b[34m\u001b[1mwandb\u001b[0m: \tbatch_size: 64\n",
      "\u001b[34m\u001b[1mwandb\u001b[0m: \tdropout_rate: 0.1\n",
      "\u001b[34m\u001b[1mwandb\u001b[0m: \tepochs: 3\n",
      "\u001b[34m\u001b[1mwandb\u001b[0m: \tkernel_size: 7\n",
      "\u001b[34m\u001b[1mwandb\u001b[0m: \tlearning_rate: 0.0001\n",
      "Failed to detect the name of this notebook, you can set it manually with the WANDB_NOTEBOOK_NAME environment variable to enable code saving.\n"
     ]
    },
    {
     "data": {
      "text/html": [
       "wandb version 0.16.6 is available!  To upgrade, please run:\n",
       " $ pip install wandb --upgrade"
      ],
      "text/plain": [
       "<IPython.core.display.HTML object>"
      ]
     },
     "metadata": {},
     "output_type": "display_data"
    },
    {
     "data": {
      "text/html": [
       "Tracking run with wandb version 0.16.5"
      ],
      "text/plain": [
       "<IPython.core.display.HTML object>"
      ]
     },
     "metadata": {},
     "output_type": "display_data"
    },
    {
     "data": {
      "text/html": [
       "Run data is saved locally in <code>c:\\Users\\jonta\\code\\school\\t8\\DeepLearning\\50.039-DL\\notebooks\\wandb\\run-20240412_095443-k3wy72nd</code>"
      ],
      "text/plain": [
       "<IPython.core.display.HTML object>"
      ]
     },
     "metadata": {},
     "output_type": "display_data"
    },
    {
     "data": {
      "text/html": [
       "Syncing run <strong><a href='https://wandb.ai/jooz-cave/unet-skin-lesion/runs/k3wy72nd/workspace' target=\"_blank\">colorful-sweep-24</a></strong> to <a href='https://wandb.ai/jooz-cave/unet-skin-lesion' target=\"_blank\">Weights & Biases</a> (<a href='https://wandb.me/run' target=\"_blank\">docs</a>)<br/>Sweep page: <a href='https://wandb.ai/jooz-cave/unet-skin-lesion/sweeps/qjjguvd6' target=\"_blank\">https://wandb.ai/jooz-cave/unet-skin-lesion/sweeps/qjjguvd6</a>"
      ],
      "text/plain": [
       "<IPython.core.display.HTML object>"
      ]
     },
     "metadata": {},
     "output_type": "display_data"
    },
    {
     "data": {
      "text/html": [
       " View project at <a href='https://wandb.ai/jooz-cave/unet-skin-lesion' target=\"_blank\">https://wandb.ai/jooz-cave/unet-skin-lesion</a>"
      ],
      "text/plain": [
       "<IPython.core.display.HTML object>"
      ]
     },
     "metadata": {},
     "output_type": "display_data"
    },
    {
     "data": {
      "text/html": [
       " View sweep at <a href='https://wandb.ai/jooz-cave/unet-skin-lesion/sweeps/qjjguvd6' target=\"_blank\">https://wandb.ai/jooz-cave/unet-skin-lesion/sweeps/qjjguvd6</a>"
      ],
      "text/plain": [
       "<IPython.core.display.HTML object>"
      ]
     },
     "metadata": {},
     "output_type": "display_data"
    },
    {
     "data": {
      "text/html": [
       " View run at <a href='https://wandb.ai/jooz-cave/unet-skin-lesion/runs/k3wy72nd/workspace' target=\"_blank\">https://wandb.ai/jooz-cave/unet-skin-lesion/runs/k3wy72nd/workspace</a>"
      ],
      "text/plain": [
       "<IPython.core.display.HTML object>"
      ]
     },
     "metadata": {},
     "output_type": "display_data"
    },
    {
     "name": "stdout",
     "output_type": "stream",
     "text": [
      "Validation Loss: 0.8369442224502563\n",
      "Got 4795034/6553600 with acc 73.17\n",
      "Dice score: 0.0\n",
      "epoch: 0\n"
     ]
    },
    {
     "name": "stderr",
     "output_type": "stream",
     "text": [
      "100%|██████████| 41/41 [07:15<00:00, 10.63s/it, loss=0.411]\n"
     ]
    },
    {
     "name": "stdout",
     "output_type": "stream",
     "text": [
      "=> Saving checkpoint\n",
      "Validation Loss: 0.6988283097743988\n",
      "Got 5517624/6553600 with acc 84.19\n",
      "Dice score: 0.625137448310852\n",
      "epoch: 1\n"
     ]
    },
    {
     "name": "stderr",
     "output_type": "stream",
     "text": [
      "100%|██████████| 41/41 [07:14<00:00, 10.59s/it, loss=0.281]\n"
     ]
    },
    {
     "name": "stdout",
     "output_type": "stream",
     "text": [
      "=> Saving checkpoint\n",
      "Validation Loss: 0.6910319030284882\n",
      "Got 5927200/6553600 with acc 90.44\n",
      "Dice score: 0.7828748226165771\n",
      "epoch: 2\n"
     ]
    },
    {
     "name": "stderr",
     "output_type": "stream",
     "text": [
      "100%|██████████| 41/41 [07:14<00:00, 10.61s/it, loss=0.24] \n"
     ]
    },
    {
     "name": "stdout",
     "output_type": "stream",
     "text": [
      "=> Saving checkpoint\n",
      "Validation Loss: 0.7005902826786041\n",
      "Got 5916223/6553600 with acc 90.27\n",
      "Dice score: 0.8108481764793396\n",
      "Test Loss: 0.6987696178257465\n",
      "Got 57710232/65536000 with acc 88.06\n",
      "Dice score: 0.7833752632141113\n"
     ]
    },
    {
     "data": {
      "text/html": [
       "<style>\n",
       "    table.wandb td:nth-child(1) { padding: 0 10px; text-align: left ; width: auto;} td:nth-child(2) {text-align: left ; width: 100%}\n",
       "    .wandb-row { display: flex; flex-direction: row; flex-wrap: wrap; justify-content: flex-start; width: 100% }\n",
       "    .wandb-col { display: flex; flex-direction: column; flex-basis: 100%; flex: 1; padding: 10px; }\n",
       "    </style>\n",
       "<div class=\"wandb-row\"><div class=\"wandb-col\"><h3>Run history:</h3><br/><table class=\"wandb\"><tr><td>Dice Score</td><td>▁▆██</td></tr><tr><td>Pixel Accuracy</td><td>▁▅██</td></tr><tr><td>Test Dice Score</td><td>▁</td></tr><tr><td>Test Loss</td><td>▁</td></tr><tr><td>Test Pixel Accuracy</td><td>▁</td></tr><tr><td>Training Loss</td><td>█▅▄▄▄▃▃▂▃▂▃▂▂▄▂▂▂▂▂▂▂▂▂▂▁▁▂▁▂▂▁▂▂▂▁▂▂▁▂▁</td></tr><tr><td>Validation Loss</td><td>█▁▁▁</td></tr><tr><td>epoch</td><td>▁▅█</td></tr></table><br/></div><div class=\"wandb-col\"><h3>Run summary:</h3><br/><table class=\"wandb\"><tr><td>Dice Score</td><td>0.81085</td></tr><tr><td>MODEL</td><td>UNET</td></tr><tr><td>Pixel Accuracy</td><td>90.2744</td></tr><tr><td>Test Dice Score</td><td>0.78338</td></tr><tr><td>Test Loss</td><td>0.69877</td></tr><tr><td>Test Pixel Accuracy</td><td>88.05883</td></tr><tr><td>Training Loss</td><td>0.23997</td></tr><tr><td>Validation Loss</td><td>0.70059</td></tr><tr><td>epoch</td><td>2</td></tr></table><br/></div></div>"
      ],
      "text/plain": [
       "<IPython.core.display.HTML object>"
      ]
     },
     "metadata": {},
     "output_type": "display_data"
    },
    {
     "data": {
      "text/html": [
       " View run <strong style=\"color:#cdcd00\">colorful-sweep-24</strong> at: <a href='https://wandb.ai/jooz-cave/unet-skin-lesion/runs/k3wy72nd/workspace' target=\"_blank\">https://wandb.ai/jooz-cave/unet-skin-lesion/runs/k3wy72nd/workspace</a><br/>Synced 5 W&B file(s), 0 media file(s), 0 artifact file(s) and 0 other file(s)"
      ],
      "text/plain": [
       "<IPython.core.display.HTML object>"
      ]
     },
     "metadata": {},
     "output_type": "display_data"
    },
    {
     "data": {
      "text/html": [
       "Find logs at: <code>.\\wandb\\run-20240412_095443-k3wy72nd\\logs</code>"
      ],
      "text/plain": [
       "<IPython.core.display.HTML object>"
      ]
     },
     "metadata": {},
     "output_type": "display_data"
    },
    {
     "name": "stderr",
     "output_type": "stream",
     "text": [
      "\u001b[34m\u001b[1mwandb\u001b[0m: Agent Starting Run: hozportv with config:\n",
      "\u001b[34m\u001b[1mwandb\u001b[0m: \tbatch_size: 64\n",
      "\u001b[34m\u001b[1mwandb\u001b[0m: \tdropout_rate: 0\n",
      "\u001b[34m\u001b[1mwandb\u001b[0m: \tepochs: 3\n",
      "\u001b[34m\u001b[1mwandb\u001b[0m: \tkernel_size: 7\n",
      "\u001b[34m\u001b[1mwandb\u001b[0m: \tlearning_rate: 0.0001\n",
      "Failed to detect the name of this notebook, you can set it manually with the WANDB_NOTEBOOK_NAME environment variable to enable code saving.\n"
     ]
    },
    {
     "data": {
      "text/html": [
       "wandb version 0.16.6 is available!  To upgrade, please run:\n",
       " $ pip install wandb --upgrade"
      ],
      "text/plain": [
       "<IPython.core.display.HTML object>"
      ]
     },
     "metadata": {},
     "output_type": "display_data"
    },
    {
     "data": {
      "text/html": [
       "Tracking run with wandb version 0.16.5"
      ],
      "text/plain": [
       "<IPython.core.display.HTML object>"
      ]
     },
     "metadata": {},
     "output_type": "display_data"
    },
    {
     "data": {
      "text/html": [
       "Run data is saved locally in <code>c:\\Users\\jonta\\code\\school\\t8\\DeepLearning\\50.039-DL\\notebooks\\wandb\\run-20240412_101959-hozportv</code>"
      ],
      "text/plain": [
       "<IPython.core.display.HTML object>"
      ]
     },
     "metadata": {},
     "output_type": "display_data"
    },
    {
     "data": {
      "text/html": [
       "Syncing run <strong><a href='https://wandb.ai/jooz-cave/unet-skin-lesion/runs/hozportv/workspace' target=\"_blank\">fresh-sweep-25</a></strong> to <a href='https://wandb.ai/jooz-cave/unet-skin-lesion' target=\"_blank\">Weights & Biases</a> (<a href='https://wandb.me/run' target=\"_blank\">docs</a>)<br/>Sweep page: <a href='https://wandb.ai/jooz-cave/unet-skin-lesion/sweeps/qjjguvd6' target=\"_blank\">https://wandb.ai/jooz-cave/unet-skin-lesion/sweeps/qjjguvd6</a>"
      ],
      "text/plain": [
       "<IPython.core.display.HTML object>"
      ]
     },
     "metadata": {},
     "output_type": "display_data"
    },
    {
     "data": {
      "text/html": [
       " View project at <a href='https://wandb.ai/jooz-cave/unet-skin-lesion' target=\"_blank\">https://wandb.ai/jooz-cave/unet-skin-lesion</a>"
      ],
      "text/plain": [
       "<IPython.core.display.HTML object>"
      ]
     },
     "metadata": {},
     "output_type": "display_data"
    },
    {
     "data": {
      "text/html": [
       " View sweep at <a href='https://wandb.ai/jooz-cave/unet-skin-lesion/sweeps/qjjguvd6' target=\"_blank\">https://wandb.ai/jooz-cave/unet-skin-lesion/sweeps/qjjguvd6</a>"
      ],
      "text/plain": [
       "<IPython.core.display.HTML object>"
      ]
     },
     "metadata": {},
     "output_type": "display_data"
    },
    {
     "data": {
      "text/html": [
       " View run at <a href='https://wandb.ai/jooz-cave/unet-skin-lesion/runs/hozportv/workspace' target=\"_blank\">https://wandb.ai/jooz-cave/unet-skin-lesion/runs/hozportv/workspace</a>"
      ],
      "text/plain": [
       "<IPython.core.display.HTML object>"
      ]
     },
     "metadata": {},
     "output_type": "display_data"
    },
    {
     "name": "stdout",
     "output_type": "stream",
     "text": [
      "Validation Loss: 0.855129063129425\n",
      "Got 1758566/6553600 with acc 26.83\n",
      "Dice score: 0.4133538603782654\n",
      "epoch: 0\n"
     ]
    },
    {
     "name": "stderr",
     "output_type": "stream",
     "text": [
      "100%|██████████| 41/41 [07:14<00:00, 10.60s/it, loss=0.344]\n"
     ]
    },
    {
     "name": "stdout",
     "output_type": "stream",
     "text": [
      "=> Saving checkpoint\n",
      "Validation Loss: 0.769974559545517\n",
      "Got 4984596/6553600 with acc 76.06\n",
      "Dice score: 0.6679551601409912\n",
      "epoch: 1\n"
     ]
    },
    {
     "name": "stderr",
     "output_type": "stream",
     "text": [
      "100%|██████████| 41/41 [07:13<00:00, 10.58s/it, loss=0.313]\n"
     ]
    },
    {
     "name": "stdout",
     "output_type": "stream",
     "text": [
      "=> Saving checkpoint\n",
      "Validation Loss: 0.7283669114112854\n",
      "Got 5584702/6553600 with acc 85.22\n",
      "Dice score: 0.7566604614257812\n",
      "epoch: 2\n"
     ]
    },
    {
     "name": "stderr",
     "output_type": "stream",
     "text": [
      "100%|██████████| 41/41 [07:13<00:00, 10.58s/it, loss=0.287]\n"
     ]
    },
    {
     "name": "stdout",
     "output_type": "stream",
     "text": [
      "=> Saving checkpoint\n",
      "Validation Loss: 0.710962176322937\n",
      "Got 5939517/6553600 with acc 90.63\n",
      "Dice score: 0.8173483610153198\n",
      "Test Loss: 0.7094222977757454\n",
      "Got 57957681/65536000 with acc 88.44\n",
      "Dice score: 0.7740142345428467\n"
     ]
    },
    {
     "data": {
      "text/html": [
       "<style>\n",
       "    table.wandb td:nth-child(1) { padding: 0 10px; text-align: left ; width: auto;} td:nth-child(2) {text-align: left ; width: 100%}\n",
       "    .wandb-row { display: flex; flex-direction: row; flex-wrap: wrap; justify-content: flex-start; width: 100% }\n",
       "    .wandb-col { display: flex; flex-direction: column; flex-basis: 100%; flex: 1; padding: 10px; }\n",
       "    </style>\n",
       "<div class=\"wandb-row\"><div class=\"wandb-col\"><h3>Run history:</h3><br/><table class=\"wandb\"><tr><td>Dice Score</td><td>▁▅▇█</td></tr><tr><td>Pixel Accuracy</td><td>▁▆▇█</td></tr><tr><td>Test Dice Score</td><td>▁</td></tr><tr><td>Test Loss</td><td>▁</td></tr><tr><td>Test Pixel Accuracy</td><td>▁</td></tr><tr><td>Training Loss</td><td>█▅▄▄▄▄▃▂▂▂▂▂▂▂▂▂▂▂▂▂▁▂▂▂▂▂▁▁▁▁▁▁▁▁▁▁▁▁▁▁</td></tr><tr><td>Validation Loss</td><td>█▄▂▁</td></tr><tr><td>epoch</td><td>▁▅█</td></tr></table><br/></div><div class=\"wandb-col\"><h3>Run summary:</h3><br/><table class=\"wandb\"><tr><td>Dice Score</td><td>0.81735</td></tr><tr><td>MODEL</td><td>UNET</td></tr><tr><td>Pixel Accuracy</td><td>90.62984</td></tr><tr><td>Test Dice Score</td><td>0.77401</td></tr><tr><td>Test Loss</td><td>0.70942</td></tr><tr><td>Test Pixel Accuracy</td><td>88.43641</td></tr><tr><td>Training Loss</td><td>0.28712</td></tr><tr><td>Validation Loss</td><td>0.71096</td></tr><tr><td>epoch</td><td>2</td></tr></table><br/></div></div>"
      ],
      "text/plain": [
       "<IPython.core.display.HTML object>"
      ]
     },
     "metadata": {},
     "output_type": "display_data"
    },
    {
     "data": {
      "text/html": [
       " View run <strong style=\"color:#cdcd00\">fresh-sweep-25</strong> at: <a href='https://wandb.ai/jooz-cave/unet-skin-lesion/runs/hozportv/workspace' target=\"_blank\">https://wandb.ai/jooz-cave/unet-skin-lesion/runs/hozportv/workspace</a><br/>Synced 5 W&B file(s), 0 media file(s), 0 artifact file(s) and 0 other file(s)"
      ],
      "text/plain": [
       "<IPython.core.display.HTML object>"
      ]
     },
     "metadata": {},
     "output_type": "display_data"
    },
    {
     "data": {
      "text/html": [
       "Find logs at: <code>.\\wandb\\run-20240412_101959-hozportv\\logs</code>"
      ],
      "text/plain": [
       "<IPython.core.display.HTML object>"
      ]
     },
     "metadata": {},
     "output_type": "display_data"
    },
    {
     "name": "stderr",
     "output_type": "stream",
     "text": [
      "\u001b[34m\u001b[1mwandb\u001b[0m: Agent Starting Run: 0cccqr7q with config:\n",
      "\u001b[34m\u001b[1mwandb\u001b[0m: \tbatch_size: 64\n",
      "\u001b[34m\u001b[1mwandb\u001b[0m: \tdropout_rate: 0\n",
      "\u001b[34m\u001b[1mwandb\u001b[0m: \tepochs: 3\n",
      "\u001b[34m\u001b[1mwandb\u001b[0m: \tkernel_size: 7\n",
      "\u001b[34m\u001b[1mwandb\u001b[0m: \tlearning_rate: 0.0001\n",
      "Failed to detect the name of this notebook, you can set it manually with the WANDB_NOTEBOOK_NAME environment variable to enable code saving.\n"
     ]
    },
    {
     "data": {
      "text/html": [
       "wandb version 0.16.6 is available!  To upgrade, please run:\n",
       " $ pip install wandb --upgrade"
      ],
      "text/plain": [
       "<IPython.core.display.HTML object>"
      ]
     },
     "metadata": {},
     "output_type": "display_data"
    },
    {
     "data": {
      "text/html": [
       "Tracking run with wandb version 0.16.5"
      ],
      "text/plain": [
       "<IPython.core.display.HTML object>"
      ]
     },
     "metadata": {},
     "output_type": "display_data"
    },
    {
     "data": {
      "text/html": [
       "Run data is saved locally in <code>c:\\Users\\jonta\\code\\school\\t8\\DeepLearning\\50.039-DL\\notebooks\\wandb\\run-20240412_104509-0cccqr7q</code>"
      ],
      "text/plain": [
       "<IPython.core.display.HTML object>"
      ]
     },
     "metadata": {},
     "output_type": "display_data"
    },
    {
     "data": {
      "text/html": [
       "Syncing run <strong><a href='https://wandb.ai/jooz-cave/unet-skin-lesion/runs/0cccqr7q/workspace' target=\"_blank\">light-sweep-26</a></strong> to <a href='https://wandb.ai/jooz-cave/unet-skin-lesion' target=\"_blank\">Weights & Biases</a> (<a href='https://wandb.me/run' target=\"_blank\">docs</a>)<br/>Sweep page: <a href='https://wandb.ai/jooz-cave/unet-skin-lesion/sweeps/qjjguvd6' target=\"_blank\">https://wandb.ai/jooz-cave/unet-skin-lesion/sweeps/qjjguvd6</a>"
      ],
      "text/plain": [
       "<IPython.core.display.HTML object>"
      ]
     },
     "metadata": {},
     "output_type": "display_data"
    },
    {
     "data": {
      "text/html": [
       " View project at <a href='https://wandb.ai/jooz-cave/unet-skin-lesion' target=\"_blank\">https://wandb.ai/jooz-cave/unet-skin-lesion</a>"
      ],
      "text/plain": [
       "<IPython.core.display.HTML object>"
      ]
     },
     "metadata": {},
     "output_type": "display_data"
    },
    {
     "data": {
      "text/html": [
       " View sweep at <a href='https://wandb.ai/jooz-cave/unet-skin-lesion/sweeps/qjjguvd6' target=\"_blank\">https://wandb.ai/jooz-cave/unet-skin-lesion/sweeps/qjjguvd6</a>"
      ],
      "text/plain": [
       "<IPython.core.display.HTML object>"
      ]
     },
     "metadata": {},
     "output_type": "display_data"
    },
    {
     "data": {
      "text/html": [
       " View run at <a href='https://wandb.ai/jooz-cave/unet-skin-lesion/runs/0cccqr7q/workspace' target=\"_blank\">https://wandb.ai/jooz-cave/unet-skin-lesion/runs/0cccqr7q/workspace</a>"
      ],
      "text/plain": [
       "<IPython.core.display.HTML object>"
      ]
     },
     "metadata": {},
     "output_type": "display_data"
    },
    {
     "name": "stdout",
     "output_type": "stream",
     "text": [
      "Validation Loss: 0.8522662222385406\n",
      "Got 1758566/6553600 with acc 26.83\n",
      "Dice score: 0.4133538603782654\n",
      "epoch: 0\n"
     ]
    },
    {
     "name": "stderr",
     "output_type": "stream",
     "text": [
      "100%|██████████| 41/41 [07:14<00:00, 10.61s/it, loss=0.41] \n"
     ]
    },
    {
     "name": "stdout",
     "output_type": "stream",
     "text": [
      "=> Saving checkpoint\n",
      "Validation Loss: 0.7522667646408081\n",
      "Got 5408831/6553600 with acc 82.53\n",
      "Dice score: 0.7202873826026917\n",
      "epoch: 1\n"
     ]
    },
    {
     "name": "stderr",
     "output_type": "stream",
     "text": [
      "100%|██████████| 41/41 [07:14<00:00, 10.60s/it, loss=0.318]\n"
     ]
    },
    {
     "name": "stdout",
     "output_type": "stream",
     "text": [
      "=> Saving checkpoint\n",
      "Validation Loss: 0.7301160395145416\n",
      "Got 5826494/6553600 with acc 88.91\n",
      "Dice score: 0.786280632019043\n",
      "epoch: 2\n"
     ]
    },
    {
     "name": "stderr",
     "output_type": "stream",
     "text": [
      "100%|██████████| 41/41 [07:14<00:00, 10.60s/it, loss=0.3]  \n"
     ]
    },
    {
     "name": "stdout",
     "output_type": "stream",
     "text": [
      "=> Saving checkpoint\n",
      "Validation Loss: 0.710959792137146\n",
      "Got 5985143/6553600 with acc 91.33\n",
      "Dice score: 0.8254138231277466\n",
      "Test Loss: 0.707156028598547\n",
      "Got 58889655/65536000 with acc 89.86\n",
      "Dice score: 0.8066052198410034\n"
     ]
    },
    {
     "data": {
      "text/html": [
       "<style>\n",
       "    table.wandb td:nth-child(1) { padding: 0 10px; text-align: left ; width: auto;} td:nth-child(2) {text-align: left ; width: 100%}\n",
       "    .wandb-row { display: flex; flex-direction: row; flex-wrap: wrap; justify-content: flex-start; width: 100% }\n",
       "    .wandb-col { display: flex; flex-direction: column; flex-basis: 100%; flex: 1; padding: 10px; }\n",
       "    </style>\n",
       "<div class=\"wandb-row\"><div class=\"wandb-col\"><h3>Run history:</h3><br/><table class=\"wandb\"><tr><td>Dice Score</td><td>▁▆▇█</td></tr><tr><td>Pixel Accuracy</td><td>▁▇██</td></tr><tr><td>Test Dice Score</td><td>▁</td></tr><tr><td>Test Loss</td><td>▁</td></tr><tr><td>Test Pixel Accuracy</td><td>▁</td></tr><tr><td>Training Loss</td><td>█▅▅▄▄▃▃▃▂▂▃▃▂▃▂▂▂▂▂▂▂▂▂▂▂▂▁▂▂▂▁▁▂▂▁▁▁▁▁▁</td></tr><tr><td>Validation Loss</td><td>█▃▂▁</td></tr><tr><td>epoch</td><td>▁▅█</td></tr></table><br/></div><div class=\"wandb-col\"><h3>Run summary:</h3><br/><table class=\"wandb\"><tr><td>Dice Score</td><td>0.82541</td></tr><tr><td>MODEL</td><td>UNET</td></tr><tr><td>Pixel Accuracy</td><td>91.32603</td></tr><tr><td>Test Dice Score</td><td>0.80661</td></tr><tr><td>Test Loss</td><td>0.70716</td></tr><tr><td>Test Pixel Accuracy</td><td>89.85849</td></tr><tr><td>Training Loss</td><td>0.29994</td></tr><tr><td>Validation Loss</td><td>0.71096</td></tr><tr><td>epoch</td><td>2</td></tr></table><br/></div></div>"
      ],
      "text/plain": [
       "<IPython.core.display.HTML object>"
      ]
     },
     "metadata": {},
     "output_type": "display_data"
    },
    {
     "data": {
      "text/html": [
       " View run <strong style=\"color:#cdcd00\">light-sweep-26</strong> at: <a href='https://wandb.ai/jooz-cave/unet-skin-lesion/runs/0cccqr7q/workspace' target=\"_blank\">https://wandb.ai/jooz-cave/unet-skin-lesion/runs/0cccqr7q/workspace</a><br/>Synced 5 W&B file(s), 0 media file(s), 0 artifact file(s) and 0 other file(s)"
      ],
      "text/plain": [
       "<IPython.core.display.HTML object>"
      ]
     },
     "metadata": {},
     "output_type": "display_data"
    },
    {
     "data": {
      "text/html": [
       "Find logs at: <code>.\\wandb\\run-20240412_104509-0cccqr7q\\logs</code>"
      ],
      "text/plain": [
       "<IPython.core.display.HTML object>"
      ]
     },
     "metadata": {},
     "output_type": "display_data"
    },
    {
     "name": "stderr",
     "output_type": "stream",
     "text": [
      "\u001b[34m\u001b[1mwandb\u001b[0m: Sweep Agent: Waiting for job.\n",
      "\u001b[34m\u001b[1mwandb\u001b[0m: Job received.\n",
      "\u001b[34m\u001b[1mwandb\u001b[0m: Agent Starting Run: ebpenifn with config:\n",
      "\u001b[34m\u001b[1mwandb\u001b[0m: \tbatch_size: 16\n",
      "\u001b[34m\u001b[1mwandb\u001b[0m: \tdropout_rate: 0\n",
      "\u001b[34m\u001b[1mwandb\u001b[0m: \tepochs: 3\n",
      "\u001b[34m\u001b[1mwandb\u001b[0m: \tkernel_size: 7\n",
      "\u001b[34m\u001b[1mwandb\u001b[0m: \tlearning_rate: 0.0001\n",
      "Failed to detect the name of this notebook, you can set it manually with the WANDB_NOTEBOOK_NAME environment variable to enable code saving.\n"
     ]
    },
    {
     "data": {
      "text/html": [
       "wandb version 0.16.6 is available!  To upgrade, please run:\n",
       " $ pip install wandb --upgrade"
      ],
      "text/plain": [
       "<IPython.core.display.HTML object>"
      ]
     },
     "metadata": {},
     "output_type": "display_data"
    },
    {
     "data": {
      "text/html": [
       "Tracking run with wandb version 0.16.5"
      ],
      "text/plain": [
       "<IPython.core.display.HTML object>"
      ]
     },
     "metadata": {},
     "output_type": "display_data"
    },
    {
     "data": {
      "text/html": [
       "Run data is saved locally in <code>c:\\Users\\jonta\\code\\school\\t8\\DeepLearning\\50.039-DL\\notebooks\\wandb\\run-20240412_111027-ebpenifn</code>"
      ],
      "text/plain": [
       "<IPython.core.display.HTML object>"
      ]
     },
     "metadata": {},
     "output_type": "display_data"
    },
    {
     "data": {
      "text/html": [
       "Syncing run <strong><a href='https://wandb.ai/jooz-cave/unet-skin-lesion/runs/ebpenifn/workspace' target=\"_blank\">unique-sweep-27</a></strong> to <a href='https://wandb.ai/jooz-cave/unet-skin-lesion' target=\"_blank\">Weights & Biases</a> (<a href='https://wandb.me/run' target=\"_blank\">docs</a>)<br/>Sweep page: <a href='https://wandb.ai/jooz-cave/unet-skin-lesion/sweeps/qjjguvd6' target=\"_blank\">https://wandb.ai/jooz-cave/unet-skin-lesion/sweeps/qjjguvd6</a>"
      ],
      "text/plain": [
       "<IPython.core.display.HTML object>"
      ]
     },
     "metadata": {},
     "output_type": "display_data"
    },
    {
     "data": {
      "text/html": [
       " View project at <a href='https://wandb.ai/jooz-cave/unet-skin-lesion' target=\"_blank\">https://wandb.ai/jooz-cave/unet-skin-lesion</a>"
      ],
      "text/plain": [
       "<IPython.core.display.HTML object>"
      ]
     },
     "metadata": {},
     "output_type": "display_data"
    },
    {
     "data": {
      "text/html": [
       " View sweep at <a href='https://wandb.ai/jooz-cave/unet-skin-lesion/sweeps/qjjguvd6' target=\"_blank\">https://wandb.ai/jooz-cave/unet-skin-lesion/sweeps/qjjguvd6</a>"
      ],
      "text/plain": [
       "<IPython.core.display.HTML object>"
      ]
     },
     "metadata": {},
     "output_type": "display_data"
    },
    {
     "data": {
      "text/html": [
       " View run at <a href='https://wandb.ai/jooz-cave/unet-skin-lesion/runs/ebpenifn/workspace' target=\"_blank\">https://wandb.ai/jooz-cave/unet-skin-lesion/runs/ebpenifn/workspace</a>"
      ],
      "text/plain": [
       "<IPython.core.display.HTML object>"
      ]
     },
     "metadata": {},
     "output_type": "display_data"
    },
    {
     "name": "stdout",
     "output_type": "stream",
     "text": [
      "Validation Loss: 0.8449389679091317\n",
      "Got 1758566/6553600 with acc 26.83\n",
      "Dice score: 0.41082340478897095\n",
      "epoch: 0\n"
     ]
    },
    {
     "name": "stderr",
     "output_type": "stream",
     "text": [
      "100%|██████████| 163/163 [07:28<00:00,  2.75s/it, loss=0.303]\n"
     ]
    },
    {
     "name": "stdout",
     "output_type": "stream",
     "text": [
      "=> Saving checkpoint\n",
      "Validation Loss: 0.6998439431190491\n",
      "Got 5763717/6553600 with acc 87.95\n",
      "Dice score: 0.7553477883338928\n",
      "epoch: 1\n"
     ]
    },
    {
     "name": "stderr",
     "output_type": "stream",
     "text": [
      "100%|██████████| 163/163 [07:27<00:00,  2.74s/it, loss=0.522]\n"
     ]
    },
    {
     "name": "stdout",
     "output_type": "stream",
     "text": [
      "=> Saving checkpoint\n",
      "Validation Loss: 0.6882504820823669\n",
      "Got 5946526/6553600 with acc 90.74\n",
      "Dice score: 0.8150265216827393\n",
      "epoch: 2\n"
     ]
    },
    {
     "name": "stderr",
     "output_type": "stream",
     "text": [
      "100%|██████████| 163/163 [07:28<00:00,  2.75s/it, loss=0.227]\n"
     ]
    },
    {
     "name": "stdout",
     "output_type": "stream",
     "text": [
      "=> Saving checkpoint\n",
      "Validation Loss: 0.6634205154010228\n",
      "Got 6004473/6553600 with acc 91.62\n",
      "Dice score: 0.84047931432724\n",
      "Test Loss: 0.6634302432574923\n",
      "Got 58796111/65536000 with acc 89.72\n",
      "Dice score: 0.8041778802871704\n"
     ]
    },
    {
     "data": {
      "text/html": [
       "<style>\n",
       "    table.wandb td:nth-child(1) { padding: 0 10px; text-align: left ; width: auto;} td:nth-child(2) {text-align: left ; width: 100%}\n",
       "    .wandb-row { display: flex; flex-direction: row; flex-wrap: wrap; justify-content: flex-start; width: 100% }\n",
       "    .wandb-col { display: flex; flex-direction: column; flex-basis: 100%; flex: 1; padding: 10px; }\n",
       "    </style>\n",
       "<div class=\"wandb-row\"><div class=\"wandb-col\"><h3>Run history:</h3><br/><table class=\"wandb\"><tr><td>Dice Score</td><td>▁▇██</td></tr><tr><td>Pixel Accuracy</td><td>▁███</td></tr><tr><td>Test Dice Score</td><td>▁</td></tr><tr><td>Test Loss</td><td>▁</td></tr><tr><td>Test Pixel Accuracy</td><td>▁</td></tr><tr><td>Training Loss</td><td>█▆▆▅▅▄▄▄▅▅▄▂▂▃▄▄▃▃▂▂▄▃▂▅▂▂▂▃▂▂▁▂▁▂▃▂▂▁▁▂</td></tr><tr><td>Validation Loss</td><td>█▂▂▁</td></tr><tr><td>epoch</td><td>▁▅█</td></tr></table><br/></div><div class=\"wandb-col\"><h3>Run summary:</h3><br/><table class=\"wandb\"><tr><td>Dice Score</td><td>0.84048</td></tr><tr><td>MODEL</td><td>UNET</td></tr><tr><td>Pixel Accuracy</td><td>91.62099</td></tr><tr><td>Test Dice Score</td><td>0.80418</td></tr><tr><td>Test Loss</td><td>0.66343</td></tr><tr><td>Test Pixel Accuracy</td><td>89.71575</td></tr><tr><td>Training Loss</td><td>0.22729</td></tr><tr><td>Validation Loss</td><td>0.66342</td></tr><tr><td>epoch</td><td>2</td></tr></table><br/></div></div>"
      ],
      "text/plain": [
       "<IPython.core.display.HTML object>"
      ]
     },
     "metadata": {},
     "output_type": "display_data"
    },
    {
     "data": {
      "text/html": [
       " View run <strong style=\"color:#cdcd00\">unique-sweep-27</strong> at: <a href='https://wandb.ai/jooz-cave/unet-skin-lesion/runs/ebpenifn/workspace' target=\"_blank\">https://wandb.ai/jooz-cave/unet-skin-lesion/runs/ebpenifn/workspace</a><br/>Synced 5 W&B file(s), 0 media file(s), 0 artifact file(s) and 0 other file(s)"
      ],
      "text/plain": [
       "<IPython.core.display.HTML object>"
      ]
     },
     "metadata": {},
     "output_type": "display_data"
    },
    {
     "data": {
      "text/html": [
       "Find logs at: <code>.\\wandb\\run-20240412_111027-ebpenifn\\logs</code>"
      ],
      "text/plain": [
       "<IPython.core.display.HTML object>"
      ]
     },
     "metadata": {},
     "output_type": "display_data"
    },
    {
     "name": "stderr",
     "output_type": "stream",
     "text": [
      "\u001b[34m\u001b[1mwandb\u001b[0m: Agent Starting Run: at6gybas with config:\n",
      "\u001b[34m\u001b[1mwandb\u001b[0m: \tbatch_size: 16\n",
      "\u001b[34m\u001b[1mwandb\u001b[0m: \tdropout_rate: 0\n",
      "\u001b[34m\u001b[1mwandb\u001b[0m: \tepochs: 3\n",
      "\u001b[34m\u001b[1mwandb\u001b[0m: \tkernel_size: 7\n",
      "\u001b[34m\u001b[1mwandb\u001b[0m: \tlearning_rate: 0.0001\n",
      "Failed to detect the name of this notebook, you can set it manually with the WANDB_NOTEBOOK_NAME environment variable to enable code saving.\n"
     ]
    },
    {
     "data": {
      "text/html": [
       "wandb version 0.16.6 is available!  To upgrade, please run:\n",
       " $ pip install wandb --upgrade"
      ],
      "text/plain": [
       "<IPython.core.display.HTML object>"
      ]
     },
     "metadata": {},
     "output_type": "display_data"
    },
    {
     "data": {
      "text/html": [
       "Tracking run with wandb version 0.16.5"
      ],
      "text/plain": [
       "<IPython.core.display.HTML object>"
      ]
     },
     "metadata": {},
     "output_type": "display_data"
    },
    {
     "data": {
      "text/html": [
       "Run data is saved locally in <code>c:\\Users\\jonta\\code\\school\\t8\\DeepLearning\\50.039-DL\\notebooks\\wandb\\run-20240412_113622-at6gybas</code>"
      ],
      "text/plain": [
       "<IPython.core.display.HTML object>"
      ]
     },
     "metadata": {},
     "output_type": "display_data"
    },
    {
     "data": {
      "text/html": [
       "Syncing run <strong><a href='https://wandb.ai/jooz-cave/unet-skin-lesion/runs/at6gybas/workspace' target=\"_blank\">trim-sweep-28</a></strong> to <a href='https://wandb.ai/jooz-cave/unet-skin-lesion' target=\"_blank\">Weights & Biases</a> (<a href='https://wandb.me/run' target=\"_blank\">docs</a>)<br/>Sweep page: <a href='https://wandb.ai/jooz-cave/unet-skin-lesion/sweeps/qjjguvd6' target=\"_blank\">https://wandb.ai/jooz-cave/unet-skin-lesion/sweeps/qjjguvd6</a>"
      ],
      "text/plain": [
       "<IPython.core.display.HTML object>"
      ]
     },
     "metadata": {},
     "output_type": "display_data"
    },
    {
     "data": {
      "text/html": [
       " View project at <a href='https://wandb.ai/jooz-cave/unet-skin-lesion' target=\"_blank\">https://wandb.ai/jooz-cave/unet-skin-lesion</a>"
      ],
      "text/plain": [
       "<IPython.core.display.HTML object>"
      ]
     },
     "metadata": {},
     "output_type": "display_data"
    },
    {
     "data": {
      "text/html": [
       " View sweep at <a href='https://wandb.ai/jooz-cave/unet-skin-lesion/sweeps/qjjguvd6' target=\"_blank\">https://wandb.ai/jooz-cave/unet-skin-lesion/sweeps/qjjguvd6</a>"
      ],
      "text/plain": [
       "<IPython.core.display.HTML object>"
      ]
     },
     "metadata": {},
     "output_type": "display_data"
    },
    {
     "data": {
      "text/html": [
       " View run at <a href='https://wandb.ai/jooz-cave/unet-skin-lesion/runs/at6gybas/workspace' target=\"_blank\">https://wandb.ai/jooz-cave/unet-skin-lesion/runs/at6gybas/workspace</a>"
      ],
      "text/plain": [
       "<IPython.core.display.HTML object>"
      ]
     },
     "metadata": {},
     "output_type": "display_data"
    },
    {
     "name": "stdout",
     "output_type": "stream",
     "text": [
      "Validation Loss: 0.8541442922183445\n",
      "Got 1758566/6553600 with acc 26.83\n",
      "Dice score: 0.41082340478897095\n",
      "epoch: 0\n"
     ]
    },
    {
     "name": "stderr",
     "output_type": "stream",
     "text": [
      "100%|██████████| 163/163 [07:28<00:00,  2.75s/it, loss=0.242]\n"
     ]
    },
    {
     "name": "stdout",
     "output_type": "stream",
     "text": [
      "=> Saving checkpoint\n",
      "Validation Loss: 0.7057870711599078\n",
      "Got 5719151/6553600 with acc 87.27\n",
      "Dice score: 0.7895618677139282\n",
      "epoch: 1\n"
     ]
    },
    {
     "name": "stderr",
     "output_type": "stream",
     "text": [
      "100%|██████████| 163/163 [07:29<00:00,  2.76s/it, loss=0.214]\n"
     ]
    },
    {
     "name": "stdout",
     "output_type": "stream",
     "text": [
      "=> Saving checkpoint\n",
      "Validation Loss: 0.6962415661130633\n",
      "Got 5917767/6553600 with acc 90.30\n",
      "Dice score: 0.8092957139015198\n",
      "epoch: 2\n"
     ]
    },
    {
     "name": "stderr",
     "output_type": "stream",
     "text": [
      "100%|██████████| 163/163 [07:29<00:00,  2.75s/it, loss=0.585]\n"
     ]
    },
    {
     "name": "stdout",
     "output_type": "stream",
     "text": [
      "=> Saving checkpoint\n",
      "Validation Loss: 0.6792060817990985\n",
      "Got 5786865/6553600 with acc 88.30\n",
      "Dice score: 0.7946065068244934\n",
      "Test Loss: 0.6796965693670606\n",
      "Got 56562075/65536000 with acc 86.31\n",
      "Dice score: 0.7430660128593445\n"
     ]
    },
    {
     "data": {
      "text/html": [
       "<style>\n",
       "    table.wandb td:nth-child(1) { padding: 0 10px; text-align: left ; width: auto;} td:nth-child(2) {text-align: left ; width: 100%}\n",
       "    .wandb-row { display: flex; flex-direction: row; flex-wrap: wrap; justify-content: flex-start; width: 100% }\n",
       "    .wandb-col { display: flex; flex-direction: column; flex-basis: 100%; flex: 1; padding: 10px; }\n",
       "    </style>\n",
       "<div class=\"wandb-row\"><div class=\"wandb-col\"><h3>Run history:</h3><br/><table class=\"wandb\"><tr><td>Dice Score</td><td>▁███</td></tr><tr><td>Pixel Accuracy</td><td>▁███</td></tr><tr><td>Test Dice Score</td><td>▁</td></tr><tr><td>Test Loss</td><td>▁</td></tr><tr><td>Test Pixel Accuracy</td><td>▁</td></tr><tr><td>Training Loss</td><td>█▇▄▄▄▃▄▃▄▃▃▂▃▃▂▃▂▂▃▂▁▂▃▂▃▁▁▁▂▁▁▃▃▂▁▄▁▁▁▂</td></tr><tr><td>Validation Loss</td><td>█▂▂▁</td></tr><tr><td>epoch</td><td>▁▅█</td></tr></table><br/></div><div class=\"wandb-col\"><h3>Run summary:</h3><br/><table class=\"wandb\"><tr><td>Dice Score</td><td>0.79461</td></tr><tr><td>MODEL</td><td>UNET</td></tr><tr><td>Pixel Accuracy</td><td>88.30055</td></tr><tr><td>Test Dice Score</td><td>0.74307</td></tr><tr><td>Test Loss</td><td>0.6797</td></tr><tr><td>Test Pixel Accuracy</td><td>86.30688</td></tr><tr><td>Training Loss</td><td>0.58495</td></tr><tr><td>Validation Loss</td><td>0.67921</td></tr><tr><td>epoch</td><td>2</td></tr></table><br/></div></div>"
      ],
      "text/plain": [
       "<IPython.core.display.HTML object>"
      ]
     },
     "metadata": {},
     "output_type": "display_data"
    },
    {
     "data": {
      "text/html": [
       " View run <strong style=\"color:#cdcd00\">trim-sweep-28</strong> at: <a href='https://wandb.ai/jooz-cave/unet-skin-lesion/runs/at6gybas/workspace' target=\"_blank\">https://wandb.ai/jooz-cave/unet-skin-lesion/runs/at6gybas/workspace</a><br/>Synced 5 W&B file(s), 0 media file(s), 0 artifact file(s) and 0 other file(s)"
      ],
      "text/plain": [
       "<IPython.core.display.HTML object>"
      ]
     },
     "metadata": {},
     "output_type": "display_data"
    },
    {
     "data": {
      "text/html": [
       "Find logs at: <code>.\\wandb\\run-20240412_113622-at6gybas\\logs</code>"
      ],
      "text/plain": [
       "<IPython.core.display.HTML object>"
      ]
     },
     "metadata": {},
     "output_type": "display_data"
    },
    {
     "name": "stderr",
     "output_type": "stream",
     "text": [
      "\u001b[34m\u001b[1mwandb\u001b[0m: Agent Starting Run: p6ropg3y with config:\n",
      "\u001b[34m\u001b[1mwandb\u001b[0m: \tbatch_size: 64\n",
      "\u001b[34m\u001b[1mwandb\u001b[0m: \tdropout_rate: 0\n",
      "\u001b[34m\u001b[1mwandb\u001b[0m: \tepochs: 3\n",
      "\u001b[34m\u001b[1mwandb\u001b[0m: \tkernel_size: 7\n",
      "\u001b[34m\u001b[1mwandb\u001b[0m: \tlearning_rate: 0.0001\n",
      "Failed to detect the name of this notebook, you can set it manually with the WANDB_NOTEBOOK_NAME environment variable to enable code saving.\n"
     ]
    },
    {
     "data": {
      "text/html": [
       "wandb version 0.16.6 is available!  To upgrade, please run:\n",
       " $ pip install wandb --upgrade"
      ],
      "text/plain": [
       "<IPython.core.display.HTML object>"
      ]
     },
     "metadata": {},
     "output_type": "display_data"
    },
    {
     "data": {
      "text/html": [
       "Tracking run with wandb version 0.16.5"
      ],
      "text/plain": [
       "<IPython.core.display.HTML object>"
      ]
     },
     "metadata": {},
     "output_type": "display_data"
    },
    {
     "data": {
      "text/html": [
       "Run data is saved locally in <code>c:\\Users\\jonta\\code\\school\\t8\\DeepLearning\\50.039-DL\\notebooks\\wandb\\run-20240412_120220-p6ropg3y</code>"
      ],
      "text/plain": [
       "<IPython.core.display.HTML object>"
      ]
     },
     "metadata": {},
     "output_type": "display_data"
    },
    {
     "data": {
      "text/html": [
       "Syncing run <strong><a href='https://wandb.ai/jooz-cave/unet-skin-lesion/runs/p6ropg3y/workspace' target=\"_blank\">lively-sweep-29</a></strong> to <a href='https://wandb.ai/jooz-cave/unet-skin-lesion' target=\"_blank\">Weights & Biases</a> (<a href='https://wandb.me/run' target=\"_blank\">docs</a>)<br/>Sweep page: <a href='https://wandb.ai/jooz-cave/unet-skin-lesion/sweeps/qjjguvd6' target=\"_blank\">https://wandb.ai/jooz-cave/unet-skin-lesion/sweeps/qjjguvd6</a>"
      ],
      "text/plain": [
       "<IPython.core.display.HTML object>"
      ]
     },
     "metadata": {},
     "output_type": "display_data"
    },
    {
     "data": {
      "text/html": [
       " View project at <a href='https://wandb.ai/jooz-cave/unet-skin-lesion' target=\"_blank\">https://wandb.ai/jooz-cave/unet-skin-lesion</a>"
      ],
      "text/plain": [
       "<IPython.core.display.HTML object>"
      ]
     },
     "metadata": {},
     "output_type": "display_data"
    },
    {
     "data": {
      "text/html": [
       " View sweep at <a href='https://wandb.ai/jooz-cave/unet-skin-lesion/sweeps/qjjguvd6' target=\"_blank\">https://wandb.ai/jooz-cave/unet-skin-lesion/sweeps/qjjguvd6</a>"
      ],
      "text/plain": [
       "<IPython.core.display.HTML object>"
      ]
     },
     "metadata": {},
     "output_type": "display_data"
    },
    {
     "data": {
      "text/html": [
       " View run at <a href='https://wandb.ai/jooz-cave/unet-skin-lesion/runs/p6ropg3y/workspace' target=\"_blank\">https://wandb.ai/jooz-cave/unet-skin-lesion/runs/p6ropg3y/workspace</a>"
      ],
      "text/plain": [
       "<IPython.core.display.HTML object>"
      ]
     },
     "metadata": {},
     "output_type": "display_data"
    },
    {
     "name": "stdout",
     "output_type": "stream",
     "text": [
      "Validation Loss: 0.847822368144989\n",
      "Got 1758566/6553600 with acc 26.83\n",
      "Dice score: 0.4133538603782654\n",
      "epoch: 0\n"
     ]
    },
    {
     "name": "stderr",
     "output_type": "stream",
     "text": [
      "100%|██████████| 41/41 [07:15<00:00, 10.63s/it, loss=0.301]\n"
     ]
    },
    {
     "name": "stdout",
     "output_type": "stream",
     "text": [
      "=> Saving checkpoint\n",
      "Validation Loss: 0.7111096084117889\n",
      "Got 5724561/6553600 with acc 87.35\n",
      "Dice score: 0.7281210422515869\n",
      "epoch: 1\n"
     ]
    },
    {
     "name": "stderr",
     "output_type": "stream",
     "text": [
      "100%|██████████| 41/41 [07:14<00:00, 10.60s/it, loss=0.266]\n"
     ]
    },
    {
     "name": "stdout",
     "output_type": "stream",
     "text": [
      "=> Saving checkpoint\n",
      "Validation Loss: 0.7130180895328522\n",
      "Got 5840980/6553600 with acc 89.13\n",
      "Dice score: 0.7967690825462341\n",
      "epoch: 2\n"
     ]
    },
    {
     "name": "stderr",
     "output_type": "stream",
     "text": [
      "100%|██████████| 41/41 [07:15<00:00, 10.62s/it, loss=0.249]\n"
     ]
    },
    {
     "name": "stdout",
     "output_type": "stream",
     "text": [
      "=> Saving checkpoint\n",
      "Validation Loss: 0.6981671154499054\n",
      "Got 5962176/6553600 with acc 90.98\n",
      "Dice score: 0.8239902257919312\n",
      "Test Loss: 0.69659274071455\n",
      "Got 58416693/65536000 with acc 89.14\n",
      "Dice score: 0.7965565919876099\n"
     ]
    },
    {
     "data": {
      "text/html": [
       "<style>\n",
       "    table.wandb td:nth-child(1) { padding: 0 10px; text-align: left ; width: auto;} td:nth-child(2) {text-align: left ; width: 100%}\n",
       "    .wandb-row { display: flex; flex-direction: row; flex-wrap: wrap; justify-content: flex-start; width: 100% }\n",
       "    .wandb-col { display: flex; flex-direction: column; flex-basis: 100%; flex: 1; padding: 10px; }\n",
       "    </style>\n",
       "<div class=\"wandb-row\"><div class=\"wandb-col\"><h3>Run history:</h3><br/><table class=\"wandb\"><tr><td>Dice Score</td><td>▁▆██</td></tr><tr><td>Pixel Accuracy</td><td>▁███</td></tr><tr><td>Test Dice Score</td><td>▁</td></tr><tr><td>Test Loss</td><td>▁</td></tr><tr><td>Test Pixel Accuracy</td><td>▁</td></tr><tr><td>Training Loss</td><td>█▅▅▃▃▂▃▄▂▂▂▂▁▂▂▂▂▂▂▂▂▂▂▂▁▂▁▂▂▁▁▁▁▁▂▂▂▁▁▁</td></tr><tr><td>Validation Loss</td><td>█▂▂▁</td></tr><tr><td>epoch</td><td>▁▅█</td></tr></table><br/></div><div class=\"wandb-col\"><h3>Run summary:</h3><br/><table class=\"wandb\"><tr><td>Dice Score</td><td>0.82399</td></tr><tr><td>MODEL</td><td>UNET</td></tr><tr><td>Pixel Accuracy</td><td>90.97559</td></tr><tr><td>Test Dice Score</td><td>0.79656</td></tr><tr><td>Test Loss</td><td>0.69659</td></tr><tr><td>Test Pixel Accuracy</td><td>89.1368</td></tr><tr><td>Training Loss</td><td>0.24873</td></tr><tr><td>Validation Loss</td><td>0.69817</td></tr><tr><td>epoch</td><td>2</td></tr></table><br/></div></div>"
      ],
      "text/plain": [
       "<IPython.core.display.HTML object>"
      ]
     },
     "metadata": {},
     "output_type": "display_data"
    },
    {
     "data": {
      "text/html": [
       " View run <strong style=\"color:#cdcd00\">lively-sweep-29</strong> at: <a href='https://wandb.ai/jooz-cave/unet-skin-lesion/runs/p6ropg3y/workspace' target=\"_blank\">https://wandb.ai/jooz-cave/unet-skin-lesion/runs/p6ropg3y/workspace</a><br/>Synced 5 W&B file(s), 0 media file(s), 0 artifact file(s) and 0 other file(s)"
      ],
      "text/plain": [
       "<IPython.core.display.HTML object>"
      ]
     },
     "metadata": {},
     "output_type": "display_data"
    },
    {
     "data": {
      "text/html": [
       "Find logs at: <code>.\\wandb\\run-20240412_120220-p6ropg3y\\logs</code>"
      ],
      "text/plain": [
       "<IPython.core.display.HTML object>"
      ]
     },
     "metadata": {},
     "output_type": "display_data"
    },
    {
     "name": "stderr",
     "output_type": "stream",
     "text": [
      "\u001b[34m\u001b[1mwandb\u001b[0m: Agent Starting Run: nga00wt2 with config:\n",
      "\u001b[34m\u001b[1mwandb\u001b[0m: \tbatch_size: 64\n",
      "\u001b[34m\u001b[1mwandb\u001b[0m: \tdropout_rate: 0.1\n",
      "\u001b[34m\u001b[1mwandb\u001b[0m: \tepochs: 3\n",
      "\u001b[34m\u001b[1mwandb\u001b[0m: \tkernel_size: 7\n",
      "\u001b[34m\u001b[1mwandb\u001b[0m: \tlearning_rate: 0.0001\n",
      "Failed to detect the name of this notebook, you can set it manually with the WANDB_NOTEBOOK_NAME environment variable to enable code saving.\n"
     ]
    },
    {
     "data": {
      "text/html": [
       "wandb version 0.16.6 is available!  To upgrade, please run:\n",
       " $ pip install wandb --upgrade"
      ],
      "text/plain": [
       "<IPython.core.display.HTML object>"
      ]
     },
     "metadata": {},
     "output_type": "display_data"
    },
    {
     "data": {
      "text/html": [
       "Tracking run with wandb version 0.16.5"
      ],
      "text/plain": [
       "<IPython.core.display.HTML object>"
      ]
     },
     "metadata": {},
     "output_type": "display_data"
    },
    {
     "data": {
      "text/html": [
       "Run data is saved locally in <code>c:\\Users\\jonta\\code\\school\\t8\\DeepLearning\\50.039-DL\\notebooks\\wandb\\run-20240412_122736-nga00wt2</code>"
      ],
      "text/plain": [
       "<IPython.core.display.HTML object>"
      ]
     },
     "metadata": {},
     "output_type": "display_data"
    },
    {
     "data": {
      "text/html": [
       "Syncing run <strong><a href='https://wandb.ai/jooz-cave/unet-skin-lesion/runs/nga00wt2/workspace' target=\"_blank\">elated-sweep-30</a></strong> to <a href='https://wandb.ai/jooz-cave/unet-skin-lesion' target=\"_blank\">Weights & Biases</a> (<a href='https://wandb.me/run' target=\"_blank\">docs</a>)<br/>Sweep page: <a href='https://wandb.ai/jooz-cave/unet-skin-lesion/sweeps/qjjguvd6' target=\"_blank\">https://wandb.ai/jooz-cave/unet-skin-lesion/sweeps/qjjguvd6</a>"
      ],
      "text/plain": [
       "<IPython.core.display.HTML object>"
      ]
     },
     "metadata": {},
     "output_type": "display_data"
    },
    {
     "data": {
      "text/html": [
       " View project at <a href='https://wandb.ai/jooz-cave/unet-skin-lesion' target=\"_blank\">https://wandb.ai/jooz-cave/unet-skin-lesion</a>"
      ],
      "text/plain": [
       "<IPython.core.display.HTML object>"
      ]
     },
     "metadata": {},
     "output_type": "display_data"
    },
    {
     "data": {
      "text/html": [
       " View sweep at <a href='https://wandb.ai/jooz-cave/unet-skin-lesion/sweeps/qjjguvd6' target=\"_blank\">https://wandb.ai/jooz-cave/unet-skin-lesion/sweeps/qjjguvd6</a>"
      ],
      "text/plain": [
       "<IPython.core.display.HTML object>"
      ]
     },
     "metadata": {},
     "output_type": "display_data"
    },
    {
     "data": {
      "text/html": [
       " View run at <a href='https://wandb.ai/jooz-cave/unet-skin-lesion/runs/nga00wt2/workspace' target=\"_blank\">https://wandb.ai/jooz-cave/unet-skin-lesion/runs/nga00wt2/workspace</a>"
      ],
      "text/plain": [
       "<IPython.core.display.HTML object>"
      ]
     },
     "metadata": {},
     "output_type": "display_data"
    },
    {
     "name": "stdout",
     "output_type": "stream",
     "text": [
      "Validation Loss: 0.8469407558441162\n",
      "Got 1758566/6553600 with acc 26.83\n",
      "Dice score: 0.4133538603782654\n",
      "epoch: 0\n"
     ]
    },
    {
     "name": "stderr",
     "output_type": "stream",
     "text": [
      "100%|██████████| 41/41 [07:16<00:00, 10.64s/it, loss=0.462]\n"
     ]
    },
    {
     "name": "stdout",
     "output_type": "stream",
     "text": [
      "=> Saving checkpoint\n",
      "Validation Loss: 0.771525502204895\n",
      "Got 4828880/6553600 with acc 73.68\n",
      "Dice score: 0.5907677412033081\n",
      "epoch: 1\n"
     ]
    },
    {
     "name": "stderr",
     "output_type": "stream",
     "text": [
      "100%|██████████| 41/41 [07:15<00:00, 10.63s/it, loss=0.457]\n"
     ]
    },
    {
     "name": "stdout",
     "output_type": "stream",
     "text": [
      "=> Saving checkpoint\n",
      "Validation Loss: 0.7673195898532867\n",
      "Got 4771840/6553600 with acc 72.81\n",
      "Dice score: 0.6449918746948242\n",
      "epoch: 2\n"
     ]
    },
    {
     "name": "stderr",
     "output_type": "stream",
     "text": [
      "100%|██████████| 41/41 [07:16<00:00, 10.65s/it, loss=0.362]\n"
     ]
    },
    {
     "name": "stdout",
     "output_type": "stream",
     "text": [
      "=> Saving checkpoint\n",
      "Validation Loss: 0.7408578991889954\n",
      "Got 5873998/6553600 with acc 89.63\n",
      "Dice score: 0.807160496711731\n",
      "Test Loss: 0.7382290102541447\n",
      "Got 56939979/65536000 with acc 86.88\n",
      "Dice score: 0.7621089220046997\n"
     ]
    },
    {
     "data": {
      "text/html": [
       "<style>\n",
       "    table.wandb td:nth-child(1) { padding: 0 10px; text-align: left ; width: auto;} td:nth-child(2) {text-align: left ; width: 100%}\n",
       "    .wandb-row { display: flex; flex-direction: row; flex-wrap: wrap; justify-content: flex-start; width: 100% }\n",
       "    .wandb-col { display: flex; flex-direction: column; flex-basis: 100%; flex: 1; padding: 10px; }\n",
       "    </style>\n",
       "<div class=\"wandb-row\"><div class=\"wandb-col\"><h3>Run history:</h3><br/><table class=\"wandb\"><tr><td>Dice Score</td><td>▁▄▅█</td></tr><tr><td>Pixel Accuracy</td><td>▁▆▆█</td></tr><tr><td>Test Dice Score</td><td>▁</td></tr><tr><td>Test Loss</td><td>▁</td></tr><tr><td>Test Pixel Accuracy</td><td>▁</td></tr><tr><td>Training Loss</td><td>█▅▃▃▃▃▃▃▂▃▄▃▂▂▂▂▂▂▂▂▂▃▂▂▂▂▂▁▂▂▂▁▁▂▁▁▁▁▁▁</td></tr><tr><td>Validation Loss</td><td>█▃▃▁</td></tr><tr><td>epoch</td><td>▁▅█</td></tr></table><br/></div><div class=\"wandb-col\"><h3>Run summary:</h3><br/><table class=\"wandb\"><tr><td>Dice Score</td><td>0.80716</td></tr><tr><td>MODEL</td><td>UNET</td></tr><tr><td>Pixel Accuracy</td><td>89.6301</td></tr><tr><td>Test Dice Score</td><td>0.76211</td></tr><tr><td>Test Loss</td><td>0.73823</td></tr><tr><td>Test Pixel Accuracy</td><td>86.88352</td></tr><tr><td>Training Loss</td><td>0.36234</td></tr><tr><td>Validation Loss</td><td>0.74086</td></tr><tr><td>epoch</td><td>2</td></tr></table><br/></div></div>"
      ],
      "text/plain": [
       "<IPython.core.display.HTML object>"
      ]
     },
     "metadata": {},
     "output_type": "display_data"
    },
    {
     "data": {
      "text/html": [
       " View run <strong style=\"color:#cdcd00\">elated-sweep-30</strong> at: <a href='https://wandb.ai/jooz-cave/unet-skin-lesion/runs/nga00wt2/workspace' target=\"_blank\">https://wandb.ai/jooz-cave/unet-skin-lesion/runs/nga00wt2/workspace</a><br/>Synced 5 W&B file(s), 0 media file(s), 0 artifact file(s) and 0 other file(s)"
      ],
      "text/plain": [
       "<IPython.core.display.HTML object>"
      ]
     },
     "metadata": {},
     "output_type": "display_data"
    },
    {
     "data": {
      "text/html": [
       "Find logs at: <code>.\\wandb\\run-20240412_122736-nga00wt2\\logs</code>"
      ],
      "text/plain": [
       "<IPython.core.display.HTML object>"
      ]
     },
     "metadata": {},
     "output_type": "display_data"
    },
    {
     "name": "stderr",
     "output_type": "stream",
     "text": [
      "\u001b[34m\u001b[1mwandb\u001b[0m: Agent Starting Run: bo6os39i with config:\n",
      "\u001b[34m\u001b[1mwandb\u001b[0m: \tbatch_size: 16\n",
      "\u001b[34m\u001b[1mwandb\u001b[0m: \tdropout_rate: 0\n",
      "\u001b[34m\u001b[1mwandb\u001b[0m: \tepochs: 3\n",
      "\u001b[34m\u001b[1mwandb\u001b[0m: \tkernel_size: 7\n",
      "\u001b[34m\u001b[1mwandb\u001b[0m: \tlearning_rate: 0.0001\n",
      "Failed to detect the name of this notebook, you can set it manually with the WANDB_NOTEBOOK_NAME environment variable to enable code saving.\n"
     ]
    },
    {
     "data": {
      "text/html": [
       "wandb version 0.16.6 is available!  To upgrade, please run:\n",
       " $ pip install wandb --upgrade"
      ],
      "text/plain": [
       "<IPython.core.display.HTML object>"
      ]
     },
     "metadata": {},
     "output_type": "display_data"
    },
    {
     "data": {
      "text/html": [
       "Tracking run with wandb version 0.16.5"
      ],
      "text/plain": [
       "<IPython.core.display.HTML object>"
      ]
     },
     "metadata": {},
     "output_type": "display_data"
    },
    {
     "data": {
      "text/html": [
       "Run data is saved locally in <code>c:\\Users\\jonta\\code\\school\\t8\\DeepLearning\\50.039-DL\\notebooks\\wandb\\run-20240412_125255-bo6os39i</code>"
      ],
      "text/plain": [
       "<IPython.core.display.HTML object>"
      ]
     },
     "metadata": {},
     "output_type": "display_data"
    },
    {
     "data": {
      "text/html": [
       "Syncing run <strong><a href='https://wandb.ai/jooz-cave/unet-skin-lesion/runs/bo6os39i/workspace' target=\"_blank\">revived-sweep-31</a></strong> to <a href='https://wandb.ai/jooz-cave/unet-skin-lesion' target=\"_blank\">Weights & Biases</a> (<a href='https://wandb.me/run' target=\"_blank\">docs</a>)<br/>Sweep page: <a href='https://wandb.ai/jooz-cave/unet-skin-lesion/sweeps/qjjguvd6' target=\"_blank\">https://wandb.ai/jooz-cave/unet-skin-lesion/sweeps/qjjguvd6</a>"
      ],
      "text/plain": [
       "<IPython.core.display.HTML object>"
      ]
     },
     "metadata": {},
     "output_type": "display_data"
    },
    {
     "data": {
      "text/html": [
       " View project at <a href='https://wandb.ai/jooz-cave/unet-skin-lesion' target=\"_blank\">https://wandb.ai/jooz-cave/unet-skin-lesion</a>"
      ],
      "text/plain": [
       "<IPython.core.display.HTML object>"
      ]
     },
     "metadata": {},
     "output_type": "display_data"
    },
    {
     "data": {
      "text/html": [
       " View sweep at <a href='https://wandb.ai/jooz-cave/unet-skin-lesion/sweeps/qjjguvd6' target=\"_blank\">https://wandb.ai/jooz-cave/unet-skin-lesion/sweeps/qjjguvd6</a>"
      ],
      "text/plain": [
       "<IPython.core.display.HTML object>"
      ]
     },
     "metadata": {},
     "output_type": "display_data"
    },
    {
     "data": {
      "text/html": [
       " View run at <a href='https://wandb.ai/jooz-cave/unet-skin-lesion/runs/bo6os39i/workspace' target=\"_blank\">https://wandb.ai/jooz-cave/unet-skin-lesion/runs/bo6os39i/workspace</a>"
      ],
      "text/plain": [
       "<IPython.core.display.HTML object>"
      ]
     },
     "metadata": {},
     "output_type": "display_data"
    },
    {
     "name": "stdout",
     "output_type": "stream",
     "text": [
      "Validation Loss: 0.8359560285295758\n",
      "Got 4795034/6553600 with acc 73.17\n",
      "Dice score: 0.0\n",
      "epoch: 0\n"
     ]
    },
    {
     "name": "stderr",
     "output_type": "stream",
     "text": [
      "100%|██████████| 163/163 [07:29<00:00,  2.76s/it, loss=0.254]\n"
     ]
    },
    {
     "name": "stdout",
     "output_type": "stream",
     "text": [
      "=> Saving checkpoint\n",
      "Validation Loss: 0.6888085518564496\n",
      "Got 5872031/6553600 with acc 89.60\n",
      "Dice score: 0.8081067204475403\n",
      "epoch: 1\n"
     ]
    },
    {
     "name": "stderr",
     "output_type": "stream",
     "text": [
      "100%|██████████| 163/163 [07:27<00:00,  2.75s/it, loss=0.202]\n"
     ]
    },
    {
     "name": "stdout",
     "output_type": "stream",
     "text": [
      "=> Saving checkpoint\n",
      "Validation Loss: 0.6714658566883632\n",
      "Got 5919930/6553600 with acc 90.33\n",
      "Dice score: 0.818811297416687\n",
      "epoch: 2\n"
     ]
    },
    {
     "name": "stderr",
     "output_type": "stream",
     "text": [
      "100%|██████████| 163/163 [07:29<00:00,  2.76s/it, loss=0.322]\n"
     ]
    },
    {
     "name": "stdout",
     "output_type": "stream",
     "text": [
      "=> Saving checkpoint\n",
      "Validation Loss: 0.6578102111816406\n",
      "Got 5983717/6553600 with acc 91.30\n",
      "Dice score: 0.8268851041793823\n",
      "Test Loss: 0.6606119899522691\n",
      "Got 58273784/65536000 with acc 88.92\n",
      "Dice score: 0.7733182311058044\n"
     ]
    },
    {
     "data": {
      "text/html": [
       "<style>\n",
       "    table.wandb td:nth-child(1) { padding: 0 10px; text-align: left ; width: auto;} td:nth-child(2) {text-align: left ; width: 100%}\n",
       "    .wandb-row { display: flex; flex-direction: row; flex-wrap: wrap; justify-content: flex-start; width: 100% }\n",
       "    .wandb-col { display: flex; flex-direction: column; flex-basis: 100%; flex: 1; padding: 10px; }\n",
       "    </style>\n",
       "<div class=\"wandb-row\"><div class=\"wandb-col\"><h3>Run history:</h3><br/><table class=\"wandb\"><tr><td>Dice Score</td><td>▁███</td></tr><tr><td>Pixel Accuracy</td><td>▁▇██</td></tr><tr><td>Test Dice Score</td><td>▁</td></tr><tr><td>Test Loss</td><td>▁</td></tr><tr><td>Test Pixel Accuracy</td><td>▁</td></tr><tr><td>Training Loss</td><td>▆▇█▅▄▄▆▄▄▂▄▃▃▃▅▅▅▂▃▄▄▃▂▃▂▂▄▂▁▂▂▁▂▂▁▁▁▆▁▂</td></tr><tr><td>Validation Loss</td><td>█▂▂▁</td></tr><tr><td>epoch</td><td>▁▅█</td></tr></table><br/></div><div class=\"wandb-col\"><h3>Run summary:</h3><br/><table class=\"wandb\"><tr><td>Dice Score</td><td>0.82689</td></tr><tr><td>MODEL</td><td>UNET</td></tr><tr><td>Pixel Accuracy</td><td>91.30428</td></tr><tr><td>Test Dice Score</td><td>0.77332</td></tr><tr><td>Test Loss</td><td>0.66061</td></tr><tr><td>Test Pixel Accuracy</td><td>88.91874</td></tr><tr><td>Training Loss</td><td>0.32163</td></tr><tr><td>Validation Loss</td><td>0.65781</td></tr><tr><td>epoch</td><td>2</td></tr></table><br/></div></div>"
      ],
      "text/plain": [
       "<IPython.core.display.HTML object>"
      ]
     },
     "metadata": {},
     "output_type": "display_data"
    },
    {
     "data": {
      "text/html": [
       " View run <strong style=\"color:#cdcd00\">revived-sweep-31</strong> at: <a href='https://wandb.ai/jooz-cave/unet-skin-lesion/runs/bo6os39i/workspace' target=\"_blank\">https://wandb.ai/jooz-cave/unet-skin-lesion/runs/bo6os39i/workspace</a><br/>Synced 5 W&B file(s), 0 media file(s), 0 artifact file(s) and 0 other file(s)"
      ],
      "text/plain": [
       "<IPython.core.display.HTML object>"
      ]
     },
     "metadata": {},
     "output_type": "display_data"
    },
    {
     "data": {
      "text/html": [
       "Find logs at: <code>.\\wandb\\run-20240412_125255-bo6os39i\\logs</code>"
      ],
      "text/plain": [
       "<IPython.core.display.HTML object>"
      ]
     },
     "metadata": {},
     "output_type": "display_data"
    },
    {
     "name": "stderr",
     "output_type": "stream",
     "text": [
      "\u001b[34m\u001b[1mwandb\u001b[0m: Agent Starting Run: b2z7llbe with config:\n",
      "\u001b[34m\u001b[1mwandb\u001b[0m: \tbatch_size: 64\n",
      "\u001b[34m\u001b[1mwandb\u001b[0m: \tdropout_rate: 0\n",
      "\u001b[34m\u001b[1mwandb\u001b[0m: \tepochs: 3\n",
      "\u001b[34m\u001b[1mwandb\u001b[0m: \tkernel_size: 7\n",
      "\u001b[34m\u001b[1mwandb\u001b[0m: \tlearning_rate: 0.0001\n",
      "Failed to detect the name of this notebook, you can set it manually with the WANDB_NOTEBOOK_NAME environment variable to enable code saving.\n"
     ]
    },
    {
     "data": {
      "text/html": [
       "wandb version 0.16.6 is available!  To upgrade, please run:\n",
       " $ pip install wandb --upgrade"
      ],
      "text/plain": [
       "<IPython.core.display.HTML object>"
      ]
     },
     "metadata": {},
     "output_type": "display_data"
    },
    {
     "data": {
      "text/html": [
       "Tracking run with wandb version 0.16.5"
      ],
      "text/plain": [
       "<IPython.core.display.HTML object>"
      ]
     },
     "metadata": {},
     "output_type": "display_data"
    },
    {
     "data": {
      "text/html": [
       "Run data is saved locally in <code>c:\\Users\\jonta\\code\\school\\t8\\DeepLearning\\50.039-DL\\notebooks\\wandb\\run-20240412_131856-b2z7llbe</code>"
      ],
      "text/plain": [
       "<IPython.core.display.HTML object>"
      ]
     },
     "metadata": {},
     "output_type": "display_data"
    },
    {
     "data": {
      "text/html": [
       "Syncing run <strong><a href='https://wandb.ai/jooz-cave/unet-skin-lesion/runs/b2z7llbe/workspace' target=\"_blank\">comfy-sweep-32</a></strong> to <a href='https://wandb.ai/jooz-cave/unet-skin-lesion' target=\"_blank\">Weights & Biases</a> (<a href='https://wandb.me/run' target=\"_blank\">docs</a>)<br/>Sweep page: <a href='https://wandb.ai/jooz-cave/unet-skin-lesion/sweeps/qjjguvd6' target=\"_blank\">https://wandb.ai/jooz-cave/unet-skin-lesion/sweeps/qjjguvd6</a>"
      ],
      "text/plain": [
       "<IPython.core.display.HTML object>"
      ]
     },
     "metadata": {},
     "output_type": "display_data"
    },
    {
     "data": {
      "text/html": [
       " View project at <a href='https://wandb.ai/jooz-cave/unet-skin-lesion' target=\"_blank\">https://wandb.ai/jooz-cave/unet-skin-lesion</a>"
      ],
      "text/plain": [
       "<IPython.core.display.HTML object>"
      ]
     },
     "metadata": {},
     "output_type": "display_data"
    },
    {
     "data": {
      "text/html": [
       " View sweep at <a href='https://wandb.ai/jooz-cave/unet-skin-lesion/sweeps/qjjguvd6' target=\"_blank\">https://wandb.ai/jooz-cave/unet-skin-lesion/sweeps/qjjguvd6</a>"
      ],
      "text/plain": [
       "<IPython.core.display.HTML object>"
      ]
     },
     "metadata": {},
     "output_type": "display_data"
    },
    {
     "data": {
      "text/html": [
       " View run at <a href='https://wandb.ai/jooz-cave/unet-skin-lesion/runs/b2z7llbe/workspace' target=\"_blank\">https://wandb.ai/jooz-cave/unet-skin-lesion/runs/b2z7llbe/workspace</a>"
      ],
      "text/plain": [
       "<IPython.core.display.HTML object>"
      ]
     },
     "metadata": {},
     "output_type": "display_data"
    },
    {
     "name": "stdout",
     "output_type": "stream",
     "text": [
      "Validation Loss: 0.8411663770675659\n",
      "Got 4795034/6553600 with acc 73.17\n",
      "Dice score: 0.0\n",
      "epoch: 0\n"
     ]
    },
    {
     "name": "stderr",
     "output_type": "stream",
     "text": [
      "100%|██████████| 41/41 [07:14<00:00, 10.60s/it, loss=0.326]\n"
     ]
    },
    {
     "name": "stdout",
     "output_type": "stream",
     "text": [
      "=> Saving checkpoint\n",
      "Validation Loss: 0.7256818115711212\n",
      "Got 5808617/6553600 with acc 88.63\n",
      "Dice score: 0.7650197148323059\n",
      "epoch: 1\n"
     ]
    },
    {
     "name": "stderr",
     "output_type": "stream",
     "text": [
      "100%|██████████| 41/41 [07:15<00:00, 10.61s/it, loss=0.315]\n"
     ]
    },
    {
     "name": "stdout",
     "output_type": "stream",
     "text": [
      "=> Saving checkpoint\n",
      "Validation Loss: 0.7087868452072144\n",
      "Got 5991903/6553600 with acc 91.43\n",
      "Dice score: 0.8226255774497986\n",
      "epoch: 2\n"
     ]
    },
    {
     "name": "stderr",
     "output_type": "stream",
     "text": [
      "100%|██████████| 41/41 [07:15<00:00, 10.61s/it, loss=0.235]\n"
     ]
    },
    {
     "name": "stdout",
     "output_type": "stream",
     "text": [
      "=> Saving checkpoint\n",
      "Validation Loss: 0.7027445733547211\n",
      "Got 5968228/6553600 with acc 91.07\n",
      "Dice score: 0.8232093453407288\n",
      "Test Loss: 0.700071569532156\n",
      "Got 58249845/65536000 with acc 88.88\n",
      "Dice score: 0.7912445068359375\n"
     ]
    },
    {
     "data": {
      "text/html": [
       "<style>\n",
       "    table.wandb td:nth-child(1) { padding: 0 10px; text-align: left ; width: auto;} td:nth-child(2) {text-align: left ; width: 100%}\n",
       "    .wandb-row { display: flex; flex-direction: row; flex-wrap: wrap; justify-content: flex-start; width: 100% }\n",
       "    .wandb-col { display: flex; flex-direction: column; flex-basis: 100%; flex: 1; padding: 10px; }\n",
       "    </style>\n",
       "<div class=\"wandb-row\"><div class=\"wandb-col\"><h3>Run history:</h3><br/><table class=\"wandb\"><tr><td>Dice Score</td><td>▁███</td></tr><tr><td>Pixel Accuracy</td><td>▁▇██</td></tr><tr><td>Test Dice Score</td><td>▁</td></tr><tr><td>Test Loss</td><td>▁</td></tr><tr><td>Test Pixel Accuracy</td><td>▁</td></tr><tr><td>Training Loss</td><td>█▆▄▃▄▃▃▃▃▃▃▂▂▂▂▂▂▂▂▂▂▂▂▂▂▂▂▂▂▂▂▂▂▁▁▂▁▂▂▁</td></tr><tr><td>Validation Loss</td><td>█▂▁▁</td></tr><tr><td>epoch</td><td>▁▅█</td></tr></table><br/></div><div class=\"wandb-col\"><h3>Run summary:</h3><br/><table class=\"wandb\"><tr><td>Dice Score</td><td>0.82321</td></tr><tr><td>MODEL</td><td>UNET</td></tr><tr><td>Pixel Accuracy</td><td>91.06792</td></tr><tr><td>Test Dice Score</td><td>0.79124</td></tr><tr><td>Test Loss</td><td>0.70007</td></tr><tr><td>Test Pixel Accuracy</td><td>88.88222</td></tr><tr><td>Training Loss</td><td>0.23514</td></tr><tr><td>Validation Loss</td><td>0.70274</td></tr><tr><td>epoch</td><td>2</td></tr></table><br/></div></div>"
      ],
      "text/plain": [
       "<IPython.core.display.HTML object>"
      ]
     },
     "metadata": {},
     "output_type": "display_data"
    },
    {
     "data": {
      "text/html": [
       " View run <strong style=\"color:#cdcd00\">comfy-sweep-32</strong> at: <a href='https://wandb.ai/jooz-cave/unet-skin-lesion/runs/b2z7llbe/workspace' target=\"_blank\">https://wandb.ai/jooz-cave/unet-skin-lesion/runs/b2z7llbe/workspace</a><br/>Synced 5 W&B file(s), 0 media file(s), 0 artifact file(s) and 0 other file(s)"
      ],
      "text/plain": [
       "<IPython.core.display.HTML object>"
      ]
     },
     "metadata": {},
     "output_type": "display_data"
    },
    {
     "data": {
      "text/html": [
       "Find logs at: <code>.\\wandb\\run-20240412_131856-b2z7llbe\\logs</code>"
      ],
      "text/plain": [
       "<IPython.core.display.HTML object>"
      ]
     },
     "metadata": {},
     "output_type": "display_data"
    },
    {
     "name": "stderr",
     "output_type": "stream",
     "text": [
      "\u001b[34m\u001b[1mwandb\u001b[0m: Sweep Agent: Waiting for job.\n",
      "\u001b[34m\u001b[1mwandb\u001b[0m: Job received.\n",
      "\u001b[34m\u001b[1mwandb\u001b[0m: Agent Starting Run: s2ori6wq with config:\n",
      "\u001b[34m\u001b[1mwandb\u001b[0m: \tbatch_size: 32\n",
      "\u001b[34m\u001b[1mwandb\u001b[0m: \tdropout_rate: 0.1\n",
      "\u001b[34m\u001b[1mwandb\u001b[0m: \tepochs: 3\n",
      "\u001b[34m\u001b[1mwandb\u001b[0m: \tkernel_size: 7\n",
      "\u001b[34m\u001b[1mwandb\u001b[0m: \tlearning_rate: 0.0001\n",
      "Failed to detect the name of this notebook, you can set it manually with the WANDB_NOTEBOOK_NAME environment variable to enable code saving.\n"
     ]
    },
    {
     "data": {
      "text/html": [
       "wandb version 0.16.6 is available!  To upgrade, please run:\n",
       " $ pip install wandb --upgrade"
      ],
      "text/plain": [
       "<IPython.core.display.HTML object>"
      ]
     },
     "metadata": {},
     "output_type": "display_data"
    },
    {
     "data": {
      "text/html": [
       "Tracking run with wandb version 0.16.5"
      ],
      "text/plain": [
       "<IPython.core.display.HTML object>"
      ]
     },
     "metadata": {},
     "output_type": "display_data"
    },
    {
     "data": {
      "text/html": [
       "Run data is saved locally in <code>c:\\Users\\jonta\\code\\school\\t8\\DeepLearning\\50.039-DL\\notebooks\\wandb\\run-20240412_134417-s2ori6wq</code>"
      ],
      "text/plain": [
       "<IPython.core.display.HTML object>"
      ]
     },
     "metadata": {},
     "output_type": "display_data"
    },
    {
     "data": {
      "text/html": [
       "Syncing run <strong><a href='https://wandb.ai/jooz-cave/unet-skin-lesion/runs/s2ori6wq/workspace' target=\"_blank\">vital-sweep-33</a></strong> to <a href='https://wandb.ai/jooz-cave/unet-skin-lesion' target=\"_blank\">Weights & Biases</a> (<a href='https://wandb.me/run' target=\"_blank\">docs</a>)<br/>Sweep page: <a href='https://wandb.ai/jooz-cave/unet-skin-lesion/sweeps/qjjguvd6' target=\"_blank\">https://wandb.ai/jooz-cave/unet-skin-lesion/sweeps/qjjguvd6</a>"
      ],
      "text/plain": [
       "<IPython.core.display.HTML object>"
      ]
     },
     "metadata": {},
     "output_type": "display_data"
    },
    {
     "data": {
      "text/html": [
       " View project at <a href='https://wandb.ai/jooz-cave/unet-skin-lesion' target=\"_blank\">https://wandb.ai/jooz-cave/unet-skin-lesion</a>"
      ],
      "text/plain": [
       "<IPython.core.display.HTML object>"
      ]
     },
     "metadata": {},
     "output_type": "display_data"
    },
    {
     "data": {
      "text/html": [
       " View sweep at <a href='https://wandb.ai/jooz-cave/unet-skin-lesion/sweeps/qjjguvd6' target=\"_blank\">https://wandb.ai/jooz-cave/unet-skin-lesion/sweeps/qjjguvd6</a>"
      ],
      "text/plain": [
       "<IPython.core.display.HTML object>"
      ]
     },
     "metadata": {},
     "output_type": "display_data"
    },
    {
     "data": {
      "text/html": [
       " View run at <a href='https://wandb.ai/jooz-cave/unet-skin-lesion/runs/s2ori6wq/workspace' target=\"_blank\">https://wandb.ai/jooz-cave/unet-skin-lesion/runs/s2ori6wq/workspace</a>"
      ],
      "text/plain": [
       "<IPython.core.display.HTML object>"
      ]
     },
     "metadata": {},
     "output_type": "display_data"
    },
    {
     "name": "stdout",
     "output_type": "stream",
     "text": [
      "Validation Loss: 0.8443403244018555\n",
      "Got 4795034/6553600 with acc 73.17\n",
      "Dice score: 0.0\n",
      "epoch: 0\n"
     ]
    },
    {
     "name": "stderr",
     "output_type": "stream",
     "text": [
      "100%|██████████| 82/82 [07:20<00:00,  5.37s/it, loss=0.471]\n"
     ]
    },
    {
     "name": "stdout",
     "output_type": "stream",
     "text": [
      "=> Saving checkpoint\n",
      "Validation Loss: 0.7293863594532013\n",
      "Got 5782487/6553600 with acc 88.23\n",
      "Dice score: 0.7928499579429626\n",
      "epoch: 1\n"
     ]
    },
    {
     "name": "stderr",
     "output_type": "stream",
     "text": [
      "100%|██████████| 82/82 [07:20<00:00,  5.37s/it, loss=0.286]\n"
     ]
    },
    {
     "name": "stdout",
     "output_type": "stream",
     "text": [
      "=> Saving checkpoint\n",
      "Validation Loss: 0.704339325428009\n",
      "Got 5849104/6553600 with acc 89.25\n",
      "Dice score: 0.8018107414245605\n",
      "epoch: 2\n"
     ]
    },
    {
     "name": "stderr",
     "output_type": "stream",
     "text": [
      "100%|██████████| 82/82 [07:21<00:00,  5.38s/it, loss=0.204]\n"
     ]
    },
    {
     "name": "stdout",
     "output_type": "stream",
     "text": [
      "=> Saving checkpoint\n",
      "Validation Loss: 0.7109268307685852\n",
      "Got 5843561/6553600 with acc 89.17\n",
      "Dice score: 0.7975163459777832\n",
      "Test Loss: 0.7054160796105862\n",
      "Got 57294728/65536000 with acc 87.42\n",
      "Dice score: 0.7347978353500366\n"
     ]
    },
    {
     "data": {
      "text/html": [
       "<style>\n",
       "    table.wandb td:nth-child(1) { padding: 0 10px; text-align: left ; width: auto;} td:nth-child(2) {text-align: left ; width: 100%}\n",
       "    .wandb-row { display: flex; flex-direction: row; flex-wrap: wrap; justify-content: flex-start; width: 100% }\n",
       "    .wandb-col { display: flex; flex-direction: column; flex-basis: 100%; flex: 1; padding: 10px; }\n",
       "    </style>\n",
       "<div class=\"wandb-row\"><div class=\"wandb-col\"><h3>Run history:</h3><br/><table class=\"wandb\"><tr><td>Dice Score</td><td>▁███</td></tr><tr><td>Pixel Accuracy</td><td>▁███</td></tr><tr><td>Test Dice Score</td><td>▁</td></tr><tr><td>Test Loss</td><td>▁</td></tr><tr><td>Test Pixel Accuracy</td><td>▁</td></tr><tr><td>Training Loss</td><td>█▆▇▅▅▄▄▄▄▃▃▄▃▅▃▃▃▂▃▃▃▄▃▄▃▄▂▃▃▃▃▂▂▂▂▂▃▃▂▁</td></tr><tr><td>Validation Loss</td><td>█▂▁▁</td></tr><tr><td>epoch</td><td>▁▅█</td></tr></table><br/></div><div class=\"wandb-col\"><h3>Run summary:</h3><br/><table class=\"wandb\"><tr><td>Dice Score</td><td>0.79752</td></tr><tr><td>MODEL</td><td>UNET</td></tr><tr><td>Pixel Accuracy</td><td>89.16566</td></tr><tr><td>Test Dice Score</td><td>0.7348</td></tr><tr><td>Test Loss</td><td>0.70542</td></tr><tr><td>Test Pixel Accuracy</td><td>87.42482</td></tr><tr><td>Training Loss</td><td>0.20355</td></tr><tr><td>Validation Loss</td><td>0.71093</td></tr><tr><td>epoch</td><td>2</td></tr></table><br/></div></div>"
      ],
      "text/plain": [
       "<IPython.core.display.HTML object>"
      ]
     },
     "metadata": {},
     "output_type": "display_data"
    },
    {
     "data": {
      "text/html": [
       " View run <strong style=\"color:#cdcd00\">vital-sweep-33</strong> at: <a href='https://wandb.ai/jooz-cave/unet-skin-lesion/runs/s2ori6wq/workspace' target=\"_blank\">https://wandb.ai/jooz-cave/unet-skin-lesion/runs/s2ori6wq/workspace</a><br/>Synced 5 W&B file(s), 0 media file(s), 0 artifact file(s) and 0 other file(s)"
      ],
      "text/plain": [
       "<IPython.core.display.HTML object>"
      ]
     },
     "metadata": {},
     "output_type": "display_data"
    },
    {
     "data": {
      "text/html": [
       "Find logs at: <code>.\\wandb\\run-20240412_134417-s2ori6wq\\logs</code>"
      ],
      "text/plain": [
       "<IPython.core.display.HTML object>"
      ]
     },
     "metadata": {},
     "output_type": "display_data"
    },
    {
     "name": "stderr",
     "output_type": "stream",
     "text": [
      "\u001b[34m\u001b[1mwandb\u001b[0m: Agent Starting Run: iyk3nmcx with config:\n",
      "\u001b[34m\u001b[1mwandb\u001b[0m: \tbatch_size: 64\n",
      "\u001b[34m\u001b[1mwandb\u001b[0m: \tdropout_rate: 0\n",
      "\u001b[34m\u001b[1mwandb\u001b[0m: \tepochs: 3\n",
      "\u001b[34m\u001b[1mwandb\u001b[0m: \tkernel_size: 7\n",
      "\u001b[34m\u001b[1mwandb\u001b[0m: \tlearning_rate: 0.0001\n",
      "Failed to detect the name of this notebook, you can set it manually with the WANDB_NOTEBOOK_NAME environment variable to enable code saving.\n"
     ]
    },
    {
     "data": {
      "text/html": [
       "wandb version 0.16.6 is available!  To upgrade, please run:\n",
       " $ pip install wandb --upgrade"
      ],
      "text/plain": [
       "<IPython.core.display.HTML object>"
      ]
     },
     "metadata": {},
     "output_type": "display_data"
    },
    {
     "data": {
      "text/html": [
       "Tracking run with wandb version 0.16.5"
      ],
      "text/plain": [
       "<IPython.core.display.HTML object>"
      ]
     },
     "metadata": {},
     "output_type": "display_data"
    },
    {
     "data": {
      "text/html": [
       "Run data is saved locally in <code>c:\\Users\\jonta\\code\\school\\t8\\DeepLearning\\50.039-DL\\notebooks\\wandb\\run-20240412_140950-iyk3nmcx</code>"
      ],
      "text/plain": [
       "<IPython.core.display.HTML object>"
      ]
     },
     "metadata": {},
     "output_type": "display_data"
    },
    {
     "data": {
      "text/html": [
       "Syncing run <strong><a href='https://wandb.ai/jooz-cave/unet-skin-lesion/runs/iyk3nmcx/workspace' target=\"_blank\">logical-sweep-34</a></strong> to <a href='https://wandb.ai/jooz-cave/unet-skin-lesion' target=\"_blank\">Weights & Biases</a> (<a href='https://wandb.me/run' target=\"_blank\">docs</a>)<br/>Sweep page: <a href='https://wandb.ai/jooz-cave/unet-skin-lesion/sweeps/qjjguvd6' target=\"_blank\">https://wandb.ai/jooz-cave/unet-skin-lesion/sweeps/qjjguvd6</a>"
      ],
      "text/plain": [
       "<IPython.core.display.HTML object>"
      ]
     },
     "metadata": {},
     "output_type": "display_data"
    },
    {
     "data": {
      "text/html": [
       " View project at <a href='https://wandb.ai/jooz-cave/unet-skin-lesion' target=\"_blank\">https://wandb.ai/jooz-cave/unet-skin-lesion</a>"
      ],
      "text/plain": [
       "<IPython.core.display.HTML object>"
      ]
     },
     "metadata": {},
     "output_type": "display_data"
    },
    {
     "data": {
      "text/html": [
       " View sweep at <a href='https://wandb.ai/jooz-cave/unet-skin-lesion/sweeps/qjjguvd6' target=\"_blank\">https://wandb.ai/jooz-cave/unet-skin-lesion/sweeps/qjjguvd6</a>"
      ],
      "text/plain": [
       "<IPython.core.display.HTML object>"
      ]
     },
     "metadata": {},
     "output_type": "display_data"
    },
    {
     "data": {
      "text/html": [
       " View run at <a href='https://wandb.ai/jooz-cave/unet-skin-lesion/runs/iyk3nmcx/workspace' target=\"_blank\">https://wandb.ai/jooz-cave/unet-skin-lesion/runs/iyk3nmcx/workspace</a>"
      ],
      "text/plain": [
       "<IPython.core.display.HTML object>"
      ]
     },
     "metadata": {},
     "output_type": "display_data"
    },
    {
     "name": "stdout",
     "output_type": "stream",
     "text": [
      "Validation Loss: 0.8367927074432373\n",
      "Got 4795034/6553600 with acc 73.17\n",
      "Dice score: 0.0\n",
      "epoch: 0\n"
     ]
    },
    {
     "name": "stderr",
     "output_type": "stream",
     "text": [
      "100%|██████████| 41/41 [07:16<00:00, 10.65s/it, loss=0.303]\n"
     ]
    },
    {
     "name": "stdout",
     "output_type": "stream",
     "text": [
      "=> Saving checkpoint\n",
      "Validation Loss: 0.7230905592441559\n",
      "Got 5645428/6553600 with acc 86.14\n",
      "Dice score: 0.7057607173919678\n",
      "epoch: 1\n"
     ]
    },
    {
     "name": "stderr",
     "output_type": "stream",
     "text": [
      "100%|██████████| 41/41 [07:15<00:00, 10.63s/it, loss=0.293]\n"
     ]
    },
    {
     "name": "stdout",
     "output_type": "stream",
     "text": [
      "=> Saving checkpoint\n",
      "Validation Loss: 0.6931041181087494\n",
      "Got 5936120/6553600 with acc 90.58\n",
      "Dice score: 0.7920204401016235\n",
      "epoch: 2\n"
     ]
    },
    {
     "name": "stderr",
     "output_type": "stream",
     "text": [
      "100%|██████████| 41/41 [07:15<00:00, 10.61s/it, loss=0.238]\n"
     ]
    },
    {
     "name": "stdout",
     "output_type": "stream",
     "text": [
      "=> Saving checkpoint\n",
      "Validation Loss: 0.6907718181610107\n",
      "Got 5952598/6553600 with acc 90.83\n",
      "Dice score: 0.7995096445083618\n",
      "Test Loss: 0.689130149781704\n",
      "Got 58198479/65536000 with acc 88.80\n",
      "Dice score: 0.7709755897521973\n"
     ]
    },
    {
     "data": {
      "text/html": [
       "<style>\n",
       "    table.wandb td:nth-child(1) { padding: 0 10px; text-align: left ; width: auto;} td:nth-child(2) {text-align: left ; width: 100%}\n",
       "    .wandb-row { display: flex; flex-direction: row; flex-wrap: wrap; justify-content: flex-start; width: 100% }\n",
       "    .wandb-col { display: flex; flex-direction: column; flex-basis: 100%; flex: 1; padding: 10px; }\n",
       "    </style>\n",
       "<div class=\"wandb-row\"><div class=\"wandb-col\"><h3>Run history:</h3><br/><table class=\"wandb\"><tr><td>Dice Score</td><td>▁▇██</td></tr><tr><td>Pixel Accuracy</td><td>▁▆██</td></tr><tr><td>Test Dice Score</td><td>▁</td></tr><tr><td>Test Loss</td><td>▁</td></tr><tr><td>Test Pixel Accuracy</td><td>▁</td></tr><tr><td>Training Loss</td><td>█▆▄▄▅▃▃▃▃▂▃▂▂▂▂▂▂▂▂▂▂▂▂▂▁▁▂▂▁▂▂▂▂▂▁▂▁▂▂▁</td></tr><tr><td>Validation Loss</td><td>█▃▁▁</td></tr><tr><td>epoch</td><td>▁▅█</td></tr></table><br/></div><div class=\"wandb-col\"><h3>Run summary:</h3><br/><table class=\"wandb\"><tr><td>Dice Score</td><td>0.79951</td></tr><tr><td>MODEL</td><td>UNET</td></tr><tr><td>Pixel Accuracy</td><td>90.82944</td></tr><tr><td>Test Dice Score</td><td>0.77098</td></tr><tr><td>Test Loss</td><td>0.68913</td></tr><tr><td>Test Pixel Accuracy</td><td>88.80384</td></tr><tr><td>Training Loss</td><td>0.23771</td></tr><tr><td>Validation Loss</td><td>0.69077</td></tr><tr><td>epoch</td><td>2</td></tr></table><br/></div></div>"
      ],
      "text/plain": [
       "<IPython.core.display.HTML object>"
      ]
     },
     "metadata": {},
     "output_type": "display_data"
    },
    {
     "data": {
      "text/html": [
       " View run <strong style=\"color:#cdcd00\">logical-sweep-34</strong> at: <a href='https://wandb.ai/jooz-cave/unet-skin-lesion/runs/iyk3nmcx/workspace' target=\"_blank\">https://wandb.ai/jooz-cave/unet-skin-lesion/runs/iyk3nmcx/workspace</a><br/>Synced 5 W&B file(s), 0 media file(s), 0 artifact file(s) and 0 other file(s)"
      ],
      "text/plain": [
       "<IPython.core.display.HTML object>"
      ]
     },
     "metadata": {},
     "output_type": "display_data"
    },
    {
     "data": {
      "text/html": [
       "Find logs at: <code>.\\wandb\\run-20240412_140950-iyk3nmcx\\logs</code>"
      ],
      "text/plain": [
       "<IPython.core.display.HTML object>"
      ]
     },
     "metadata": {},
     "output_type": "display_data"
    },
    {
     "name": "stderr",
     "output_type": "stream",
     "text": [
      "\u001b[34m\u001b[1mwandb\u001b[0m: Agent Starting Run: 7pzqpf71 with config:\n",
      "\u001b[34m\u001b[1mwandb\u001b[0m: \tbatch_size: 64\n",
      "\u001b[34m\u001b[1mwandb\u001b[0m: \tdropout_rate: 0.1\n",
      "\u001b[34m\u001b[1mwandb\u001b[0m: \tepochs: 3\n",
      "\u001b[34m\u001b[1mwandb\u001b[0m: \tkernel_size: 7\n",
      "\u001b[34m\u001b[1mwandb\u001b[0m: \tlearning_rate: 0.0001\n",
      "Failed to detect the name of this notebook, you can set it manually with the WANDB_NOTEBOOK_NAME environment variable to enable code saving.\n"
     ]
    },
    {
     "data": {
      "text/html": [
       "wandb version 0.16.6 is available!  To upgrade, please run:\n",
       " $ pip install wandb --upgrade"
      ],
      "text/plain": [
       "<IPython.core.display.HTML object>"
      ]
     },
     "metadata": {},
     "output_type": "display_data"
    },
    {
     "data": {
      "text/html": [
       "Tracking run with wandb version 0.16.5"
      ],
      "text/plain": [
       "<IPython.core.display.HTML object>"
      ]
     },
     "metadata": {},
     "output_type": "display_data"
    },
    {
     "data": {
      "text/html": [
       "Run data is saved locally in <code>c:\\Users\\jonta\\code\\school\\t8\\DeepLearning\\50.039-DL\\notebooks\\wandb\\run-20240412_143504-7pzqpf71</code>"
      ],
      "text/plain": [
       "<IPython.core.display.HTML object>"
      ]
     },
     "metadata": {},
     "output_type": "display_data"
    },
    {
     "data": {
      "text/html": [
       "Syncing run <strong><a href='https://wandb.ai/jooz-cave/unet-skin-lesion/runs/7pzqpf71/workspace' target=\"_blank\">earnest-sweep-35</a></strong> to <a href='https://wandb.ai/jooz-cave/unet-skin-lesion' target=\"_blank\">Weights & Biases</a> (<a href='https://wandb.me/run' target=\"_blank\">docs</a>)<br/>Sweep page: <a href='https://wandb.ai/jooz-cave/unet-skin-lesion/sweeps/qjjguvd6' target=\"_blank\">https://wandb.ai/jooz-cave/unet-skin-lesion/sweeps/qjjguvd6</a>"
      ],
      "text/plain": [
       "<IPython.core.display.HTML object>"
      ]
     },
     "metadata": {},
     "output_type": "display_data"
    },
    {
     "data": {
      "text/html": [
       " View project at <a href='https://wandb.ai/jooz-cave/unet-skin-lesion' target=\"_blank\">https://wandb.ai/jooz-cave/unet-skin-lesion</a>"
      ],
      "text/plain": [
       "<IPython.core.display.HTML object>"
      ]
     },
     "metadata": {},
     "output_type": "display_data"
    },
    {
     "data": {
      "text/html": [
       " View sweep at <a href='https://wandb.ai/jooz-cave/unet-skin-lesion/sweeps/qjjguvd6' target=\"_blank\">https://wandb.ai/jooz-cave/unet-skin-lesion/sweeps/qjjguvd6</a>"
      ],
      "text/plain": [
       "<IPython.core.display.HTML object>"
      ]
     },
     "metadata": {},
     "output_type": "display_data"
    },
    {
     "data": {
      "text/html": [
       " View run at <a href='https://wandb.ai/jooz-cave/unet-skin-lesion/runs/7pzqpf71/workspace' target=\"_blank\">https://wandb.ai/jooz-cave/unet-skin-lesion/runs/7pzqpf71/workspace</a>"
      ],
      "text/plain": [
       "<IPython.core.display.HTML object>"
      ]
     },
     "metadata": {},
     "output_type": "display_data"
    },
    {
     "name": "stdout",
     "output_type": "stream",
     "text": [
      "Validation Loss: 0.8430477976799011\n",
      "Got 4639333/6553600 with acc 70.79\n",
      "Dice score: 0.004601313266903162\n",
      "epoch: 0\n"
     ]
    },
    {
     "name": "stderr",
     "output_type": "stream",
     "text": [
      "100%|██████████| 41/41 [07:15<00:00, 10.63s/it, loss=0.343]\n"
     ]
    },
    {
     "name": "stdout",
     "output_type": "stream",
     "text": [
      "=> Saving checkpoint\n",
      "Validation Loss: 0.7407861351966858\n",
      "Got 5396354/6553600 with acc 82.34\n",
      "Dice score: 0.7305092811584473\n",
      "epoch: 1\n"
     ]
    },
    {
     "name": "stderr",
     "output_type": "stream",
     "text": [
      "100%|██████████| 41/41 [07:15<00:00, 10.62s/it, loss=0.357]\n"
     ]
    },
    {
     "name": "stdout",
     "output_type": "stream",
     "text": [
      "=> Saving checkpoint\n",
      "Validation Loss: 0.705803394317627\n",
      "Got 5824808/6553600 with acc 88.88\n",
      "Dice score: 0.7693537473678589\n",
      "epoch: 2\n"
     ]
    },
    {
     "name": "stderr",
     "output_type": "stream",
     "text": [
      "100%|██████████| 41/41 [07:15<00:00, 10.61s/it, loss=0.273]\n"
     ]
    },
    {
     "name": "stdout",
     "output_type": "stream",
     "text": [
      "=> Saving checkpoint\n",
      "Validation Loss: 0.6988348662853241\n",
      "Got 5866742/6553600 with acc 89.52\n",
      "Dice score: 0.7590159177780151\n",
      "Test Loss: 0.6981230564415455\n",
      "Got 56978045/65536000 with acc 86.94\n",
      "Dice score: 0.7072978019714355\n"
     ]
    },
    {
     "data": {
      "text/html": [
       "<style>\n",
       "    table.wandb td:nth-child(1) { padding: 0 10px; text-align: left ; width: auto;} td:nth-child(2) {text-align: left ; width: 100%}\n",
       "    .wandb-row { display: flex; flex-direction: row; flex-wrap: wrap; justify-content: flex-start; width: 100% }\n",
       "    .wandb-col { display: flex; flex-direction: column; flex-basis: 100%; flex: 1; padding: 10px; }\n",
       "    </style>\n",
       "<div class=\"wandb-row\"><div class=\"wandb-col\"><h3>Run history:</h3><br/><table class=\"wandb\"><tr><td>Dice Score</td><td>▁███</td></tr><tr><td>Pixel Accuracy</td><td>▁▅██</td></tr><tr><td>Test Dice Score</td><td>▁</td></tr><tr><td>Test Loss</td><td>▁</td></tr><tr><td>Test Pixel Accuracy</td><td>▁</td></tr><tr><td>Training Loss</td><td>█▅▄▅▃▃▄▃▃▃▂▃▂▂▂▂▂▂▂▂▂▂▂▂▂▂▂▁▂▂▂▁▂▁▁▁▁▂▁▁</td></tr><tr><td>Validation Loss</td><td>█▃▁▁</td></tr><tr><td>epoch</td><td>▁▅█</td></tr></table><br/></div><div class=\"wandb-col\"><h3>Run summary:</h3><br/><table class=\"wandb\"><tr><td>Dice Score</td><td>0.75902</td></tr><tr><td>MODEL</td><td>UNET</td></tr><tr><td>Pixel Accuracy</td><td>89.51938</td></tr><tr><td>Test Dice Score</td><td>0.7073</td></tr><tr><td>Test Loss</td><td>0.69812</td></tr><tr><td>Test Pixel Accuracy</td><td>86.9416</td></tr><tr><td>Training Loss</td><td>0.2734</td></tr><tr><td>Validation Loss</td><td>0.69883</td></tr><tr><td>epoch</td><td>2</td></tr></table><br/></div></div>"
      ],
      "text/plain": [
       "<IPython.core.display.HTML object>"
      ]
     },
     "metadata": {},
     "output_type": "display_data"
    },
    {
     "data": {
      "text/html": [
       " View run <strong style=\"color:#cdcd00\">earnest-sweep-35</strong> at: <a href='https://wandb.ai/jooz-cave/unet-skin-lesion/runs/7pzqpf71/workspace' target=\"_blank\">https://wandb.ai/jooz-cave/unet-skin-lesion/runs/7pzqpf71/workspace</a><br/>Synced 5 W&B file(s), 0 media file(s), 0 artifact file(s) and 0 other file(s)"
      ],
      "text/plain": [
       "<IPython.core.display.HTML object>"
      ]
     },
     "metadata": {},
     "output_type": "display_data"
    },
    {
     "data": {
      "text/html": [
       "Find logs at: <code>.\\wandb\\run-20240412_143504-7pzqpf71\\logs</code>"
      ],
      "text/plain": [
       "<IPython.core.display.HTML object>"
      ]
     },
     "metadata": {},
     "output_type": "display_data"
    },
    {
     "name": "stderr",
     "output_type": "stream",
     "text": [
      "\u001b[34m\u001b[1mwandb\u001b[0m: Agent Starting Run: dx4lszj6 with config:\n",
      "\u001b[34m\u001b[1mwandb\u001b[0m: \tbatch_size: 64\n",
      "\u001b[34m\u001b[1mwandb\u001b[0m: \tdropout_rate: 0\n",
      "\u001b[34m\u001b[1mwandb\u001b[0m: \tepochs: 3\n",
      "\u001b[34m\u001b[1mwandb\u001b[0m: \tkernel_size: 7\n",
      "\u001b[34m\u001b[1mwandb\u001b[0m: \tlearning_rate: 0.0001\n",
      "Failed to detect the name of this notebook, you can set it manually with the WANDB_NOTEBOOK_NAME environment variable to enable code saving.\n"
     ]
    },
    {
     "data": {
      "text/html": [
       "wandb version 0.16.6 is available!  To upgrade, please run:\n",
       " $ pip install wandb --upgrade"
      ],
      "text/plain": [
       "<IPython.core.display.HTML object>"
      ]
     },
     "metadata": {},
     "output_type": "display_data"
    },
    {
     "data": {
      "text/html": [
       "Tracking run with wandb version 0.16.5"
      ],
      "text/plain": [
       "<IPython.core.display.HTML object>"
      ]
     },
     "metadata": {},
     "output_type": "display_data"
    },
    {
     "data": {
      "text/html": [
       "Run data is saved locally in <code>c:\\Users\\jonta\\code\\school\\t8\\DeepLearning\\50.039-DL\\notebooks\\wandb\\run-20240412_150021-dx4lszj6</code>"
      ],
      "text/plain": [
       "<IPython.core.display.HTML object>"
      ]
     },
     "metadata": {},
     "output_type": "display_data"
    },
    {
     "data": {
      "text/html": [
       "Syncing run <strong><a href='https://wandb.ai/jooz-cave/unet-skin-lesion/runs/dx4lszj6/workspace' target=\"_blank\">mild-sweep-36</a></strong> to <a href='https://wandb.ai/jooz-cave/unet-skin-lesion' target=\"_blank\">Weights & Biases</a> (<a href='https://wandb.me/run' target=\"_blank\">docs</a>)<br/>Sweep page: <a href='https://wandb.ai/jooz-cave/unet-skin-lesion/sweeps/qjjguvd6' target=\"_blank\">https://wandb.ai/jooz-cave/unet-skin-lesion/sweeps/qjjguvd6</a>"
      ],
      "text/plain": [
       "<IPython.core.display.HTML object>"
      ]
     },
     "metadata": {},
     "output_type": "display_data"
    },
    {
     "data": {
      "text/html": [
       " View project at <a href='https://wandb.ai/jooz-cave/unet-skin-lesion' target=\"_blank\">https://wandb.ai/jooz-cave/unet-skin-lesion</a>"
      ],
      "text/plain": [
       "<IPython.core.display.HTML object>"
      ]
     },
     "metadata": {},
     "output_type": "display_data"
    },
    {
     "data": {
      "text/html": [
       " View sweep at <a href='https://wandb.ai/jooz-cave/unet-skin-lesion/sweeps/qjjguvd6' target=\"_blank\">https://wandb.ai/jooz-cave/unet-skin-lesion/sweeps/qjjguvd6</a>"
      ],
      "text/plain": [
       "<IPython.core.display.HTML object>"
      ]
     },
     "metadata": {},
     "output_type": "display_data"
    },
    {
     "data": {
      "text/html": [
       " View run at <a href='https://wandb.ai/jooz-cave/unet-skin-lesion/runs/dx4lszj6/workspace' target=\"_blank\">https://wandb.ai/jooz-cave/unet-skin-lesion/runs/dx4lszj6/workspace</a>"
      ],
      "text/plain": [
       "<IPython.core.display.HTML object>"
      ]
     },
     "metadata": {},
     "output_type": "display_data"
    },
    {
     "name": "stdout",
     "output_type": "stream",
     "text": [
      "Validation Loss: 0.8432341516017914\n",
      "Got 4774257/6553600 with acc 72.85\n",
      "Dice score: 0.0003785801527556032\n",
      "epoch: 0\n"
     ]
    },
    {
     "name": "stderr",
     "output_type": "stream",
     "text": [
      "100%|██████████| 41/41 [07:15<00:00, 10.62s/it, loss=0.372]\n"
     ]
    },
    {
     "name": "stdout",
     "output_type": "stream",
     "text": [
      "=> Saving checkpoint\n",
      "Validation Loss: 0.7168139517307281\n",
      "Got 5601442/6553600 with acc 85.47\n",
      "Dice score: 0.7389819622039795\n",
      "epoch: 1\n"
     ]
    },
    {
     "name": "stderr",
     "output_type": "stream",
     "text": [
      "100%|██████████| 41/41 [07:14<00:00, 10.61s/it, loss=0.265]\n"
     ]
    },
    {
     "name": "stdout",
     "output_type": "stream",
     "text": [
      "=> Saving checkpoint\n",
      "Validation Loss: 0.7123545110225677\n",
      "Got 5812909/6553600 with acc 88.70\n",
      "Dice score: 0.7822259664535522\n",
      "epoch: 2\n"
     ]
    },
    {
     "name": "stderr",
     "output_type": "stream",
     "text": [
      "100%|██████████| 41/41 [07:14<00:00, 10.60s/it, loss=0.269]\n"
     ]
    },
    {
     "name": "stdout",
     "output_type": "stream",
     "text": [
      "=> Saving checkpoint\n",
      "Validation Loss: 0.6994962692260742\n",
      "Got 5921944/6553600 with acc 90.36\n",
      "Dice score: 0.8153183460235596\n",
      "Test Loss: 0.6980655416846275\n",
      "Got 57790941/65536000 with acc 88.18\n",
      "Dice score: 0.7830159068107605\n"
     ]
    },
    {
     "data": {
      "text/html": [
       "<style>\n",
       "    table.wandb td:nth-child(1) { padding: 0 10px; text-align: left ; width: auto;} td:nth-child(2) {text-align: left ; width: 100%}\n",
       "    .wandb-row { display: flex; flex-direction: row; flex-wrap: wrap; justify-content: flex-start; width: 100% }\n",
       "    .wandb-col { display: flex; flex-direction: column; flex-basis: 100%; flex: 1; padding: 10px; }\n",
       "    </style>\n",
       "<div class=\"wandb-row\"><div class=\"wandb-col\"><h3>Run history:</h3><br/><table class=\"wandb\"><tr><td>Dice Score</td><td>▁▇██</td></tr><tr><td>Pixel Accuracy</td><td>▁▆▇█</td></tr><tr><td>Test Dice Score</td><td>▁</td></tr><tr><td>Test Loss</td><td>▁</td></tr><tr><td>Test Pixel Accuracy</td><td>▁</td></tr><tr><td>Training Loss</td><td>█▅▅▄▅▃▃▃▃▃▃▂▂▃▂▂▂▂▂▂▂▁▂▂▂▂▁▂▁▁▂▁▁▂▁▁▂▂▂▁</td></tr><tr><td>Validation Loss</td><td>█▂▂▁</td></tr><tr><td>epoch</td><td>▁▅█</td></tr></table><br/></div><div class=\"wandb-col\"><h3>Run summary:</h3><br/><table class=\"wandb\"><tr><td>Dice Score</td><td>0.81532</td></tr><tr><td>MODEL</td><td>UNET</td></tr><tr><td>Pixel Accuracy</td><td>90.36169</td></tr><tr><td>Test Dice Score</td><td>0.78302</td></tr><tr><td>Test Loss</td><td>0.69807</td></tr><tr><td>Test Pixel Accuracy</td><td>88.18198</td></tr><tr><td>Training Loss</td><td>0.26868</td></tr><tr><td>Validation Loss</td><td>0.6995</td></tr><tr><td>epoch</td><td>2</td></tr></table><br/></div></div>"
      ],
      "text/plain": [
       "<IPython.core.display.HTML object>"
      ]
     },
     "metadata": {},
     "output_type": "display_data"
    },
    {
     "data": {
      "text/html": [
       " View run <strong style=\"color:#cdcd00\">mild-sweep-36</strong> at: <a href='https://wandb.ai/jooz-cave/unet-skin-lesion/runs/dx4lszj6/workspace' target=\"_blank\">https://wandb.ai/jooz-cave/unet-skin-lesion/runs/dx4lszj6/workspace</a><br/>Synced 5 W&B file(s), 0 media file(s), 0 artifact file(s) and 0 other file(s)"
      ],
      "text/plain": [
       "<IPython.core.display.HTML object>"
      ]
     },
     "metadata": {},
     "output_type": "display_data"
    },
    {
     "data": {
      "text/html": [
       "Find logs at: <code>.\\wandb\\run-20240412_150021-dx4lszj6\\logs</code>"
      ],
      "text/plain": [
       "<IPython.core.display.HTML object>"
      ]
     },
     "metadata": {},
     "output_type": "display_data"
    },
    {
     "name": "stderr",
     "output_type": "stream",
     "text": [
      "\u001b[34m\u001b[1mwandb\u001b[0m: Agent Starting Run: 8mnyup1y with config:\n",
      "\u001b[34m\u001b[1mwandb\u001b[0m: \tbatch_size: 16\n",
      "\u001b[34m\u001b[1mwandb\u001b[0m: \tdropout_rate: 0\n",
      "\u001b[34m\u001b[1mwandb\u001b[0m: \tepochs: 3\n",
      "\u001b[34m\u001b[1mwandb\u001b[0m: \tkernel_size: 7\n",
      "\u001b[34m\u001b[1mwandb\u001b[0m: \tlearning_rate: 0.0001\n",
      "Failed to detect the name of this notebook, you can set it manually with the WANDB_NOTEBOOK_NAME environment variable to enable code saving.\n"
     ]
    },
    {
     "data": {
      "text/html": [
       "wandb version 0.16.6 is available!  To upgrade, please run:\n",
       " $ pip install wandb --upgrade"
      ],
      "text/plain": [
       "<IPython.core.display.HTML object>"
      ]
     },
     "metadata": {},
     "output_type": "display_data"
    },
    {
     "data": {
      "text/html": [
       "Tracking run with wandb version 0.16.5"
      ],
      "text/plain": [
       "<IPython.core.display.HTML object>"
      ]
     },
     "metadata": {},
     "output_type": "display_data"
    },
    {
     "data": {
      "text/html": [
       "Run data is saved locally in <code>c:\\Users\\jonta\\code\\school\\t8\\DeepLearning\\50.039-DL\\notebooks\\wandb\\run-20240412_152537-8mnyup1y</code>"
      ],
      "text/plain": [
       "<IPython.core.display.HTML object>"
      ]
     },
     "metadata": {},
     "output_type": "display_data"
    },
    {
     "data": {
      "text/html": [
       "Syncing run <strong><a href='https://wandb.ai/jooz-cave/unet-skin-lesion/runs/8mnyup1y/workspace' target=\"_blank\">azure-sweep-37</a></strong> to <a href='https://wandb.ai/jooz-cave/unet-skin-lesion' target=\"_blank\">Weights & Biases</a> (<a href='https://wandb.me/run' target=\"_blank\">docs</a>)<br/>Sweep page: <a href='https://wandb.ai/jooz-cave/unet-skin-lesion/sweeps/qjjguvd6' target=\"_blank\">https://wandb.ai/jooz-cave/unet-skin-lesion/sweeps/qjjguvd6</a>"
      ],
      "text/plain": [
       "<IPython.core.display.HTML object>"
      ]
     },
     "metadata": {},
     "output_type": "display_data"
    },
    {
     "data": {
      "text/html": [
       " View project at <a href='https://wandb.ai/jooz-cave/unet-skin-lesion' target=\"_blank\">https://wandb.ai/jooz-cave/unet-skin-lesion</a>"
      ],
      "text/plain": [
       "<IPython.core.display.HTML object>"
      ]
     },
     "metadata": {},
     "output_type": "display_data"
    },
    {
     "data": {
      "text/html": [
       " View sweep at <a href='https://wandb.ai/jooz-cave/unet-skin-lesion/sweeps/qjjguvd6' target=\"_blank\">https://wandb.ai/jooz-cave/unet-skin-lesion/sweeps/qjjguvd6</a>"
      ],
      "text/plain": [
       "<IPython.core.display.HTML object>"
      ]
     },
     "metadata": {},
     "output_type": "display_data"
    },
    {
     "data": {
      "text/html": [
       " View run at <a href='https://wandb.ai/jooz-cave/unet-skin-lesion/runs/8mnyup1y/workspace' target=\"_blank\">https://wandb.ai/jooz-cave/unet-skin-lesion/runs/8mnyup1y/workspace</a>"
      ],
      "text/plain": [
       "<IPython.core.display.HTML object>"
      ]
     },
     "metadata": {},
     "output_type": "display_data"
    },
    {
     "name": "stdout",
     "output_type": "stream",
     "text": [
      "Validation Loss: 0.8525256514549255\n",
      "Got 1758566/6553600 with acc 26.83\n",
      "Dice score: 0.41082340478897095\n",
      "epoch: 0\n"
     ]
    },
    {
     "name": "stderr",
     "output_type": "stream",
     "text": [
      "100%|██████████| 163/163 [07:34<00:00,  2.79s/it, loss=0.303]\n"
     ]
    },
    {
     "name": "stdout",
     "output_type": "stream",
     "text": [
      "=> Saving checkpoint\n",
      "Validation Loss: 0.7082219549587795\n",
      "Got 5646890/6553600 with acc 86.16\n",
      "Dice score: 0.7770933508872986\n",
      "epoch: 1\n"
     ]
    },
    {
     "name": "stderr",
     "output_type": "stream",
     "text": [
      "100%|██████████| 163/163 [07:37<00:00,  2.80s/it, loss=0.194]\n"
     ]
    },
    {
     "name": "stdout",
     "output_type": "stream",
     "text": [
      "=> Saving checkpoint\n",
      "Validation Loss: 0.6865037424223763\n",
      "Got 5923826/6553600 with acc 90.39\n",
      "Dice score: 0.8173574209213257\n",
      "epoch: 2\n"
     ]
    },
    {
     "name": "stderr",
     "output_type": "stream",
     "text": [
      "100%|██████████| 163/163 [07:36<00:00,  2.80s/it, loss=0.198]\n"
     ]
    },
    {
     "name": "stdout",
     "output_type": "stream",
     "text": [
      "=> Saving checkpoint\n",
      "Validation Loss: 0.678134058203016\n",
      "Got 5856515/6553600 with acc 89.36\n",
      "Dice score: 0.8056815266609192\n",
      "Test Loss: 0.6755137207016112\n",
      "Got 57807926/65536000 with acc 88.21\n",
      "Dice score: 0.7841756939888\n"
     ]
    },
    {
     "data": {
      "text/html": [
       "<style>\n",
       "    table.wandb td:nth-child(1) { padding: 0 10px; text-align: left ; width: auto;} td:nth-child(2) {text-align: left ; width: 100%}\n",
       "    .wandb-row { display: flex; flex-direction: row; flex-wrap: wrap; justify-content: flex-start; width: 100% }\n",
       "    .wandb-col { display: flex; flex-direction: column; flex-basis: 100%; flex: 1; padding: 10px; }\n",
       "    </style>\n",
       "<div class=\"wandb-row\"><div class=\"wandb-col\"><h3>Run history:</h3><br/><table class=\"wandb\"><tr><td>Dice Score</td><td>▁▇██</td></tr><tr><td>Pixel Accuracy</td><td>▁███</td></tr><tr><td>Test Dice Score</td><td>▁</td></tr><tr><td>Test Loss</td><td>▁</td></tr><tr><td>Test Pixel Accuracy</td><td>▁</td></tr><tr><td>Training Loss</td><td>█▅▆▅▅▄▄▄▃▃▃▃▃▂▃▄▃▃▆▂▂▄▂▃▁▂▂▁▄▂▁▃▂▁▁▁▃▁▃▃</td></tr><tr><td>Validation Loss</td><td>█▂▁▁</td></tr><tr><td>epoch</td><td>▁▅█</td></tr></table><br/></div><div class=\"wandb-col\"><h3>Run summary:</h3><br/><table class=\"wandb\"><tr><td>Dice Score</td><td>0.80568</td></tr><tr><td>MODEL</td><td>UNET</td></tr><tr><td>Pixel Accuracy</td><td>89.36333</td></tr><tr><td>Test Dice Score</td><td>0.78418</td></tr><tr><td>Test Loss</td><td>0.67551</td></tr><tr><td>Test Pixel Accuracy</td><td>88.2079</td></tr><tr><td>Training Loss</td><td>0.19763</td></tr><tr><td>Validation Loss</td><td>0.67813</td></tr><tr><td>epoch</td><td>2</td></tr></table><br/></div></div>"
      ],
      "text/plain": [
       "<IPython.core.display.HTML object>"
      ]
     },
     "metadata": {},
     "output_type": "display_data"
    },
    {
     "data": {
      "text/html": [
       " View run <strong style=\"color:#cdcd00\">azure-sweep-37</strong> at: <a href='https://wandb.ai/jooz-cave/unet-skin-lesion/runs/8mnyup1y/workspace' target=\"_blank\">https://wandb.ai/jooz-cave/unet-skin-lesion/runs/8mnyup1y/workspace</a><br/>Synced 5 W&B file(s), 0 media file(s), 0 artifact file(s) and 0 other file(s)"
      ],
      "text/plain": [
       "<IPython.core.display.HTML object>"
      ]
     },
     "metadata": {},
     "output_type": "display_data"
    },
    {
     "data": {
      "text/html": [
       "Find logs at: <code>.\\wandb\\run-20240412_152537-8mnyup1y\\logs</code>"
      ],
      "text/plain": [
       "<IPython.core.display.HTML object>"
      ]
     },
     "metadata": {},
     "output_type": "display_data"
    },
    {
     "name": "stderr",
     "output_type": "stream",
     "text": [
      "\u001b[34m\u001b[1mwandb\u001b[0m: Sweep Agent: Waiting for job.\n",
      "\u001b[34m\u001b[1mwandb\u001b[0m: Job received.\n",
      "\u001b[34m\u001b[1mwandb\u001b[0m: Agent Starting Run: juckfoki with config:\n",
      "\u001b[34m\u001b[1mwandb\u001b[0m: \tbatch_size: 32\n",
      "\u001b[34m\u001b[1mwandb\u001b[0m: \tdropout_rate: 0.1\n",
      "\u001b[34m\u001b[1mwandb\u001b[0m: \tepochs: 3\n",
      "\u001b[34m\u001b[1mwandb\u001b[0m: \tkernel_size: 7\n",
      "\u001b[34m\u001b[1mwandb\u001b[0m: \tlearning_rate: 0.0001\n",
      "Failed to detect the name of this notebook, you can set it manually with the WANDB_NOTEBOOK_NAME environment variable to enable code saving.\n"
     ]
    },
    {
     "data": {
      "text/html": [
       "wandb version 0.16.6 is available!  To upgrade, please run:\n",
       " $ pip install wandb --upgrade"
      ],
      "text/plain": [
       "<IPython.core.display.HTML object>"
      ]
     },
     "metadata": {},
     "output_type": "display_data"
    },
    {
     "data": {
      "text/html": [
       "Tracking run with wandb version 0.16.5"
      ],
      "text/plain": [
       "<IPython.core.display.HTML object>"
      ]
     },
     "metadata": {},
     "output_type": "display_data"
    },
    {
     "data": {
      "text/html": [
       "Run data is saved locally in <code>c:\\Users\\jonta\\code\\school\\t8\\DeepLearning\\50.039-DL\\notebooks\\wandb\\run-20240412_155209-juckfoki</code>"
      ],
      "text/plain": [
       "<IPython.core.display.HTML object>"
      ]
     },
     "metadata": {},
     "output_type": "display_data"
    },
    {
     "data": {
      "text/html": [
       "Syncing run <strong><a href='https://wandb.ai/jooz-cave/unet-skin-lesion/runs/juckfoki/workspace' target=\"_blank\">eager-sweep-38</a></strong> to <a href='https://wandb.ai/jooz-cave/unet-skin-lesion' target=\"_blank\">Weights & Biases</a> (<a href='https://wandb.me/run' target=\"_blank\">docs</a>)<br/>Sweep page: <a href='https://wandb.ai/jooz-cave/unet-skin-lesion/sweeps/qjjguvd6' target=\"_blank\">https://wandb.ai/jooz-cave/unet-skin-lesion/sweeps/qjjguvd6</a>"
      ],
      "text/plain": [
       "<IPython.core.display.HTML object>"
      ]
     },
     "metadata": {},
     "output_type": "display_data"
    },
    {
     "data": {
      "text/html": [
       " View project at <a href='https://wandb.ai/jooz-cave/unet-skin-lesion' target=\"_blank\">https://wandb.ai/jooz-cave/unet-skin-lesion</a>"
      ],
      "text/plain": [
       "<IPython.core.display.HTML object>"
      ]
     },
     "metadata": {},
     "output_type": "display_data"
    },
    {
     "data": {
      "text/html": [
       " View sweep at <a href='https://wandb.ai/jooz-cave/unet-skin-lesion/sweeps/qjjguvd6' target=\"_blank\">https://wandb.ai/jooz-cave/unet-skin-lesion/sweeps/qjjguvd6</a>"
      ],
      "text/plain": [
       "<IPython.core.display.HTML object>"
      ]
     },
     "metadata": {},
     "output_type": "display_data"
    },
    {
     "data": {
      "text/html": [
       " View run at <a href='https://wandb.ai/jooz-cave/unet-skin-lesion/runs/juckfoki/workspace' target=\"_blank\">https://wandb.ai/jooz-cave/unet-skin-lesion/runs/juckfoki/workspace</a>"
      ],
      "text/plain": [
       "<IPython.core.display.HTML object>"
      ]
     },
     "metadata": {},
     "output_type": "display_data"
    },
    {
     "name": "stdout",
     "output_type": "stream",
     "text": [
      "Validation Loss: 0.8388554751873016\n",
      "Got 4795034/6553600 with acc 73.17\n",
      "Dice score: 0.0\n",
      "epoch: 0\n"
     ]
    },
    {
     "name": "stderr",
     "output_type": "stream",
     "text": [
      "100%|██████████| 82/82 [07:27<00:00,  5.46s/it, loss=0.227]\n"
     ]
    },
    {
     "name": "stdout",
     "output_type": "stream",
     "text": [
      "=> Saving checkpoint\n",
      "Validation Loss: 0.699396476149559\n",
      "Got 5778013/6553600 with acc 88.17\n",
      "Dice score: 0.7874628305435181\n",
      "epoch: 1\n"
     ]
    },
    {
     "name": "stderr",
     "output_type": "stream",
     "text": [
      "100%|██████████| 82/82 [07:28<00:00,  5.46s/it, loss=0.28] \n"
     ]
    },
    {
     "name": "stdout",
     "output_type": "stream",
     "text": [
      "=> Saving checkpoint\n",
      "Validation Loss: 0.6867599189281464\n",
      "Got 5941202/6553600 with acc 90.66\n",
      "Dice score: 0.8259326815605164\n",
      "epoch: 2\n"
     ]
    },
    {
     "name": "stderr",
     "output_type": "stream",
     "text": [
      "100%|██████████| 82/82 [07:28<00:00,  5.47s/it, loss=0.551]\n"
     ]
    },
    {
     "name": "stdout",
     "output_type": "stream",
     "text": [
      "=> Saving checkpoint\n",
      "Validation Loss: 0.6866635680198669\n",
      "Got 5933171/6553600 with acc 90.53\n",
      "Dice score: 0.8263112306594849\n",
      "Test Loss: 0.6820944100618362\n",
      "Got 57856364/65536000 with acc 88.28\n",
      "Dice score: 0.7614661455154419\n"
     ]
    },
    {
     "data": {
      "text/html": [
       "<style>\n",
       "    table.wandb td:nth-child(1) { padding: 0 10px; text-align: left ; width: auto;} td:nth-child(2) {text-align: left ; width: 100%}\n",
       "    .wandb-row { display: flex; flex-direction: row; flex-wrap: wrap; justify-content: flex-start; width: 100% }\n",
       "    .wandb-col { display: flex; flex-direction: column; flex-basis: 100%; flex: 1; padding: 10px; }\n",
       "    </style>\n",
       "<div class=\"wandb-row\"><div class=\"wandb-col\"><h3>Run history:</h3><br/><table class=\"wandb\"><tr><td>Dice Score</td><td>▁███</td></tr><tr><td>Pixel Accuracy</td><td>▁▇██</td></tr><tr><td>Test Dice Score</td><td>▁</td></tr><tr><td>Test Loss</td><td>▁</td></tr><tr><td>Test Pixel Accuracy</td><td>▁</td></tr><tr><td>Training Loss</td><td>█▆▅▄▄▃▆▃▃▄▃▃▃▁▃▃▂▂▂▄▃▃▂▂▂▂▂▂▂▃▃▃▁▂▂▂▁▂▂█</td></tr><tr><td>Validation Loss</td><td>█▂▁▁</td></tr><tr><td>epoch</td><td>▁▅█</td></tr></table><br/></div><div class=\"wandb-col\"><h3>Run summary:</h3><br/><table class=\"wandb\"><tr><td>Dice Score</td><td>0.82631</td></tr><tr><td>MODEL</td><td>UNET</td></tr><tr><td>Pixel Accuracy</td><td>90.533</td></tr><tr><td>Test Dice Score</td><td>0.76147</td></tr><tr><td>Test Loss</td><td>0.68209</td></tr><tr><td>Test Pixel Accuracy</td><td>88.28181</td></tr><tr><td>Training Loss</td><td>0.55091</td></tr><tr><td>Validation Loss</td><td>0.68666</td></tr><tr><td>epoch</td><td>2</td></tr></table><br/></div></div>"
      ],
      "text/plain": [
       "<IPython.core.display.HTML object>"
      ]
     },
     "metadata": {},
     "output_type": "display_data"
    },
    {
     "data": {
      "text/html": [
       " View run <strong style=\"color:#cdcd00\">eager-sweep-38</strong> at: <a href='https://wandb.ai/jooz-cave/unet-skin-lesion/runs/juckfoki/workspace' target=\"_blank\">https://wandb.ai/jooz-cave/unet-skin-lesion/runs/juckfoki/workspace</a><br/>Synced 5 W&B file(s), 0 media file(s), 0 artifact file(s) and 0 other file(s)"
      ],
      "text/plain": [
       "<IPython.core.display.HTML object>"
      ]
     },
     "metadata": {},
     "output_type": "display_data"
    },
    {
     "data": {
      "text/html": [
       "Find logs at: <code>.\\wandb\\run-20240412_155209-juckfoki\\logs</code>"
      ],
      "text/plain": [
       "<IPython.core.display.HTML object>"
      ]
     },
     "metadata": {},
     "output_type": "display_data"
    },
    {
     "name": "stderr",
     "output_type": "stream",
     "text": [
      "\u001b[34m\u001b[1mwandb\u001b[0m: Agent Starting Run: 5beeyt6s with config:\n",
      "\u001b[34m\u001b[1mwandb\u001b[0m: \tbatch_size: 64\n",
      "\u001b[34m\u001b[1mwandb\u001b[0m: \tdropout_rate: 0\n",
      "\u001b[34m\u001b[1mwandb\u001b[0m: \tepochs: 3\n",
      "\u001b[34m\u001b[1mwandb\u001b[0m: \tkernel_size: 7\n",
      "\u001b[34m\u001b[1mwandb\u001b[0m: \tlearning_rate: 0.0001\n",
      "Failed to detect the name of this notebook, you can set it manually with the WANDB_NOTEBOOK_NAME environment variable to enable code saving.\n"
     ]
    },
    {
     "data": {
      "text/html": [
       "wandb version 0.16.6 is available!  To upgrade, please run:\n",
       " $ pip install wandb --upgrade"
      ],
      "text/plain": [
       "<IPython.core.display.HTML object>"
      ]
     },
     "metadata": {},
     "output_type": "display_data"
    },
    {
     "data": {
      "text/html": [
       "Tracking run with wandb version 0.16.5"
      ],
      "text/plain": [
       "<IPython.core.display.HTML object>"
      ]
     },
     "metadata": {},
     "output_type": "display_data"
    },
    {
     "data": {
      "text/html": [
       "Run data is saved locally in <code>c:\\Users\\jonta\\code\\school\\t8\\DeepLearning\\50.039-DL\\notebooks\\wandb\\run-20240412_161808-5beeyt6s</code>"
      ],
      "text/plain": [
       "<IPython.core.display.HTML object>"
      ]
     },
     "metadata": {},
     "output_type": "display_data"
    },
    {
     "data": {
      "text/html": [
       "Syncing run <strong><a href='https://wandb.ai/jooz-cave/unet-skin-lesion/runs/5beeyt6s/workspace' target=\"_blank\">treasured-sweep-39</a></strong> to <a href='https://wandb.ai/jooz-cave/unet-skin-lesion' target=\"_blank\">Weights & Biases</a> (<a href='https://wandb.me/run' target=\"_blank\">docs</a>)<br/>Sweep page: <a href='https://wandb.ai/jooz-cave/unet-skin-lesion/sweeps/qjjguvd6' target=\"_blank\">https://wandb.ai/jooz-cave/unet-skin-lesion/sweeps/qjjguvd6</a>"
      ],
      "text/plain": [
       "<IPython.core.display.HTML object>"
      ]
     },
     "metadata": {},
     "output_type": "display_data"
    },
    {
     "data": {
      "text/html": [
       " View project at <a href='https://wandb.ai/jooz-cave/unet-skin-lesion' target=\"_blank\">https://wandb.ai/jooz-cave/unet-skin-lesion</a>"
      ],
      "text/plain": [
       "<IPython.core.display.HTML object>"
      ]
     },
     "metadata": {},
     "output_type": "display_data"
    },
    {
     "data": {
      "text/html": [
       " View sweep at <a href='https://wandb.ai/jooz-cave/unet-skin-lesion/sweeps/qjjguvd6' target=\"_blank\">https://wandb.ai/jooz-cave/unet-skin-lesion/sweeps/qjjguvd6</a>"
      ],
      "text/plain": [
       "<IPython.core.display.HTML object>"
      ]
     },
     "metadata": {},
     "output_type": "display_data"
    },
    {
     "data": {
      "text/html": [
       " View run at <a href='https://wandb.ai/jooz-cave/unet-skin-lesion/runs/5beeyt6s/workspace' target=\"_blank\">https://wandb.ai/jooz-cave/unet-skin-lesion/runs/5beeyt6s/workspace</a>"
      ],
      "text/plain": [
       "<IPython.core.display.HTML object>"
      ]
     },
     "metadata": {},
     "output_type": "display_data"
    },
    {
     "name": "stdout",
     "output_type": "stream",
     "text": [
      "Validation Loss: 0.8539731502532959\n",
      "Got 1758566/6553600 with acc 26.83\n",
      "Dice score: 0.4133538603782654\n",
      "epoch: 0\n"
     ]
    },
    {
     "name": "stderr",
     "output_type": "stream",
     "text": [
      "100%|██████████| 41/41 [07:21<00:00, 10.77s/it, loss=0.286]\n"
     ]
    },
    {
     "name": "stdout",
     "output_type": "stream",
     "text": [
      "=> Saving checkpoint\n",
      "Validation Loss: 0.7048300802707672\n",
      "Got 5762274/6553600 with acc 87.93\n",
      "Dice score: 0.7368882894515991\n",
      "epoch: 1\n"
     ]
    },
    {
     "name": "stderr",
     "output_type": "stream",
     "text": [
      "100%|██████████| 41/41 [07:22<00:00, 10.78s/it, loss=0.247]\n"
     ]
    },
    {
     "name": "stdout",
     "output_type": "stream",
     "text": [
      "=> Saving checkpoint\n",
      "Validation Loss: 0.7131629288196564\n",
      "Got 5811661/6553600 with acc 88.68\n",
      "Dice score: 0.7896876335144043\n",
      "epoch: 2\n"
     ]
    },
    {
     "name": "stderr",
     "output_type": "stream",
     "text": [
      "100%|██████████| 41/41 [07:21<00:00, 10.76s/it, loss=0.28] \n"
     ]
    },
    {
     "name": "stdout",
     "output_type": "stream",
     "text": [
      "=> Saving checkpoint\n",
      "Validation Loss: 0.6957712173461914\n",
      "Got 5825566/6553600 with acc 88.89\n",
      "Dice score: 0.7942410111427307\n",
      "Test Loss: 0.6958519145846367\n",
      "Got 56803201/65536000 with acc 86.67\n",
      "Dice score: 0.7568364143371582\n"
     ]
    },
    {
     "data": {
      "text/html": [
       "<style>\n",
       "    table.wandb td:nth-child(1) { padding: 0 10px; text-align: left ; width: auto;} td:nth-child(2) {text-align: left ; width: 100%}\n",
       "    .wandb-row { display: flex; flex-direction: row; flex-wrap: wrap; justify-content: flex-start; width: 100% }\n",
       "    .wandb-col { display: flex; flex-direction: column; flex-basis: 100%; flex: 1; padding: 10px; }\n",
       "    </style>\n",
       "<div class=\"wandb-row\"><div class=\"wandb-col\"><h3>Run history:</h3><br/><table class=\"wandb\"><tr><td>Dice Score</td><td>▁▇██</td></tr><tr><td>Pixel Accuracy</td><td>▁███</td></tr><tr><td>Test Dice Score</td><td>▁</td></tr><tr><td>Test Loss</td><td>▁</td></tr><tr><td>Test Pixel Accuracy</td><td>▁</td></tr><tr><td>Training Loss</td><td>█▅▄▃▃▃▃▂▂▃▂▃▂▂▂▂▂▂▂▂▂▂▂▂▂▁▁▁▂▂▁▂▁▁▂▁▁▁▂▂</td></tr><tr><td>Validation Loss</td><td>█▁▂▁</td></tr><tr><td>epoch</td><td>▁▅█</td></tr></table><br/></div><div class=\"wandb-col\"><h3>Run summary:</h3><br/><table class=\"wandb\"><tr><td>Dice Score</td><td>0.79424</td></tr><tr><td>MODEL</td><td>UNET</td></tr><tr><td>Pixel Accuracy</td><td>88.89108</td></tr><tr><td>Test Dice Score</td><td>0.75684</td></tr><tr><td>Test Loss</td><td>0.69585</td></tr><tr><td>Test Pixel Accuracy</td><td>86.67481</td></tr><tr><td>Training Loss</td><td>0.27982</td></tr><tr><td>Validation Loss</td><td>0.69577</td></tr><tr><td>epoch</td><td>2</td></tr></table><br/></div></div>"
      ],
      "text/plain": [
       "<IPython.core.display.HTML object>"
      ]
     },
     "metadata": {},
     "output_type": "display_data"
    },
    {
     "data": {
      "text/html": [
       " View run <strong style=\"color:#cdcd00\">treasured-sweep-39</strong> at: <a href='https://wandb.ai/jooz-cave/unet-skin-lesion/runs/5beeyt6s/workspace' target=\"_blank\">https://wandb.ai/jooz-cave/unet-skin-lesion/runs/5beeyt6s/workspace</a><br/>Synced 5 W&B file(s), 0 media file(s), 0 artifact file(s) and 0 other file(s)"
      ],
      "text/plain": [
       "<IPython.core.display.HTML object>"
      ]
     },
     "metadata": {},
     "output_type": "display_data"
    },
    {
     "data": {
      "text/html": [
       "Find logs at: <code>.\\wandb\\run-20240412_161808-5beeyt6s\\logs</code>"
      ],
      "text/plain": [
       "<IPython.core.display.HTML object>"
      ]
     },
     "metadata": {},
     "output_type": "display_data"
    },
    {
     "name": "stderr",
     "output_type": "stream",
     "text": [
      "\u001b[34m\u001b[1mwandb\u001b[0m: Sweep Agent: Waiting for job.\n",
      "\u001b[34m\u001b[1mwandb\u001b[0m: Job received.\n",
      "\u001b[34m\u001b[1mwandb\u001b[0m: Agent Starting Run: uo50izxj with config:\n",
      "\u001b[34m\u001b[1mwandb\u001b[0m: \tbatch_size: 64\n",
      "\u001b[34m\u001b[1mwandb\u001b[0m: \tdropout_rate: 0\n",
      "\u001b[34m\u001b[1mwandb\u001b[0m: \tepochs: 3\n",
      "\u001b[34m\u001b[1mwandb\u001b[0m: \tkernel_size: 7\n",
      "\u001b[34m\u001b[1mwandb\u001b[0m: \tlearning_rate: 0.0001\n",
      "Failed to detect the name of this notebook, you can set it manually with the WANDB_NOTEBOOK_NAME environment variable to enable code saving.\n"
     ]
    },
    {
     "data": {
      "text/html": [
       "wandb version 0.16.6 is available!  To upgrade, please run:\n",
       " $ pip install wandb --upgrade"
      ],
      "text/plain": [
       "<IPython.core.display.HTML object>"
      ]
     },
     "metadata": {},
     "output_type": "display_data"
    },
    {
     "data": {
      "text/html": [
       "Tracking run with wandb version 0.16.5"
      ],
      "text/plain": [
       "<IPython.core.display.HTML object>"
      ]
     },
     "metadata": {},
     "output_type": "display_data"
    },
    {
     "data": {
      "text/html": [
       "Run data is saved locally in <code>c:\\Users\\jonta\\code\\school\\t8\\DeepLearning\\50.039-DL\\notebooks\\wandb\\run-20240412_164350-uo50izxj</code>"
      ],
      "text/plain": [
       "<IPython.core.display.HTML object>"
      ]
     },
     "metadata": {},
     "output_type": "display_data"
    },
    {
     "data": {
      "text/html": [
       "Syncing run <strong><a href='https://wandb.ai/jooz-cave/unet-skin-lesion/runs/uo50izxj/workspace' target=\"_blank\">good-sweep-40</a></strong> to <a href='https://wandb.ai/jooz-cave/unet-skin-lesion' target=\"_blank\">Weights & Biases</a> (<a href='https://wandb.me/run' target=\"_blank\">docs</a>)<br/>Sweep page: <a href='https://wandb.ai/jooz-cave/unet-skin-lesion/sweeps/qjjguvd6' target=\"_blank\">https://wandb.ai/jooz-cave/unet-skin-lesion/sweeps/qjjguvd6</a>"
      ],
      "text/plain": [
       "<IPython.core.display.HTML object>"
      ]
     },
     "metadata": {},
     "output_type": "display_data"
    },
    {
     "data": {
      "text/html": [
       " View project at <a href='https://wandb.ai/jooz-cave/unet-skin-lesion' target=\"_blank\">https://wandb.ai/jooz-cave/unet-skin-lesion</a>"
      ],
      "text/plain": [
       "<IPython.core.display.HTML object>"
      ]
     },
     "metadata": {},
     "output_type": "display_data"
    },
    {
     "data": {
      "text/html": [
       " View sweep at <a href='https://wandb.ai/jooz-cave/unet-skin-lesion/sweeps/qjjguvd6' target=\"_blank\">https://wandb.ai/jooz-cave/unet-skin-lesion/sweeps/qjjguvd6</a>"
      ],
      "text/plain": [
       "<IPython.core.display.HTML object>"
      ]
     },
     "metadata": {},
     "output_type": "display_data"
    },
    {
     "data": {
      "text/html": [
       " View run at <a href='https://wandb.ai/jooz-cave/unet-skin-lesion/runs/uo50izxj/workspace' target=\"_blank\">https://wandb.ai/jooz-cave/unet-skin-lesion/runs/uo50izxj/workspace</a>"
      ],
      "text/plain": [
       "<IPython.core.display.HTML object>"
      ]
     },
     "metadata": {},
     "output_type": "display_data"
    },
    {
     "name": "stdout",
     "output_type": "stream",
     "text": [
      "Validation Loss: 0.8476810157299042\n",
      "Got 1758566/6553600 with acc 26.83\n",
      "Dice score: 0.4133538603782654\n",
      "epoch: 0\n"
     ]
    },
    {
     "name": "stderr",
     "output_type": "stream",
     "text": [
      "100%|██████████| 41/41 [07:21<00:00, 10.76s/it, loss=0.392]\n"
     ]
    },
    {
     "name": "stdout",
     "output_type": "stream",
     "text": [
      "=> Saving checkpoint\n",
      "Validation Loss: 0.7418140470981598\n",
      "Got 5817232/6553600 with acc 88.76\n",
      "Dice score: 0.775962233543396\n",
      "epoch: 1\n"
     ]
    },
    {
     "name": "stderr",
     "output_type": "stream",
     "text": [
      "100%|██████████| 41/41 [07:21<00:00, 10.77s/it, loss=0.36] \n"
     ]
    },
    {
     "name": "stdout",
     "output_type": "stream",
     "text": [
      "=> Saving checkpoint\n",
      "Validation Loss: 0.732960969209671\n",
      "Got 5779003/6553600 with acc 88.18\n",
      "Dice score: 0.7901421189308167\n",
      "epoch: 2\n"
     ]
    },
    {
     "name": "stderr",
     "output_type": "stream",
     "text": [
      "100%|██████████| 41/41 [07:21<00:00, 10.76s/it, loss=0.43] \n"
     ]
    },
    {
     "name": "stdout",
     "output_type": "stream",
     "text": [
      "=> Saving checkpoint\n",
      "Validation Loss: 0.7179581522941589\n",
      "Got 5851360/6553600 with acc 89.28\n",
      "Dice score: 0.7992533445358276\n",
      "Test Loss: 0.7151979766786098\n",
      "Got 57463105/65536000 with acc 87.68\n",
      "Dice score: 0.7791113257408142\n"
     ]
    },
    {
     "data": {
      "text/html": [
       "<style>\n",
       "    table.wandb td:nth-child(1) { padding: 0 10px; text-align: left ; width: auto;} td:nth-child(2) {text-align: left ; width: 100%}\n",
       "    .wandb-row { display: flex; flex-direction: row; flex-wrap: wrap; justify-content: flex-start; width: 100% }\n",
       "    .wandb-col { display: flex; flex-direction: column; flex-basis: 100%; flex: 1; padding: 10px; }\n",
       "    </style>\n",
       "<div class=\"wandb-row\"><div class=\"wandb-col\"><h3>Run history:</h3><br/><table class=\"wandb\"><tr><td>Dice Score</td><td>▁███</td></tr><tr><td>Pixel Accuracy</td><td>▁███</td></tr><tr><td>Test Dice Score</td><td>▁</td></tr><tr><td>Test Loss</td><td>▁</td></tr><tr><td>Test Pixel Accuracy</td><td>▁</td></tr><tr><td>Training Loss</td><td>█▅▅▄▃▃▃▃▃▃▃▂▂▂▂▃▂▂▂▂▂▂▂▂▂▂▂▂▁▁▂▂▁▁▁▂▂▁▁▃</td></tr><tr><td>Validation Loss</td><td>█▂▂▁</td></tr><tr><td>epoch</td><td>▁▅█</td></tr></table><br/></div><div class=\"wandb-col\"><h3>Run summary:</h3><br/><table class=\"wandb\"><tr><td>Dice Score</td><td>0.79925</td></tr><tr><td>MODEL</td><td>UNET</td></tr><tr><td>Pixel Accuracy</td><td>89.28467</td></tr><tr><td>Test Dice Score</td><td>0.77911</td></tr><tr><td>Test Loss</td><td>0.7152</td></tr><tr><td>Test Pixel Accuracy</td><td>87.68174</td></tr><tr><td>Training Loss</td><td>0.43049</td></tr><tr><td>Validation Loss</td><td>0.71796</td></tr><tr><td>epoch</td><td>2</td></tr></table><br/></div></div>"
      ],
      "text/plain": [
       "<IPython.core.display.HTML object>"
      ]
     },
     "metadata": {},
     "output_type": "display_data"
    },
    {
     "data": {
      "text/html": [
       " View run <strong style=\"color:#cdcd00\">good-sweep-40</strong> at: <a href='https://wandb.ai/jooz-cave/unet-skin-lesion/runs/uo50izxj/workspace' target=\"_blank\">https://wandb.ai/jooz-cave/unet-skin-lesion/runs/uo50izxj/workspace</a><br/>Synced 5 W&B file(s), 0 media file(s), 0 artifact file(s) and 0 other file(s)"
      ],
      "text/plain": [
       "<IPython.core.display.HTML object>"
      ]
     },
     "metadata": {},
     "output_type": "display_data"
    },
    {
     "data": {
      "text/html": [
       "Find logs at: <code>.\\wandb\\run-20240412_164350-uo50izxj\\logs</code>"
      ],
      "text/plain": [
       "<IPython.core.display.HTML object>"
      ]
     },
     "metadata": {},
     "output_type": "display_data"
    },
    {
     "name": "stderr",
     "output_type": "stream",
     "text": [
      "\u001b[34m\u001b[1mwandb\u001b[0m: Agent Starting Run: 1ma3kbo2 with config:\n",
      "\u001b[34m\u001b[1mwandb\u001b[0m: \tbatch_size: 16\n",
      "\u001b[34m\u001b[1mwandb\u001b[0m: \tdropout_rate: 0.1\n",
      "\u001b[34m\u001b[1mwandb\u001b[0m: \tepochs: 3\n",
      "\u001b[34m\u001b[1mwandb\u001b[0m: \tkernel_size: 7\n",
      "\u001b[34m\u001b[1mwandb\u001b[0m: \tlearning_rate: 0.0001\n",
      "Failed to detect the name of this notebook, you can set it manually with the WANDB_NOTEBOOK_NAME environment variable to enable code saving.\n"
     ]
    },
    {
     "data": {
      "text/html": [
       "wandb version 0.16.6 is available!  To upgrade, please run:\n",
       " $ pip install wandb --upgrade"
      ],
      "text/plain": [
       "<IPython.core.display.HTML object>"
      ]
     },
     "metadata": {},
     "output_type": "display_data"
    },
    {
     "data": {
      "text/html": [
       "Tracking run with wandb version 0.16.5"
      ],
      "text/plain": [
       "<IPython.core.display.HTML object>"
      ]
     },
     "metadata": {},
     "output_type": "display_data"
    },
    {
     "data": {
      "text/html": [
       "Run data is saved locally in <code>c:\\Users\\jonta\\code\\school\\t8\\DeepLearning\\50.039-DL\\notebooks\\wandb\\run-20240412_170923-1ma3kbo2</code>"
      ],
      "text/plain": [
       "<IPython.core.display.HTML object>"
      ]
     },
     "metadata": {},
     "output_type": "display_data"
    },
    {
     "data": {
      "text/html": [
       "Syncing run <strong><a href='https://wandb.ai/jooz-cave/unet-skin-lesion/runs/1ma3kbo2/workspace' target=\"_blank\">absurd-sweep-41</a></strong> to <a href='https://wandb.ai/jooz-cave/unet-skin-lesion' target=\"_blank\">Weights & Biases</a> (<a href='https://wandb.me/run' target=\"_blank\">docs</a>)<br/>Sweep page: <a href='https://wandb.ai/jooz-cave/unet-skin-lesion/sweeps/qjjguvd6' target=\"_blank\">https://wandb.ai/jooz-cave/unet-skin-lesion/sweeps/qjjguvd6</a>"
      ],
      "text/plain": [
       "<IPython.core.display.HTML object>"
      ]
     },
     "metadata": {},
     "output_type": "display_data"
    },
    {
     "data": {
      "text/html": [
       " View project at <a href='https://wandb.ai/jooz-cave/unet-skin-lesion' target=\"_blank\">https://wandb.ai/jooz-cave/unet-skin-lesion</a>"
      ],
      "text/plain": [
       "<IPython.core.display.HTML object>"
      ]
     },
     "metadata": {},
     "output_type": "display_data"
    },
    {
     "data": {
      "text/html": [
       " View sweep at <a href='https://wandb.ai/jooz-cave/unet-skin-lesion/sweeps/qjjguvd6' target=\"_blank\">https://wandb.ai/jooz-cave/unet-skin-lesion/sweeps/qjjguvd6</a>"
      ],
      "text/plain": [
       "<IPython.core.display.HTML object>"
      ]
     },
     "metadata": {},
     "output_type": "display_data"
    },
    {
     "data": {
      "text/html": [
       " View run at <a href='https://wandb.ai/jooz-cave/unet-skin-lesion/runs/1ma3kbo2/workspace' target=\"_blank\">https://wandb.ai/jooz-cave/unet-skin-lesion/runs/1ma3kbo2/workspace</a>"
      ],
      "text/plain": [
       "<IPython.core.display.HTML object>"
      ]
     },
     "metadata": {},
     "output_type": "display_data"
    },
    {
     "name": "stdout",
     "output_type": "stream",
     "text": [
      "Validation Loss: 0.8395551868847438\n",
      "Got 4795034/6553600 with acc 73.17\n",
      "Dice score: 0.0\n",
      "epoch: 0\n"
     ]
    },
    {
     "name": "stderr",
     "output_type": "stream",
     "text": [
      "100%|██████████| 163/163 [07:37<00:00,  2.80s/it, loss=0.83] \n"
     ]
    },
    {
     "name": "stdout",
     "output_type": "stream",
     "text": [
      "=> Saving checkpoint\n",
      "Validation Loss: 0.7055925471442086\n",
      "Got 5826043/6553600 with acc 88.90\n",
      "Dice score: 0.7673218846321106\n",
      "epoch: 1\n"
     ]
    },
    {
     "name": "stderr",
     "output_type": "stream",
     "text": [
      "100%|██████████| 163/163 [07:36<00:00,  2.80s/it, loss=0.242]\n"
     ]
    },
    {
     "name": "stdout",
     "output_type": "stream",
     "text": [
      "=> Saving checkpoint\n",
      "Validation Loss: 0.6848423651286534\n",
      "Got 5868532/6553600 with acc 89.55\n",
      "Dice score: 0.7935342192649841\n",
      "epoch: 2\n"
     ]
    },
    {
     "name": "stderr",
     "output_type": "stream",
     "text": [
      "100%|██████████| 163/163 [07:36<00:00,  2.80s/it, loss=0.179]\n"
     ]
    },
    {
     "name": "stdout",
     "output_type": "stream",
     "text": [
      "=> Saving checkpoint\n",
      "Validation Loss: 0.676650983946664\n",
      "Got 5997046/6553600 with acc 91.51\n",
      "Dice score: 0.8364983201026917\n",
      "Test Loss: 0.6733554771968296\n",
      "Got 58852739/65536000 with acc 89.80\n",
      "Dice score: 0.8009682297706604\n"
     ]
    },
    {
     "data": {
      "text/html": [
       "<style>\n",
       "    table.wandb td:nth-child(1) { padding: 0 10px; text-align: left ; width: auto;} td:nth-child(2) {text-align: left ; width: 100%}\n",
       "    .wandb-row { display: flex; flex-direction: row; flex-wrap: wrap; justify-content: flex-start; width: 100% }\n",
       "    .wandb-col { display: flex; flex-direction: column; flex-basis: 100%; flex: 1; padding: 10px; }\n",
       "    </style>\n",
       "<div class=\"wandb-row\"><div class=\"wandb-col\"><h3>Run history:</h3><br/><table class=\"wandb\"><tr><td>Dice Score</td><td>▁▇██</td></tr><tr><td>Pixel Accuracy</td><td>▁▇▇█</td></tr><tr><td>Test Dice Score</td><td>▁</td></tr><tr><td>Test Loss</td><td>▁</td></tr><tr><td>Test Pixel Accuracy</td><td>▁</td></tr><tr><td>Training Loss</td><td>█▅▆▄▄▄▃▃▃▄▃▃▅▃▂▄▂▃▂▄▂▁▁▂▄▃▃▂▃▃▁▂▁▃▁▃▂▂▁▂</td></tr><tr><td>Validation Loss</td><td>█▂▁▁</td></tr><tr><td>epoch</td><td>▁▅█</td></tr></table><br/></div><div class=\"wandb-col\"><h3>Run summary:</h3><br/><table class=\"wandb\"><tr><td>Dice Score</td><td>0.8365</td></tr><tr><td>MODEL</td><td>UNET</td></tr><tr><td>Pixel Accuracy</td><td>91.50765</td></tr><tr><td>Test Dice Score</td><td>0.80097</td></tr><tr><td>Test Loss</td><td>0.67336</td></tr><tr><td>Test Pixel Accuracy</td><td>89.80215</td></tr><tr><td>Training Loss</td><td>0.17872</td></tr><tr><td>Validation Loss</td><td>0.67665</td></tr><tr><td>epoch</td><td>2</td></tr></table><br/></div></div>"
      ],
      "text/plain": [
       "<IPython.core.display.HTML object>"
      ]
     },
     "metadata": {},
     "output_type": "display_data"
    },
    {
     "data": {
      "text/html": [
       " View run <strong style=\"color:#cdcd00\">absurd-sweep-41</strong> at: <a href='https://wandb.ai/jooz-cave/unet-skin-lesion/runs/1ma3kbo2/workspace' target=\"_blank\">https://wandb.ai/jooz-cave/unet-skin-lesion/runs/1ma3kbo2/workspace</a><br/>Synced 5 W&B file(s), 0 media file(s), 0 artifact file(s) and 0 other file(s)"
      ],
      "text/plain": [
       "<IPython.core.display.HTML object>"
      ]
     },
     "metadata": {},
     "output_type": "display_data"
    },
    {
     "data": {
      "text/html": [
       "Find logs at: <code>.\\wandb\\run-20240412_170923-1ma3kbo2\\logs</code>"
      ],
      "text/plain": [
       "<IPython.core.display.HTML object>"
      ]
     },
     "metadata": {},
     "output_type": "display_data"
    },
    {
     "name": "stderr",
     "output_type": "stream",
     "text": [
      "\u001b[34m\u001b[1mwandb\u001b[0m: Agent Starting Run: 3mrsudbt with config:\n",
      "\u001b[34m\u001b[1mwandb\u001b[0m: \tbatch_size: 8\n",
      "\u001b[34m\u001b[1mwandb\u001b[0m: \tdropout_rate: 0\n",
      "\u001b[34m\u001b[1mwandb\u001b[0m: \tepochs: 3\n",
      "\u001b[34m\u001b[1mwandb\u001b[0m: \tkernel_size: 7\n",
      "\u001b[34m\u001b[1mwandb\u001b[0m: \tlearning_rate: 0.0001\n",
      "Failed to detect the name of this notebook, you can set it manually with the WANDB_NOTEBOOK_NAME environment variable to enable code saving.\n"
     ]
    },
    {
     "data": {
      "text/html": [
       "wandb version 0.16.6 is available!  To upgrade, please run:\n",
       " $ pip install wandb --upgrade"
      ],
      "text/plain": [
       "<IPython.core.display.HTML object>"
      ]
     },
     "metadata": {},
     "output_type": "display_data"
    },
    {
     "data": {
      "text/html": [
       "Tracking run with wandb version 0.16.5"
      ],
      "text/plain": [
       "<IPython.core.display.HTML object>"
      ]
     },
     "metadata": {},
     "output_type": "display_data"
    },
    {
     "data": {
      "text/html": [
       "Run data is saved locally in <code>c:\\Users\\jonta\\code\\school\\t8\\DeepLearning\\50.039-DL\\notebooks\\wandb\\run-20240412_173550-3mrsudbt</code>"
      ],
      "text/plain": [
       "<IPython.core.display.HTML object>"
      ]
     },
     "metadata": {},
     "output_type": "display_data"
    },
    {
     "data": {
      "text/html": [
       "Syncing run <strong><a href='https://wandb.ai/jooz-cave/unet-skin-lesion/runs/3mrsudbt/workspace' target=\"_blank\">stilted-sweep-42</a></strong> to <a href='https://wandb.ai/jooz-cave/unet-skin-lesion' target=\"_blank\">Weights & Biases</a> (<a href='https://wandb.me/run' target=\"_blank\">docs</a>)<br/>Sweep page: <a href='https://wandb.ai/jooz-cave/unet-skin-lesion/sweeps/qjjguvd6' target=\"_blank\">https://wandb.ai/jooz-cave/unet-skin-lesion/sweeps/qjjguvd6</a>"
      ],
      "text/plain": [
       "<IPython.core.display.HTML object>"
      ]
     },
     "metadata": {},
     "output_type": "display_data"
    },
    {
     "data": {
      "text/html": [
       " View project at <a href='https://wandb.ai/jooz-cave/unet-skin-lesion' target=\"_blank\">https://wandb.ai/jooz-cave/unet-skin-lesion</a>"
      ],
      "text/plain": [
       "<IPython.core.display.HTML object>"
      ]
     },
     "metadata": {},
     "output_type": "display_data"
    },
    {
     "data": {
      "text/html": [
       " View sweep at <a href='https://wandb.ai/jooz-cave/unet-skin-lesion/sweeps/qjjguvd6' target=\"_blank\">https://wandb.ai/jooz-cave/unet-skin-lesion/sweeps/qjjguvd6</a>"
      ],
      "text/plain": [
       "<IPython.core.display.HTML object>"
      ]
     },
     "metadata": {},
     "output_type": "display_data"
    },
    {
     "data": {
      "text/html": [
       " View run at <a href='https://wandb.ai/jooz-cave/unet-skin-lesion/runs/3mrsudbt/workspace' target=\"_blank\">https://wandb.ai/jooz-cave/unet-skin-lesion/runs/3mrsudbt/workspace</a>"
      ],
      "text/plain": [
       "<IPython.core.display.HTML object>"
      ]
     },
     "metadata": {},
     "output_type": "display_data"
    },
    {
     "name": "stdout",
     "output_type": "stream",
     "text": [
      "Validation Loss: 0.8333640052722051\n",
      "Got 4795034/6553600 with acc 73.17\n",
      "Dice score: 0.0\n",
      "epoch: 0\n"
     ]
    },
    {
     "name": "stderr",
     "output_type": "stream",
     "text": [
      "100%|██████████| 325/325 [07:22<00:00,  1.36s/it, loss=0.42] \n"
     ]
    },
    {
     "name": "stdout",
     "output_type": "stream",
     "text": [
      "=> Saving checkpoint\n",
      "Validation Loss: 0.6801788073319656\n",
      "Got 5904153/6553600 with acc 90.09\n",
      "Dice score: 0.7996132373809814\n",
      "epoch: 1\n"
     ]
    },
    {
     "name": "stderr",
     "output_type": "stream",
     "text": [
      "100%|██████████| 325/325 [07:18<00:00,  1.35s/it, loss=0.146]\n"
     ]
    },
    {
     "name": "stdout",
     "output_type": "stream",
     "text": [
      "=> Saving checkpoint\n",
      "Validation Loss: 0.6646426365925715\n",
      "Got 5910480/6553600 with acc 90.19\n",
      "Dice score: 0.801899790763855\n",
      "epoch: 2\n"
     ]
    },
    {
     "name": "stderr",
     "output_type": "stream",
     "text": [
      "100%|██████████| 325/325 [07:17<00:00,  1.35s/it, loss=0.284]\n"
     ]
    },
    {
     "name": "stdout",
     "output_type": "stream",
     "text": [
      "=> Saving checkpoint\n",
      "Validation Loss: 0.6537922620773315\n",
      "Got 5985392/6553600 with acc 91.33\n",
      "Dice score: 0.8220670223236084\n",
      "Test Loss: 0.6559141626358033\n",
      "Got 58334183/65536000 with acc 89.01\n",
      "Dice score: 0.7750762104988098\n"
     ]
    },
    {
     "data": {
      "text/html": [
       "<style>\n",
       "    table.wandb td:nth-child(1) { padding: 0 10px; text-align: left ; width: auto;} td:nth-child(2) {text-align: left ; width: 100%}\n",
       "    .wandb-row { display: flex; flex-direction: row; flex-wrap: wrap; justify-content: flex-start; width: 100% }\n",
       "    .wandb-col { display: flex; flex-direction: column; flex-basis: 100%; flex: 1; padding: 10px; }\n",
       "    </style>\n",
       "<div class=\"wandb-row\"><div class=\"wandb-col\"><h3>Run history:</h3><br/><table class=\"wandb\"><tr><td>Dice Score</td><td>▁███</td></tr><tr><td>Pixel Accuracy</td><td>▁███</td></tr><tr><td>Test Dice Score</td><td>▁</td></tr><tr><td>Test Loss</td><td>▁</td></tr><tr><td>Test Pixel Accuracy</td><td>▁</td></tr><tr><td>Training Loss</td><td>▆▅▅▅▅▄▄▃▄▄▅▄▅▅▄▃▄▂▄▃▅▃▃▂▃▂█▃▂▅▄▂▄▂▁▁▂▃▁▁</td></tr><tr><td>Validation Loss</td><td>█▂▁▁</td></tr><tr><td>epoch</td><td>▁▅█</td></tr></table><br/></div><div class=\"wandb-col\"><h3>Run summary:</h3><br/><table class=\"wandb\"><tr><td>Dice Score</td><td>0.82207</td></tr><tr><td>MODEL</td><td>UNET</td></tr><tr><td>Pixel Accuracy</td><td>91.32983</td></tr><tr><td>Test Dice Score</td><td>0.77508</td></tr><tr><td>Test Loss</td><td>0.65591</td></tr><tr><td>Test Pixel Accuracy</td><td>89.01091</td></tr><tr><td>Training Loss</td><td>0.28449</td></tr><tr><td>Validation Loss</td><td>0.65379</td></tr><tr><td>epoch</td><td>2</td></tr></table><br/></div></div>"
      ],
      "text/plain": [
       "<IPython.core.display.HTML object>"
      ]
     },
     "metadata": {},
     "output_type": "display_data"
    },
    {
     "data": {
      "text/html": [
       " View run <strong style=\"color:#cdcd00\">stilted-sweep-42</strong> at: <a href='https://wandb.ai/jooz-cave/unet-skin-lesion/runs/3mrsudbt/workspace' target=\"_blank\">https://wandb.ai/jooz-cave/unet-skin-lesion/runs/3mrsudbt/workspace</a><br/>Synced 5 W&B file(s), 0 media file(s), 0 artifact file(s) and 0 other file(s)"
      ],
      "text/plain": [
       "<IPython.core.display.HTML object>"
      ]
     },
     "metadata": {},
     "output_type": "display_data"
    },
    {
     "data": {
      "text/html": [
       "Find logs at: <code>.\\wandb\\run-20240412_173550-3mrsudbt\\logs</code>"
      ],
      "text/plain": [
       "<IPython.core.display.HTML object>"
      ]
     },
     "metadata": {},
     "output_type": "display_data"
    },
    {
     "name": "stderr",
     "output_type": "stream",
     "text": [
      "\u001b[34m\u001b[1mwandb\u001b[0m: Agent Starting Run: mp89d6ga with config:\n",
      "\u001b[34m\u001b[1mwandb\u001b[0m: \tbatch_size: 16\n",
      "\u001b[34m\u001b[1mwandb\u001b[0m: \tdropout_rate: 0.1\n",
      "\u001b[34m\u001b[1mwandb\u001b[0m: \tepochs: 3\n",
      "\u001b[34m\u001b[1mwandb\u001b[0m: \tkernel_size: 7\n",
      "\u001b[34m\u001b[1mwandb\u001b[0m: \tlearning_rate: 0.0001\n",
      "Failed to detect the name of this notebook, you can set it manually with the WANDB_NOTEBOOK_NAME environment variable to enable code saving.\n"
     ]
    },
    {
     "data": {
      "text/html": [
       "wandb version 0.16.6 is available!  To upgrade, please run:\n",
       " $ pip install wandb --upgrade"
      ],
      "text/plain": [
       "<IPython.core.display.HTML object>"
      ]
     },
     "metadata": {},
     "output_type": "display_data"
    },
    {
     "data": {
      "text/html": [
       "Tracking run with wandb version 0.16.5"
      ],
      "text/plain": [
       "<IPython.core.display.HTML object>"
      ]
     },
     "metadata": {},
     "output_type": "display_data"
    },
    {
     "data": {
      "text/html": [
       "Run data is saved locally in <code>c:\\Users\\jonta\\code\\school\\t8\\DeepLearning\\50.039-DL\\notebooks\\wandb\\run-20240412_180132-mp89d6ga</code>"
      ],
      "text/plain": [
       "<IPython.core.display.HTML object>"
      ]
     },
     "metadata": {},
     "output_type": "display_data"
    },
    {
     "data": {
      "text/html": [
       "Syncing run <strong><a href='https://wandb.ai/jooz-cave/unet-skin-lesion/runs/mp89d6ga/workspace' target=\"_blank\">celestial-sweep-43</a></strong> to <a href='https://wandb.ai/jooz-cave/unet-skin-lesion' target=\"_blank\">Weights & Biases</a> (<a href='https://wandb.me/run' target=\"_blank\">docs</a>)<br/>Sweep page: <a href='https://wandb.ai/jooz-cave/unet-skin-lesion/sweeps/qjjguvd6' target=\"_blank\">https://wandb.ai/jooz-cave/unet-skin-lesion/sweeps/qjjguvd6</a>"
      ],
      "text/plain": [
       "<IPython.core.display.HTML object>"
      ]
     },
     "metadata": {},
     "output_type": "display_data"
    },
    {
     "data": {
      "text/html": [
       " View project at <a href='https://wandb.ai/jooz-cave/unet-skin-lesion' target=\"_blank\">https://wandb.ai/jooz-cave/unet-skin-lesion</a>"
      ],
      "text/plain": [
       "<IPython.core.display.HTML object>"
      ]
     },
     "metadata": {},
     "output_type": "display_data"
    },
    {
     "data": {
      "text/html": [
       " View sweep at <a href='https://wandb.ai/jooz-cave/unet-skin-lesion/sweeps/qjjguvd6' target=\"_blank\">https://wandb.ai/jooz-cave/unet-skin-lesion/sweeps/qjjguvd6</a>"
      ],
      "text/plain": [
       "<IPython.core.display.HTML object>"
      ]
     },
     "metadata": {},
     "output_type": "display_data"
    },
    {
     "data": {
      "text/html": [
       " View run at <a href='https://wandb.ai/jooz-cave/unet-skin-lesion/runs/mp89d6ga/workspace' target=\"_blank\">https://wandb.ai/jooz-cave/unet-skin-lesion/runs/mp89d6ga/workspace</a>"
      ],
      "text/plain": [
       "<IPython.core.display.HTML object>"
      ]
     },
     "metadata": {},
     "output_type": "display_data"
    },
    {
     "name": "stdout",
     "output_type": "stream",
     "text": [
      "Validation Loss: 0.8490892137799945\n",
      "Got 1758566/6553600 with acc 26.83\n",
      "Dice score: 0.41082340478897095\n",
      "epoch: 0\n"
     ]
    },
    {
     "name": "stderr",
     "output_type": "stream",
     "text": [
      " 26%|██▋       | 43/163 [02:03<06:08,  3.07s/it, loss=0.388]"
     ]
    }
   ],
   "source": [
    "wandb.agent(sweep_id, function=main)"
   ]
  }
 ],
 "metadata": {
  "kernelspec": {
   "display_name": "venv",
   "language": "python",
   "name": "python3"
  },
  "language_info": {
   "codemirror_mode": {
    "name": "ipython",
    "version": 3
   },
   "file_extension": ".py",
   "mimetype": "text/x-python",
   "name": "python",
   "nbconvert_exporter": "python",
   "pygments_lexer": "ipython3",
   "version": "3.10.13"
  }
 },
 "nbformat": 4,
 "nbformat_minor": 2
}
