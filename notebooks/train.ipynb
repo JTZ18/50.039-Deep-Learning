{
 "cells": [
  {
   "cell_type": "code",
   "execution_count": 10,
   "metadata": {},
   "outputs": [],
   "source": [
    "import sys\n",
    "sys.path.append(\"..\")"
   ]
  },
  {
   "cell_type": "markdown",
   "metadata": {},
   "source": [
    "## Load Dataset"
   ]
  },
  {
   "cell_type": "code",
   "execution_count": 11,
   "metadata": {},
   "outputs": [
    {
     "name": "stderr",
     "output_type": "stream",
     "text": [
      "c:\\Users\\jonta\\code\\school\\t8\\DeepLearning\\50.039-DL\\venv\\lib\\site-packages\\datasets\\load.py:1461: FutureWarning: The repository for jtz18/skin-lesion contains custom code which must be executed to correctly load the dataset. You can inspect the repository content at https://hf.co/datasets/jtz18/skin-lesion\n",
      "You can avoid this message in future by passing the argument `trust_remote_code=True`.\n",
      "Passing `trust_remote_code=True` will be mandatory to load this dataset from the next major release of `datasets`.\n",
      "  warnings.warn(\n"
     ]
    }
   ],
   "source": [
    "from datasets import load_dataset\n",
    "\n",
    "# Load the dataset\n",
    "dataset = load_dataset(\"jtz18/skin-lesion\")"
   ]
  },
  {
   "cell_type": "markdown",
   "metadata": {},
   "source": [
    "## Seeding"
   ]
  },
  {
   "cell_type": "code",
   "execution_count": 12,
   "metadata": {},
   "outputs": [],
   "source": [
    "import torch\n",
    "import numpy as np\n",
    "import random\n",
    "import os\n",
    "\n",
    "def set_seed(seed):\n",
    "  random.seed(seed)\n",
    "  np.random.seed(seed)\n",
    "  torch.manual_seed(seed)\n",
    "  torch.cuda.manual_seed_all(seed)\n",
    "  os.environ['PYTHONHASHSEED'] = str(seed)\n",
    "\n",
    "  torch.backends.cudnn.deterministic = True\n",
    "  torch.backends.cudnn.benchmark = False\n",
    "\n",
    "set_seed(42)"
   ]
  },
  {
   "cell_type": "markdown",
   "metadata": {},
   "source": [
    "## Init Model"
   ]
  },
  {
   "cell_type": "code",
   "execution_count": 13,
   "metadata": {},
   "outputs": [],
   "source": [
    "from src.segFormer2 import SegFormer\n",
    "from src.maluNet import MALUNet\n",
    "from src.unet import UNET\n",
    "from src.unetr import UNETR\n",
    "# from src.unetr import UNETR\n",
    "\n",
    "if torch.cuda.is_available():\n",
    "    device = torch.device(\"cuda\")\n",
    "elif torch.backends.mps.is_available():\n",
    "    device = torch.device(\"mps\")\n",
    "else:\n",
    "    device = torch.device(\"cpu\")\n",
    "\n",
    "# model = UNETR(img_shape=(256, 256), embed_dim=256, num_heads= 8, dropout=0.3).to(device)\n",
    "# model = SegFormer(\n",
    "# in_channels=3,\n",
    "# widths=[64, 128, 256, 512],\n",
    "# depths=[3, 4, 6, 3],\n",
    "# all_num_heads=[1, 2, 4, 8],\n",
    "# patch_sizes=[7, 3, 3, 3],\n",
    "# overlap_sizes=[4, 2, 2, 2],\n",
    "# reduction_ratios=[8, 4, 2, 1],\n",
    "# mlp_expansions=[4, 4, 4, 4],\n",
    "# decoder_channels=256,\n",
    "# scale_factors=[8, 4, 2, 1],\n",
    "# num_classes=1,\n",
    "# drop_prob=0.3,\n",
    "# ).to(device)\n",
    "\n",
    "model = UNET(dropout_rate=0, kernel_size=7).to(device)"
   ]
  },
  {
   "cell_type": "markdown",
   "metadata": {},
   "source": [
    "## Init Wandb"
   ]
  },
  {
   "cell_type": "code",
   "execution_count": 14,
   "metadata": {},
   "outputs": [
    {
     "data": {
      "text/html": [
       "wandb version 0.16.6 is available!  To upgrade, please run:\n",
       " $ pip install wandb --upgrade"
      ],
      "text/plain": [
       "<IPython.core.display.HTML object>"
      ]
     },
     "metadata": {},
     "output_type": "display_data"
    },
    {
     "data": {
      "text/html": [
       "Tracking run with wandb version 0.16.5"
      ],
      "text/plain": [
       "<IPython.core.display.HTML object>"
      ]
     },
     "metadata": {},
     "output_type": "display_data"
    },
    {
     "data": {
      "text/html": [
       "Run data is saved locally in <code>c:\\Users\\jonta\\code\\school\\t8\\DeepLearning\\50.039-DL\\notebooks\\wandb\\run-20240413_102418-o9iormb5</code>"
      ],
      "text/plain": [
       "<IPython.core.display.HTML object>"
      ]
     },
     "metadata": {},
     "output_type": "display_data"
    },
    {
     "data": {
      "text/html": [
       "Syncing run <strong><a href='https://wandb.ai/jooz-cave/unet-skin-lesion/runs/o9iormb5/workspace' target=\"_blank\">resilient-hill-470</a></strong> to <a href='https://wandb.ai/jooz-cave/unet-skin-lesion' target=\"_blank\">Weights & Biases</a> (<a href='https://wandb.me/run' target=\"_blank\">docs</a>)<br/>"
      ],
      "text/plain": [
       "<IPython.core.display.HTML object>"
      ]
     },
     "metadata": {},
     "output_type": "display_data"
    },
    {
     "data": {
      "text/html": [
       " View project at <a href='https://wandb.ai/jooz-cave/unet-skin-lesion' target=\"_blank\">https://wandb.ai/jooz-cave/unet-skin-lesion</a>"
      ],
      "text/plain": [
       "<IPython.core.display.HTML object>"
      ]
     },
     "metadata": {},
     "output_type": "display_data"
    },
    {
     "data": {
      "text/html": [
       " View run at <a href='https://wandb.ai/jooz-cave/unet-skin-lesion/runs/o9iormb5/workspace' target=\"_blank\">https://wandb.ai/jooz-cave/unet-skin-lesion/runs/o9iormb5/workspace</a>"
      ],
      "text/plain": [
       "<IPython.core.display.HTML object>"
      ]
     },
     "metadata": {},
     "output_type": "display_data"
    }
   ],
   "source": [
    "# Hyperparameters etc.\n",
    "import wandb\n",
    "# LEARNING_RATE = 1e-5\n",
    "LEARNING_RATE = 0.0001\n",
    "\n",
    "DEVICE = device\n",
    "BATCH_SIZE = 16\n",
    "\n",
    "NUM_EPOCHS = 10\n",
    "\n",
    "NUM_WORKERS = 0\n",
    "\n",
    "IMAGE_HEIGHT = 256\n",
    "IMAGE_WIDTH = 256\n",
    "\n",
    "PIN_MEMORY = True\n",
    "LOAD_MODEL = False\n",
    "CHECKPOINT_FILENAME = \"\"   # Model checkpoint filename if LOAD is True eg: checkpoints/checkpoint_9.pth.tar or None\n",
    "CLASS = \"task1\"\n",
    "MODEL = model.__class__.__name__\n",
    "\n",
    "# Initialize a new run\n",
    "run = wandb.init(project=\"unet-skin-lesion\", config={\n",
    "    \"learning_rate\": LEARNING_RATE,\n",
    "    \"device\": DEVICE,\n",
    "    \"batch_size\": BATCH_SIZE,\n",
    "    \"num_epochs\": NUM_EPOCHS,\n",
    "    \"num_workers\": NUM_WORKERS,\n",
    "    \"image_height\": IMAGE_HEIGHT,\n",
    "    \"image_width\": IMAGE_WIDTH,\n",
    "    \"pin_memory\": PIN_MEMORY,\n",
    "    \"load_model\": LOAD_MODEL,\n",
    "    \"checkpoint_filename\": CHECKPOINT_FILENAME,\n",
    "    \"class\": CLASS,\n",
    "    \"Model\": MODEL,\n",
    "})"
   ]
  },
  {
   "cell_type": "markdown",
   "metadata": {},
   "source": [
    "# Define Training Function"
   ]
  },
  {
   "cell_type": "code",
   "execution_count": 15,
   "metadata": {},
   "outputs": [],
   "source": [
    "from tqdm import tqdm\n",
    "def train_fn(loader, model, optimizer, loss_fn, scaler):\n",
    "    loop = tqdm(loader)\n",
    "\n",
    "    for batch_idx, (data, targets) in enumerate(loop):\n",
    "        data = data.to(device=DEVICE)\n",
    "        targets = targets.float().unsqueeze(1).to(device=DEVICE)\n",
    "\n",
    "        # forward\n",
    "        with torch.cuda.amp.autocast():\n",
    "            predictions = model(data)\n",
    "            loss = loss_fn(predictions, targets)\n",
    "            wandb.log({\"Training Loss\": loss})\n",
    "\n",
    "        # backward\n",
    "        optimizer.zero_grad()\n",
    "        scaler.scale(loss).backward()\n",
    "        scaler.step(optimizer)\n",
    "        scaler.update()\n",
    "\n",
    "        # update tqdm loop\n",
    "        loop.set_postfix(loss=loss.item())"
   ]
  },
  {
   "cell_type": "markdown",
   "metadata": {},
   "source": [
    "## Augmentations"
   ]
  },
  {
   "cell_type": "code",
   "execution_count": 16,
   "metadata": {},
   "outputs": [],
   "source": [
    "import albumentations as A\n",
    "from albumentations.pytorch import ToTensorV2\n",
    "from torch import nn\n",
    "from src.utils.utils import *\n",
    "\n",
    "\n",
    "train_transform = A.Compose(\n",
    "    [\n",
    "        A.Resize(height=IMAGE_HEIGHT, width=IMAGE_WIDTH),\n",
    "        A.Rotate(limit=35, p=1.0),\n",
    "        A.HorizontalFlip(p=0.5),\n",
    "        A.VerticalFlip(p=0.1),\n",
    "        A.Normalize(\n",
    "            mean=[0.0, 0.0, 0.0],\n",
    "            std=[1.0, 1.0, 1.0],\n",
    "            max_pixel_value=255.0,\n",
    "        ),\n",
    "        ToTensorV2(),\n",
    "    ],\n",
    ")\n",
    "\n",
    "val_transforms = A.Compose(\n",
    "    [\n",
    "        A.Resize(height=IMAGE_HEIGHT, width=IMAGE_WIDTH),\n",
    "        A.Normalize(\n",
    "            mean=[0.0, 0.0, 0.0],\n",
    "            std=[1.0, 1.0, 1.0],\n",
    "            max_pixel_value=255.0,\n",
    "        ),\n",
    "        ToTensorV2(),\n",
    "    ],\n",
    ")\n",
    "\n",
    "loss_fn = nn.BCEWithLogitsLoss()\n",
    "optimizer = torch.optim.Adam(model.parameters(), lr=LEARNING_RATE)\n",
    "\n",
    "\n",
    "train_loader, val_loader, test_loader = get_loaders(\n",
    "    dataset,\n",
    "    BATCH_SIZE,\n",
    "    train_transform,\n",
    "    val_transforms,\n",
    "    NUM_WORKERS,\n",
    "    PIN_MEMORY,\n",
    ")"
   ]
  },
  {
   "cell_type": "markdown",
   "metadata": {},
   "source": [
    "## Training Loop"
   ]
  },
  {
   "cell_type": "code",
   "execution_count": 17,
   "metadata": {},
   "outputs": [
    {
     "name": "stdout",
     "output_type": "stream",
     "text": [
      "Validation Loss: 0.8379434432302203\n",
      "Got 4795034/6553600 with acc 73.17\n",
      "Dice score: 0.0\n",
      "epoch: 0\n"
     ]
    },
    {
     "name": "stderr",
     "output_type": "stream",
     "text": [
      "100%|██████████| 163/163 [08:00<00:00,  2.95s/it, loss=0.421]\n"
     ]
    },
    {
     "name": "stdout",
     "output_type": "stream",
     "text": [
      "=> Saving checkpoint\n",
      "Validation Loss: 0.7171069213322231\n",
      "Got 5853581/6553600 with acc 89.32\n",
      "Dice score: 0.8041993379592896\n",
      "epoch: 1\n"
     ]
    },
    {
     "name": "stderr",
     "output_type": "stream",
     "text": [
      "100%|██████████| 163/163 [07:51<00:00,  2.89s/it, loss=0.211]\n"
     ]
    },
    {
     "name": "stdout",
     "output_type": "stream",
     "text": [
      "=> Saving checkpoint\n",
      "Validation Loss: 0.6899064012936184\n",
      "Got 5940812/6553600 with acc 90.65\n",
      "Dice score: 0.8132959008216858\n",
      "epoch: 2\n"
     ]
    },
    {
     "name": "stderr",
     "output_type": "stream",
     "text": [
      "100%|██████████| 163/163 [07:52<00:00,  2.90s/it, loss=0.2]  \n"
     ]
    },
    {
     "name": "stdout",
     "output_type": "stream",
     "text": [
      "=> Saving checkpoint\n",
      "Validation Loss: 0.6770203028406415\n",
      "Got 5989177/6553600 with acc 91.39\n",
      "Dice score: 0.8247560858726501\n",
      "epoch: 3\n"
     ]
    },
    {
     "name": "stderr",
     "output_type": "stream",
     "text": [
      "100%|██████████| 163/163 [07:45<00:00,  2.86s/it, loss=0.196]\n"
     ]
    },
    {
     "name": "stdout",
     "output_type": "stream",
     "text": [
      "=> Saving checkpoint\n",
      "Validation Loss: 0.67695380960192\n",
      "Got 5984516/6553600 with acc 91.32\n",
      "Dice score: 0.8277658820152283\n",
      "epoch: 4\n"
     ]
    },
    {
     "name": "stderr",
     "output_type": "stream",
     "text": [
      "100%|██████████| 163/163 [07:44<00:00,  2.85s/it, loss=0.123]\n"
     ]
    },
    {
     "name": "stdout",
     "output_type": "stream",
     "text": [
      "=> Saving checkpoint\n",
      "Validation Loss: 0.701914199760982\n",
      "Got 5865700/6553600 with acc 89.50\n",
      "Dice score: 0.8217136859893799\n",
      "epoch: 5\n"
     ]
    },
    {
     "name": "stderr",
     "output_type": "stream",
     "text": [
      "100%|██████████| 163/163 [07:43<00:00,  2.84s/it, loss=0.193]\n"
     ]
    },
    {
     "name": "stdout",
     "output_type": "stream",
     "text": [
      "=> Saving checkpoint\n",
      "Validation Loss: 0.6823528409004211\n",
      "Got 5959696/6553600 with acc 90.94\n",
      "Dice score: 0.8312580585479736\n",
      "epoch: 6\n"
     ]
    },
    {
     "name": "stderr",
     "output_type": "stream",
     "text": [
      "100%|██████████| 163/163 [07:44<00:00,  2.85s/it, loss=0.218]\n"
     ]
    },
    {
     "name": "stdout",
     "output_type": "stream",
     "text": [
      "=> Saving checkpoint\n",
      "Validation Loss: 0.6784320729119437\n",
      "Got 5970009/6553600 with acc 91.10\n",
      "Dice score: 0.8359078764915466\n",
      "epoch: 7\n"
     ]
    },
    {
     "name": "stderr",
     "output_type": "stream",
     "text": [
      "100%|██████████| 163/163 [07:42<00:00,  2.84s/it, loss=0.0968]\n"
     ]
    },
    {
     "name": "stdout",
     "output_type": "stream",
     "text": [
      "=> Saving checkpoint\n",
      "Validation Loss: 0.6584079265594482\n",
      "Got 6076763/6553600 with acc 92.72\n",
      "Dice score: 0.8595824241638184\n",
      "epoch: 8\n"
     ]
    },
    {
     "name": "stderr",
     "output_type": "stream",
     "text": [
      "100%|██████████| 163/163 [07:44<00:00,  2.85s/it, loss=0.274]\n"
     ]
    },
    {
     "name": "stdout",
     "output_type": "stream",
     "text": [
      "=> Saving checkpoint\n",
      "Validation Loss: 0.6576228567532131\n",
      "Got 5996387/6553600 with acc 91.50\n",
      "Dice score: 0.8417826890945435\n",
      "epoch: 9\n"
     ]
    },
    {
     "name": "stderr",
     "output_type": "stream",
     "text": [
      "100%|██████████| 163/163 [07:43<00:00,  2.84s/it, loss=0.0844]\n"
     ]
    },
    {
     "name": "stdout",
     "output_type": "stream",
     "text": [
      "=> Saving checkpoint\n",
      "Validation Loss: 0.6406711425100055\n",
      "Got 6095093/6553600 with acc 93.00\n",
      "Dice score: 0.8580296039581299\n"
     ]
    }
   ],
   "source": [
    "start_epoch = 0\n",
    "if LOAD_MODEL:\n",
    "    checkpoint = torch.load(CHECKPOINT_FILENAME)\n",
    "    model, optimizer, start_epoch = load_checkpoint(checkpoint, model, optimizer)\n",
    "\n",
    "\n",
    "\n",
    "check_accuracy(val_loader, model, device=DEVICE, loss_fn=loss_fn)\n",
    "scaler = torch.cuda.amp.GradScaler()\n",
    "\n",
    "for epoch in range(start_epoch, NUM_EPOCHS):\n",
    "    print(f\"epoch: {epoch}\")\n",
    "    train_fn(train_loader, model, optimizer, loss_fn, scaler)\n",
    "\n",
    "    # save model\n",
    "    checkpoint = {\n",
    "        \"state_dict\": model.state_dict(),\n",
    "        \"optimizer\":optimizer.state_dict(),\n",
    "        \"epoch\": epoch,\n",
    "    }\n",
    "    save_checkpoint(checkpoint, filename=f\"checkpoint_{epoch}.pth.tar\")\n",
    "\n",
    "    # check accuracy\n",
    "    check_accuracy(val_loader, model, device=DEVICE, loss_fn=loss_fn)\n",
    "\n",
    "    # print some examples to a folder\n",
    "    save_predictions_as_imgs(\n",
    "        val_loader, model, folder=f\"saved_images/{epoch}\", device=DEVICE\n",
    "    )"
   ]
  },
  {
   "cell_type": "code",
   "execution_count": 18,
   "metadata": {},
   "outputs": [
    {
     "data": {
      "text/html": [
       "<style>\n",
       "    table.wandb td:nth-child(1) { padding: 0 10px; text-align: left ; width: auto;} td:nth-child(2) {text-align: left ; width: 100%}\n",
       "    .wandb-row { display: flex; flex-direction: row; flex-wrap: wrap; justify-content: flex-start; width: 100% }\n",
       "    .wandb-col { display: flex; flex-direction: column; flex-basis: 100%; flex: 1; padding: 10px; }\n",
       "    </style>\n",
       "<div class=\"wandb-row\"><div class=\"wandb-col\"><h3>Run history:</h3><br/><table class=\"wandb\"><tr><td>Dice Score</td><td>▁██████████</td></tr><tr><td>Pixel Accuracy</td><td>▁▇▇▇▇▇▇▇█▇█</td></tr><tr><td>Training Loss</td><td>█▇▆▇▆▅▄▅▄▄▄▄▄▅▄▂▃▃▃▃▄▂▂▂▂▂▁▂▂▂▃▃▁▄▂▁▂▁▁▁</td></tr><tr><td>Validation Loss</td><td>█▄▃▂▂▃▂▂▂▂▁</td></tr></table><br/></div><div class=\"wandb-col\"><h3>Run summary:</h3><br/><table class=\"wandb\"><tr><td>Dice Score</td><td>0.85803</td></tr><tr><td>Pixel Accuracy</td><td>93.00374</td></tr><tr><td>Training Loss</td><td>0.08439</td></tr><tr><td>Validation Loss</td><td>0.64067</td></tr></table><br/></div></div>"
      ],
      "text/plain": [
       "<IPython.core.display.HTML object>"
      ]
     },
     "metadata": {},
     "output_type": "display_data"
    },
    {
     "data": {
      "text/html": [
       " View run <strong style=\"color:#cdcd00\">resilient-hill-470</strong> at: <a href='https://wandb.ai/jooz-cave/unet-skin-lesion/runs/o9iormb5/workspace' target=\"_blank\">https://wandb.ai/jooz-cave/unet-skin-lesion/runs/o9iormb5/workspace</a><br/>Synced 5 W&B file(s), 0 media file(s), 0 artifact file(s) and 0 other file(s)"
      ],
      "text/plain": [
       "<IPython.core.display.HTML object>"
      ]
     },
     "metadata": {},
     "output_type": "display_data"
    },
    {
     "data": {
      "text/html": [
       "Find logs at: <code>.\\wandb\\run-20240413_102418-o9iormb5\\logs</code>"
      ],
      "text/plain": [
       "<IPython.core.display.HTML object>"
      ]
     },
     "metadata": {},
     "output_type": "display_data"
    }
   ],
   "source": [
    "run.finish()"
   ]
  }
 ],
 "metadata": {
  "kernelspec": {
   "display_name": "venv",
   "language": "python",
   "name": "python3"
  },
  "language_info": {
   "codemirror_mode": {
    "name": "ipython",
    "version": 3
   },
   "file_extension": ".py",
   "mimetype": "text/x-python",
   "name": "python",
   "nbconvert_exporter": "python",
   "pygments_lexer": "ipython3",
   "version": "3.10.13"
  }
 },
 "nbformat": 4,
 "nbformat_minor": 2
}
