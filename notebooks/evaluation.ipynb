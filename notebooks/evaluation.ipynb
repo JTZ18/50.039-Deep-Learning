{
 "cells": [
  {
   "cell_type": "markdown",
   "metadata": {},
   "source": [
    "## Seeding"
   ]
  },
  {
   "cell_type": "code",
   "execution_count": 13,
   "metadata": {},
   "outputs": [],
   "source": [
    "import torch\n",
    "import numpy as np\n",
    "import random\n",
    "import os\n",
    "import sys\n",
    "\n",
    "def set_seed(seed):\n",
    "  random.seed(seed)\n",
    "  np.random.seed(seed)\n",
    "  torch.manual_seed(seed)\n",
    "  torch.cuda.manual_seed_all(seed)\n",
    "  os.environ['PYTHONHASHSEED'] = str(seed)\n",
    "\n",
    "  torch.backends.cudnn.deterministic = True\n",
    "  torch.backends.cudnn.benchmark = False\n",
    "\n",
    "sys.path.append(\"..\")\n",
    "set_seed(42)"
   ]
  },
  {
   "cell_type": "markdown",
   "metadata": {},
   "source": [
    "## Load Dataset"
   ]
  },
  {
   "cell_type": "code",
   "execution_count": 14,
   "metadata": {},
   "outputs": [
    {
     "name": "stderr",
     "output_type": "stream",
     "text": [
      "c:\\Users\\jonta\\code\\school\\t8\\DeepLearning\\50.039-DL\\venv\\lib\\site-packages\\datasets\\load.py:1461: FutureWarning: The repository for jtz18/skin-lesion contains custom code which must be executed to correctly load the dataset. You can inspect the repository content at https://hf.co/datasets/jtz18/skin-lesion\n",
      "You can avoid this message in future by passing the argument `trust_remote_code=True`.\n",
      "Passing `trust_remote_code=True` will be mandatory to load this dataset from the next major release of `datasets`.\n",
      "  warnings.warn(\n"
     ]
    }
   ],
   "source": [
    "from datasets import load_dataset\n",
    "\n",
    "# Load the dataset\n",
    "dataset = load_dataset(\"jtz18/skin-lesion\")"
   ]
  },
  {
   "cell_type": "markdown",
   "metadata": {},
   "source": [
    "## Init Models"
   ]
  },
  {
   "cell_type": "code",
   "execution_count": 15,
   "metadata": {},
   "outputs": [],
   "source": [
    "from src.segFormer import SegFormer\n",
    "from src.unet import UNET\n",
    "from src.unetr import UNETR\n",
    "\n",
    "if torch.cuda.is_available():\n",
    "    device = torch.device(\"cuda\")\n",
    "elif torch.backends.mps.is_available():\n",
    "    device = torch.device(\"mps\")\n",
    "else:\n",
    "    device = torch.device(\"cpu\")"
   ]
  },
  {
   "cell_type": "code",
   "execution_count": 16,
   "metadata": {},
   "outputs": [],
   "source": [
    "from src.utils.utils import *\n",
    "import albumentations as A\n",
    "from albumentations.pytorch import ToTensorV2\n",
    "from torch import nn\n",
    "\n",
    "val_transforms = A.Compose(\n",
    "    [\n",
    "        A.Resize(height=256, width=256),\n",
    "        A.Normalize(\n",
    "            mean=[0.0, 0.0, 0.0],\n",
    "            std=[1.0, 1.0, 1.0],\n",
    "            max_pixel_value=255.0,\n",
    "        ),\n",
    "        ToTensorV2(),\n",
    "    ],\n",
    ")\n",
    "\n",
    "_, _, test_loader = get_loaders(\n",
    "    dataset=dataset,\n",
    "    batch_size=16,\n",
    "    train_transform=None,\n",
    "    val_transform=val_transforms,\n",
    "    num_workers=0\n",
    ")"
   ]
  },
  {
   "cell_type": "markdown",
   "metadata": {},
   "source": [
    "## Evaluation"
   ]
  },
  {
   "cell_type": "markdown",
   "metadata": {},
   "source": [
    "## Unet Evaluation\n",
    "Compute the Final Test Dice Score when running best weights on the test set.\n",
    "**Test Dice Score: 0.8405**"
   ]
  },
  {
   "cell_type": "code",
   "execution_count": 17,
   "metadata": {},
   "outputs": [
    {
     "name": "stdout",
     "output_type": "stream",
     "text": [
      "=> Loading checkpoint\n"
     ]
    }
   ],
   "source": [
    "CHECKPOINT_FILENAME = \"../checkpoints/unet-checkpoints/checkpoint_7.pth.tar\"\n",
    "\n",
    "model = UNET(\n",
    "  dropout_rate=0,\n",
    "  kernel_size=7\n",
    ").to(device)\n",
    "\n",
    "checkpoint = torch.load(CHECKPOINT_FILENAME)\n",
    "model, _, _ = load_checkpoint(checkpoint, model)"
   ]
  },
  {
   "cell_type": "code",
   "execution_count": 18,
   "metadata": {},
   "outputs": [
    {
     "name": "stdout",
     "output_type": "stream",
     "text": [
      "Got 59978719/65536000 with acc 91.52\n",
      "Dice score: 0.8404747843742371\n"
     ]
    }
   ],
   "source": [
    "check_accuracy(test_loader, model, device=device, mode=\"test\", wandb=False)"
   ]
  },
  {
   "cell_type": "markdown",
   "metadata": {},
   "source": [
    "## Unet-r Evaluation\n",
    "Compute the Final Test Dice Score when running best weights on the test set.\n",
    "**Test Dice Score: 0.8068**"
   ]
  },
  {
   "cell_type": "code",
   "execution_count": 19,
   "metadata": {},
   "outputs": [
    {
     "name": "stdout",
     "output_type": "stream",
     "text": [
      "=> Loading checkpoint\n"
     ]
    }
   ],
   "source": [
    "CHECKPOINT_FILENAME = \"../checkpoints/unetr-checkpoints/checkpoint_8.pth.tar\"\n",
    "\n",
    "model = UNETR(\n",
    "  dropout=0.3,\n",
    "  embed_dim=256,\n",
    "  num_heads=8\n",
    ").to(device)\n",
    "\n",
    "checkpoint = torch.load(CHECKPOINT_FILENAME)\n",
    "model, _, _ = load_checkpoint(checkpoint, model)"
   ]
  },
  {
   "cell_type": "code",
   "execution_count": 20,
   "metadata": {},
   "outputs": [
    {
     "name": "stdout",
     "output_type": "stream",
     "text": [
      "Got 58552488/65536000 with acc 89.34\n",
      "Dice score: 0.8067812323570251\n"
     ]
    }
   ],
   "source": [
    "check_accuracy(test_loader, model, device=device, mode=\"test\", wandb=False)"
   ]
  },
  {
   "cell_type": "markdown",
   "metadata": {},
   "source": [
    "## Segformer Evaluation\n",
    "Compute the Final Test Dice Score when running best weights on the test set.\n",
    "**Test Dice Score: 0.8472**"
   ]
  },
  {
   "cell_type": "code",
   "execution_count": 21,
   "metadata": {},
   "outputs": [
    {
     "name": "stdout",
     "output_type": "stream",
     "text": [
      "=> Loading checkpoint\n"
     ]
    }
   ],
   "source": [
    "CHECKPOINT_FILENAME = \"../checkpoints/segformer-checkpoints/checkpoint_7.pth.tar\"\n",
    "\n",
    "model = SegFormer(\n",
    "in_channels=3,\n",
    "widths=[64, 128, 256, 512],\n",
    "depths=[3, 4, 6, 3],\n",
    "all_num_heads=[1, 2, 4, 8],\n",
    "patch_sizes=[7, 3, 3, 3],\n",
    "overlap_sizes=[4, 2, 2, 2],\n",
    "reduction_ratios=[8, 4, 2, 1],\n",
    "mlp_expansions=[4, 4, 4, 4],\n",
    "decoder_channels=256,\n",
    "scale_factors=[8, 4, 2, 1],\n",
    "num_classes=1,\n",
    "drop_prob=0.3,\n",
    ").to(device)\n",
    "\n",
    "checkpoint = torch.load(CHECKPOINT_FILENAME)\n",
    "model, _, _ = load_checkpoint(checkpoint, model)"
   ]
  },
  {
   "cell_type": "code",
   "execution_count": 22,
   "metadata": {},
   "outputs": [
    {
     "name": "stdout",
     "output_type": "stream",
     "text": [
      "Got 59957270/65536000 with acc 91.49\n",
      "Dice score: 0.8472219705581665\n"
     ]
    }
   ],
   "source": [
    "check_accuracy(test_loader, model, device=device, mode=\"test\", wandb=False)"
   ]
  },
  {
   "cell_type": "markdown",
   "metadata": {},
   "source": [
    "# State Of The Art Evaluation\n",
    "Compare our models with the state of the art models on the test set."
   ]
  },
  {
   "cell_type": "markdown",
   "metadata": {},
   "source": [
    "## TransFuse Evaluation\n",
    "Compute the Final Test Dice Score when running best weights on the test set.\n",
    "**Test Dice Score: 0.8595**"
   ]
  },
  {
   "cell_type": "code",
   "execution_count": 23,
   "metadata": {},
   "outputs": [
    {
     "data": {
      "text/plain": [
       "<All keys matched successfully>"
      ]
     },
     "execution_count": 23,
     "metadata": {},
     "output_type": "execute_result"
    }
   ],
   "source": [
    "from sota.transfuse.TransFuse import TransFuse_S\n",
    "\n",
    "CHECKPOINT_FILENAME = \"../checkpoints/TransFuse-19_best.pth\"\n",
    "\n",
    "model = TransFuse_S().cuda()\n",
    "model.load_state_dict(torch.load(CHECKPOINT_FILENAME))"
   ]
  },
  {
   "cell_type": "code",
   "execution_count": 24,
   "metadata": {},
   "outputs": [
    {
     "name": "stdout",
     "output_type": "stream",
     "text": [
      "Got 44985274/49152000 with acc 91.52\n",
      "Dice score: 0.859549343585968\n"
     ]
    }
   ],
   "source": [
    "check_accuracy(test_loader, model, device=device, mode=\"test\", wandb=False, img_dims=(192, 256))"
   ]
  },
  {
   "cell_type": "code",
   "execution_count": null,
   "metadata": {},
   "outputs": [],
   "source": []
  }
 ],
 "metadata": {
  "kernelspec": {
   "display_name": "venv",
   "language": "python",
   "name": "python3"
  },
  "language_info": {
   "codemirror_mode": {
    "name": "ipython",
    "version": 3
   },
   "file_extension": ".py",
   "mimetype": "text/x-python",
   "name": "python",
   "nbconvert_exporter": "python",
   "pygments_lexer": "ipython3",
   "version": "3.10.13"
  }
 },
 "nbformat": 4,
 "nbformat_minor": 2
}
