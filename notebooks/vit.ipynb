{
 "cells": [
  {
   "cell_type": "code",
   "execution_count": 57,
   "metadata": {},
   "outputs": [],
   "source": [
    "import sys\n",
    "sys.path.append(\"..\")"
   ]
  },
  {
   "cell_type": "markdown",
   "metadata": {},
   "source": [
    "## Set Seed"
   ]
  },
  {
   "cell_type": "code",
   "execution_count": 58,
   "metadata": {},
   "outputs": [],
   "source": [
    "import torch\n",
    "import numpy as np\n",
    "import random\n",
    "import os\n",
    "\n",
    "def set_seed(seed):\n",
    "  random.seed(seed)\n",
    "  np.random.seed(seed)\n",
    "  torch.manual_seed(seed)\n",
    "  torch.cuda.manual_seed_all(seed)\n",
    "  os.environ['PYTHONHASHSEED'] = str(seed)\n",
    "\n",
    "  torch.backends.cudnn.deterministic = True\n",
    "  torch.backends.cudnn.benchmark = False\n",
    "\n",
    "set_seed(42)"
   ]
  },
  {
   "cell_type": "code",
   "execution_count": 59,
   "metadata": {},
   "outputs": [
    {
     "name": "stderr",
     "output_type": "stream",
     "text": [
      "c:\\Users\\jonta\\code\\school\\t8\\DeepLearning\\50.039-DL\\venv\\lib\\site-packages\\datasets\\load.py:1461: FutureWarning: The repository for jtz18/skin-lesion contains custom code which must be executed to correctly load the dataset. You can inspect the repository content at https://hf.co/datasets/jtz18/skin-lesion\n",
      "You can avoid this message in future by passing the argument `trust_remote_code=True`.\n",
      "Passing `trust_remote_code=True` will be mandatory to load this dataset from the next major release of `datasets`.\n",
      "  warnings.warn(\n"
     ]
    }
   ],
   "source": [
    "from datasets import load_dataset\n",
    "import numpy as np\n",
    "\n",
    "# Load the dataset\n",
    "dataset = load_dataset(\"jtz18/skin-lesion\")"
   ]
  },
  {
   "cell_type": "code",
   "execution_count": 60,
   "metadata": {},
   "outputs": [],
   "source": [
    "import torch\n",
    "\n",
    "class OneClassDataset(torch.utils.data.Dataset):\n",
    "    def __init__(self, dataset=None, split=\"train\", transform=None):\n",
    "        self.dataset = dataset\n",
    "        self.split = split\n",
    "        self.transform = transform\n",
    "\n",
    "    def __len__(self):\n",
    "        return len(self.dataset[self.split])\n",
    "\n",
    "    def __getitem__(self, idx):\n",
    "        sample = self.dataset[self.split][idx]\n",
    "        image = sample['image']\n",
    "        mask = sample['label']\n",
    "        image = np.array(image.convert('RGB'))\n",
    "        mask = np.array(mask.convert('L'), dtype=np.float32)\n",
    "        mask[mask == 255.0] = 1.0\n",
    "\n",
    "        if self.transform:\n",
    "            augmentations = self.transform(image=image, mask=mask)\n",
    "            image = augmentations['image']\n",
    "            mask = augmentations['mask']\n",
    "\n",
    "        return image, mask"
   ]
  },
  {
   "cell_type": "code",
   "execution_count": 61,
   "metadata": {},
   "outputs": [],
   "source": [
    "import os\n",
    "import torch\n",
    "import torchvision\n",
    "from torch.utils.data import DataLoader\n",
    "import wandb\n",
    "\n",
    "def save_checkpoint(state, filename=\"my_checkpoint.pth.tar\"):\n",
    "    print(\"=> Saving checkpoint\")\n",
    "    # Create the 'checkpoints' directory if it doesn't exist\n",
    "    if not os.path.isdir(\"checkpoints\"):\n",
    "        os.makedirs(\"checkpoints\")\n",
    "\n",
    "    # Save the checkpoint to the 'checkpoints' directory\n",
    "    torch.save(state, os.path.join(\"checkpoints\", filename))\n",
    "\n",
    "def load_checkpoint(checkpoint, model, optimizer):\n",
    "    print(\"=> Loading checkpoint\")\n",
    "    model.load_state_dict(checkpoint[\"state_dict\"])\n",
    "    optimizer.load_state_dict(checkpoint[\"optimizer\"])\n",
    "    epoch = checkpoint[\"epoch\"]\n",
    "    return model, optimizer, epoch\n",
    "\n",
    "def get_loaders(\n",
    "    batch_size,\n",
    "    train_transform,\n",
    "    val_transform,\n",
    "    num_workers=4,\n",
    "    pin_memory=True,\n",
    "):\n",
    "    train_ds = OneClassDataset(\n",
    "        dataset=dataset,\n",
    "        split=\"train\",\n",
    "        transform=train_transform,\n",
    "    )\n",
    "\n",
    "    # # Use only the first 100 samples of the dataset\n",
    "    # train_ds = torch.utils.data.Subset(train_ds, range(100))\n",
    "\n",
    "    train_loader = DataLoader(\n",
    "        train_ds,\n",
    "        batch_size=batch_size,\n",
    "        num_workers=num_workers,\n",
    "        pin_memory=pin_memory,\n",
    "        shuffle=True,\n",
    "    )\n",
    "\n",
    "    val_ds = OneClassDataset(\n",
    "        dataset=dataset,\n",
    "        split=\"validation\",\n",
    "        transform=val_transform,\n",
    "    )\n",
    "\n",
    "    val_loader = DataLoader(\n",
    "        val_ds,\n",
    "        batch_size=batch_size,\n",
    "        num_workers=num_workers,\n",
    "        pin_memory=pin_memory,\n",
    "        shuffle=False,\n",
    "    )\n",
    "\n",
    "    test_ds = OneClassDataset(\n",
    "        dataset=dataset,\n",
    "        split=\"test\",\n",
    "        transform=val_transform,\n",
    "    )\n",
    "\n",
    "    test_loader = DataLoader(\n",
    "        test_ds,\n",
    "        batch_size=batch_size,\n",
    "        num_workers=num_workers,\n",
    "        pin_memory=pin_memory,\n",
    "        shuffle=False,\n",
    "    )\n",
    "\n",
    "    return train_loader, val_loader, test_loader\n",
    "\n",
    "def check_accuracy(loader, model, device=\"cuda\"):\n",
    "    num_correct = 0\n",
    "    num_pixels = 0\n",
    "    dice_score = 0\n",
    "    iou_score = 0\n",
    "    model.eval()\n",
    "\n",
    "    with torch.no_grad():\n",
    "        for x, y in loader:\n",
    "            x = x.to(device)\n",
    "            y = y.to(device).unsqueeze(1)\n",
    "            preds = torch.sigmoid(model(x))\n",
    "            preds = (preds > 0.5).float()\n",
    "            num_correct += (preds == y).sum()\n",
    "            num_pixels += torch.numel(preds)\n",
    "            dice_score += (2 * (preds * y).sum()) / (\n",
    "                (preds + y).sum() + 1e-8\n",
    "            )\n",
    "            iou_score += iou_pytorch(preds, y)  # Calculate IoU score for the batch\n",
    "\n",
    "    pixel_accuracy = num_correct / num_pixels * 100\n",
    "    print(f\"dice_score: {dice_score}\")\n",
    "    dice_score = dice_score / len(loader)\n",
    "    print(f\"Got {num_correct}/{num_pixels} with acc {pixel_accuracy:.2f}\")\n",
    "    wandb.log({\"Pixel Accuracy\": pixel_accuracy})\n",
    "    print(f\"Dice score: {dice_score}\")\n",
    "    wandb.log({\"Dice Score\": dice_score})\n",
    "    print(f\"IoU score: {iou_score}\")  # Print IoU score to the console\n",
    "    wandb.log({\"IoU Score\": iou_score})\n",
    "    model.train()\n",
    "\n",
    "def iou_pytorch(outputs: torch.Tensor, labels: torch.Tensor):\n",
    "    # Convert tensors to 'Bool' type\n",
    "    outputs_int = outputs.int()\n",
    "    labels_int = labels.int()\n",
    "\n",
    "    intersection = (outputs_int & labels_int).float().sum((1, 2))  # Will be zero if Truth=0 or Prediction=0\n",
    "    union = (outputs_int | labels_int).float().sum((1, 2))  # Will be zero if both are 0\n",
    "\n",
    "    iou = (intersection + 1e-6) / (union + 1e-6)  # We smooth our division to avoid 0/0\n",
    "\n",
    "    return iou.mean()  # Average over the batch\n",
    "\n",
    "\n",
    "def save_predictions_as_imgs(\n",
    "    loader, model, folder=\"saved_images\", device=\"cuda\"\n",
    "):\n",
    "\n",
    "    # Create directory if it doesn't exist\n",
    "    if not os.path.exists(folder):\n",
    "        os.makedirs(folder)\n",
    "\n",
    "    model.eval()\n",
    "    for idx, (x, y) in enumerate(loader):\n",
    "        x = x.to(device=device)\n",
    "        with torch.no_grad():\n",
    "            preds = torch.sigmoid(model(x))\n",
    "            preds = (preds > 0.5).float()\n",
    "            # print(f\"pred_shape: {preds.shape}\")\n",
    "            # print(f\"y_shape: {y.shape}\")\n",
    "\n",
    "        torchvision.utils.save_image(\n",
    "            preds, f\"{folder}/pred_{idx}.png\"\n",
    "        )\n",
    "        torchvision.utils.save_image(y.unsqueeze(1), f\"{folder}/{idx}.png\")\n",
    "\n",
    "    model.train()"
   ]
  },
  {
   "cell_type": "markdown",
   "metadata": {},
   "source": [
    "## Init Wandb"
   ]
  },
  {
   "cell_type": "code",
   "execution_count": 62,
   "metadata": {},
   "outputs": [
    {
     "data": {
      "text/html": [
       "Finishing last run (ID:8v3kebbl) before initializing another..."
      ],
      "text/plain": [
       "<IPython.core.display.HTML object>"
      ]
     },
     "metadata": {},
     "output_type": "display_data"
    },
    {
     "data": {
      "text/html": [
       "<style>\n",
       "    table.wandb td:nth-child(1) { padding: 0 10px; text-align: left ; width: auto;} td:nth-child(2) {text-align: left ; width: 100%}\n",
       "    .wandb-row { display: flex; flex-direction: row; flex-wrap: wrap; justify-content: flex-start; width: 100% }\n",
       "    .wandb-col { display: flex; flex-direction: column; flex-basis: 100%; flex: 1; padding: 10px; }\n",
       "    </style>\n",
       "<div class=\"wandb-row\"><div class=\"wandb-col\"><h3>Run history:</h3><br/><table class=\"wandb\"><tr><td>Dice Score</td><td>▁▁</td></tr><tr><td>IoU Score</td><td>▁▁</td></tr><tr><td>Pixel Accuracy</td><td>▁▁</td></tr><tr><td>Training Loss</td><td>▆▅▃▅▄▃▃▆▂▃▄▁▁█</td></tr></table><br/></div><div class=\"wandb-col\"><h3>Run summary:</h3><br/><table class=\"wandb\"><tr><td>Dice Score</td><td>0.0</td></tr><tr><td>IoU Score</td><td>3.41309</td></tr><tr><td>Pixel Accuracy</td><td>73.16641</td></tr><tr><td>Training Loss</td><td>0.69055</td></tr></table><br/></div></div>"
      ],
      "text/plain": [
       "<IPython.core.display.HTML object>"
      ]
     },
     "metadata": {},
     "output_type": "display_data"
    },
    {
     "data": {
      "text/html": [
       " View run <strong style=\"color:#cdcd00\">helpful-wind-53</strong> at: <a href='https://wandb.ai/jooz-cave/unet-skin-lesion/runs/8v3kebbl/workspace' target=\"_blank\">https://wandb.ai/jooz-cave/unet-skin-lesion/runs/8v3kebbl/workspace</a><br/>Synced 5 W&B file(s), 0 media file(s), 0 artifact file(s) and 0 other file(s)"
      ],
      "text/plain": [
       "<IPython.core.display.HTML object>"
      ]
     },
     "metadata": {},
     "output_type": "display_data"
    },
    {
     "data": {
      "text/html": [
       "Find logs at: <code>.\\wandb\\run-20240401_050638-8v3kebbl\\logs</code>"
      ],
      "text/plain": [
       "<IPython.core.display.HTML object>"
      ]
     },
     "metadata": {},
     "output_type": "display_data"
    },
    {
     "data": {
      "text/html": [
       "Successfully finished last run (ID:8v3kebbl). Initializing new run:<br/>"
      ],
      "text/plain": [
       "<IPython.core.display.HTML object>"
      ]
     },
     "metadata": {},
     "output_type": "display_data"
    },
    {
     "data": {
      "text/html": [
       "Tracking run with wandb version 0.16.5"
      ],
      "text/plain": [
       "<IPython.core.display.HTML object>"
      ]
     },
     "metadata": {},
     "output_type": "display_data"
    },
    {
     "data": {
      "text/html": [
       "Run data is saved locally in <code>c:\\Users\\jonta\\code\\school\\t8\\DeepLearning\\50.039-DL\\notebooks\\wandb\\run-20240401_050757-gb7i38l9</code>"
      ],
      "text/plain": [
       "<IPython.core.display.HTML object>"
      ]
     },
     "metadata": {},
     "output_type": "display_data"
    },
    {
     "data": {
      "text/html": [
       "Syncing run <strong><a href='https://wandb.ai/jooz-cave/unet-skin-lesion/runs/gb7i38l9/workspace' target=\"_blank\">sweet-paper-54</a></strong> to <a href='https://wandb.ai/jooz-cave/unet-skin-lesion' target=\"_blank\">Weights & Biases</a> (<a href='https://wandb.me/run' target=\"_blank\">docs</a>)<br/>"
      ],
      "text/plain": [
       "<IPython.core.display.HTML object>"
      ]
     },
     "metadata": {},
     "output_type": "display_data"
    },
    {
     "data": {
      "text/html": [
       " View project at <a href='https://wandb.ai/jooz-cave/unet-skin-lesion' target=\"_blank\">https://wandb.ai/jooz-cave/unet-skin-lesion</a>"
      ],
      "text/plain": [
       "<IPython.core.display.HTML object>"
      ]
     },
     "metadata": {},
     "output_type": "display_data"
    },
    {
     "data": {
      "text/html": [
       " View run at <a href='https://wandb.ai/jooz-cave/unet-skin-lesion/runs/gb7i38l9/workspace' target=\"_blank\">https://wandb.ai/jooz-cave/unet-skin-lesion/runs/gb7i38l9/workspace</a>"
      ],
      "text/plain": [
       "<IPython.core.display.HTML object>"
      ]
     },
     "metadata": {},
     "output_type": "display_data"
    }
   ],
   "source": [
    "# Hyperparameters etc.\n",
    "import wandb\n",
    "from src.segFormer import Segformer\n",
    "\n",
    "if torch.cuda.is_available():\n",
    "    device = torch.device(\"cuda\")\n",
    "elif torch.backends.mps.is_available():\n",
    "    device = torch.device(\"mps\")\n",
    "else:\n",
    "    device = torch.device(\"cpu\")\n",
    "\n",
    "LEARNING_RATE = 1e-5\n",
    "\n",
    "DEVICE = device\n",
    "BATCH_SIZE = 16\n",
    "\n",
    "NUM_EPOCHS = 50\n",
    "\n",
    "NUM_WORKERS = 0\n",
    "\n",
    "IMAGE_HEIGHT = 256\n",
    "IMAGE_WIDTH = 256\n",
    "\n",
    "PIN_MEMORY = True\n",
    "LOAD_MODEL = False\n",
    "CHECKPOINT_FILENAME = \"\"   # Model checkpoint filename if LOAD is True eg: checkpoints/checkpoint_9.pth.tar or None\n",
    "CLASS = \"task1\"\n",
    "model = Segformer().to(DEVICE)\n",
    "MODEL = model.__class__.__name__\n",
    "\n",
    "# Initialize a new run\n",
    "run = wandb.init(project=\"unet-skin-lesion\", config={\n",
    "    \"learning_rate\": LEARNING_RATE,\n",
    "    \"device\": DEVICE,\n",
    "    \"batch_size\": BATCH_SIZE,\n",
    "    \"num_epochs\": NUM_EPOCHS,\n",
    "    \"num_workers\": NUM_WORKERS,\n",
    "    \"image_height\": IMAGE_HEIGHT,\n",
    "    \"image_width\": IMAGE_WIDTH,\n",
    "    \"pin_memory\": PIN_MEMORY,\n",
    "    \"load_model\": LOAD_MODEL,\n",
    "    \"checkpoint_filename\": CHECKPOINT_FILENAME,\n",
    "    \"class\": CLASS,\n",
    "})"
   ]
  },
  {
   "cell_type": "code",
   "execution_count": 63,
   "metadata": {},
   "outputs": [],
   "source": [
    "from tqdm import tqdm\n",
    "def train_fn(loader, model, optimizer, loss_fn, scaler):\n",
    "    loop = tqdm(loader)\n",
    "\n",
    "    for batch_idx, (data, targets) in enumerate(loop):\n",
    "        data = data.to(device=DEVICE)\n",
    "        targets = targets.float().unsqueeze(1).to(device=DEVICE)\n",
    "\n",
    "        # forward\n",
    "        with torch.cuda.amp.autocast():\n",
    "            predictions = model(data)\n",
    "            loss = loss_fn(predictions, targets)\n",
    "            wandb.log({\"Training Loss\": loss})\n",
    "\n",
    "        # backward\n",
    "        optimizer.zero_grad()\n",
    "        scaler.scale(loss).backward()\n",
    "        scaler.step(optimizer)\n",
    "        scaler.update()\n",
    "\n",
    "        # update tqdm loop\n",
    "        loop.set_postfix(loss=loss.item())"
   ]
  },
  {
   "cell_type": "code",
   "execution_count": 64,
   "metadata": {},
   "outputs": [],
   "source": [
    "import albumentations as A\n",
    "from albumentations.pytorch import ToTensorV2\n",
    "from torch import nn\n",
    "\n",
    "\n",
    "train_transform = A.Compose(\n",
    "    [\n",
    "        A.Resize(height=IMAGE_HEIGHT, width=IMAGE_WIDTH),\n",
    "        A.Rotate(limit=35, p=1.0),\n",
    "        A.HorizontalFlip(p=0.5),\n",
    "        A.VerticalFlip(p=0.1),\n",
    "        A.Normalize(\n",
    "            mean=[0.0, 0.0, 0.0],\n",
    "            std=[1.0, 1.0, 1.0],\n",
    "            max_pixel_value=255.0,\n",
    "        ),\n",
    "        ToTensorV2(),\n",
    "    ],\n",
    ")\n",
    "\n",
    "val_transforms = A.Compose(\n",
    "    [\n",
    "        A.Resize(height=IMAGE_HEIGHT, width=IMAGE_WIDTH),\n",
    "        A.Normalize(\n",
    "            mean=[0.0, 0.0, 0.0],\n",
    "            std=[1.0, 1.0, 1.0],\n",
    "            max_pixel_value=255.0,\n",
    "        ),\n",
    "        ToTensorV2(),\n",
    "    ],\n",
    ")\n",
    "\n",
    "loss_fn = nn.BCEWithLogitsLoss()\n",
    "optimizer = torch.optim.Adam(model.parameters(), lr=LEARNING_RATE)\n",
    "\n",
    "\n",
    "train_loader, val_loader, test_loader = get_loaders(\n",
    "    BATCH_SIZE,\n",
    "    train_transform,\n",
    "    val_transforms,\n",
    "    NUM_WORKERS,\n",
    "    PIN_MEMORY,\n",
    ")"
   ]
  },
  {
   "cell_type": "code",
   "execution_count": 65,
   "metadata": {},
   "outputs": [
    {
     "name": "stdout",
     "output_type": "stream",
     "text": [
      "dice_score: 0.0\n",
      "Got 4795034/6553600 with acc 73.17\n",
      "Dice score: 0.0\n",
      "IoU score: 3.4130859375\n",
      "epoch: 0\n"
     ]
    },
    {
     "name": "stderr",
     "output_type": "stream",
     "text": [
      "100%|██████████| 163/163 [06:28<00:00,  2.38s/it, loss=0.786]\n"
     ]
    },
    {
     "name": "stdout",
     "output_type": "stream",
     "text": [
      "=> Saving checkpoint\n",
      "dice_score: 3.109121322631836\n",
      "Got 5192275/6553600 with acc 79.23\n",
      "Dice score: 0.44416022300720215\n",
      "IoU score: 4.271749496459961\n",
      "epoch: 1\n"
     ]
    },
    {
     "name": "stderr",
     "output_type": "stream",
     "text": [
      "100%|██████████| 163/163 [06:23<00:00,  2.35s/it, loss=0.265]\n"
     ]
    },
    {
     "name": "stdout",
     "output_type": "stream",
     "text": [
      "=> Saving checkpoint\n",
      "dice_score: 5.33040714263916\n",
      "Got 5797344/6553600 with acc 88.46\n",
      "Dice score: 0.7614867687225342\n",
      "IoU score: 5.313266754150391\n",
      "epoch: 2\n"
     ]
    },
    {
     "name": "stderr",
     "output_type": "stream",
     "text": [
      "100%|██████████| 163/163 [06:23<00:00,  2.35s/it, loss=0.168]\n"
     ]
    },
    {
     "name": "stdout",
     "output_type": "stream",
     "text": [
      "=> Saving checkpoint\n",
      "dice_score: 5.511309623718262\n",
      "Got 5882654/6553600 with acc 89.76\n",
      "Dice score: 0.7873299717903137\n",
      "IoU score: 5.4812235832214355\n",
      "epoch: 3\n"
     ]
    },
    {
     "name": "stderr",
     "output_type": "stream",
     "text": [
      "100%|██████████| 163/163 [06:22<00:00,  2.34s/it, loss=0.0857]\n"
     ]
    },
    {
     "name": "stdout",
     "output_type": "stream",
     "text": [
      "=> Saving checkpoint\n",
      "dice_score: 5.457647323608398\n",
      "Got 5862308/6553600 with acc 89.45\n",
      "Dice score: 0.7796639204025269\n",
      "IoU score: 5.5035905838012695\n",
      "epoch: 4\n"
     ]
    },
    {
     "name": "stderr",
     "output_type": "stream",
     "text": [
      "100%|██████████| 163/163 [06:23<00:00,  2.35s/it, loss=0.546]\n"
     ]
    },
    {
     "name": "stdout",
     "output_type": "stream",
     "text": [
      "=> Saving checkpoint\n",
      "dice_score: 5.511899948120117\n",
      "Got 5785780/6553600 with acc 88.28\n",
      "Dice score: 0.7874143123626709\n",
      "IoU score: 5.347002983093262\n",
      "epoch: 5\n"
     ]
    },
    {
     "name": "stderr",
     "output_type": "stream",
     "text": [
      "100%|██████████| 163/163 [06:22<00:00,  2.35s/it, loss=0.394]\n"
     ]
    },
    {
     "name": "stdout",
     "output_type": "stream",
     "text": [
      "=> Saving checkpoint\n",
      "dice_score: 5.658088207244873\n",
      "Got 5886287/6553600 with acc 89.82\n",
      "Dice score: 0.8082983493804932\n",
      "IoU score: 5.535174369812012\n",
      "epoch: 6\n"
     ]
    },
    {
     "name": "stderr",
     "output_type": "stream",
     "text": [
      "100%|██████████| 163/163 [06:21<00:00,  2.34s/it, loss=0.207]\n"
     ]
    },
    {
     "name": "stdout",
     "output_type": "stream",
     "text": [
      "=> Saving checkpoint\n",
      "dice_score: 5.547292232513428\n",
      "Got 5874901/6553600 with acc 89.64\n",
      "Dice score: 0.7924703359603882\n",
      "IoU score: 5.552515983581543\n",
      "epoch: 7\n"
     ]
    },
    {
     "name": "stderr",
     "output_type": "stream",
     "text": [
      "100%|██████████| 163/163 [06:21<00:00,  2.34s/it, loss=0.0807]\n"
     ]
    },
    {
     "name": "stdout",
     "output_type": "stream",
     "text": [
      "=> Saving checkpoint\n",
      "dice_score: 5.773838520050049\n",
      "Got 5909187/6553600 with acc 90.17\n",
      "Dice score: 0.8248341083526611\n",
      "IoU score: 5.545927047729492\n",
      "epoch: 8\n"
     ]
    },
    {
     "name": "stderr",
     "output_type": "stream",
     "text": [
      "100%|██████████| 163/163 [06:22<00:00,  2.34s/it, loss=0.304] \n"
     ]
    },
    {
     "name": "stdout",
     "output_type": "stream",
     "text": [
      "=> Saving checkpoint\n",
      "dice_score: 5.80458927154541\n",
      "Got 5982931/6553600 with acc 91.29\n",
      "Dice score: 0.829227089881897\n",
      "IoU score: 5.714483261108398\n",
      "epoch: 9\n"
     ]
    },
    {
     "name": "stderr",
     "output_type": "stream",
     "text": [
      "100%|██████████| 163/163 [06:24<00:00,  2.36s/it, loss=0.217] \n"
     ]
    },
    {
     "name": "stdout",
     "output_type": "stream",
     "text": [
      "=> Saving checkpoint\n",
      "dice_score: 5.730867862701416\n",
      "Got 5920989/6553600 with acc 90.35\n",
      "Dice score: 0.8186954259872437\n",
      "IoU score: 5.5958452224731445\n",
      "epoch: 10\n"
     ]
    },
    {
     "name": "stderr",
     "output_type": "stream",
     "text": [
      "100%|██████████| 163/163 [06:22<00:00,  2.35s/it, loss=0.117] \n"
     ]
    },
    {
     "name": "stdout",
     "output_type": "stream",
     "text": [
      "=> Saving checkpoint\n",
      "dice_score: 5.748087406158447\n",
      "Got 5921802/6553600 with acc 90.36\n",
      "Dice score: 0.8211553692817688\n",
      "IoU score: 5.641565322875977\n",
      "epoch: 11\n"
     ]
    },
    {
     "name": "stderr",
     "output_type": "stream",
     "text": [
      "100%|██████████| 163/163 [06:22<00:00,  2.35s/it, loss=0.0643]\n"
     ]
    },
    {
     "name": "stdout",
     "output_type": "stream",
     "text": [
      "=> Saving checkpoint\n",
      "dice_score: 5.621747970581055\n",
      "Got 5900642/6553600 with acc 90.04\n",
      "Dice score: 0.8031069040298462\n",
      "IoU score: 5.6617512702941895\n",
      "epoch: 12\n"
     ]
    },
    {
     "name": "stderr",
     "output_type": "stream",
     "text": [
      "100%|██████████| 163/163 [06:22<00:00,  2.35s/it, loss=0.0731]\n"
     ]
    },
    {
     "name": "stdout",
     "output_type": "stream",
     "text": [
      "=> Saving checkpoint\n",
      "dice_score: 5.750415802001953\n",
      "Got 5917897/6553600 with acc 90.30\n",
      "Dice score: 0.8214880228042603\n",
      "IoU score: 5.601473331451416\n",
      "epoch: 13\n"
     ]
    },
    {
     "name": "stderr",
     "output_type": "stream",
     "text": [
      "100%|██████████| 163/163 [06:22<00:00,  2.35s/it, loss=0.188] \n"
     ]
    },
    {
     "name": "stdout",
     "output_type": "stream",
     "text": [
      "=> Saving checkpoint\n",
      "dice_score: 5.875399589538574\n",
      "Got 6004042/6553600 with acc 91.61\n",
      "Dice score: 0.8393428325653076\n",
      "IoU score: 5.822206497192383\n",
      "epoch: 14\n"
     ]
    },
    {
     "name": "stderr",
     "output_type": "stream",
     "text": [
      "100%|██████████| 163/163 [06:23<00:00,  2.35s/it, loss=0.0906]\n"
     ]
    },
    {
     "name": "stdout",
     "output_type": "stream",
     "text": [
      "=> Saving checkpoint\n",
      "dice_score: 5.78767204284668\n",
      "Got 5971031/6553600 with acc 91.11\n",
      "Dice score: 0.8268103003501892\n",
      "IoU score: 5.776208400726318\n",
      "epoch: 15\n"
     ]
    },
    {
     "name": "stderr",
     "output_type": "stream",
     "text": [
      "100%|██████████| 163/163 [06:22<00:00,  2.34s/it, loss=0.0311]\n"
     ]
    },
    {
     "name": "stdout",
     "output_type": "stream",
     "text": [
      "=> Saving checkpoint\n",
      "dice_score: 5.653720855712891\n",
      "Got 5925062/6553600 with acc 90.41\n",
      "Dice score: 0.8076744675636292\n",
      "IoU score: 5.756004810333252\n",
      "epoch: 16\n"
     ]
    },
    {
     "name": "stderr",
     "output_type": "stream",
     "text": [
      "100%|██████████| 163/163 [06:21<00:00,  2.34s/it, loss=0.179] \n"
     ]
    },
    {
     "name": "stdout",
     "output_type": "stream",
     "text": [
      "=> Saving checkpoint\n",
      "dice_score: 5.88918924331665\n",
      "Got 5994602/6553600 with acc 91.47\n",
      "Dice score: 0.8413127660751343\n",
      "IoU score: 5.792643070220947\n",
      "epoch: 17\n"
     ]
    },
    {
     "name": "stderr",
     "output_type": "stream",
     "text": [
      "100%|██████████| 163/163 [06:22<00:00,  2.34s/it, loss=0.132] \n"
     ]
    },
    {
     "name": "stdout",
     "output_type": "stream",
     "text": [
      "=> Saving checkpoint\n",
      "dice_score: 5.938387870788574\n",
      "Got 6032173/6553600 with acc 92.04\n",
      "Dice score: 0.848341166973114\n",
      "IoU score: 5.813144207000732\n",
      "epoch: 18\n"
     ]
    },
    {
     "name": "stderr",
     "output_type": "stream",
     "text": [
      "100%|██████████| 163/163 [06:21<00:00,  2.34s/it, loss=0.0481]\n"
     ]
    },
    {
     "name": "stdout",
     "output_type": "stream",
     "text": [
      "=> Saving checkpoint\n",
      "dice_score: 5.897680282592773\n",
      "Got 5980998/6553600 with acc 91.26\n",
      "Dice score: 0.8425257802009583\n",
      "IoU score: 5.749011993408203\n",
      "epoch: 19\n"
     ]
    },
    {
     "name": "stderr",
     "output_type": "stream",
     "text": [
      "100%|██████████| 163/163 [06:22<00:00,  2.35s/it, loss=0.0571]\n"
     ]
    },
    {
     "name": "stdout",
     "output_type": "stream",
     "text": [
      "=> Saving checkpoint\n",
      "dice_score: 5.883838653564453\n",
      "Got 5984433/6553600 with acc 91.32\n",
      "Dice score: 0.8405483961105347\n",
      "IoU score: 5.758598327636719\n",
      "epoch: 20\n"
     ]
    },
    {
     "name": "stderr",
     "output_type": "stream",
     "text": [
      "100%|██████████| 163/163 [06:22<00:00,  2.35s/it, loss=0.25]  \n"
     ]
    },
    {
     "name": "stdout",
     "output_type": "stream",
     "text": [
      "=> Saving checkpoint\n",
      "dice_score: 5.842067718505859\n",
      "Got 5975093/6553600 with acc 91.17\n",
      "Dice score: 0.8345811367034912\n",
      "IoU score: 5.767204761505127\n",
      "epoch: 21\n"
     ]
    },
    {
     "name": "stderr",
     "output_type": "stream",
     "text": [
      "100%|██████████| 163/163 [06:23<00:00,  2.35s/it, loss=0.0999]\n"
     ]
    },
    {
     "name": "stdout",
     "output_type": "stream",
     "text": [
      "=> Saving checkpoint\n",
      "dice_score: 5.8266401290893555\n",
      "Got 5990488/6553600 with acc 91.41\n",
      "Dice score: 0.8323771953582764\n",
      "IoU score: 5.802941799163818\n",
      "epoch: 22\n"
     ]
    },
    {
     "name": "stderr",
     "output_type": "stream",
     "text": [
      "100%|██████████| 163/163 [06:22<00:00,  2.35s/it, loss=0.0903]\n"
     ]
    },
    {
     "name": "stdout",
     "output_type": "stream",
     "text": [
      "=> Saving checkpoint\n",
      "dice_score: 5.966384410858154\n",
      "Got 6031293/6553600 with acc 92.03\n",
      "Dice score: 0.8523406386375427\n",
      "IoU score: 5.802909851074219\n",
      "epoch: 23\n"
     ]
    },
    {
     "name": "stderr",
     "output_type": "stream",
     "text": [
      "100%|██████████| 163/163 [06:25<00:00,  2.36s/it, loss=0.0965]\n"
     ]
    },
    {
     "name": "stdout",
     "output_type": "stream",
     "text": [
      "=> Saving checkpoint\n",
      "dice_score: 5.935258388519287\n",
      "Got 6006900/6553600 with acc 91.66\n",
      "Dice score: 0.8478940725326538\n",
      "IoU score: 5.83995246887207\n",
      "epoch: 24\n"
     ]
    },
    {
     "name": "stderr",
     "output_type": "stream",
     "text": [
      "100%|██████████| 163/163 [06:22<00:00,  2.35s/it, loss=0.13]  \n"
     ]
    },
    {
     "name": "stdout",
     "output_type": "stream",
     "text": [
      "=> Saving checkpoint\n",
      "dice_score: 5.988885402679443\n",
      "Got 6034766/6553600 with acc 92.08\n",
      "Dice score: 0.8555551171302795\n",
      "IoU score: 5.8507513999938965\n",
      "epoch: 25\n"
     ]
    },
    {
     "name": "stderr",
     "output_type": "stream",
     "text": [
      "100%|██████████| 163/163 [06:23<00:00,  2.35s/it, loss=0.0338]\n"
     ]
    },
    {
     "name": "stdout",
     "output_type": "stream",
     "text": [
      "=> Saving checkpoint\n",
      "dice_score: 6.028580188751221\n",
      "Got 6041191/6553600 with acc 92.18\n",
      "Dice score: 0.8612257838249207\n",
      "IoU score: 5.870555400848389\n",
      "epoch: 26\n"
     ]
    },
    {
     "name": "stderr",
     "output_type": "stream",
     "text": [
      "100%|██████████| 163/163 [06:22<00:00,  2.35s/it, loss=0.303] \n"
     ]
    },
    {
     "name": "stdout",
     "output_type": "stream",
     "text": [
      "=> Saving checkpoint\n",
      "dice_score: 5.9695844650268555\n",
      "Got 6036491/6553600 with acc 92.11\n",
      "Dice score: 0.85279780626297\n",
      "IoU score: 5.857257843017578\n",
      "epoch: 27\n"
     ]
    },
    {
     "name": "stderr",
     "output_type": "stream",
     "text": [
      "100%|██████████| 163/163 [06:22<00:00,  2.35s/it, loss=0.155] \n"
     ]
    },
    {
     "name": "stdout",
     "output_type": "stream",
     "text": [
      "=> Saving checkpoint\n",
      "dice_score: 5.985229969024658\n",
      "Got 6010230/6553600 with acc 91.71\n",
      "Dice score: 0.8550328612327576\n",
      "IoU score: 5.736804008483887\n",
      "epoch: 28\n"
     ]
    },
    {
     "name": "stderr",
     "output_type": "stream",
     "text": [
      "100%|██████████| 163/163 [06:23<00:00,  2.35s/it, loss=0.606] \n"
     ]
    },
    {
     "name": "stdout",
     "output_type": "stream",
     "text": [
      "=> Saving checkpoint\n",
      "dice_score: 5.893131256103516\n",
      "Got 5969546/6553600 with acc 91.09\n",
      "Dice score: 0.8418759107589722\n",
      "IoU score: 5.725340843200684\n",
      "epoch: 29\n"
     ]
    },
    {
     "name": "stderr",
     "output_type": "stream",
     "text": [
      "100%|██████████| 163/163 [06:22<00:00,  2.34s/it, loss=0.0883]\n"
     ]
    },
    {
     "name": "stdout",
     "output_type": "stream",
     "text": [
      "=> Saving checkpoint\n",
      "dice_score: 6.027997970581055\n",
      "Got 6040950/6553600 with acc 92.18\n",
      "Dice score: 0.861142635345459\n",
      "IoU score: 5.830742835998535\n",
      "epoch: 30\n"
     ]
    },
    {
     "name": "stderr",
     "output_type": "stream",
     "text": [
      "100%|██████████| 163/163 [06:21<00:00,  2.34s/it, loss=0.272] \n"
     ]
    },
    {
     "name": "stdout",
     "output_type": "stream",
     "text": [
      "=> Saving checkpoint\n",
      "dice_score: 5.855406761169434\n",
      "Got 5967640/6553600 with acc 91.06\n",
      "Dice score: 0.8364866971969604\n",
      "IoU score: 5.749267101287842\n",
      "epoch: 31\n"
     ]
    },
    {
     "name": "stderr",
     "output_type": "stream",
     "text": [
      "100%|██████████| 163/163 [06:22<00:00,  2.34s/it, loss=0.077] \n"
     ]
    },
    {
     "name": "stdout",
     "output_type": "stream",
     "text": [
      "=> Saving checkpoint\n",
      "dice_score: 5.970451354980469\n",
      "Got 6019200/6553600 with acc 91.85\n",
      "Dice score: 0.8529216647148132\n",
      "IoU score: 5.724414825439453\n",
      "epoch: 32\n"
     ]
    },
    {
     "name": "stderr",
     "output_type": "stream",
     "text": [
      "100%|██████████| 163/163 [06:22<00:00,  2.35s/it, loss=0.098] \n"
     ]
    },
    {
     "name": "stdout",
     "output_type": "stream",
     "text": [
      "=> Saving checkpoint\n",
      "dice_score: 5.921677589416504\n",
      "Got 5961984/6553600 with acc 90.97\n",
      "Dice score: 0.8459540009498596\n",
      "IoU score: 5.64345645904541\n",
      "epoch: 33\n"
     ]
    },
    {
     "name": "stderr",
     "output_type": "stream",
     "text": [
      "100%|██████████| 163/163 [06:23<00:00,  2.35s/it, loss=0.0153]\n"
     ]
    },
    {
     "name": "stdout",
     "output_type": "stream",
     "text": [
      "=> Saving checkpoint\n",
      "dice_score: 6.011377334594727\n",
      "Got 6062889/6553600 with acc 92.51\n",
      "Dice score: 0.8587682247161865\n",
      "IoU score: 5.872293472290039\n",
      "epoch: 34\n"
     ]
    },
    {
     "name": "stderr",
     "output_type": "stream",
     "text": [
      "100%|██████████| 163/163 [06:22<00:00,  2.35s/it, loss=0.0683]\n"
     ]
    },
    {
     "name": "stdout",
     "output_type": "stream",
     "text": [
      "=> Saving checkpoint\n",
      "dice_score: 5.9944047927856445\n",
      "Got 6026551/6553600 with acc 91.96\n",
      "Dice score: 0.8563435673713684\n",
      "IoU score: 5.798183441162109\n",
      "epoch: 35\n"
     ]
    },
    {
     "name": "stderr",
     "output_type": "stream",
     "text": [
      "100%|██████████| 163/163 [06:31<00:00,  2.40s/it, loss=0.0739]\n"
     ]
    },
    {
     "name": "stdout",
     "output_type": "stream",
     "text": [
      "=> Saving checkpoint\n",
      "dice_score: 5.987624168395996\n",
      "Got 6027819/6553600 with acc 91.98\n",
      "Dice score: 0.8553749322891235\n",
      "IoU score: 5.694398880004883\n",
      "epoch: 36\n"
     ]
    },
    {
     "name": "stderr",
     "output_type": "stream",
     "text": [
      "100%|██████████| 163/163 [06:27<00:00,  2.37s/it, loss=0.0509]\n"
     ]
    },
    {
     "name": "stdout",
     "output_type": "stream",
     "text": [
      "=> Saving checkpoint\n",
      "dice_score: 5.948945999145508\n",
      "Got 5988886/6553600 with acc 91.38\n",
      "Dice score: 0.8498494625091553\n",
      "IoU score: 5.668877124786377\n",
      "epoch: 37\n"
     ]
    },
    {
     "name": "stderr",
     "output_type": "stream",
     "text": [
      "100%|██████████| 163/163 [06:27<00:00,  2.38s/it, loss=0.108] \n"
     ]
    },
    {
     "name": "stdout",
     "output_type": "stream",
     "text": [
      "=> Saving checkpoint\n",
      "dice_score: 6.085900783538818\n",
      "Got 6083733/6553600 with acc 92.83\n",
      "Dice score: 0.8694144487380981\n",
      "IoU score: 5.867858409881592\n",
      "epoch: 38\n"
     ]
    },
    {
     "name": "stderr",
     "output_type": "stream",
     "text": [
      "100%|██████████| 163/163 [06:27<00:00,  2.38s/it, loss=0.496] \n"
     ]
    },
    {
     "name": "stdout",
     "output_type": "stream",
     "text": [
      "=> Saving checkpoint\n",
      "dice_score: 6.0232038497924805\n",
      "Got 6037936/6553600 with acc 92.13\n",
      "Dice score: 0.860457718372345\n",
      "IoU score: 5.878174781799316\n",
      "epoch: 39\n"
     ]
    },
    {
     "name": "stderr",
     "output_type": "stream",
     "text": [
      "100%|██████████| 163/163 [06:27<00:00,  2.38s/it, loss=0.0625]\n"
     ]
    },
    {
     "name": "stdout",
     "output_type": "stream",
     "text": [
      "=> Saving checkpoint\n",
      "dice_score: 6.026309490203857\n",
      "Got 6049311/6553600 with acc 92.31\n",
      "Dice score: 0.860901415348053\n",
      "IoU score: 5.785848140716553\n",
      "epoch: 40\n"
     ]
    },
    {
     "name": "stderr",
     "output_type": "stream",
     "text": [
      "100%|██████████| 163/163 [06:26<00:00,  2.37s/it, loss=0.296] \n"
     ]
    },
    {
     "name": "stdout",
     "output_type": "stream",
     "text": [
      "=> Saving checkpoint\n",
      "dice_score: 6.056917190551758\n",
      "Got 6053738/6553600 with acc 92.37\n",
      "Dice score: 0.8652739524841309\n",
      "IoU score: 5.810250282287598\n",
      "epoch: 41\n"
     ]
    },
    {
     "name": "stderr",
     "output_type": "stream",
     "text": [
      "100%|██████████| 163/163 [06:28<00:00,  2.39s/it, loss=0.0788]\n"
     ]
    },
    {
     "name": "stdout",
     "output_type": "stream",
     "text": [
      "=> Saving checkpoint\n",
      "dice_score: 6.048464298248291\n",
      "Got 6082148/6553600 with acc 92.81\n",
      "Dice score: 0.8640663623809814\n",
      "IoU score: 5.964169025421143\n",
      "epoch: 42\n"
     ]
    },
    {
     "name": "stderr",
     "output_type": "stream",
     "text": [
      "100%|██████████| 163/163 [06:30<00:00,  2.39s/it, loss=0.0897]\n"
     ]
    },
    {
     "name": "stdout",
     "output_type": "stream",
     "text": [
      "=> Saving checkpoint\n",
      "dice_score: 6.028560638427734\n",
      "Got 6061701/6553600 with acc 92.49\n",
      "Dice score: 0.8612229824066162\n",
      "IoU score: 5.887075424194336\n",
      "epoch: 43\n"
     ]
    },
    {
     "name": "stderr",
     "output_type": "stream",
     "text": [
      "100%|██████████| 163/163 [06:31<00:00,  2.40s/it, loss=0.148] \n"
     ]
    },
    {
     "name": "stdout",
     "output_type": "stream",
     "text": [
      "=> Saving checkpoint\n",
      "dice_score: 6.045497894287109\n",
      "Got 6066012/6553600 with acc 92.56\n",
      "Dice score: 0.8636425733566284\n",
      "IoU score: 5.863061428070068\n",
      "epoch: 44\n"
     ]
    },
    {
     "name": "stderr",
     "output_type": "stream",
     "text": [
      "100%|██████████| 163/163 [06:30<00:00,  2.39s/it, loss=0.117] \n"
     ]
    },
    {
     "name": "stdout",
     "output_type": "stream",
     "text": [
      "=> Saving checkpoint\n",
      "dice_score: 6.044327259063721\n",
      "Got 6069258/6553600 with acc 92.61\n",
      "Dice score: 0.8634753823280334\n",
      "IoU score: 5.910079002380371\n",
      "epoch: 45\n"
     ]
    },
    {
     "name": "stderr",
     "output_type": "stream",
     "text": [
      "100%|██████████| 163/163 [06:27<00:00,  2.38s/it, loss=0.0547]\n"
     ]
    },
    {
     "name": "stdout",
     "output_type": "stream",
     "text": [
      "=> Saving checkpoint\n",
      "dice_score: 6.123233318328857\n",
      "Got 6108940/6553600 with acc 93.22\n",
      "Dice score: 0.874747633934021\n",
      "IoU score: 5.864058017730713\n",
      "epoch: 46\n"
     ]
    },
    {
     "name": "stderr",
     "output_type": "stream",
     "text": [
      "100%|██████████| 163/163 [06:30<00:00,  2.39s/it, loss=0.0382]\n"
     ]
    },
    {
     "name": "stdout",
     "output_type": "stream",
     "text": [
      "=> Saving checkpoint\n",
      "dice_score: 6.075659275054932\n",
      "Got 6091806/6553600 with acc 92.95\n",
      "Dice score: 0.8679513931274414\n",
      "IoU score: 5.92200231552124\n",
      "epoch: 47\n"
     ]
    },
    {
     "name": "stderr",
     "output_type": "stream",
     "text": [
      "100%|██████████| 163/163 [06:30<00:00,  2.40s/it, loss=0.017] \n"
     ]
    },
    {
     "name": "stdout",
     "output_type": "stream",
     "text": [
      "=> Saving checkpoint\n",
      "dice_score: 6.116086006164551\n",
      "Got 6094130/6553600 with acc 92.99\n",
      "Dice score: 0.8737266063690186\n",
      "IoU score: 5.924324035644531\n",
      "epoch: 48\n"
     ]
    },
    {
     "name": "stderr",
     "output_type": "stream",
     "text": [
      "100%|██████████| 163/163 [06:30<00:00,  2.40s/it, loss=0.0167]\n"
     ]
    },
    {
     "name": "stdout",
     "output_type": "stream",
     "text": [
      "=> Saving checkpoint\n",
      "dice_score: 6.0824737548828125\n",
      "Got 6073719/6553600 with acc 92.68\n",
      "Dice score: 0.8689248561859131\n",
      "IoU score: 5.930449485778809\n",
      "epoch: 49\n"
     ]
    },
    {
     "name": "stderr",
     "output_type": "stream",
     "text": [
      "100%|██████████| 163/163 [06:28<00:00,  2.38s/it, loss=0.151] \n"
     ]
    },
    {
     "name": "stdout",
     "output_type": "stream",
     "text": [
      "=> Saving checkpoint\n",
      "dice_score: 5.861730098724365\n",
      "Got 5998501/6553600 with acc 91.53\n",
      "Dice score: 0.8373900651931763\n",
      "IoU score: 5.8015618324279785\n"
     ]
    }
   ],
   "source": [
    "start_epoch = 0\n",
    "if LOAD_MODEL:\n",
    "    checkpoint = torch.load(CHECKPOINT_FILENAME)\n",
    "    model, optimizer, start_epoch = load_checkpoint(checkpoint, model, optimizer)\n",
    "\n",
    "\n",
    "\n",
    "check_accuracy(val_loader, model, device=DEVICE)\n",
    "scaler = torch.cuda.amp.GradScaler()\n",
    "\n",
    "for epoch in range(start_epoch, NUM_EPOCHS):\n",
    "    print(f\"epoch: {epoch}\")\n",
    "    train_fn(train_loader, model, optimizer, loss_fn, scaler)\n",
    "\n",
    "    # save model\n",
    "    checkpoint = {\n",
    "        \"state_dict\": model.state_dict(),\n",
    "        \"optimizer\":optimizer.state_dict(),\n",
    "        \"epoch\": epoch,\n",
    "    }\n",
    "    save_checkpoint(checkpoint, filename=f\"checkpoint_{epoch}.pth.tar\")\n",
    "\n",
    "    # check accuracy\n",
    "    check_accuracy(val_loader, model, device=DEVICE)\n",
    "\n",
    "    # print some examples to a folder\n",
    "    save_predictions_as_imgs(\n",
    "        val_loader, model, folder=f\"saved_images/{epoch}\", device=DEVICE\n",
    "    )"
   ]
  },
  {
   "cell_type": "code",
   "execution_count": 66,
   "metadata": {},
   "outputs": [
    {
     "data": {
      "text/html": [
       "<style>\n",
       "    table.wandb td:nth-child(1) { padding: 0 10px; text-align: left ; width: auto;} td:nth-child(2) {text-align: left ; width: 100%}\n",
       "    .wandb-row { display: flex; flex-direction: row; flex-wrap: wrap; justify-content: flex-start; width: 100% }\n",
       "    .wandb-col { display: flex; flex-direction: column; flex-basis: 100%; flex: 1; padding: 10px; }\n",
       "    </style>\n",
       "<div class=\"wandb-row\"><div class=\"wandb-col\"><h3>Run history:</h3><br/><table class=\"wandb\"><tr><td>Dice Score</td><td>▁▅▇▇▇▇▇███▇██▇██████████████████████████</td></tr><tr><td>IoU Score</td><td>▁▃▆▇▆▇▇▇▇▇▇█▇▇█▇▇▇████▇▇█▇▇██▇██████████</td></tr><tr><td>Pixel Accuracy</td><td>▁▃▆▇▆▇▇▇▇▇▇▇▇▇▇▇▇▇█▇██▇▇██▇██▇█████████▇</td></tr><tr><td>Training Loss</td><td>█▅▂▄▂▃▃▂▅▃▂▃▂▂▂▂▂▂▂▂▂▂▂▁▅▂▂▂▂▁▂▃▂▂▄▂▂▂▃▂</td></tr></table><br/></div><div class=\"wandb-col\"><h3>Run summary:</h3><br/><table class=\"wandb\"><tr><td>Dice Score</td><td>0.83739</td></tr><tr><td>IoU Score</td><td>5.80156</td></tr><tr><td>Pixel Accuracy</td><td>91.52986</td></tr><tr><td>Training Loss</td><td>0.15081</td></tr></table><br/></div></div>"
      ],
      "text/plain": [
       "<IPython.core.display.HTML object>"
      ]
     },
     "metadata": {},
     "output_type": "display_data"
    },
    {
     "data": {
      "text/html": [
       " View run <strong style=\"color:#cdcd00\">sweet-paper-54</strong> at: <a href='https://wandb.ai/jooz-cave/unet-skin-lesion/runs/gb7i38l9/workspace' target=\"_blank\">https://wandb.ai/jooz-cave/unet-skin-lesion/runs/gb7i38l9/workspace</a><br/>Synced 5 W&B file(s), 0 media file(s), 0 artifact file(s) and 0 other file(s)"
      ],
      "text/plain": [
       "<IPython.core.display.HTML object>"
      ]
     },
     "metadata": {},
     "output_type": "display_data"
    },
    {
     "data": {
      "text/html": [
       "Find logs at: <code>.\\wandb\\run-20240401_050757-gb7i38l9\\logs</code>"
      ],
      "text/plain": [
       "<IPython.core.display.HTML object>"
      ]
     },
     "metadata": {},
     "output_type": "display_data"
    }
   ],
   "source": [
    "run.finish()"
   ]
  },
  {
   "cell_type": "code",
   "execution_count": null,
   "metadata": {},
   "outputs": [],
   "source": []
  }
 ],
 "metadata": {
  "kernelspec": {
   "display_name": "venv",
   "language": "python",
   "name": "python3"
  },
  "language_info": {
   "codemirror_mode": {
    "name": "ipython",
    "version": 3
   },
   "file_extension": ".py",
   "mimetype": "text/x-python",
   "name": "python",
   "nbconvert_exporter": "python",
   "pygments_lexer": "ipython3",
   "version": "3.10.13"
  }
 },
 "nbformat": 4,
 "nbformat_minor": 2
}
