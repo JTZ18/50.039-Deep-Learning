{
 "cells": [
  {
   "cell_type": "code",
   "execution_count": null,
   "metadata": {},
   "outputs": [
    {
     "name": "stdout",
     "output_type": "stream",
     "text": [
      "Collecting huggingface_hub\n",
      "  Using cached huggingface_hub-0.20.3-py3-none-any.whl.metadata (12 kB)\n",
      "Collecting datasets\n",
      "  Using cached datasets-2.17.1-py3-none-any.whl.metadata (20 kB)\n",
      "Collecting matplotlib\n",
      "  Using cached matplotlib-3.8.3-cp311-cp311-manylinux_2_17_x86_64.manylinux2014_x86_64.whl.metadata (5.8 kB)\n",
      "Requirement already satisfied: numpy in /opt/conda/lib/python3.11/site-packages (1.26.0)\n",
      "Requirement already satisfied: pillow in /opt/conda/lib/python3.11/site-packages (9.3.0)\n",
      "Collecting wandb\n",
      "  Using cached wandb-0.16.3-py3-none-any.whl.metadata (9.9 kB)\n",
      "Collecting albumentations\n",
      "  Using cached albumentations-1.4.0-py3-none-any.whl.metadata (35 kB)\n",
      "Requirement already satisfied: filelock in /opt/conda/lib/python3.11/site-packages (from huggingface_hub) (3.9.0)\n",
      "Collecting fsspec>=2023.5.0 (from huggingface_hub)\n",
      "  Using cached fsspec-2024.2.0-py3-none-any.whl.metadata (6.8 kB)\n",
      "Requirement already satisfied: requests in /opt/conda/lib/python3.11/site-packages (from huggingface_hub) (2.31.0)\n",
      "Requirement already satisfied: tqdm>=4.42.1 in /opt/conda/lib/python3.11/site-packages (from huggingface_hub) (4.66.1)\n",
      "Requirement already satisfied: pyyaml>=5.1 in /opt/conda/lib/python3.11/site-packages (from huggingface_hub) (6.0.1)\n",
      "Requirement already satisfied: typing-extensions>=3.7.4.3 in /opt/conda/lib/python3.11/site-packages (from huggingface_hub) (4.8.0)\n",
      "Requirement already satisfied: packaging>=20.9 in /opt/conda/lib/python3.11/site-packages (from huggingface_hub) (23.2)\n",
      "Collecting pyarrow>=12.0.0 (from datasets)\n",
      "  Using cached pyarrow-15.0.0-cp311-cp311-manylinux_2_28_x86_64.whl.metadata (3.0 kB)\n",
      "Collecting pyarrow-hotfix (from datasets)\n",
      "  Using cached pyarrow_hotfix-0.6-py3-none-any.whl.metadata (3.6 kB)\n",
      "Collecting dill<0.3.9,>=0.3.0 (from datasets)\n",
      "  Using cached dill-0.3.8-py3-none-any.whl.metadata (10 kB)\n",
      "Collecting pandas (from datasets)\n",
      "  Using cached pandas-2.2.1-cp311-cp311-manylinux_2_17_x86_64.manylinux2014_x86_64.whl.metadata (19 kB)\n",
      "Collecting xxhash (from datasets)\n",
      "  Using cached xxhash-3.4.1-cp311-cp311-manylinux_2_17_x86_64.manylinux2014_x86_64.whl.metadata (12 kB)\n",
      "Collecting multiprocess (from datasets)\n",
      "  Using cached multiprocess-0.70.16-py311-none-any.whl.metadata (7.2 kB)\n",
      "Collecting fsspec>=2023.5.0 (from huggingface_hub)\n",
      "  Using cached fsspec-2023.10.0-py3-none-any.whl.metadata (6.8 kB)\n",
      "Requirement already satisfied: aiohttp in /opt/conda/lib/python3.11/site-packages (from datasets) (3.8.6)\n",
      "Collecting contourpy>=1.0.1 (from matplotlib)\n",
      "  Using cached contourpy-1.2.0-cp311-cp311-manylinux_2_17_x86_64.manylinux2014_x86_64.whl.metadata (5.8 kB)\n",
      "Collecting cycler>=0.10 (from matplotlib)\n",
      "  Using cached cycler-0.12.1-py3-none-any.whl.metadata (3.8 kB)\n",
      "Collecting fonttools>=4.22.0 (from matplotlib)\n",
      "  Using cached fonttools-4.49.0-cp311-cp311-manylinux_2_17_x86_64.manylinux2014_x86_64.whl.metadata (159 kB)\n",
      "Collecting kiwisolver>=1.3.1 (from matplotlib)\n",
      "  Using cached kiwisolver-1.4.5-cp311-cp311-manylinux_2_17_x86_64.manylinux2014_x86_64.whl.metadata (6.4 kB)\n",
      "Collecting pyparsing>=2.3.1 (from matplotlib)\n",
      "  Using cached pyparsing-3.1.1-py3-none-any.whl.metadata (5.1 kB)\n",
      "Requirement already satisfied: python-dateutil>=2.7 in /opt/conda/lib/python3.11/site-packages (from matplotlib) (2.8.2)\n",
      "Collecting Click!=8.0.0,>=7.1 (from wandb)\n",
      "  Using cached click-8.1.7-py3-none-any.whl.metadata (3.0 kB)\n",
      "Collecting GitPython!=3.1.29,>=1.0.0 (from wandb)\n",
      "  Using cached GitPython-3.1.42-py3-none-any.whl.metadata (12 kB)\n",
      "Requirement already satisfied: psutil>=5.0.0 in /opt/conda/lib/python3.11/site-packages (from wandb) (5.9.5)\n",
      "Collecting sentry-sdk>=1.0.0 (from wandb)\n",
      "  Using cached sentry_sdk-1.40.5-py2.py3-none-any.whl.metadata (9.7 kB)\n",
      "Collecting docker-pycreds>=0.4.0 (from wandb)\n",
      "  Using cached docker_pycreds-0.4.0-py2.py3-none-any.whl (9.0 kB)\n",
      "Collecting setproctitle (from wandb)\n",
      "  Using cached setproctitle-1.3.3-cp311-cp311-manylinux_2_5_x86_64.manylinux1_x86_64.manylinux_2_17_x86_64.manylinux2014_x86_64.whl.metadata (9.9 kB)\n",
      "Requirement already satisfied: setuptools in /opt/conda/lib/python3.11/site-packages (from wandb) (68.2.2)\n",
      "Collecting appdirs>=1.4.3 (from wandb)\n",
      "  Using cached appdirs-1.4.4-py2.py3-none-any.whl (9.6 kB)\n",
      "Collecting protobuf!=4.21.0,<5,>=3.19.0 (from wandb)\n",
      "  Using cached protobuf-4.25.3-cp37-abi3-manylinux2014_x86_64.whl.metadata (541 bytes)\n",
      "Collecting scipy>=1.10.0 (from albumentations)\n",
      "  Using cached scipy-1.12.0-cp311-cp311-manylinux_2_17_x86_64.manylinux2014_x86_64.whl.metadata (60 kB)\n",
      "Collecting scikit-image>=0.21.0 (from albumentations)\n",
      "  Using cached scikit_image-0.22.0-cp311-cp311-manylinux_2_17_x86_64.manylinux2014_x86_64.whl.metadata (13 kB)\n",
      "Collecting qudida>=0.0.4 (from albumentations)\n",
      "  Downloading qudida-0.0.4-py3-none-any.whl.metadata (1.5 kB)\n",
      "Collecting opencv-python>=4.9.0 (from albumentations)\n",
      "  Using cached opencv_python-4.9.0.80-cp37-abi3-manylinux_2_17_x86_64.manylinux2014_x86_64.whl.metadata (20 kB)\n",
      "Requirement already satisfied: six>=1.4.0 in /opt/conda/lib/python3.11/site-packages (from docker-pycreds>=0.4.0->wandb) (1.16.0)\n",
      "Requirement already satisfied: attrs>=17.3.0 in /opt/conda/lib/python3.11/site-packages (from aiohttp->datasets) (23.1.0)\n",
      "Requirement already satisfied: charset-normalizer<4.0,>=2.0 in /opt/conda/lib/python3.11/site-packages (from aiohttp->datasets) (3.3.2)\n",
      "Requirement already satisfied: multidict<7.0,>=4.5 in /opt/conda/lib/python3.11/site-packages (from aiohttp->datasets) (6.0.4)\n",
      "Requirement already satisfied: async-timeout<5.0,>=4.0.0a3 in /opt/conda/lib/python3.11/site-packages (from aiohttp->datasets) (4.0.3)\n",
      "Requirement already satisfied: yarl<2.0,>=1.0 in /opt/conda/lib/python3.11/site-packages (from aiohttp->datasets) (1.9.2)\n",
      "Requirement already satisfied: frozenlist>=1.1.1 in /opt/conda/lib/python3.11/site-packages (from aiohttp->datasets) (1.4.0)\n",
      "Requirement already satisfied: aiosignal>=1.1.2 in /opt/conda/lib/python3.11/site-packages (from aiohttp->datasets) (1.3.1)\n",
      "Collecting gitdb<5,>=4.0.1 (from GitPython!=3.1.29,>=1.0.0->wandb)\n",
      "  Using cached gitdb-4.0.11-py3-none-any.whl.metadata (1.2 kB)\n",
      "Collecting scikit-learn>=0.19.1 (from qudida>=0.0.4->albumentations)\n",
      "  Using cached scikit_learn-1.4.1.post1-cp311-cp311-manylinux_2_17_x86_64.manylinux2014_x86_64.whl.metadata (11 kB)\n",
      "Collecting opencv-python-headless>=4.0.1 (from qudida>=0.0.4->albumentations)\n",
      "  Using cached opencv_python_headless-4.9.0.80-cp37-abi3-manylinux_2_17_x86_64.manylinux2014_x86_64.whl.metadata (20 kB)\n",
      "Requirement already satisfied: idna<4,>=2.5 in /opt/conda/lib/python3.11/site-packages (from requests->huggingface_hub) (3.4)\n",
      "Requirement already satisfied: urllib3<3,>=1.21.1 in /opt/conda/lib/python3.11/site-packages (from requests->huggingface_hub) (2.1.0)\n",
      "Requirement already satisfied: certifi>=2017.4.17 in /opt/conda/lib/python3.11/site-packages (from requests->huggingface_hub) (2023.7.22)\n",
      "Requirement already satisfied: networkx>=2.8 in /opt/conda/lib/python3.11/site-packages (from scikit-image>=0.21.0->albumentations) (3.0)\n",
      "Collecting imageio>=2.27 (from scikit-image>=0.21.0->albumentations)\n",
      "  Using cached imageio-2.34.0-py3-none-any.whl.metadata (4.9 kB)\n",
      "Collecting tifffile>=2022.8.12 (from scikit-image>=0.21.0->albumentations)\n",
      "  Using cached tifffile-2024.2.12-py3-none-any.whl.metadata (31 kB)\n",
      "Collecting lazy_loader>=0.3 (from scikit-image>=0.21.0->albumentations)\n",
      "  Using cached lazy_loader-0.3-py3-none-any.whl.metadata (4.3 kB)\n",
      "Requirement already satisfied: pytz>=2020.1 in /opt/conda/lib/python3.11/site-packages (from pandas->datasets) (2023.3.post1)\n",
      "Collecting tzdata>=2022.7 (from pandas->datasets)\n",
      "  Using cached tzdata-2024.1-py2.py3-none-any.whl.metadata (1.4 kB)\n",
      "Collecting smmap<6,>=3.0.1 (from gitdb<5,>=4.0.1->GitPython!=3.1.29,>=1.0.0->wandb)\n",
      "  Using cached smmap-5.0.1-py3-none-any.whl.metadata (4.3 kB)\n",
      "Collecting joblib>=1.2.0 (from scikit-learn>=0.19.1->qudida>=0.0.4->albumentations)\n",
      "  Using cached joblib-1.3.2-py3-none-any.whl.metadata (5.4 kB)\n",
      "Collecting threadpoolctl>=2.0.0 (from scikit-learn>=0.19.1->qudida>=0.0.4->albumentations)\n",
      "  Using cached threadpoolctl-3.3.0-py3-none-any.whl.metadata (13 kB)\n",
      "Using cached huggingface_hub-0.20.3-py3-none-any.whl (330 kB)\n",
      "Using cached datasets-2.17.1-py3-none-any.whl (536 kB)\n",
      "Using cached matplotlib-3.8.3-cp311-cp311-manylinux_2_17_x86_64.manylinux2014_x86_64.whl (11.6 MB)\n",
      "Using cached wandb-0.16.3-py3-none-any.whl (2.2 MB)\n",
      "Using cached albumentations-1.4.0-py3-none-any.whl (123 kB)\n",
      "Using cached click-8.1.7-py3-none-any.whl (97 kB)\n",
      "Using cached contourpy-1.2.0-cp311-cp311-manylinux_2_17_x86_64.manylinux2014_x86_64.whl (313 kB)\n",
      "Using cached cycler-0.12.1-py3-none-any.whl (8.3 kB)\n",
      "Using cached dill-0.3.8-py3-none-any.whl (116 kB)\n",
      "Using cached fonttools-4.49.0-cp311-cp311-manylinux_2_17_x86_64.manylinux2014_x86_64.whl (4.9 MB)\n",
      "Using cached fsspec-2023.10.0-py3-none-any.whl (166 kB)\n",
      "Using cached GitPython-3.1.42-py3-none-any.whl (195 kB)\n",
      "Using cached kiwisolver-1.4.5-cp311-cp311-manylinux_2_17_x86_64.manylinux2014_x86_64.whl (1.4 MB)\n",
      "Using cached opencv_python-4.9.0.80-cp37-abi3-manylinux_2_17_x86_64.manylinux2014_x86_64.whl (62.2 MB)\n",
      "Using cached protobuf-4.25.3-cp37-abi3-manylinux2014_x86_64.whl (294 kB)\n",
      "Using cached pyarrow-15.0.0-cp311-cp311-manylinux_2_28_x86_64.whl (38.3 MB)\n",
      "Using cached pyparsing-3.1.1-py3-none-any.whl (103 kB)\n",
      "Using cached qudida-0.0.4-py3-none-any.whl (3.5 kB)\n",
      "Using cached scikit_image-0.22.0-cp311-cp311-manylinux_2_17_x86_64.manylinux2014_x86_64.whl (14.7 MB)\n",
      "Using cached scipy-1.12.0-cp311-cp311-manylinux_2_17_x86_64.manylinux2014_x86_64.whl (38.4 MB)\n",
      "Using cached sentry_sdk-1.40.5-py2.py3-none-any.whl (258 kB)\n",
      "Using cached multiprocess-0.70.16-py311-none-any.whl (143 kB)\n",
      "Using cached pandas-2.2.1-cp311-cp311-manylinux_2_17_x86_64.manylinux2014_x86_64.whl (13.0 MB)\n",
      "Using cached pyarrow_hotfix-0.6-py3-none-any.whl (7.9 kB)\n",
      "Using cached setproctitle-1.3.3-cp311-cp311-manylinux_2_5_x86_64.manylinux1_x86_64.manylinux_2_17_x86_64.manylinux2014_x86_64.whl (31 kB)\n",
      "Using cached xxhash-3.4.1-cp311-cp311-manylinux_2_17_x86_64.manylinux2014_x86_64.whl (194 kB)\n",
      "Using cached gitdb-4.0.11-py3-none-any.whl (62 kB)\n",
      "Using cached imageio-2.34.0-py3-none-any.whl (313 kB)\n",
      "Using cached lazy_loader-0.3-py3-none-any.whl (9.1 kB)\n",
      "Using cached opencv_python_headless-4.9.0.80-cp37-abi3-manylinux_2_17_x86_64.manylinux2014_x86_64.whl (49.6 MB)\n",
      "Using cached scikit_learn-1.4.1.post1-cp311-cp311-manylinux_2_17_x86_64.manylinux2014_x86_64.whl (12.1 MB)\n",
      "Using cached tifffile-2024.2.12-py3-none-any.whl (224 kB)\n",
      "Using cached tzdata-2024.1-py2.py3-none-any.whl (345 kB)\n",
      "Using cached joblib-1.3.2-py3-none-any.whl (302 kB)\n",
      "Using cached smmap-5.0.1-py3-none-any.whl (24 kB)\n",
      "Using cached threadpoolctl-3.3.0-py3-none-any.whl (17 kB)\n",
      "Installing collected packages: appdirs, xxhash, tzdata, tifffile, threadpoolctl, smmap, setproctitle, sentry-sdk, scipy, pyparsing, pyarrow-hotfix, pyarrow, protobuf, opencv-python-headless, opencv-python, lazy_loader, kiwisolver, joblib, imageio, fsspec, fonttools, docker-pycreds, dill, cycler, contourpy, Click, scikit-learn, scikit-image, pandas, multiprocess, matplotlib, huggingface_hub, gitdb, qudida, GitPython, wandb, datasets, albumentations\n",
      "  Attempting uninstall: fsspec\n",
      "    Found existing installation: fsspec 2023.4.0\n",
      "    Uninstalling fsspec-2023.4.0:\n",
      "      Successfully uninstalled fsspec-2023.4.0\n"
     ]
    }
   ],
   "source": [
    "!pip install huggingface_hub datasets matplotlib numpy pillow wandb albumentations timm"
   ]
  },
  {
   "cell_type": "code",
   "execution_count": 1,
   "metadata": {},
   "outputs": [],
   "source": [
    "import torch\n",
    "import torch.nn as nn\n",
    "import random\n",
    "import numpy as np\n",
    "\n",
    "def set_seeds(seed):\n",
    "    random.seed(seed)\n",
    "    np.random.seed(seed)\n",
    "    torch.manual_seed(seed)\n",
    "    if torch.cuda.is_available():\n",
    "        torch.cuda.manual_seed(seed)\n",
    "        torch.cuda.manual_seed_all(seed)\n",
    "        torch.backends.cudnn.deterministic = True\n",
    "        torch.backends.cudnn.benchmark = False\n",
    "\n",
    "# Set all seeds\n",
    "set_seeds(42)"
   ]
  },
  {
   "cell_type": "code",
   "execution_count": 2,
   "metadata": {},
   "outputs": [
    {
     "name": "stderr",
     "output_type": "stream",
     "text": [
      "/opt/conda/lib/python3.11/site-packages/tqdm/auto.py:21: TqdmWarning: IProgress not found. Please update jupyter and ipywidgets. See https://ipywidgets.readthedocs.io/en/stable/user_install.html\n",
      "  from .autonotebook import tqdm as notebook_tqdm\n"
     ]
    }
   ],
   "source": [
    "import torch\n",
    "from torch import nn\n",
    "import torch.nn.functional as F\n",
    "\n",
    "from timm.models.layers import trunc_normal_\n",
    "import math\n",
    "\n",
    "\n",
    "class DepthWiseConv2d(nn.Module):\n",
    "    def __init__(self, dim_in, dim_out, kernel_size=3, padding=1, stride=1, dilation=1):\n",
    "        super().__init__()\n",
    "        \n",
    "        self.conv1 = nn.Conv2d(dim_in, dim_in, kernel_size=kernel_size, padding=padding, \n",
    "                      stride=stride, dilation=dilation, groups=dim_in)\n",
    "        self.norm_layer = nn.GroupNorm(4, dim_in)\n",
    "        self.conv2 = nn.Conv2d(dim_in, dim_out, kernel_size=1)\n",
    "\n",
    "    def forward(self, x):\n",
    "        return self.conv2(self.norm_layer(self.conv1(x)))\n",
    "\n",
    "class GatedAttentionUnit(nn.Module):\n",
    "    def __init__(self, in_c, out_c, kernel_size):\n",
    "        super().__init__()\n",
    "        self.w1 = nn.Sequential(\n",
    "            DepthWiseConv2d(in_c, in_c, kernel_size, padding=kernel_size//2),\n",
    "            nn.Sigmoid()\n",
    "        )\n",
    "        \n",
    "        self.w2 = nn.Sequential(\n",
    "            DepthWiseConv2d(in_c, in_c, kernel_size + 2, padding=(kernel_size + 2)//2),\n",
    "            nn.GELU()\n",
    "        )\n",
    "        self.wo = nn.Sequential(\n",
    "            DepthWiseConv2d(in_c, out_c, kernel_size),\n",
    "            nn.GELU()\n",
    "        )\n",
    "        \n",
    "        self.cw = nn.Conv2d(in_c, out_c, 1)\n",
    "        \n",
    "    def forward(self, x):\n",
    "        x1, x2 = self.w1(x), self.w2(x)\n",
    "        out = self.wo(x1 * x2) + self.cw(x)\n",
    "        return out\n",
    "\n",
    "\n",
    "class DilatedGatedAttention(nn.Module):\n",
    "    def __init__(self, in_c, out_c, k_size=3, dilated_ratio=[7, 5, 2, 1]):\n",
    "        super().__init__()        \n",
    "        \n",
    "        self.mda0 = nn.Conv2d(in_c//4, in_c//4, kernel_size=k_size, stride=1, \n",
    "                              padding=(k_size+(k_size-1)*(dilated_ratio[0]-1))//2, \n",
    "                             dilation=dilated_ratio[0], groups=in_c//4)\n",
    "        self.mda1 = nn.Conv2d(in_c//4, in_c//4, kernel_size=k_size, stride=1, \n",
    "                              padding=(k_size+(k_size-1)*(dilated_ratio[1]-1))//2, \n",
    "                             dilation=dilated_ratio[1], groups=in_c//4)\n",
    "        self.mda2 = nn.Conv2d(in_c//4, in_c//4, kernel_size=k_size, stride=1, \n",
    "                              padding=(k_size+(k_size-1)*(dilated_ratio[2]-1))//2, \n",
    "                             dilation=dilated_ratio[2], groups=in_c//4)\n",
    "        self.mda3 = nn.Conv2d(in_c//4, in_c//4, kernel_size=k_size, stride=1, \n",
    "                              padding=(k_size+(k_size-1)*(dilated_ratio[3]-1))//2, \n",
    "                             dilation=dilated_ratio[3], groups=in_c//4)\n",
    "        self.norm_layer = nn.GroupNorm(4, in_c)\n",
    "        self.conv = nn.Conv2d(in_c, in_c, 1)\n",
    "        \n",
    "        self.gau = GatedAttentionUnit(in_c, out_c, 3)\n",
    "        \n",
    "    def forward(self, x):\n",
    "        x = torch.chunk(x, 4, dim=1)\n",
    "        x0 = self.mda0(x[0])\n",
    "        x1 = self.mda1(x[1])\n",
    "        x2 = self.mda2(x[2])\n",
    "        x3 = self.mda3(x[3])\n",
    "        x = F.gelu(self.conv(self.norm_layer(torch.cat((x0, x1, x2, x3), dim=1))))\n",
    "        x = self.gau(x)\n",
    "        return x\n",
    "    \n",
    "    \n",
    "class EAblock(nn.Module):\n",
    "    def __init__(self, in_c):\n",
    "        super().__init__()\n",
    "        \n",
    "        self.conv1 = nn.Conv2d(in_c, in_c, 1)\n",
    "\n",
    "        self.k = in_c * 4\n",
    "        self.linear_0 = nn.Conv1d(in_c, self.k, 1, bias=False)\n",
    "\n",
    "        self.linear_1 = nn.Conv1d(self.k, in_c, 1, bias=False)\n",
    "        self.linear_1.weight.data = self.linear_0.weight.data.permute(1, 0, 2)        \n",
    "        \n",
    "        self.conv2 = nn.Conv2d(in_c, in_c, 1, bias=False)\n",
    "        self.norm_layer = nn.GroupNorm(4, in_c)   \n",
    "\n",
    "    def forward(self, x):\n",
    "        idn = x\n",
    "        x = self.conv1(x)\n",
    "\n",
    "        b, c, h, w = x.size()\n",
    "        x = x.view(b, c, h*w)   # b * c * n \n",
    "\n",
    "        attn = self.linear_0(x) # b, k, n\n",
    "        attn = F.softmax(attn, dim=-1) # b, k, n\n",
    "\n",
    "        attn = attn / (1e-9 + attn.sum(dim=1, keepdim=True)) #  # b, k, n\n",
    "        x = self.linear_1(attn) # b, c, n\n",
    "\n",
    "        x = x.view(b, c, h, w)\n",
    "        x = self.norm_layer(self.conv2(x))\n",
    "        x = x + idn\n",
    "        x = F.gelu(x)\n",
    "        return x\n",
    "    \n",
    "\n",
    "class Channel_Att_Bridge(nn.Module):\n",
    "    def __init__(self, c_list, split_att='fc'):\n",
    "        super().__init__()\n",
    "        c_list_sum = sum(c_list) - c_list[-1]\n",
    "        self.split_att = split_att\n",
    "        self.avgpool = nn.AdaptiveAvgPool2d(1)\n",
    "        self.get_all_att = nn.Conv1d(1, 1, kernel_size=3, padding=1, bias=False)\n",
    "        self.att1 = nn.Linear(c_list_sum, c_list[0]) if split_att == 'fc' else nn.Conv1d(c_list_sum, c_list[0], 1)\n",
    "        self.att2 = nn.Linear(c_list_sum, c_list[1]) if split_att == 'fc' else nn.Conv1d(c_list_sum, c_list[1], 1)\n",
    "        self.att3 = nn.Linear(c_list_sum, c_list[2]) if split_att == 'fc' else nn.Conv1d(c_list_sum, c_list[2], 1)\n",
    "        self.att4 = nn.Linear(c_list_sum, c_list[3]) if split_att == 'fc' else nn.Conv1d(c_list_sum, c_list[3], 1)\n",
    "        self.att5 = nn.Linear(c_list_sum, c_list[4]) if split_att == 'fc' else nn.Conv1d(c_list_sum, c_list[4], 1)\n",
    "        self.sigmoid = nn.Sigmoid()\n",
    "        \n",
    "    def forward(self, t1, t2, t3, t4, t5):\n",
    "        att = torch.cat((self.avgpool(t1), \n",
    "                         self.avgpool(t2), \n",
    "                         self.avgpool(t3), \n",
    "                         self.avgpool(t4), \n",
    "                         self.avgpool(t5)), dim=1)\n",
    "        att = self.get_all_att(att.squeeze(-1).transpose(-1, -2))\n",
    "        if self.split_att != 'fc':\n",
    "            att = att.transpose(-1, -2)\n",
    "        att1 = self.sigmoid(self.att1(att))\n",
    "        att2 = self.sigmoid(self.att2(att))\n",
    "        att3 = self.sigmoid(self.att3(att))\n",
    "        att4 = self.sigmoid(self.att4(att))\n",
    "        att5 = self.sigmoid(self.att5(att))\n",
    "        if self.split_att == 'fc':\n",
    "            att1 = att1.transpose(-1, -2).unsqueeze(-1).expand_as(t1)\n",
    "            att2 = att2.transpose(-1, -2).unsqueeze(-1).expand_as(t2)\n",
    "            att3 = att3.transpose(-1, -2).unsqueeze(-1).expand_as(t3)\n",
    "            att4 = att4.transpose(-1, -2).unsqueeze(-1).expand_as(t4)\n",
    "            att5 = att5.transpose(-1, -2).unsqueeze(-1).expand_as(t5)\n",
    "        else:\n",
    "            att1 = att1.unsqueeze(-1).expand_as(t1)\n",
    "            att2 = att2.unsqueeze(-1).expand_as(t2)\n",
    "            att3 = att3.unsqueeze(-1).expand_as(t3)\n",
    "            att4 = att4.unsqueeze(-1).expand_as(t4)\n",
    "            att5 = att5.unsqueeze(-1).expand_as(t5)\n",
    "            \n",
    "        return att1, att2, att3, att4, att5\n",
    "    \n",
    "    \n",
    "class Spatial_Att_Bridge(nn.Module):\n",
    "    def __init__(self):\n",
    "        super().__init__()\n",
    "        self.shared_conv2d = nn.Sequential(nn.Conv2d(2, 1, 7, stride=1, padding=9, dilation=3),\n",
    "                                          nn.Sigmoid())\n",
    "    \n",
    "    def forward(self, t1, t2, t3, t4, t5):\n",
    "        t_list = [t1, t2, t3, t4, t5]\n",
    "        att_list = []\n",
    "        for t in t_list:\n",
    "            avg_out = torch.mean(t, dim=1, keepdim=True)\n",
    "            max_out, _ = torch.max(t, dim=1, keepdim=True)\n",
    "            att = torch.cat([avg_out, max_out], dim=1)\n",
    "            att = self.shared_conv2d(att)\n",
    "            att_list.append(att)\n",
    "        return att_list[0], att_list[1], att_list[2], att_list[3], att_list[4]\n",
    "\n",
    "    \n",
    "class SC_Att_Bridge(nn.Module):\n",
    "    def __init__(self, c_list, split_att='fc'):\n",
    "        super().__init__()\n",
    "        \n",
    "        self.catt = Channel_Att_Bridge(c_list, split_att=split_att)\n",
    "        self.satt = Spatial_Att_Bridge()\n",
    "        \n",
    "    def forward(self, t1, t2, t3, t4, t5):\n",
    "        r1, r2, r3, r4, r5 = t1, t2, t3, t4, t5\n",
    "\n",
    "        satt1, satt2, satt3, satt4, satt5 = self.satt(t1, t2, t3, t4, t5)\n",
    "        t1, t2, t3, t4, t5 = satt1 * t1, satt2 * t2, satt3 * t3, satt4 * t4, satt5 * t5\n",
    "\n",
    "        r1_, r2_, r3_, r4_, r5_ = t1, t2, t3, t4, t5\n",
    "        t1, t2, t3, t4, t5 = t1 + r1, t2 + r2, t3 + r3, t4 + r4, t5 + r5\n",
    "\n",
    "        catt1, catt2, catt3, catt4, catt5 = self.catt(t1, t2, t3, t4, t5)\n",
    "        t1, t2, t3, t4, t5 = catt1 * t1, catt2 * t2, catt3 * t3, catt4 * t4, catt5 * t5\n",
    "\n",
    "        return t1 + r1_, t2 + r2_, t3 + r3_, t4 + r4_, t5 + r5_\n",
    "    \n",
    "    \n",
    "class MALUNet(nn.Module):\n",
    "    \n",
    "    def __init__(self, num_classes=1, input_channels=3, c_list=[8,16,24,32,48,64], \n",
    "                split_att='fc', bridge=True):\n",
    "        super().__init__()\n",
    "\n",
    "        self.bridge = bridge\n",
    "        \n",
    "        self.encoder1 = nn.Sequential(\n",
    "            nn.Conv2d(input_channels, c_list[0], 3, stride=1, padding=1),\n",
    "        )\n",
    "        self.encoder2 =nn.Sequential(\n",
    "            nn.Conv2d(c_list[0], c_list[1], 3, stride=1, padding=1),\n",
    "        ) \n",
    "        self.encoder3 = nn.Sequential(\n",
    "            nn.Conv2d(c_list[1], c_list[2], 3, stride=1, padding=1),\n",
    "        )\n",
    "        self.encoder4 = nn.Sequential(\n",
    "            EAblock(c_list[2]),\n",
    "            DilatedGatedAttention(c_list[2], c_list[3]),\n",
    "        )\n",
    "        self.encoder5 = nn.Sequential(\n",
    "            EAblock(c_list[3]),\n",
    "            DilatedGatedAttention(c_list[3], c_list[4]),\n",
    "        )\n",
    "        self.encoder6 = nn.Sequential(\n",
    "            EAblock(c_list[4]),\n",
    "            DilatedGatedAttention(c_list[4], c_list[5]),\n",
    "        )\n",
    "\n",
    "        if bridge: \n",
    "            self.scab = SC_Att_Bridge(c_list, split_att)\n",
    "            print('SC_Att_Bridge was used')\n",
    "        \n",
    "        self.decoder1 = nn.Sequential(\n",
    "            DilatedGatedAttention(c_list[5], c_list[4]),\n",
    "            EAblock(c_list[4]),\n",
    "        ) \n",
    "        self.decoder2 = nn.Sequential(\n",
    "            DilatedGatedAttention(c_list[4], c_list[3]),\n",
    "            EAblock(c_list[3]),\n",
    "        ) \n",
    "        self.decoder3 = nn.Sequential(\n",
    "            DilatedGatedAttention(c_list[3], c_list[2]),\n",
    "            EAblock(c_list[2]),\n",
    "        )  \n",
    "        self.decoder4 = nn.Sequential(\n",
    "            nn.Conv2d(c_list[2], c_list[1], 3, stride=1, padding=1),\n",
    "        )  \n",
    "        self.decoder5 = nn.Sequential(\n",
    "            nn.Conv2d(c_list[1], c_list[0], 3, stride=1, padding=1),\n",
    "        )  \n",
    "        self.ebn1 = nn.GroupNorm(4, c_list[0])\n",
    "        self.ebn2 = nn.GroupNorm(4, c_list[1])\n",
    "        self.ebn3 = nn.GroupNorm(4, c_list[2])\n",
    "        self.ebn4 = nn.GroupNorm(4, c_list[3])\n",
    "        self.ebn5 = nn.GroupNorm(4, c_list[4])\n",
    "        self.dbn1 = nn.GroupNorm(4, c_list[4])\n",
    "        self.dbn2 = nn.GroupNorm(4, c_list[3])\n",
    "        self.dbn3 = nn.GroupNorm(4, c_list[2])\n",
    "        self.dbn4 = nn.GroupNorm(4, c_list[1])\n",
    "        self.dbn5 = nn.GroupNorm(4, c_list[0])\n",
    "\n",
    "        self.final = nn.Conv2d(c_list[0], num_classes, kernel_size=1)\n",
    "\n",
    "        self.apply(self._init_weights)\n",
    "\n",
    "    def _init_weights(self, m):\n",
    "        if isinstance(m, nn.Linear):\n",
    "            trunc_normal_(m.weight, std=.02)\n",
    "            if isinstance(m, nn.Linear) and m.bias is not None:\n",
    "                nn.init.constant_(m.bias, 0)\n",
    "        elif isinstance(m, nn.Conv1d):\n",
    "                n = m.kernel_size[0] * m.out_channels\n",
    "                m.weight.data.normal_(0, math.sqrt(2. / n))\n",
    "        elif isinstance(m, nn.Conv2d):\n",
    "            fan_out = m.kernel_size[0] * m.kernel_size[1] * m.out_channels\n",
    "            fan_out //= m.groups\n",
    "            m.weight.data.normal_(0, math.sqrt(2.0 / fan_out))\n",
    "            if m.bias is not None:\n",
    "                m.bias.data.zero_()\n",
    "\n",
    "    def forward(self, x):\n",
    "        \n",
    "        out = F.gelu(F.max_pool2d(self.ebn1(self.encoder1(x)),2,2))\n",
    "        t1 = out # b, c0, H/2, W/2\n",
    "\n",
    "        out = F.gelu(F.max_pool2d(self.ebn2(self.encoder2(out)),2,2))\n",
    "        t2 = out # b, c1, H/4, W/4 \n",
    "\n",
    "        out = F.gelu(F.max_pool2d(self.ebn3(self.encoder3(out)),2,2))\n",
    "        t3 = out # b, c2, H/8, W/8\n",
    "        \n",
    "        out = F.gelu(F.max_pool2d(self.ebn4(self.encoder4(out)),2,2))\n",
    "        t4 = out # b, c3, H/16, W/16\n",
    "        \n",
    "        out = F.gelu(F.max_pool2d(self.ebn5(self.encoder5(out)),2,2))\n",
    "        t5 = out # b, c4, H/32, W/32\n",
    "\n",
    "        if self.bridge: t1, t2, t3, t4, t5 = self.scab(t1, t2, t3, t4, t5)\n",
    "        \n",
    "        out = F.gelu(self.encoder6(out)) # b, c5, H/32, W/32\n",
    "        \n",
    "        out5 = F.gelu(self.dbn1(self.decoder1(out))) # b, c4, H/32, W/32\n",
    "        out5 = torch.add(out5, t5) # b, c4, H/32, W/32\n",
    "        \n",
    "        out4 = F.gelu(F.interpolate(self.dbn2(self.decoder2(out5)),scale_factor=(2,2),mode ='bilinear',align_corners=True)) # b, c3, H/16, W/16\n",
    "        out4 = torch.add(out4, t4) # b, c3, H/16, W/16\n",
    "        \n",
    "        out3 = F.gelu(F.interpolate(self.dbn3(self.decoder3(out4)),scale_factor=(2,2),mode ='bilinear',align_corners=True)) # b, c2, H/8, W/8\n",
    "        out3 = torch.add(out3, t3) # b, c2, H/8, W/8\n",
    "        \n",
    "        out2 = F.gelu(F.interpolate(self.dbn4(self.decoder4(out3)),scale_factor=(2,2),mode ='bilinear',align_corners=True)) # b, c1, H/4, W/4\n",
    "        out2 = torch.add(out2, t2) # b, c1, H/4, W/4 \n",
    "        \n",
    "        out1 = F.gelu(F.interpolate(self.dbn5(self.decoder5(out2)),scale_factor=(2,2),mode ='bilinear',align_corners=True)) # b, c0, H/2, W/2\n",
    "        out1 = torch.add(out1, t1) # b, c0, H/2, W/2\n",
    "        \n",
    "        out0 = F.interpolate(self.final(out1),scale_factor=(2,2),mode ='bilinear',align_corners=True) # b, num_class, H, W\n",
    "        \n",
    "        return torch.sigmoid(out0)"
   ]
  },
  {
   "cell_type": "code",
   "execution_count": 3,
   "metadata": {},
   "outputs": [],
   "source": [
    "class DoubleConv(nn.Module):\n",
    "    def __init__(self, in_channels, out_channels):\n",
    "        super(DoubleConv, self).__init__()\n",
    "        self.double_conv = nn.Sequential(\n",
    "            nn.Conv2d(in_channels, out_channels, kernel_size=3, padding=1, bias=False),\n",
    "            nn.BatchNorm2d(out_channels),\n",
    "            nn.ReLU(inplace=True),\n",
    "            nn.Conv2d(out_channels, out_channels, kernel_size=3, padding=1, bias=False),\n",
    "            nn.BatchNorm2d(out_channels),\n",
    "            nn.ReLU(inplace=True)\n",
    "        )\n",
    "\n",
    "    def forward(self, x):\n",
    "        return self.double_conv(x)"
   ]
  },
  {
   "cell_type": "code",
   "execution_count": 4,
   "metadata": {},
   "outputs": [],
   "source": [
    "class Unet(nn.Module):\n",
    "    def __init__(self, in_channels=3, out_channels=1):\n",
    "        super(Unet, self).__init__()\n",
    "\n",
    "        self.max_pool2d = nn.MaxPool2d(kernel_size=2, stride=2)\n",
    "\n",
    "        # Contracting path.\n",
    "        # Each convolution is applied twice.\n",
    "        self.down_convolution_1 = self.double_convolution(in_channels, 64)\n",
    "        self.down_convolution_2 = self.double_convolution(64, 128)\n",
    "        self.down_convolution_3 = self.double_convolution(128, 256)\n",
    "        self.down_convolution_4 = self.double_convolution(256, 512)\n",
    "        self.down_convolution_5 = self.double_convolution(512, 1024)\n",
    "\n",
    "        # Expanding path.\n",
    "        self.up_transpose_1 = nn.ConvTranspose2d(in_channels=1024, out_channels=512,kernel_size=2,stride=2)\n",
    "\n",
    "        # Below, `in_channels` again becomes 1024 as we are concatinating.\n",
    "        self.up_convolution_1 = self.double_convolution(1024, 512)\n",
    "        self.up_transpose_2 = nn.ConvTranspose2d(in_channels=512, out_channels=256,kernel_size=2,stride=2)\n",
    "        self.up_convolution_2 = self.double_convolution(512, 256)\n",
    "        self.up_transpose_3 = nn.ConvTranspose2d(in_channels=256, out_channels=128,kernel_size=2,stride=2)\n",
    "        self.up_convolution_3 = self.double_convolution(256, 128)\n",
    "        self.up_transpose_4 = nn.ConvTranspose2d(in_channels=128, out_channels=64,kernel_size=2,stride=2)\n",
    "        self.up_convolution_4 = self.double_convolution(128, 64)\n",
    "        # output => `out_channels` as per the number of classes.\n",
    "        self.out = nn.Conv2d(\n",
    "            in_channels=64, out_channels=out_channels,\n",
    "            kernel_size=1\n",
    "        )\n",
    "\n",
    "    def double_convolution(self, in_channels, out_channels):\n",
    "        conv_op = nn.Sequential(\n",
    "            nn.Conv2d(in_channels, out_channels, kernel_size=3, padding=1),\n",
    "            nn.ReLU(inplace=True),\n",
    "            nn.Conv2d(out_channels, out_channels, kernel_size=3, padding=1),\n",
    "            nn.ReLU(inplace=True)\n",
    "        )\n",
    "        return conv_op\n",
    "\n",
    "    def forward(self, x):\n",
    "        down_1 = self.down_convolution_1(x)\n",
    "        down_2 = self.max_pool2d(down_1)\n",
    "        down_3 = self.down_convolution_2(down_2)\n",
    "        down_4 = self.max_pool2d(down_3)\n",
    "        down_5 = self.down_convolution_3(down_4)\n",
    "        down_6 = self.max_pool2d(down_5)\n",
    "        down_7 = self.down_convolution_4(down_6)\n",
    "        down_8 = self.max_pool2d(down_7)\n",
    "        down_9 = self.down_convolution_5(down_8)\n",
    "        # *** DO NOT APPLY MAX POOL TO down_9 ***\n",
    "\n",
    "        up_1 = self.up_transpose_1(down_9)\n",
    "        if up_1.shape != down_7.shape:\n",
    "            up_1 = torch.nn.functional.interpolate(up_1, size=down_7.shape[2:], mode='bilinear', align_corners=True)\n",
    "        x = self.up_convolution_1(torch.cat([down_7, up_1], 1))\n",
    "\n",
    "        up_2 = self.up_transpose_2(x)\n",
    "        if up_2.shape != down_5.shape:\n",
    "            up_2 = torch.nn.functional.interpolate(up_2, size=down_5.shape[2:], mode='bilinear', align_corners=True)\n",
    "        x = self.up_convolution_2(torch.cat([down_5, up_2], 1))\n",
    "\n",
    "        up_3 = self.up_transpose_3(x)\n",
    "        if up_3.shape != down_3.shape:\n",
    "            up_3 = torch.nn.functional.interpolate(up_3, size=down_3.shape[2:], mode='bilinear', align_corners=True)\n",
    "        x = self.up_convolution_3(torch.cat([down_3, up_3], 1))\n",
    "\n",
    "        up_4 = self.up_transpose_4(x)\n",
    "        if up_4.shape != down_1.shape:\n",
    "            up_4 = torch.nn.functional.interpolate(up_4, size=down_1.shape[2:], mode='bilinear', align_corners=True)\n",
    "        x = self.up_convolution_4(torch.cat([down_1, up_4], 1))\n",
    "\n",
    "        out = self.out(x)\n",
    "        return out\n",
    "\n",
    "        # # Encoder\n",
    "        # s1 = torch.nn.Conv2d(in_channels=3, out_channels=64, kernel_size=3, padding=1)(x)\n",
    "        # s1 = torch.nn.ReLU()(s1)\n",
    "        # s1 = torch.nn.Conv2d(in_channels=64, out_channels=64, kernel_size=3, padding=1)(s1)\n",
    "        # s1 = torch.nn.ReLU()(s1)\n",
    "        # p1 = torch.nn.MaxPool2d(kernel_size=2, stride=2)(s1)\n",
    "\n",
    "        # s2 = torch.nn.Conv2d(in_channels=64, out_channels=128, kernel_size=3, padding=1)(p1)\n",
    "        # s2 = torch.nn.ReLU()(s2)\n",
    "        # s2 = torch.nn.Conv2d(in_channels=128, out_channels=128, kernel_size=3, padding=1)(s2)\n",
    "        # s2 = torch.nn.ReLU()(s2)\n",
    "        # p2 = torch.nn.MaxPool2d(kernel_size=2, stride=2)(s2)\n",
    "\n",
    "        # s3 = torch.nn.Conv2d(in_channels=128, out_channels=256, kernel_size=3, padding=1)(p2)\n",
    "        # s3 = torch.nn.ReLU()(s3)\n",
    "        # s3 = torch.nn.Conv2d(in_channels=256, out_channels=256, kernel_size=3, padding=1)(s3)\n",
    "        # s3 = torch.nn.ReLU()(s3)\n",
    "        # p3 = torch.nn.MaxPool2d(kernel_size=2, stride=2)(s3)\n",
    "\n",
    "        # s4 = torch.nn.Conv2d(in_channels=256, out_channels=512, kernel_size=3, padding=1)(p3)\n",
    "        # s4 = torch.nn.ReLU()(s4)\n",
    "        # s4 = torch.nn.Conv2d(in_channels=512, out_channels=512, kernel_size=3, padding=1)(s4)\n",
    "        # s4 = torch.nn.ReLU()(s4)\n",
    "        # p4 = torch.nn.MaxPool2d(kernel_size=2, stride=2)(s4)\n",
    "\n",
    "        # # bridge\n",
    "        # b1 = torch.nn.Conv2d(in_channels=512, out_channels=1024, kernel_size=3, padding=1)(p4)\n",
    "        # b1 = torch.nn.ReLU()(b1)\n",
    "        # b1 = torch.nn.Conv2d(in_channels=1024, out_channels=1024, kernel_size=3, padding=1)(b1)\n",
    "        # b1 = torch.nn.ReLU()(b1)\n",
    "\n",
    "        # # Decoder\n",
    "        # d1 = torch.nn.ConvTranspose2d(in_channels=1024, out_channels=512, kernel_size=2, stride=2)(b1)\n",
    "        # d1 = torch.nn.ReLU()(d1)\n",
    "        # d1 = torch.cat([d1, s4], dim=1)\n",
    "        # d1 = torch.nn.Conv2d(in_channels=1024, out_channels=512, kernel_size=3, padding=1)(d1)\n",
    "        # d1 = torch.nn.ReLU()(d1)\n",
    "        # d1 = torch.nn.Conv2d(in_channels=512, out_channels=512, kernel_size=3, padding=1)(d1)\n",
    "        # d1 = torch.nn.ReLU()(d1)\n",
    "\n",
    "        # d2 = torch.nn.ConvTranspose2d(in_channels=512, out_channels=256, kernel_size=2, stride=2)(d1)\n",
    "        # d2 = torch.nn.ReLU()(d2)\n",
    "        # d2 = torch.cat([d2, s3], dim=1)\n",
    "        # d2 = torch.nn.Conv2d(in_channels=512, out_channels=256, kernel_size=3, padding=1)(d2)\n",
    "        # d2 = torch.nn.ReLU()(d2)\n",
    "        # d2 = torch.nn.Conv2d(in_channels=256, out_channels=256, kernel_size=3, padding=1)(d2)\n",
    "        # d2 = torch.nn.ReLU()(d2)\n",
    "\n",
    "        # d3 = torch.nn.ConvTranspose2d(in_channels=256, out_channels=128, kernel_size=2, stride=2)(d2)\n",
    "        # d3 = torch.nn.ReLU()(d3)\n",
    "        # d3 = torch.cat([d3, s2], dim=1)\n",
    "        # d3 = torch.nn.Conv2d(in_channels=256, out_channels=128, kernel_size=3, padding=1)(d3)\n",
    "        # d3 = torch.nn.ReLU()(d3)\n",
    "        # d3 = torch.nn.Conv2d(in_channels=128, out_channels=128, kernel_size=3, padding=1)(d3)\n",
    "        # d3 = torch.nn.ReLU()(d3)\n",
    "\n",
    "        # d4 = torch.nn.ConvTranspose2d(in_channels=128, out_channels=64, kernel_size=2, stride=2)(d3)\n",
    "        # d4 = torch.nn.ReLU()(d4)\n",
    "        # d4 = torch.cat([d4, s1], dim=1)\n",
    "        # d4 = torch.nn.Conv2d(in_channels=128, out_channels=64, kernel_size=3, padding=1)(d4)\n",
    "        # d4 = torch.nn.ReLU()(d4)\n",
    "        # d4 = torch.nn.Conv2d(in_channels=64, out_channels=64, kernel_size=3, padding=1)(d4)\n",
    "        # d4 = torch.nn.ReLU()(d4)\n",
    "        # d4 = torch.nn.Conv2d(in_channels=64, out_channels=2, kernel_size=3, padding=1)(d4)\n",
    "        # d4 = torch.nn.ReLU()(d4)\n",
    "        # d4 = torch.nn.Conv2d(in_channels=2, out_channels=1, kernel_size=1, padding=0)(d4)\n",
    "        # d4 = torch.nn.ReLU()(d4)\n",
    "        # d4 = torch.nn.Conv2d(in_channels=1, out_channels=1, kernel_size=1, padding=0)(d4)\n",
    "        # out = torch.nn.Sigmoid()(d4)\n",
    "\n",
    "        # return out"
   ]
  },
  {
   "cell_type": "code",
   "execution_count": 7,
   "metadata": {},
   "outputs": [
    {
     "name": "stdout",
     "output_type": "stream",
     "text": [
      "torch.Size([1, 1, 1024, 1027])\n"
     ]
    }
   ],
   "source": [
    "# Create a tensor of shape (3, 256, 256)\n",
    "input_tensor = torch.randn(1, 3, 1024, 1027)\n",
    "\n",
    "# Create an instance of the model\n",
    "model = Unet()\n",
    "\n",
    "# Pass the tensor through the model\n",
    "output_tensor = model(input_tensor)\n",
    "\n",
    "# Print the shape of the output\n",
    "print(output_tensor.shape)"
   ]
  },
  {
   "cell_type": "code",
   "execution_count": 5,
   "metadata": {},
   "outputs": [
    {
     "name": "stderr",
     "output_type": "stream",
     "text": [
      "/opt/conda/lib/python3.11/site-packages/torchvision/transforms/functional.py:1603: UserWarning: The default value of the antialias parameter of all the resizing transforms (Resize(), RandomResizedCrop(), etc.) will change from None to True in v0.17, in order to be consistent across the PIL and Tensor backends. To suppress this warning, directly pass antialias=True (recommended, future default), antialias=None (current default, which means False for Tensors and True for PIL), or antialias=False (only works on Tensors - PIL will still use antialiasing). This also applies if you are using the inference transforms from the models weights: update the call to weights.transforms(antialias=True).\n",
      "  warnings.warn(\n"
     ]
    }
   ],
   "source": [
    "import torch\n",
    "import torch.nn as nn\n",
    "import torchvision.transforms.functional as TF\n",
    "\n",
    "class DoubleConv(nn.Module):\n",
    "    def __init__(self, in_channels, out_channels):\n",
    "        super(DoubleConv, self).__init__()\n",
    "        self.conv = nn.Sequential(\n",
    "            nn.Conv2d(in_channels, out_channels, 3, 1, 1, bias=False),\n",
    "            nn.BatchNorm2d(out_channels),\n",
    "            nn.ReLU(inplace=True),\n",
    "            nn.Conv2d(out_channels, out_channels, 3, 1, 1, bias=False),\n",
    "            nn.BatchNorm2d(out_channels),\n",
    "            nn.ReLU(inplace=True),\n",
    "        )\n",
    "\n",
    "    def forward(self, x):\n",
    "        return self.conv(x)\n",
    "\n",
    "class UNET(nn.Module):\n",
    "    def __init__(\n",
    "            self, in_channels=3, out_channels=1, features=[64, 128, 256, 512],\n",
    "    ):\n",
    "        super(UNET, self).__init__()\n",
    "        self.ups = nn.ModuleList()\n",
    "        self.downs = nn.ModuleList()\n",
    "        self.pool = nn.MaxPool2d(kernel_size=2, stride=2)\n",
    "\n",
    "        # Down part of UNET\n",
    "        for feature in features:\n",
    "            self.downs.append(DoubleConv(in_channels, feature))\n",
    "            in_channels = feature\n",
    "\n",
    "        # Up part of UNET\n",
    "        for feature in reversed(features):\n",
    "            self.ups.append(\n",
    "                nn.ConvTranspose2d(\n",
    "                    feature*2, feature, kernel_size=2, stride=2,\n",
    "                )\n",
    "            )\n",
    "            self.ups.append(DoubleConv(feature*2, feature))\n",
    "\n",
    "        self.bottleneck = DoubleConv(features[-1], features[-1]*2)\n",
    "        self.final_conv = nn.Conv2d(features[0], out_channels, kernel_size=1)\n",
    "\n",
    "    def forward(self, x):\n",
    "        skip_connections = []\n",
    "\n",
    "        for down in self.downs:\n",
    "            x = down(x)\n",
    "            skip_connections.append(x)\n",
    "            x = self.pool(x)\n",
    "\n",
    "        x = self.bottleneck(x)\n",
    "        skip_connections = skip_connections[::-1]\n",
    "\n",
    "        for idx in range(0, len(self.ups), 2):\n",
    "            x = self.ups[idx](x)\n",
    "            skip_connection = skip_connections[idx//2]\n",
    "\n",
    "            if x.shape != skip_connection.shape:\n",
    "                x = TF.resize(x, size=skip_connection.shape[2:])\n",
    "\n",
    "            concat_skip = torch.cat((skip_connection, x), dim=1)\n",
    "            x = self.ups[idx+1](concat_skip)\n",
    "\n",
    "        return self.final_conv(x)\n",
    "\n",
    "def test():\n",
    "    x = torch.randn((3, 1, 161, 161))\n",
    "    model = UNET(in_channels=1, out_channels=1)\n",
    "    preds = model(x)\n",
    "    assert preds.shape == x.shape\n",
    "\n",
    "if __name__ == \"__main__\":\n",
    "    test()"
   ]
  },
  {
   "cell_type": "code",
   "execution_count": 6,
   "metadata": {},
   "outputs": [
    {
     "name": "stderr",
     "output_type": "stream",
     "text": [
      "/opt/conda/lib/python3.11/site-packages/datasets/load.py:1454: FutureWarning: The repository for jtz18/skin-lesion contains custom code which must be executed to correctly load the dataset. You can inspect the repository content at https://hf.co/datasets/jtz18/skin-lesion\n",
      "You can avoid this message in future by passing the argument `trust_remote_code=True`.\n",
      "Passing `trust_remote_code=True` will be mandatory to load this dataset from the next major release of `datasets`.\n",
      "  warnings.warn(\n"
     ]
    },
    {
     "name": "stdout",
     "output_type": "stream",
     "text": [
      "<class 'datasets.features.features.Features'>\n"
     ]
    },
    {
     "name": "stderr",
     "output_type": "stream",
     "text": [
      "Generating train split: 2594 examples [00:02, 1199.73 examples/s]\n",
      "Generating validation split: 100 examples [00:00, 669.10 examples/s]\n",
      "Generating test split: 1000 examples [00:00, 1091.40 examples/s]\n"
     ]
    }
   ],
   "source": [
    "from datasets import load_dataset\n",
    "import numpy as np\n",
    "\n",
    "# Load the dataset\n",
    "dataset = load_dataset(\"jtz18/skin-lesion\", \"full\")"
   ]
  },
  {
   "cell_type": "code",
   "execution_count": 53,
   "metadata": {},
   "outputs": [],
   "source": [
    "def get_dataset_class_dicts(dataset):\n",
    "    class_dict_train, class_dict_validation, class_dict_test = {}, {}, {}\n",
    "\n",
    "    splits = ['train', 'test', 'validation']\n",
    "    for split in splits:\n",
    "        class_dict = {}\n",
    "        for sample_index, data in enumerate(dataset[split]):\n",
    "            for i in range(5):\n",
    "                if np.any(np.array(data[f'label{i}']) > 0):\n",
    "                    curr_list = class_dict.get(i, [])\n",
    "                    curr_list.append(sample_index)\n",
    "                    class_dict[i] = curr_list\n",
    "        if split == 'train':\n",
    "            class_dict_train = class_dict\n",
    "        elif split == 'test':\n",
    "            class_dict_test = class_dict\n",
    "        else:\n",
    "            class_dict_validation = class_dict\n",
    "    return class_dict_train, class_dict_validation, class_dict_test"
   ]
  },
  {
   "cell_type": "code",
   "execution_count": 54,
   "metadata": {},
   "outputs": [],
   "source": [
    "class_dict_train, class_dict_validation, class_dict_test = get_dataset_class_dicts(dataset)"
   ]
  },
  {
   "cell_type": "code",
   "execution_count": 120,
   "metadata": {},
   "outputs": [],
   "source": [
    "from PIL import Image\n",
    "from torchvision import transforms\n",
    "\n",
    "class SkinLesionDataset(torch.utils.data.Dataset):\n",
    "    def __init__(self, dataset=None, split=\"train\", class_dict=None, chosen_class=0, transform=None):\n",
    "        self.dataset = dataset\n",
    "        self.split = split\n",
    "        self.class_dict = class_dict\n",
    "        self.transform = transform\n",
    "        self.chosen_class = chosen_class\n",
    "\n",
    "    def __len__(self):\n",
    "        return len(self.class_dict[self.chosen_class])\n",
    "\n",
    "    def __getitem__(self, idx):\n",
    "        sample = self.dataset[self.split][self.class_dict[self.chosen_class][idx]]\n",
    "        image = sample['image']\n",
    "        mask = sample[f'label{self.chosen_class}']\n",
    "\n",
    "        if self.transform:\n",
    "            image = self.transform(image)\n",
    "            mask = self.transform(mask)\n",
    "\n",
    "        return {\n",
    "            \"image\": image,\n",
    "            \"mask\": mask\n",
    "        }\n",
    "\n",
    "    def _get_dataset_attribute_class_transform(self, chosen_class=0):\n",
    "        statistics = {\n",
    "            0: {'mean': [0.71093882, 0.58211309, 0.53702283], 'std': [0.10435491, 0.12510676, 0.13974456]},\n",
    "            1: {'mean': [0.70990447, 0.58496846, 0.53553235], 'std': [0.08366306, 0.09887364, 0.11212159]},\n",
    "            2: {'mean': [0.70237756, 0.57505826, 0.5303042 ], 'std': [0.10264235, 0.12534817, 0.14009364]},\n",
    "            3: {'mean': [0.7131447,  0.58733337, 0.54107373], 'std': [0.10064145, 0.12099949, 0.13821285]},\n",
    "            4: {'mean': [0.69886833, 0.59556168, 0.55897995], 'std': [0.1431952,  0.15634344, 0.16150736]},\n",
    "        }\n",
    "\n",
    "        train_transform = transforms.Compose([\n",
    "            transforms.Resize((256, 256)),\n",
    "            transforms.RandomHorizontalFlip(),\n",
    "            transforms.RandomVerticalFlip(),\n",
    "            transforms.ToTensor(),\n",
    "            transforms.Normalize(mean=statistics[chosen_class]['mean'], std=statistics[chosen_class]['std'])\n",
    "        ])\n",
    "\n",
    "        test_transform = transforms.Compose([\n",
    "            transforms.Resize((256, 256)),\n",
    "            transforms.ToTensor(),\n",
    "            transforms.Normalize(mean=[0.485, 0.456, 0.406], std=[0.229, 0.224, 0.225])\n",
    "        ])\n",
    "\n",
    "        val_transform = transforms.Compose([\n",
    "            transforms.Resize((256, 256)),\n",
    "            transforms.ToTensor(),\n",
    "            transforms.Normalize(mean=[0.485, 0.456, 0.406], std=[0.229, 0.224, 0.225])\n",
    "        ])\n",
    "\n",
    "        return train_transform, test_transform, val_transform"
   ]
  },
  {
   "cell_type": "code",
   "execution_count": 106,
   "metadata": {},
   "outputs": [],
   "source": [
    "streaks_dataset_train = SkinLesionDataset(dataset=dataset, split='train', class_dict=class_dict_train, chosen_class=4)\n",
    "streaks_dataset_test = SkinLesionDataset(dataset=dataset, split='test', class_dict=class_dict_test, chosen_class=4)\n",
    "streaks_dataset_val = SkinLesionDataset(dataset=dataset, split='validation', class_dict=class_dict_validation, chosen_class=4)"
   ]
  },
  {
   "cell_type": "code",
   "execution_count": 91,
   "metadata": {},
   "outputs": [],
   "source": [
    "from torch.utils.data import DataLoader\n",
    "# Create the dataloader\n",
    "streaks_train_dataloader = DataLoader(streaks_dataset_train, batch_size=4, shuffle=True)\n",
    "streaks_test_dataloader = DataLoader(streaks_dataset_test, batch_size=4)\n",
    "streaks_val_dataloader = DataLoader(streaks_dataset_val, batch_size=4)"
   ]
  },
  {
   "cell_type": "code",
   "execution_count": 92,
   "metadata": {},
   "outputs": [],
   "source": [
    "batch = streaks_dataset_train[1]"
   ]
  },
  {
   "cell_type": "code",
   "execution_count": 93,
   "metadata": {},
   "outputs": [
    {
     "data": {
      "text/plain": [
       "torch.Size([1, 256, 256])"
      ]
     },
     "execution_count": 93,
     "metadata": {},
     "output_type": "execute_result"
    }
   ],
   "source": [
    "batch['mask'].shape"
   ]
  },
  {
   "cell_type": "code",
   "execution_count": 94,
   "metadata": {},
   "outputs": [],
   "source": [
    "from torchvision.transforms import ToPILImage\n",
    "\n",
    "# Assuming tensor is your input tensor\n",
    "to_pil = ToPILImage()\n",
    "image = to_pil(batch['image'])\n",
    "mask = to_pil(batch['mask'])\n"
   ]
  },
  {
   "cell_type": "code",
   "execution_count": 95,
   "metadata": {},
   "outputs": [
    {
     "data": {
      "image/jpeg": "[encoded data removed]",
      "image/png": "[encoded data removed]",
      "text/plain": [
       "<PIL.Image.Image image mode=RGB size=256x256>"
      ]
     },
     "execution_count": 95,
     "metadata": {},
     "output_type": "execute_result"
    }
   ],
   "source": [
    "image"
   ]
  },
  {
   "cell_type": "code",
   "execution_count": 96,
   "metadata": {},
   "outputs": [
    {
     "data": {
      "image/jpeg": "[encoded data removed]",
      "image/png": "[encoded data removed]",
      "text/plain": [
       "<PIL.Image.Image image mode=L size=256x256>"
      ]
     },
     "execution_count": 96,
     "metadata": {},
     "output_type": "execute_result"
    }
   ],
   "source": [
    "mask"
   ]
  },
  {
   "cell_type": "code",
   "execution_count": 104,
   "metadata": {},
   "outputs": [
    {
     "name": "stdout",
     "output_type": "stream",
     "text": [
      "Epoch [1/10], Step [10/25], Loss: 0.049692779779434204\n",
      "Epoch [1/10], Step [20/25], Loss: 0.10454349219799042\n",
      "Epoch [2/10], Step [10/25], Loss: 0.03150142356753349\n",
      "Epoch [2/10], Step [20/25], Loss: 0.038679614663124084\n",
      "Epoch [3/10], Step [10/25], Loss: 0.07762899994850159\n",
      "Epoch [3/10], Step [20/25], Loss: 0.06423167884349823\n",
      "Epoch [4/10], Step [10/25], Loss: 0.0604734942317009\n",
      "Epoch [4/10], Step [20/25], Loss: 0.060421548783779144\n",
      "Epoch [5/10], Step [10/25], Loss: 0.06020818650722504\n",
      "Epoch [5/10], Step [20/25], Loss: 0.07673538476228714\n",
      "Epoch [6/10], Step [10/25], Loss: 0.0803556889295578\n",
      "Epoch [6/10], Step [20/25], Loss: 0.06192980334162712\n",
      "Epoch [7/10], Step [10/25], Loss: 0.03615961968898773\n",
      "Epoch [7/10], Step [20/25], Loss: 0.08683326840400696\n",
      "Epoch [8/10], Step [10/25], Loss: 0.12857846915721893\n",
      "Epoch [8/10], Step [20/25], Loss: 0.05027953162789345\n",
      "Epoch [9/10], Step [10/25], Loss: 0.08575171232223511\n",
      "Epoch [9/10], Step [20/25], Loss: 0.03999336063861847\n",
      "Epoch [10/10], Step [10/25], Loss: 0.058188553899526596\n",
      "Epoch [10/10], Step [20/25], Loss: 0.0583835206925869\n"
     ]
    }
   ],
   "source": [
    "import torch\n",
    "from torch import nn\n",
    "import torch.optim as optim\n",
    "\n",
    "# Set device\n",
    "device = torch.device('cuda' if torch.cuda.is_available() else 'cpu')\n",
    "device = 'mps' if torch.backends.mps.is_available() else 'cpu'\n",
    "\n",
    "model = Unet()\n",
    "\n",
    "# Move model to the device\n",
    "model = model.to(device)\n",
    "\n",
    "# Set the loss function\n",
    "criterion = nn.BCEWithLogitsLoss()\n",
    "\n",
    "# Create the Adam optimizer\n",
    "optimizer = optim.Adam(model.parameters(), lr=0.001)\n",
    "\n",
    "# Number of epochs\n",
    "num_epochs = 10\n",
    "\n",
    "# Training loop\n",
    "for epoch in range(num_epochs):\n",
    "    for i, batch in enumerate(streaks_train_dataloader):\n",
    "        images, masks = batch['image'], batch['mask']\n",
    "\n",
    "        # Move images and masks to the device\n",
    "        images = images.to(device)\n",
    "        masks = masks.to(device)\n",
    "\n",
    "        # Forward pass\n",
    "        outputs = model(images)\n",
    "        loss = criterion(outputs, masks)\n",
    "\n",
    "        # Backward and optimize\n",
    "        optimizer.zero_grad()\n",
    "        loss.backward()\n",
    "        optimizer.step()\n",
    "\n",
    "        # Print loss value every 10 batches\n",
    "        if (i+1) % 10 == 0:\n",
    "            print (f\"Epoch [{epoch+1}/{num_epochs}], Step [{i+1}/{len(streaks_train_dataloader)}], Loss: {loss.item()}\")"
   ]
  },
  {
   "cell_type": "markdown",
   "metadata": {},
   "source": [
    "## More advanced training loop setup\n",
    "With training on a specific class attribute dataset instead of full dataset like above"
   ]
  },
  {
   "cell_type": "code",
   "execution_count": 6,
   "metadata": {},
   "outputs": [
    {
     "name": "stderr",
     "output_type": "stream",
     "text": [
      "/opt/conda/lib/python3.11/site-packages/datasets/load.py:1454: FutureWarning: The repository for jtz18/skin-lesion contains custom code which must be executed to correctly load the dataset. You can inspect the repository content at https://hf.co/datasets/jtz18/skin-lesion\n",
      "You can avoid this message in future by passing the argument `trust_remote_code=True`.\n",
      "Passing `trust_remote_code=True` will be mandatory to load this dataset from the next major release of `datasets`.\n",
      "  warnings.warn(\n"
     ]
    },
    {
     "data": {
      "text/plain": [
       "DatasetDict({\n",
       "    train: Dataset({\n",
       "        features: ['image', 'label'],\n",
       "        num_rows: 1242\n",
       "    })\n",
       "    validation: Dataset({\n",
       "        features: ['image', 'label'],\n",
       "        num_rows: 100\n",
       "    })\n",
       "    test: Dataset({\n",
       "        features: ['image', 'label'],\n",
       "        num_rows: 1000\n",
       "    })\n",
       "})"
      ]
     },
     "execution_count": 6,
     "metadata": {},
     "output_type": "execute_result"
    }
   ],
   "source": [
    "from datasets import load_dataset\n",
    "import numpy as np\n",
    "\n",
    "# Load the dataset\n",
    "dataset = load_dataset(\"jtz18/skin-lesion\", \"task1\")\n",
    "dataset"
   ]
  },
  {
   "cell_type": "code",
   "execution_count": 7,
   "metadata": {},
   "outputs": [],
   "source": [
    "class OneClassDataset(torch.utils.data.Dataset):\n",
    "    def __init__(self, dataset=None, split=\"train\", transform=None):\n",
    "        self.dataset = dataset\n",
    "        self.split = split\n",
    "        self.transform = transform\n",
    "\n",
    "    def __len__(self):\n",
    "        return len(self.dataset[self.split])\n",
    "\n",
    "    def __getitem__(self, idx):\n",
    "        sample = self.dataset[self.split][idx]\n",
    "        image = sample['image']\n",
    "        mask = sample['label']\n",
    "        image = np.array(image.convert('RGB'))\n",
    "        mask = np.array(mask.convert('L'), dtype=np.float32)\n",
    "        mask[mask == 255.0] = 1.0\n",
    "\n",
    "        if self.transform:\n",
    "            augmentations = self.transform(image=image, mask=mask)\n",
    "            image = augmentations['image']\n",
    "            mask = augmentations['mask']\n",
    "\n",
    "        return image, mask"
   ]
  },
  {
   "cell_type": "code",
   "execution_count": 8,
   "metadata": {},
   "outputs": [],
   "source": [
    "import os\n",
    "import torch\n",
    "import torchvision\n",
    "from torch.utils.data import DataLoader\n",
    "import wandb\n",
    "\n",
    "def save_checkpoint(state, filename=\"my_checkpoint.pth.tar\"):\n",
    "    print(\"=> Saving checkpoint\")\n",
    "    filename = \"my_checkpoint.pth.tar\"\n",
    "    torch.save(state, filename)\n",
    "\n",
    "def load_checkpoint(checkpoint, model):\n",
    "    print(\"=> Loading checkpoint\")\n",
    "    model.load_state_dict(checkpoint[\"state_dict\"])\n",
    "\n",
    "def get_loaders(\n",
    "    batch_size,\n",
    "    train_transform,\n",
    "    val_transform,\n",
    "    num_workers=4,\n",
    "    pin_memory=True,\n",
    "):\n",
    "    train_ds = OneClassDataset(\n",
    "        dataset=dataset,\n",
    "        split=\"train\",\n",
    "        transform=train_transform,\n",
    "    )\n",
    "\n",
    "    train_loader = DataLoader(\n",
    "        train_ds,\n",
    "        batch_size=batch_size,\n",
    "        num_workers=num_workers,\n",
    "        pin_memory=pin_memory,\n",
    "        shuffle=True,\n",
    "    )\n",
    "\n",
    "    val_ds = OneClassDataset(\n",
    "        dataset=dataset,\n",
    "        split=\"validation\",\n",
    "        transform=val_transform,\n",
    "    )\n",
    "\n",
    "    val_loader = DataLoader(\n",
    "        val_ds,\n",
    "        batch_size=batch_size,\n",
    "        num_workers=num_workers,\n",
    "        pin_memory=pin_memory,\n",
    "        shuffle=False,\n",
    "    )\n",
    "\n",
    "    test_ds = OneClassDataset(\n",
    "        dataset=dataset,\n",
    "        split=\"test\",\n",
    "        transform=val_transform,\n",
    "    )\n",
    "\n",
    "    test_loader = DataLoader(\n",
    "        test_ds,\n",
    "        batch_size=batch_size,\n",
    "        num_workers=num_workers,\n",
    "        pin_memory=pin_memory,\n",
    "        shuffle=False,\n",
    "    )\n",
    "\n",
    "    return train_loader, val_loader, test_loader\n",
    "\n",
    "def check_accuracy(loader, model, device=\"cuda\"):\n",
    "    num_correct = 0\n",
    "    num_pixels = 0\n",
    "    dice_score = 0\n",
    "    iou_score = 0\n",
    "    model.eval()\n",
    "\n",
    "    with torch.no_grad():\n",
    "        for x, y in loader:\n",
    "            x = x.to(device)\n",
    "            y = y.to(device).unsqueeze(1)\n",
    "            preds = torch.sigmoid(model(x))\n",
    "            preds = (preds > 0.5).float()\n",
    "            num_correct += (preds == y).sum()\n",
    "            num_pixels += torch.numel(preds)\n",
    "            dice_score += (2 * (preds * y).sum()) / (\n",
    "                (preds + y).sum() + 1e-8\n",
    "            )\n",
    "            iou_score += iou_pytorch(preds, y)  # Calculate IoU score for the batch\n",
    "\n",
    "    pixel_accuracy = num_correct / num_pixels * 100\n",
    "    print(f\"dice_score: {dice_score}\")\n",
    "    dice_score = dice_score / len(loader)\n",
    "    print(f\"Got {num_correct}/{num_pixels} with acc {pixel_accuracy:.2f}\")\n",
    "    wandb.log({\"Pixel Accuracy\": pixel_accuracy})\n",
    "    print(f\"Dice score: {dice_score}\")\n",
    "    wandb.log({\"Dice Score\": dice_score})\n",
    "    print(f\"IoU score: {iou_score}\")  # Print IoU score to the console\n",
    "    wandb.log({\"IoU Score\": iou_score})\n",
    "    model.train()\n",
    "\n",
    "def iou_pytorch(outputs: torch.Tensor, labels: torch.Tensor):\n",
    "    # Convert tensors to 'Bool' type\n",
    "    outputs_int = outputs.int()\n",
    "    labels_int = labels.int()\n",
    "\n",
    "    intersection = (outputs_int & labels_int).float().sum((1, 2))  # Will be zero if Truth=0 or Prediction=0\n",
    "    union = (outputs_int | labels_int).float().sum((1, 2))  # Will be zero if both are 0\n",
    "\n",
    "    iou = (intersection + 1e-6) / (union + 1e-6)  # We smooth our division to avoid 0/0\n",
    "\n",
    "    return iou.mean()  # Average over the batch\n",
    "\n",
    "\n",
    "def save_predictions_as_imgs(\n",
    "    loader, model, folder=\"saved_images\", device=\"cuda\"\n",
    "):\n",
    "\n",
    "    # Create directory if it doesn't exist\n",
    "    if not os.path.exists(folder):\n",
    "        os.makedirs(folder)\n",
    "\n",
    "    model.eval()\n",
    "    for idx, (x, y) in enumerate(loader):\n",
    "        x = x.to(device=device)\n",
    "        with torch.no_grad():\n",
    "            preds = torch.sigmoid(model(x))\n",
    "            preds = (preds > 0.5).float()\n",
    "            # print(f\"pred_shape: {preds.shape}\")\n",
    "            # print(f\"y_shape: {y.shape}\")\n",
    "\n",
    "        torchvision.utils.save_image(\n",
    "            preds, f\"{folder}/pred_{idx}.png\"\n",
    "        )\n",
    "        torchvision.utils.save_image(y.unsqueeze(1), f\"{folder}/{idx}.png\")\n",
    "\n",
    "    model.train()"
   ]
  },
  {
   "cell_type": "code",
   "execution_count": 9,
   "metadata": {},
   "outputs": [
    {
     "name": "stderr",
     "output_type": "stream",
     "text": [
      "\u001b[34m\u001b[1mwandb\u001b[0m: Currently logged in as: \u001b[33mjtz18\u001b[0m (\u001b[33mjooz-cave\u001b[0m). Use \u001b[1m`wandb login --relogin`\u001b[0m to force relogin\n"
     ]
    },
    {
     "data": {
      "text/html": [
       "Tracking run with wandb version 0.16.3"
      ],
      "text/plain": [
       "<IPython.core.display.HTML object>"
      ]
     },
     "metadata": {},
     "output_type": "display_data"
    },
    {
     "data": {
      "text/html": [
       "Run data is saved locally in <code>/home/jovyan/wandb/run-20240225_212201-slntdymt</code>"
      ],
      "text/plain": [
       "<IPython.core.display.HTML object>"
      ]
     },
     "metadata": {},
     "output_type": "display_data"
    },
    {
     "data": {
      "text/html": [
       "Syncing run <strong><a href='https://wandb.ai/jooz-cave/unet-skin-lesion/runs/slntdymt' target=\"_blank\">azure-sun-42</a></strong> to <a href='https://wandb.ai/jooz-cave/unet-skin-lesion' target=\"_blank\">Weights & Biases</a> (<a href='https://wandb.me/run' target=\"_blank\">docs</a>)<br/>"
      ],
      "text/plain": [
       "<IPython.core.display.HTML object>"
      ]
     },
     "metadata": {},
     "output_type": "display_data"
    },
    {
     "data": {
      "text/html": [
       " View project at <a href='https://wandb.ai/jooz-cave/unet-skin-lesion' target=\"_blank\">https://wandb.ai/jooz-cave/unet-skin-lesion</a>"
      ],
      "text/plain": [
       "<IPython.core.display.HTML object>"
      ]
     },
     "metadata": {},
     "output_type": "display_data"
    },
    {
     "data": {
      "text/html": [
       " View run at <a href='https://wandb.ai/jooz-cave/unet-skin-lesion/runs/slntdymt' target=\"_blank\">https://wandb.ai/jooz-cave/unet-skin-lesion/runs/slntdymt</a>"
      ],
      "text/plain": [
       "<IPython.core.display.HTML object>"
      ]
     },
     "metadata": {},
     "output_type": "display_data"
    }
   ],
   "source": [
    "# Hyperparameters etc.\n",
    "import wandb\n",
    "\n",
    "if torch.cuda.is_available():\n",
    "    device = torch.device(\"cuda\")\n",
    "elif torch.backends.mps.is_available():\n",
    "    device = torch.device(\"mps\")\n",
    "else:\n",
    "    device = torch.device(\"cpu\")\n",
    "\n",
    "LEARNING_RATE = 1e-3\n",
    "\n",
    "DEVICE = device\n",
    "BATCH_SIZE = 8\n",
    "\n",
    "NUM_EPOCHS = 1000\n",
    "\n",
    "NUM_WORKERS = 2\n",
    "\n",
    "IMAGE_HEIGHT = 256\n",
    "IMAGE_WIDTH = 256\n",
    "\n",
    "PIN_MEMORY = True\n",
    "LOAD_MODEL = False\n",
    "CHECKPOINT_FILENAME = \"None\"   # Model checkpoint filename if LOAD is True\n",
    "CLASS = \"task1\"\n",
    "MODEL = \"MALUNet\"\n",
    "\n",
    "# Initialize a new run\n",
    "run = wandb.init(project=\"unet-skin-lesion\", config={\n",
    "    \"learning_rate\": LEARNING_RATE,\n",
    "    \"device\": DEVICE,\n",
    "    \"batch_size\": BATCH_SIZE,\n",
    "    \"num_epochs\": NUM_EPOCHS,\n",
    "    \"num_workers\": NUM_WORKERS,\n",
    "    \"image_height\": IMAGE_HEIGHT,\n",
    "    \"image_width\": IMAGE_WIDTH,\n",
    "    \"pin_memory\": PIN_MEMORY,\n",
    "    \"load_model\": LOAD_MODEL,\n",
    "    \"checkpoint_filename\": CHECKPOINT_FILENAME,\n",
    "    \"class\": CLASS,\n",
    "    \"model\": MODEL\n",
    "})"
   ]
  },
  {
   "cell_type": "code",
   "execution_count": 10,
   "metadata": {},
   "outputs": [],
   "source": [
    "from tqdm import tqdm\n",
    "def train_fn(loader, model, optimizer, loss_fn, scaler):\n",
    "    loop = tqdm(loader)\n",
    "\n",
    "    for batch_idx, (data, targets) in enumerate(loop):\n",
    "        data = data.to(device=DEVICE)\n",
    "        targets = targets.float().unsqueeze(1).to(device=DEVICE)\n",
    "\n",
    "        # forward\n",
    "        with torch.cuda.amp.autocast():\n",
    "            predictions = model(data)\n",
    "            loss = loss_fn(predictions, targets)\n",
    "            wandb.log({\"Training Loss\": loss})\n",
    "\n",
    "        # backward\n",
    "        optimizer.zero_grad()\n",
    "        scaler.scale(loss).backward()\n",
    "        scaler.step(optimizer)\n",
    "        scaler.update()\n",
    "\n",
    "        # update tqdm loop\n",
    "        loop.set_postfix(loss=loss.item())"
   ]
  },
  {
   "cell_type": "code",
   "execution_count": null,
   "metadata": {},
   "outputs": [
    {
     "name": "stdout",
     "output_type": "stream",
     "text": [
      "SC_Att_Bridge was used\n",
      "dice_score: 5.346303939819336\n",
      "Got 1760655/6553600 with acc 26.87\n",
      "Dice score: 0.4112541675567627\n",
      "IoU score: 3.440263271331787\n"
     ]
    },
    {
     "name": "stderr",
     "output_type": "stream",
     "text": [
      "100%|██████████| 156/156 [02:42<00:00,  1.04s/it, loss=0.63] \n"
     ]
    },
    {
     "name": "stdout",
     "output_type": "stream",
     "text": [
      "=> Saving checkpoint\n",
      "dice_score: 5.694303035736084\n",
      "Got 2361589/6553600 with acc 36.03\n",
      "Dice score: 0.43802332878112793\n",
      "IoU score: 3.7619292736053467\n"
     ]
    },
    {
     "name": "stderr",
     "output_type": "stream",
     "text": [
      "100%|██████████| 156/156 [02:33<00:00,  1.02it/s, loss=0.631]\n"
     ]
    },
    {
     "name": "stdout",
     "output_type": "stream",
     "text": [
      "=> Saving checkpoint\n",
      "dice_score: 5.853558540344238\n",
      "Got 2602455/6553600 with acc 39.71\n",
      "Dice score: 0.4502737522125244\n",
      "IoU score: 3.8347911834716797\n"
     ]
    },
    {
     "name": "stderr",
     "output_type": "stream",
     "text": [
      "100%|██████████| 156/156 [02:30<00:00,  1.04it/s, loss=0.585]\n"
     ]
    },
    {
     "name": "stdout",
     "output_type": "stream",
     "text": [
      "=> Saving checkpoint\n",
      "dice_score: 5.780799388885498\n",
      "Got 2469803/6553600 with acc 37.69\n",
      "Dice score: 0.4446769058704376\n",
      "IoU score: 3.8519887924194336\n"
     ]
    },
    {
     "name": "stderr",
     "output_type": "stream",
     "text": [
      "100%|██████████| 156/156 [02:31<00:00,  1.03it/s, loss=0.656]\n"
     ]
    },
    {
     "name": "stdout",
     "output_type": "stream",
     "text": [
      "=> Saving checkpoint\n",
      "dice_score: 6.0152997970581055\n",
      "Got 2814529/6553600 with acc 42.95\n",
      "Dice score: 0.46271538734436035\n",
      "IoU score: 3.9569296836853027\n"
     ]
    },
    {
     "name": "stderr",
     "output_type": "stream",
     "text": [
      "100%|██████████| 156/156 [02:35<00:00,  1.00it/s, loss=0.688]\n"
     ]
    },
    {
     "name": "stdout",
     "output_type": "stream",
     "text": [
      "=> Saving checkpoint\n",
      "dice_score: 6.057427883148193\n",
      "Got 2864435/6553600 with acc 43.71\n",
      "Dice score: 0.4659560024738312\n",
      "IoU score: 3.9081501960754395\n"
     ]
    },
    {
     "name": "stderr",
     "output_type": "stream",
     "text": [
      "100%|██████████| 156/156 [02:30<00:00,  1.04it/s, loss=0.708]\n"
     ]
    },
    {
     "name": "stdout",
     "output_type": "stream",
     "text": [
      "=> Saving checkpoint\n",
      "dice_score: 5.981679439544678\n",
      "Got 2739929/6553600 with acc 41.81\n",
      "Dice score: 0.4601292014122009\n",
      "IoU score: 3.906081438064575\n"
     ]
    },
    {
     "name": "stderr",
     "output_type": "stream",
     "text": [
      "100%|██████████| 156/156 [02:40<00:00,  1.03s/it, loss=0.692]\n"
     ]
    },
    {
     "name": "stdout",
     "output_type": "stream",
     "text": [
      "=> Saving checkpoint\n",
      "dice_score: 6.1681647300720215\n",
      "Got 2994967/6553600 with acc 45.70\n",
      "Dice score: 0.4744742214679718\n",
      "IoU score: 3.9708144664764404\n"
     ]
    },
    {
     "name": "stderr",
     "output_type": "stream",
     "text": [
      "100%|██████████| 156/156 [02:39<00:00,  1.02s/it, loss=0.652]\n"
     ]
    },
    {
     "name": "stdout",
     "output_type": "stream",
     "text": [
      "=> Saving checkpoint\n",
      "dice_score: 5.895998477935791\n",
      "Got 2610997/6553600 with acc 39.84\n",
      "Dice score: 0.45353835821151733\n",
      "IoU score: 3.838045835494995\n"
     ]
    },
    {
     "name": "stderr",
     "output_type": "stream",
     "text": [
      "100%|██████████| 156/156 [02:41<00:00,  1.03s/it, loss=0.582]\n"
     ]
    },
    {
     "name": "stdout",
     "output_type": "stream",
     "text": [
      "=> Saving checkpoint\n",
      "dice_score: 5.9344868659973145\n",
      "Got 2667415/6553600 with acc 40.70\n",
      "Dice score: 0.45649901032447815\n",
      "IoU score: 3.8484890460968018\n"
     ]
    },
    {
     "name": "stderr",
     "output_type": "stream",
     "text": [
      "100%|██████████| 156/156 [02:33<00:00,  1.02it/s, loss=0.624]\n"
     ]
    },
    {
     "name": "stdout",
     "output_type": "stream",
     "text": [
      "=> Saving checkpoint\n",
      "dice_score: 5.932861328125\n",
      "Got 2642085/6553600 with acc 40.32\n",
      "Dice score: 0.4563739597797394\n",
      "IoU score: 3.861081123352051\n"
     ]
    },
    {
     "name": "stderr",
     "output_type": "stream",
     "text": [
      "100%|██████████| 156/156 [02:37<00:00,  1.01s/it, loss=0.655]\n"
     ]
    },
    {
     "name": "stdout",
     "output_type": "stream",
     "text": [
      "=> Saving checkpoint\n",
      "dice_score: 5.962432861328125\n",
      "Got 2682904/6553600 with acc 40.94\n",
      "Dice score: 0.4586487114429474\n",
      "IoU score: 3.8745462894439697\n"
     ]
    },
    {
     "name": "stderr",
     "output_type": "stream",
     "text": [
      "100%|██████████| 156/156 [02:38<00:00,  1.02s/it, loss=0.601]\n"
     ]
    },
    {
     "name": "stdout",
     "output_type": "stream",
     "text": [
      "=> Saving checkpoint\n",
      "dice_score: 6.132758617401123\n",
      "Got 2922405/6553600 with acc 44.59\n",
      "Dice score: 0.4717506766319275\n",
      "IoU score: 3.9458749294281006\n"
     ]
    },
    {
     "name": "stderr",
     "output_type": "stream",
     "text": [
      "100%|██████████| 156/156 [02:39<00:00,  1.02s/it, loss=0.589]\n"
     ]
    },
    {
     "name": "stdout",
     "output_type": "stream",
     "text": [
      "=> Saving checkpoint\n",
      "dice_score: 6.060774803161621\n",
      "Got 2801402/6553600 with acc 42.75\n",
      "Dice score: 0.4662134647369385\n",
      "IoU score: 3.8870365619659424\n"
     ]
    },
    {
     "name": "stderr",
     "output_type": "stream",
     "text": [
      "100%|██████████| 156/156 [02:40<00:00,  1.03s/it, loss=0.639]\n"
     ]
    },
    {
     "name": "stdout",
     "output_type": "stream",
     "text": [
      "=> Saving checkpoint\n",
      "dice_score: 6.214846134185791\n",
      "Got 3020478/6553600 with acc 46.09\n",
      "Dice score: 0.4780651032924652\n",
      "IoU score: 3.9621217250823975\n"
     ]
    },
    {
     "name": "stderr",
     "output_type": "stream",
     "text": [
      "100%|██████████| 156/156 [02:33<00:00,  1.02it/s, loss=0.68] \n"
     ]
    },
    {
     "name": "stdout",
     "output_type": "stream",
     "text": [
      "=> Saving checkpoint\n",
      "dice_score: 6.475934028625488\n",
      "Got 3302420/6553600 with acc 50.39\n",
      "Dice score: 0.4981487989425659\n",
      "IoU score: 4.115118503570557\n"
     ]
    },
    {
     "name": "stderr",
     "output_type": "stream",
     "text": [
      "100%|██████████| 156/156 [02:34<00:00,  1.01it/s, loss=0.63] \n"
     ]
    },
    {
     "name": "stdout",
     "output_type": "stream",
     "text": [
      "=> Saving checkpoint\n",
      "dice_score: 5.999640941619873\n",
      "Got 2719114/6553600 with acc 41.49\n",
      "Dice score: 0.46151086688041687\n",
      "IoU score: 3.862846612930298\n"
     ]
    },
    {
     "name": "stderr",
     "output_type": "stream",
     "text": [
      "100%|██████████| 156/156 [02:34<00:00,  1.01it/s, loss=0.657]\n"
     ]
    },
    {
     "name": "stdout",
     "output_type": "stream",
     "text": [
      "=> Saving checkpoint\n",
      "dice_score: 6.438022613525391\n",
      "Got 3261608/6553600 with acc 49.77\n",
      "Dice score: 0.4952325224876404\n",
      "IoU score: 4.073395252227783\n"
     ]
    },
    {
     "name": "stderr",
     "output_type": "stream",
     "text": [
      "100%|██████████| 156/156 [02:34<00:00,  1.01it/s, loss=0.58] \n"
     ]
    },
    {
     "name": "stdout",
     "output_type": "stream",
     "text": [
      "=> Saving checkpoint\n",
      "dice_score: 6.5321550369262695\n",
      "Got 3331506/6553600 with acc 50.83\n",
      "Dice score: 0.5024734735488892\n",
      "IoU score: 4.098857879638672\n"
     ]
    },
    {
     "name": "stderr",
     "output_type": "stream",
     "text": [
      "100%|██████████| 156/156 [02:32<00:00,  1.02it/s, loss=0.607]\n"
     ]
    },
    {
     "name": "stdout",
     "output_type": "stream",
     "text": [
      "=> Saving checkpoint\n",
      "dice_score: 6.471959590911865\n",
      "Got 3290424/6553600 with acc 50.21\n",
      "Dice score: 0.49784305691719055\n",
      "IoU score: 4.062647819519043\n"
     ]
    },
    {
     "name": "stderr",
     "output_type": "stream",
     "text": [
      "100%|██████████| 156/156 [02:43<00:00,  1.05s/it, loss=0.644]\n"
     ]
    },
    {
     "name": "stdout",
     "output_type": "stream",
     "text": [
      "=> Saving checkpoint\n",
      "dice_score: 6.486825466156006\n",
      "Got 3273222/6553600 with acc 49.95\n",
      "Dice score: 0.4989866018295288\n",
      "IoU score: 4.198835849761963\n"
     ]
    },
    {
     "name": "stderr",
     "output_type": "stream",
     "text": [
      "100%|██████████| 156/156 [02:31<00:00,  1.03it/s, loss=0.649]\n"
     ]
    },
    {
     "name": "stdout",
     "output_type": "stream",
     "text": [
      "=> Saving checkpoint\n",
      "dice_score: 7.002712249755859\n",
      "Got 3794047/6553600 with acc 57.89\n",
      "Dice score: 0.5386701822280884\n",
      "IoU score: 4.402969837188721\n"
     ]
    },
    {
     "name": "stderr",
     "output_type": "stream",
     "text": [
      "100%|██████████| 156/156 [02:38<00:00,  1.01s/it, loss=0.656]\n"
     ]
    },
    {
     "name": "stdout",
     "output_type": "stream",
     "text": [
      "=> Saving checkpoint\n",
      "dice_score: 6.159862995147705\n",
      "Got 2894464/6553600 with acc 44.17\n",
      "Dice score: 0.47383564710617065\n",
      "IoU score: 3.902574062347412\n"
     ]
    },
    {
     "name": "stderr",
     "output_type": "stream",
     "text": [
      "100%|██████████| 156/156 [02:38<00:00,  1.02s/it, loss=0.585]\n"
     ]
    },
    {
     "name": "stdout",
     "output_type": "stream",
     "text": [
      "=> Saving checkpoint\n",
      "dice_score: 6.771317481994629\n",
      "Got 3565456/6553600 with acc 54.40\n",
      "Dice score: 0.520870566368103\n",
      "IoU score: 4.31122350692749\n"
     ]
    },
    {
     "name": "stderr",
     "output_type": "stream",
     "text": [
      "100%|██████████| 156/156 [02:29<00:00,  1.04it/s, loss=0.683]\n"
     ]
    },
    {
     "name": "stdout",
     "output_type": "stream",
     "text": [
      "=> Saving checkpoint\n",
      "dice_score: 7.289477825164795\n",
      "Got 4048197/6553600 with acc 61.77\n",
      "Dice score: 0.5607290863990784\n",
      "IoU score: 4.537423133850098\n"
     ]
    },
    {
     "name": "stderr",
     "output_type": "stream",
     "text": [
      "100%|██████████| 156/156 [02:34<00:00,  1.01it/s, loss=0.674]\n"
     ]
    },
    {
     "name": "stdout",
     "output_type": "stream",
     "text": [
      "=> Saving checkpoint\n",
      "dice_score: 6.6259026527404785\n",
      "Got 3410699/6553600 with acc 52.04\n",
      "Dice score: 0.5096848607063293\n",
      "IoU score: 4.2074480056762695\n"
     ]
    },
    {
     "name": "stderr",
     "output_type": "stream",
     "text": [
      "100%|██████████| 156/156 [02:35<00:00,  1.01it/s, loss=0.653]\n"
     ]
    },
    {
     "name": "stdout",
     "output_type": "stream",
     "text": [
      "=> Saving checkpoint\n",
      "dice_score: 6.8706889152526855\n",
      "Got 3672417/6553600 with acc 56.04\n",
      "Dice score: 0.528514564037323\n",
      "IoU score: 4.292210102081299\n"
     ]
    },
    {
     "name": "stderr",
     "output_type": "stream",
     "text": [
      "100%|██████████| 156/156 [02:49<00:00,  1.09s/it, loss=0.619]\n"
     ]
    },
    {
     "name": "stdout",
     "output_type": "stream",
     "text": [
      "=> Saving checkpoint\n",
      "dice_score: 7.2100300788879395\n",
      "Got 3970307/6553600 with acc 60.58\n",
      "Dice score: 0.554617702960968\n",
      "IoU score: 4.401196002960205\n"
     ]
    },
    {
     "name": "stderr",
     "output_type": "stream",
     "text": [
      "100%|██████████| 156/156 [02:33<00:00,  1.02it/s, loss=0.675]\n"
     ]
    },
    {
     "name": "stdout",
     "output_type": "stream",
     "text": [
      "=> Saving checkpoint\n",
      "dice_score: 7.029622554779053\n",
      "Got 3811487/6553600 with acc 58.16\n",
      "Dice score: 0.5407401919364929\n",
      "IoU score: 4.299639701843262\n"
     ]
    },
    {
     "name": "stderr",
     "output_type": "stream",
     "text": [
      "100%|██████████| 156/156 [02:30<00:00,  1.04it/s, loss=0.681]\n"
     ]
    },
    {
     "name": "stdout",
     "output_type": "stream",
     "text": [
      "=> Saving checkpoint\n",
      "dice_score: 6.029050350189209\n",
      "Got 2727275/6553600 with acc 41.61\n",
      "Dice score: 0.46377313137054443\n",
      "IoU score: 3.837174654006958\n"
     ]
    },
    {
     "name": "stderr",
     "output_type": "stream",
     "text": [
      " 17%|█▋        | 27/156 [00:26<02:08,  1.01it/s, loss=0.653]IOPub message rate exceeded.\n",
      "The Jupyter server will temporarily stop sending output\n",
      "to the client in order to avoid crashing it.\n",
      "To change this limit, set the config variable\n",
      "`--ServerApp.iopub_msg_rate_limit`.\n",
      "\n",
      "Current values:\n",
      "ServerApp.iopub_msg_rate_limit=1000.0 (msgs/sec)\n",
      "ServerApp.rate_limit_window=3.0 (secs)\n",
      "\n",
      "100%|██████████| 156/156 [02:35<00:00,  1.01it/s, loss=0.638]\n"
     ]
    },
    {
     "name": "stdout",
     "output_type": "stream",
     "text": [
      "=> Saving checkpoint\n",
      "dice_score: 7.447805881500244\n",
      "Got 4155246/6553600 with acc 63.40\n",
      "Dice score: 0.5729081630706787\n",
      "IoU score: 4.448403358459473\n"
     ]
    },
    {
     "name": "stderr",
     "output_type": "stream",
     "text": [
      "100%|██████████| 156/156 [02:32<00:00,  1.02it/s, loss=0.681]\n"
     ]
    },
    {
     "name": "stdout",
     "output_type": "stream",
     "text": [
      "=> Saving checkpoint\n",
      "dice_score: 6.951318740844727\n",
      "Got 3724554/6553600 with acc 56.83\n",
      "Dice score: 0.5347168445587158\n",
      "IoU score: 4.241620063781738\n"
     ]
    },
    {
     "name": "stderr",
     "output_type": "stream",
     "text": [
      "100%|██████████| 156/156 [02:28<00:00,  1.05it/s, loss=0.597]\n"
     ]
    },
    {
     "name": "stdout",
     "output_type": "stream",
     "text": [
      "=> Saving checkpoint\n",
      "dice_score: 6.871482849121094\n",
      "Got 3659024/6553600 with acc 55.83\n",
      "Dice score: 0.528575599193573\n",
      "IoU score: 4.334383010864258\n"
     ]
    },
    {
     "name": "stderr",
     "output_type": "stream",
     "text": [
      "100%|██████████| 156/156 [02:35<00:00,  1.01it/s, loss=0.684]\n"
     ]
    },
    {
     "name": "stdout",
     "output_type": "stream",
     "text": [
      "=> Saving checkpoint\n",
      "dice_score: 6.874057292938232\n",
      "Got 3673414/6553600 with acc 56.05\n",
      "Dice score: 0.5287736654281616\n",
      "IoU score: 4.279032230377197\n"
     ]
    },
    {
     "name": "stderr",
     "output_type": "stream",
     "text": [
      "100%|██████████| 156/156 [02:30<00:00,  1.04it/s, loss=0.595]\n"
     ]
    },
    {
     "name": "stdout",
     "output_type": "stream",
     "text": [
      "=> Saving checkpoint\n",
      "dice_score: 6.582093238830566\n",
      "Got 3375634/6553600 with acc 51.51\n",
      "Dice score: 0.5063148736953735\n",
      "IoU score: 4.056323528289795\n"
     ]
    },
    {
     "name": "stderr",
     "output_type": "stream",
     "text": [
      "100%|██████████| 156/156 [02:35<00:00,  1.00it/s, loss=0.656]\n"
     ]
    },
    {
     "name": "stdout",
     "output_type": "stream",
     "text": [
      "=> Saving checkpoint\n",
      "dice_score: 7.309761047363281\n",
      "Got 4044179/6553600 with acc 61.71\n",
      "Dice score: 0.5622893571853638\n",
      "IoU score: 4.496669292449951\n"
     ]
    },
    {
     "name": "stderr",
     "output_type": "stream",
     "text": [
      "100%|██████████| 156/156 [02:38<00:00,  1.02s/it, loss=0.653]\n"
     ]
    },
    {
     "name": "stdout",
     "output_type": "stream",
     "text": [
      "=> Saving checkpoint\n",
      "dice_score: 7.662719249725342\n",
      "Got 4333628/6553600 with acc 66.13\n",
      "Dice score: 0.5894399881362915\n",
      "IoU score: 4.57452917098999\n"
     ]
    },
    {
     "name": "stderr",
     "output_type": "stream",
     "text": [
      "100%|██████████| 156/156 [02:32<00:00,  1.02it/s, loss=0.584]\n"
     ]
    },
    {
     "name": "stdout",
     "output_type": "stream",
     "text": [
      "=> Saving checkpoint\n",
      "dice_score: 6.9646196365356445\n",
      "Got 3764280/6553600 with acc 57.44\n",
      "Dice score: 0.5357400178909302\n",
      "IoU score: 4.205731391906738\n"
     ]
    },
    {
     "name": "stderr",
     "output_type": "stream",
     "text": [
      "100%|██████████| 156/156 [02:27<00:00,  1.06it/s, loss=0.588]\n"
     ]
    },
    {
     "name": "stdout",
     "output_type": "stream",
     "text": [
      "=> Saving checkpoint\n",
      "dice_score: 8.058258056640625\n",
      "Got 4610255/6553600 with acc 70.35\n",
      "Dice score: 0.6198660135269165\n",
      "IoU score: 4.835207939147949\n"
     ]
    },
    {
     "name": "stderr",
     "output_type": "stream",
     "text": [
      "100%|██████████| 156/156 [02:30<00:00,  1.03it/s, loss=0.678]\n"
     ]
    },
    {
     "name": "stdout",
     "output_type": "stream",
     "text": [
      "=> Saving checkpoint\n",
      "dice_score: 6.948192119598389\n",
      "Got 3745449/6553600 with acc 57.15\n",
      "Dice score: 0.5344763398170471\n",
      "IoU score: 4.139375686645508\n"
     ]
    },
    {
     "name": "stderr",
     "output_type": "stream",
     "text": [
      "100%|██████████| 156/156 [02:34<00:00,  1.01it/s, loss=0.63] \n"
     ]
    },
    {
     "name": "stdout",
     "output_type": "stream",
     "text": [
      "=> Saving checkpoint\n",
      "dice_score: 8.757576942443848\n",
      "Got 5039003/6553600 with acc 76.89\n",
      "Dice score: 0.6736598014831543\n",
      "IoU score: 4.8604416847229\n"
     ]
    },
    {
     "name": "stderr",
     "output_type": "stream",
     "text": [
      "100%|██████████| 156/156 [02:37<00:00,  1.01s/it, loss=0.633]\n"
     ]
    },
    {
     "name": "stdout",
     "output_type": "stream",
     "text": [
      "=> Saving checkpoint\n",
      "dice_score: 6.908015251159668\n",
      "Got 3681556/6553600 with acc 56.18\n",
      "Dice score: 0.5313857793807983\n",
      "IoU score: 4.3260016441345215\n"
     ]
    },
    {
     "name": "stderr",
     "output_type": "stream",
     "text": [
      "100%|██████████| 156/156 [02:28<00:00,  1.05it/s, loss=0.608]\n"
     ]
    },
    {
     "name": "stdout",
     "output_type": "stream",
     "text": [
      "=> Saving checkpoint\n",
      "dice_score: 7.516485214233398\n",
      "Got 4228580/6553600 with acc 64.52\n",
      "Dice score: 0.5781912207603455\n",
      "IoU score: 4.622973442077637\n"
     ]
    },
    {
     "name": "stderr",
     "output_type": "stream",
     "text": [
      "100%|██████████| 156/156 [02:32<00:00,  1.03it/s, loss=0.622]\n"
     ]
    },
    {
     "name": "stdout",
     "output_type": "stream",
     "text": [
      "=> Saving checkpoint\n",
      "dice_score: 7.434700012207031\n",
      "Got 4164360/6553600 with acc 63.54\n",
      "Dice score: 0.5719000101089478\n",
      "IoU score: 4.5653076171875\n"
     ]
    },
    {
     "name": "stderr",
     "output_type": "stream",
     "text": [
      "100%|██████████| 156/156 [02:34<00:00,  1.01it/s, loss=0.645]\n"
     ]
    },
    {
     "name": "stdout",
     "output_type": "stream",
     "text": [
      "=> Saving checkpoint\n",
      "dice_score: 7.629242897033691\n",
      "Got 4285447/6553600 with acc 65.39\n",
      "Dice score: 0.5868648886680603\n",
      "IoU score: 4.507689476013184\n"
     ]
    },
    {
     "name": "stderr",
     "output_type": "stream",
     "text": [
      "100%|██████████| 156/156 [02:32<00:00,  1.02it/s, loss=0.609]\n"
     ]
    },
    {
     "name": "stdout",
     "output_type": "stream",
     "text": [
      "=> Saving checkpoint\n",
      "dice_score: 7.471406936645508\n",
      "Got 4165256/6553600 with acc 63.56\n",
      "Dice score: 0.5747236609458923\n",
      "IoU score: 4.412320613861084\n"
     ]
    },
    {
     "name": "stderr",
     "output_type": "stream",
     "text": [
      "100%|██████████| 156/156 [02:30<00:00,  1.04it/s, loss=0.666]\n"
     ]
    },
    {
     "name": "stdout",
     "output_type": "stream",
     "text": [
      "=> Saving checkpoint\n",
      "dice_score: 7.922171115875244\n",
      "Got 4505595/6553600 with acc 68.75\n",
      "Dice score: 0.609397828578949\n",
      "IoU score: 4.595314979553223\n"
     ]
    },
    {
     "name": "stderr",
     "output_type": "stream",
     "text": [
      "100%|██████████| 156/156 [02:29<00:00,  1.04it/s, loss=0.637]\n"
     ]
    },
    {
     "name": "stdout",
     "output_type": "stream",
     "text": [
      "=> Saving checkpoint\n",
      "dice_score: 8.20312213897705\n",
      "Got 4696910/6553600 with acc 71.67\n",
      "Dice score: 0.6310093998908997\n",
      "IoU score: 4.802403926849365\n"
     ]
    },
    {
     "name": "stderr",
     "output_type": "stream",
     "text": [
      "100%|██████████| 156/156 [02:30<00:00,  1.04it/s, loss=0.64] \n"
     ]
    },
    {
     "name": "stdout",
     "output_type": "stream",
     "text": [
      "=> Saving checkpoint\n",
      "dice_score: 8.571701049804688\n",
      "Got 4919371/6553600 with acc 75.06\n",
      "Dice score: 0.6593616604804993\n",
      "IoU score: 4.921981334686279\n"
     ]
    },
    {
     "name": "stderr",
     "output_type": "stream",
     "text": [
      "100%|██████████| 156/156 [02:33<00:00,  1.02it/s, loss=0.658]\n"
     ]
    },
    {
     "name": "stdout",
     "output_type": "stream",
     "text": [
      "=> Saving checkpoint\n",
      "dice_score: 7.810111999511719\n",
      "Got 4420637/6553600 with acc 67.45\n",
      "Dice score: 0.6007778644561768\n",
      "IoU score: 4.589587688446045\n"
     ]
    },
    {
     "name": "stderr",
     "output_type": "stream",
     "text": [
      " 83%|████████▎ | 130/156 [02:13<00:24,  1.07it/s, loss=0.617]"
     ]
    }
   ],
   "source": [
    "import albumentations as A\n",
    "from albumentations.pytorch import ToTensorV2\n",
    "\n",
    "\n",
    "train_transform = A.Compose(\n",
    "    [\n",
    "        A.Resize(height=IMAGE_HEIGHT, width=IMAGE_WIDTH),\n",
    "        A.Rotate(limit=35, p=1.0),\n",
    "        A.HorizontalFlip(p=0.5),\n",
    "        A.VerticalFlip(p=0.1),\n",
    "        A.Normalize(\n",
    "            mean=[0.0, 0.0, 0.0],\n",
    "            std=[1.0, 1.0, 1.0],\n",
    "            max_pixel_value=255.0,\n",
    "        ),\n",
    "        ToTensorV2(),\n",
    "    ],\n",
    ")\n",
    "\n",
    "val_transforms = A.Compose(\n",
    "    [\n",
    "        A.Resize(height=IMAGE_HEIGHT, width=IMAGE_WIDTH),\n",
    "        A.Normalize(\n",
    "            mean=[0.0, 0.0, 0.0],\n",
    "            std=[1.0, 1.0, 1.0],\n",
    "            max_pixel_value=255.0,\n",
    "        ),\n",
    "        ToTensorV2(),\n",
    "    ],\n",
    ")\n",
    "\n",
    "# model = Unet(in_channels=3, out_channels=1).to(DEVICE)\n",
    "model = MALUNet().to(DEVICE)\n",
    "loss_fn = nn.BCEWithLogitsLoss()\n",
    "optimizer = torch.optim.Adam(model.parameters(), lr=LEARNING_RATE)\n",
    "\n",
    "\n",
    "train_loader, val_loader, test_loader = get_loaders(\n",
    "    BATCH_SIZE,\n",
    "    train_transform,\n",
    "    val_transforms,\n",
    "    NUM_WORKERS,\n",
    "    PIN_MEMORY,\n",
    ")\n",
    "\n",
    "if LOAD_MODEL:\n",
    "    load_checkpoint(torch.load(CHECKPOINT_FILENAME), model)\n",
    "\n",
    "\n",
    "check_accuracy(val_loader, model, device=DEVICE)\n",
    "scaler = torch.cuda.amp.GradScaler()\n",
    "\n",
    "for epoch in range(NUM_EPOCHS):\n",
    "    train_fn(train_loader, model, optimizer, loss_fn, scaler)\n",
    "\n",
    "    # save model\n",
    "    checkpoint = {\n",
    "        \"state_dict\": model.state_dict(),\n",
    "        \"optimizer\":optimizer.state_dict(),\n",
    "        \"epoch\": epoch,\n",
    "    }\n",
    "    save_checkpoint(checkpoint, filename=f\"checkpoint_{epoch}.pth.tar\")\n",
    "\n",
    "    # check accuracy\n",
    "    check_accuracy(val_loader, model, device=DEVICE)\n",
    "\n",
    "    # print some examples to a folder\n",
    "    save_predictions_as_imgs(\n",
    "        val_loader, model, folder=f\"saved_images/{epoch}\", device=DEVICE\n",
    "    )"
   ]
  },
  {
   "cell_type": "code",
   "execution_count": 26,
   "metadata": {},
   "outputs": [
    {
     "data": {
      "text/html": [
       "<style>\n",
       "    table.wandb td:nth-child(1) { padding: 0 10px; text-align: left ; width: auto;} td:nth-child(2) {text-align: left ; width: 100%}\n",
       "    .wandb-row { display: flex; flex-direction: row; flex-wrap: wrap; justify-content: flex-start; width: 100% }\n",
       "    .wandb-col { display: flex; flex-direction: column; flex-basis: 100%; flex: 1; padding: 10px; }\n",
       "    </style>\n",
       "<div class=\"wandb-row\"><div class=\"wandb-col\"><h3>Run history:</h3><br/><table class=\"wandb\"><tr><td>Dice Score</td><td>▁▁▁▁▁█▁█▁▁▁█▁▁▁▁▁▁▁</td></tr><tr><td>Pixel Accuracy</td><td>█████▁█▁███▁███████</td></tr></table><br/></div><div class=\"wandb-col\"><h3>Run summary:</h3><br/><table class=\"wandb\"><tr><td>Dice Score</td><td>0.0</td></tr><tr><td>Pixel Accuracy</td><td>99.49367</td></tr></table><br/></div></div>"
      ],
      "text/plain": [
       "<IPython.core.display.HTML object>"
      ]
     },
     "metadata": {},
     "output_type": "display_data"
    },
    {
     "data": {
      "text/html": [
       " View run <strong style=\"color:#cdcd00\">golden-fish-1</strong> at: <a href='https://wandb.ai/jooz-cave/unet-skin-lesion/runs/opdcpeez' target=\"_blank\">https://wandb.ai/jooz-cave/unet-skin-lesion/runs/opdcpeez</a><br/>Synced 6 W&B file(s), 0 media file(s), 0 artifact file(s) and 0 other file(s)"
      ],
      "text/plain": [
       "<IPython.core.display.HTML object>"
      ]
     },
     "metadata": {},
     "output_type": "display_data"
    },
    {
     "data": {
      "text/html": [
       "Find logs at: <code>./wandb/run-20240223_134145-opdcpeez/logs</code>"
      ],
      "text/plain": [
       "<IPython.core.display.HTML object>"
      ]
     },
     "metadata": {},
     "output_type": "display_data"
    }
   ],
   "source": [
    "run.finish()"
   ]
  },
  {
   "cell_type": "code",
   "execution_count": null,
   "metadata": {},
   "outputs": [],
   "source": []
  }
 ],
 "metadata": {
  "kernelspec": {
   "display_name": "Python 3 (ipykernel)",
   "language": "python",
   "name": "python3"
  },
  "language_info": {
   "codemirror_mode": {
    "name": "ipython",
    "version": 3
   },
   "file_extension": ".py",
   "mimetype": "text/x-python",
   "name": "python",
   "nbconvert_exporter": "python",
   "pygments_lexer": "ipython3",
   "version": "3.11.6"
  }
 },
 "nbformat": 4,
 "nbformat_minor": 4
}
